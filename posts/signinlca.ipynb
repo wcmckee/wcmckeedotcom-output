{
 "cells": [
  {
   "cell_type": "markdown",
   "metadata": {},
   "source": [
    "<h1>signinlca</h1>\n",
    "\n",
    "script to signin for volunteers at lca2015!\n",
    "\n",
    "The script asks for input of firstname, lastname, tshirt size, amount of coffee volc and comments. \n",
    "It creates a python dict with this data along with the current date and hour. \n",
    "It gets the username of user and saves the data in the users home dir under the folder signinlca. \n",
    "It saves the data as a json object.\n",
    "Currently saves the file as firstname + lastname. \n",
    "\n",
    "How could this be improved? \n",
    "\n",
    "Signup/Signin System.\n",
    "\n",
    "For signup - username, firstname, lastname, password(x2) is collected with input. Password is salted and hashed. \n",
    "Username, firstname, lastname, and password (salt/hash) is added to a dict. Dict is converted to a json object.\n",
    "json object is saved as a json file in the folder signinlca / USERNAME-FOLDER / .signup.json\n",
    "\n",
    "For signin. Username is collected with input. \n",
    "Looks for folder of username. Opens .signup.json file - parsing data. \n",
    "Save the value of 'password' as a varible.\n",
    "\n",
    "Asks for password (getpass.getpass('Password please: ')\n",
    "salt/hash this password.\n",
    "save password attempt if error, otherwise true complete signin. \n",
    "\n",
    "\n",
    "\n",
    "TODO\n",
    "\n",
    "add option to choose to login or logout. Y/N option for each one. \n",
    "\n",
    "add logout script that appends to the login data. saves, time/date/comment. anything else?\n",
    "\n",
    "Asign to jobs/room?\n",
    "\n",
    "Graph up total hour worked in day/week\n",
    "\n",
    "scp/rsync data to server/web page.\n"
   ]
  },
  {
   "cell_type": "markdown",
   "metadata": {},
   "source": [
    "Make new account, use existing account. \n",
    "\n",
    "Database of existing accounts... static page of files.\n",
    "\n",
    "Add password to account \n",
    "\n",
    "If you signin, doesn't ask if want to sign out.\n",
    "\n",
    "If you signout, doesn't ask if you want to sign in.\n",
    "\n",
    "Hash passwords"
   ]
  },
  {
   "cell_type": "markdown",
   "metadata": {},
   "source": [
    "When creating account asked for username (which could be firstname + lastname), and password. Passwords are hashed and when user tries to login the password inputed is compared to the hashed password. \n",
    "\n",
    "Save that hash as a varible that is then complared with the saved hash password."
   ]
  },
  {
   "cell_type": "markdown",
   "metadata": {},
   "source": [
    "I have their signin data. Now what to do with it? Save it as a json object to be then used when they signin later? \n",
    "\n",
    "More security on it? Hash their usernames, firstnames, 2nd password?"
   ]
  },
  {
   "cell_type": "code",
   "execution_count": 52,
   "metadata": {
    "collapsed": false
   },
   "outputs": [],
   "source": [
    "import os\n",
    "#import time\n",
    "import json\n",
    "import getpass\n",
    "import arrow\n",
    "import hashlib\n",
    "from passlib.hash import pbkdf2_sha256\n",
    "from walkdir import filtered_walk, dir_paths, all_paths, file_paths\n",
    "\n"
   ]
  },
  {
   "cell_type": "code",
   "execution_count": 53,
   "metadata": {
    "collapsed": true
   },
   "outputs": [],
   "source": [
    "gmtz = arrow.utcnow()"
   ]
  },
  {
   "cell_type": "code",
   "execution_count": 54,
   "metadata": {
    "collapsed": false
   },
   "outputs": [
    {
     "data": {
      "text/plain": [
       "'2015'"
      ]
     },
     "execution_count": 54,
     "metadata": {},
     "output_type": "execute_result"
    }
   ],
   "source": [
    "yrmt = gmtz.strftime(\"%Y\")\n",
    "mthza = gmtz.strftime(\"%m\")\n",
    "dthaq = gmtz.strftime(\"%d\")\n",
    "gmtz.strftime(\"%Y\")\n",
    "#yearz = strftime(\"%y\", gmtime())\n",
    "#monthz = strftime(\"%m\", gmtime())\n",
    "#dayz = strftime(\"%d\", gmtime())\n"
   ]
  },
  {
   "cell_type": "code",
   "execution_count": 55,
   "metadata": {
    "collapsed": false
   },
   "outputs": [
    {
     "data": {
      "text/plain": [
       "'2015'"
      ]
     },
     "execution_count": 55,
     "metadata": {},
     "output_type": "execute_result"
    }
   ],
   "source": [
    "yrmt"
   ]
  },
  {
   "cell_type": "code",
   "execution_count": 56,
   "metadata": {
    "collapsed": false
   },
   "outputs": [
    {
     "data": {
      "text/plain": [
       "'02'"
      ]
     },
     "execution_count": 56,
     "metadata": {},
     "output_type": "execute_result"
    }
   ],
   "source": [
    "mthza"
   ]
  },
  {
   "cell_type": "code",
   "execution_count": 57,
   "metadata": {
    "collapsed": false
   },
   "outputs": [
    {
     "data": {
      "text/plain": [
       "'16'"
      ]
     },
     "execution_count": 57,
     "metadata": {},
     "output_type": "execute_result"
    }
   ],
   "source": [
    "dthaq"
   ]
  },
  {
   "cell_type": "code",
   "execution_count": 58,
   "metadata": {
    "collapsed": false
   },
   "outputs": [],
   "source": [
    "def returndate():\n",
    "    return (dthaq + '-' + mthza + '-' + yrmt)\n",
    "\n",
    "def returntime():\n",
    "    return gmtz.strftime('%H:%M:%S')\n",
    "\n",
    "puser = ('wcmckee')\n",
    "\n",
    "yrnum = gmtz.strftime(\"%Y\")\n",
    "mnthnum = gmtz.strftime(\"%m\")\n",
    "dayzum = gmtz.strftime(\"%d\")\n",
    "\n",
    "signpath = ('/home/' + puser + '/signinlca')\n",
    "yrpath = (signpath + '/' + yrnum)\n",
    "mnthpath = (yrpath + '/' + mnthnum)\n",
    "dayzpath = (mnthpath + '/' + dayzum)\n"
   ]
  },
  {
   "cell_type": "code",
   "execution_count": 59,
   "metadata": {
    "collapsed": false
   },
   "outputs": [
    {
     "name": "stdout",
     "output_type": "stream",
     "text": [
      "Path is there\n"
     ]
    }
   ],
   "source": [
    "if os.path.isdir(signpath) == True:\n",
    "    print 'Path is there'\n",
    "else:\n",
    "    print 'Path not there'\n",
    "    os.mkdir(signpath)"
   ]
  },
  {
   "cell_type": "code",
   "execution_count": 60,
   "metadata": {
    "collapsed": false
   },
   "outputs": [
    {
     "name": "stdout",
     "output_type": "stream",
     "text": [
      "Year Path is there\n",
      "Month Path is there\n",
      "Day Path is there\n"
     ]
    }
   ],
   "source": [
    "if os.path.isdir(yrpath) == True:\n",
    "    print 'Year Path is there'\n",
    "else:\n",
    "    print 'Year Path not there'\n",
    "    os.mkdir(yrpath)\n",
    "    \n",
    "if os.path.isdir(mnthpath) == True:\n",
    "    print 'Month Path is there'\n",
    "else:\n",
    "    print 'Month Path not there'\n",
    "    os.mkdir(mnthpath)\n",
    "    \n",
    "if os.path.isdir(dayzpath) == True:\n",
    "    print 'Day Path is there'\n",
    "else:\n",
    "    print 'Day Path not there'\n",
    "    os.mkdir(dayzpath)"
   ]
  },
  {
   "cell_type": "code",
   "execution_count": 61,
   "metadata": {
    "collapsed": false
   },
   "outputs": [
    {
     "data": {
      "text/plain": [
       "'/home/wcmckee/signinlca/2015/02/16'"
      ]
     },
     "execution_count": 61,
     "metadata": {},
     "output_type": "execute_result"
    }
   ],
   "source": [
    "dayzpath"
   ]
  },
  {
   "cell_type": "code",
   "execution_count": 62,
   "metadata": {
    "collapsed": true
   },
   "outputs": [],
   "source": [
    "os.chdir(dayzpath)"
   ]
  },
  {
   "cell_type": "code",
   "execution_count": 63,
   "metadata": {
    "collapsed": true
   },
   "outputs": [],
   "source": [
    "opsign = open('/home/wcmckee/signinlca/index.json', 'w')"
   ]
  },
  {
   "cell_type": "code",
   "execution_count": 77,
   "metadata": {
    "collapsed": false
   },
   "outputs": [
    {
     "name": "stdout",
     "output_type": "stream",
     "text": [
      "signup y/n y\n",
      "Welcome to signup!\n",
      "firstname: will\n",
      "last name: mckee\n",
      "username: figlet\n",
      "email: will@test.com\n",
      "password: ········\n",
      "enter password again: ········\n",
      "Signup Complete. You can now signin with the username and password\n"
     ]
    }
   ],
   "source": [
    "signup = raw_input('signup y/n ')\n",
    "signupd = dict()\n",
    "\n",
    "numchez = 0\n",
    "\n",
    "if 'y' in signup:\n",
    "    print('Welcome to signup!')\n",
    "    firnam = raw_input('firstname: ')\n",
    "    signupd.update({\"firstname\":firnam, })\n",
    "    lasnam = raw_input('last name: ')\n",
    "    \n",
    "    usenam = raw_input('username: ')\n",
    "    emnam = raw_input('email: ')\n",
    "    \n",
    "    \n",
    "    os.mkdir('/home/wcmckee/signinlca/usernames/' + usenam) \n",
    "    #passworz = passwd()\n",
    "    \n",
    "    pastest = getpass.getpass('password: ')\n",
    "\n",
    "    pasnde = getpass.getpass('enter password again: ')\n",
    "    \n",
    "    signupd.update({\"firstname\":firnam, \"lastname\":lasnam,\n",
    "                \"username\":usenam})\n",
    "    \n",
    "    hashez = pbkdf2_sha256.encrypt(pastest, rounds=200000, salt_size=16)\n",
    "    emhash = pbkdf2_sha256.encrypt(emnam, rounds=200000, salt_size=16)\n",
    "    \n",
    "    signupd.update({\"password\":hashez, \"email\":emhash})\n",
    "    \n",
    "    savjsn = open('/home/wcmckee/signinlca/usernames/' + usenam + '/.signups.json', 'a')\n",
    "    jsncov = json.dumps(signupd)\n",
    "    savjsn.write(jsncov)\n",
    "    savjsn.close()\n",
    "    usdir = ('useradd -p ' + pastest + ' ' + usenam)\n",
    "    os.system(usdir)\n",
    "    print('Signup Complete. You can now signin with the username and password')\n",
    "\n",
    "for logy in range(12):\n",
    "    ferzr = (numchez)\n",
    "    numchez = (numchez + 10)\n",
    "    #usfaz = ('/home/wcmckee/signinlca/usernames/' + str(numchez) + usenam + '/index.json', 'w')\n",
    "    os.mkdir('/home/wcmckee/signinlca/usernames/' + str(usenam) + '/' + str(logy))\n"
   ]
  },
  {
   "cell_type": "code",
   "execution_count": 65,
   "metadata": {
    "collapsed": false
   },
   "outputs": [
    {
     "name": "stdout",
     "output_type": "stream",
     "text": [
      "signin!\n",
      "Username: point\n",
      "Password: ········\n",
      "passwords correct - Logged in!\n"
     ]
    }
   ],
   "source": [
    "#hashez = pbkdf2_sha256.encrypt(pastest, rounds=200000, salt_size=16)\n",
    "#signupd.update({\"password\":hashez})\n",
    "#signin. need to open \n",
    "print ('signin!')\n",
    "loginam = raw_input('Username: ')\n",
    "#Open logins.json, find the username json object\n",
    "loginpas = getpass.getpass('Password: ')\n",
    "vercryp = pbkdf2_sha256.verify(loginpas, hashez)\n",
    "if vercryp == True:\n",
    "    print 'passwords correct - Logged in!'\n",
    "    \n",
    "else:\n",
    "    print 'passwords wrong - Could not log!'\n",
    "    #exit"
   ]
  },
  {
   "cell_type": "code",
   "execution_count": 66,
   "metadata": {
    "collapsed": false
   },
   "outputs": [
    {
     "data": {
      "text/plain": [
       "dict"
      ]
     },
     "execution_count": 66,
     "metadata": {},
     "output_type": "execute_result"
    }
   ],
   "source": [
    "type(signupd)"
   ]
  },
  {
   "cell_type": "code",
   "execution_count": 66,
   "metadata": {
    "collapsed": true
   },
   "outputs": [],
   "source": []
  },
  {
   "cell_type": "code",
   "execution_count": 67,
   "metadata": {
    "collapsed": false
   },
   "outputs": [
    {
     "ename": "ValueError",
     "evalue": "I/O operation on closed file",
     "output_type": "error",
     "traceback": [
      "\u001b[1;31m---------------------------------------------------------------------------\u001b[0m",
      "\u001b[1;31mValueError\u001b[0m                                Traceback (most recent call last)",
      "\u001b[1;32m<ipython-input-67-a899169d95c8>\u001b[0m in \u001b[0;36m<module>\u001b[1;34m()\u001b[0m\n\u001b[1;32m----> 1\u001b[1;33m \u001b[0msavjsn\u001b[0m\u001b[1;33m.\u001b[0m\u001b[0mwrite\u001b[0m\u001b[1;33m(\u001b[0m\u001b[0mjsncov\u001b[0m\u001b[1;33m)\u001b[0m\u001b[1;33m\u001b[0m\u001b[0m\n\u001b[0m",
      "\u001b[1;31mValueError\u001b[0m: I/O operation on closed file"
     ]
    }
   ],
   "source": [
    "#savjsn.write(jsncov)"
   ]
  },
  {
   "cell_type": "code",
   "execution_count": 17,
   "metadata": {
    "collapsed": true
   },
   "outputs": [],
   "source": [
    "#savjsn.close()"
   ]
  },
  {
   "cell_type": "code",
   "execution_count": 19,
   "metadata": {
    "collapsed": false
   },
   "outputs": [],
   "source": [
    "dicsigni = dict()"
   ]
  },
  {
   "cell_type": "code",
   "execution_count": 21,
   "metadata": {
    "collapsed": false
   },
   "outputs": [
    {
     "name": "stdout",
     "output_type": "stream",
     "text": [
      "signin? y/ny\n",
      "username: wcm\n",
      "login password: ········\n"
     ]
    }
   ],
   "source": [
    "signin = raw_input('signin? y/n')\n",
    "\n",
    "if 'y' in signin:\n",
    "    #uzname = raw_input('firstname: ')\n",
    "    #lzname = raw_input('lastname: ')\n",
    "    uzernam = raw_input('username: ')\n",
    "    \n",
    "    dicsigni.update({'username': uzernam})\n",
    "    opsignin = open('/home/wcmckee/signinlca/usernames/' + str(uzernam) + ('/') + ('.signin.json'), 'w') \n",
    "\n",
    "    logtest = getpass.getpass('login password: ')\n",
    "    loghash = pbkdf2_sha256.encrypt(logtest, rounds=200000, salt_size=16)\n",
    "    vercryp = pbkdf2_sha256.verify(logtest, hashez)\n",
    "    dicsigni.update({'password':loghash})\n",
    "                    \n",
    "    dicjsn = json.dumps(dicsigni)\n",
    "    \n",
    "    opsignin.write(dicjsn)\n",
    "    opsignin.close()\n",
    "    \n",
    "                    \n",
    "    #opsignin.write\n",
    "\n",
    "    if pastest == True:\n",
    "        print 'passwords correct'\n"
   ]
  },
  {
   "cell_type": "code",
   "execution_count": 24,
   "metadata": {
    "collapsed": false
   },
   "outputs": [],
   "source": [
    "ersignin = open('/home/wcmckee/signinlca/usernames/' + str(uzernam) + ('/') + ('.signin.json'), 'r') \n",
    "\n",
    "paswz = ersignin.read()"
   ]
  },
  {
   "cell_type": "code",
   "execution_count": 28,
   "metadata": {
    "collapsed": false
   },
   "outputs": [],
   "source": [
    "dicvert = json.loads(paswz)"
   ]
  },
  {
   "cell_type": "code",
   "execution_count": 49,
   "metadata": {
    "collapsed": false
   },
   "outputs": [],
   "source": [
    "dicloin = dicvert['password']"
   ]
  },
  {
   "cell_type": "code",
   "execution_count": 39,
   "metadata": {
    "collapsed": false
   },
   "outputs": [],
   "source": [
    "tresignin = open('/home/wcmckee/signinlca/usernames/' + str(uzernam) + ('/') + ('.signups.json'), 'r')\n",
    "\n"
   ]
  },
  {
   "cell_type": "code",
   "execution_count": 40,
   "metadata": {
    "collapsed": false
   },
   "outputs": [],
   "source": [
    "\n",
    "convea =  tresignin.read()"
   ]
  },
  {
   "cell_type": "code",
   "execution_count": 43,
   "metadata": {
    "collapsed": true
   },
   "outputs": [],
   "source": [
    "jsnver = json.loads(convea)"
   ]
  },
  {
   "cell_type": "code",
   "execution_count": 47,
   "metadata": {
    "collapsed": false
   },
   "outputs": [],
   "source": [
    "jpas = jsnver['password']"
   ]
  },
  {
   "cell_type": "code",
   "execution_count": 50,
   "metadata": {
    "collapsed": false
   },
   "outputs": [
    {
     "data": {
      "text/plain": [
       "u'$pbkdf2-sha256$200000$utc6h9A6B.CcsxZirHVurQ$rHAHVhTN5pwOgBTj.6un2605pM.xZ8Kbu7wYRqPcFGo'"
      ]
     },
     "execution_count": 50,
     "metadata": {},
     "output_type": "execute_result"
    }
   ],
   "source": [
    "jpas"
   ]
  },
  {
   "cell_type": "code",
   "execution_count": 51,
   "metadata": {
    "collapsed": false
   },
   "outputs": [
    {
     "data": {
      "text/plain": [
       "u'$pbkdf2-sha256$200000$tTZmrJVyTinFmHPOWYtxjg$esTV1MEbmqXDIxc4ZHUFdThYpTZdk3.2101Ndga0mes'"
      ]
     },
     "execution_count": 51,
     "metadata": {},
     "output_type": "execute_result"
    }
   ],
   "source": [
    "dicloin"
   ]
  },
  {
   "cell_type": "code",
   "execution_count": 118,
   "metadata": {
    "collapsed": false
   },
   "outputs": [
    {
     "name": "stdout",
     "output_type": "stream",
     "text": [
      "signin y/n y\n",
      "You signed in\n"
     ]
    }
   ],
   "source": [
    "loginz = raw_input('signin y/n ')\n",
    "if 'y' in loginz:\n",
    "    print('You signed in')\n",
    "    #logoutz = None\n",
    "else:\n",
    "    logoutz = raw_input('signouts y/n ')"
   ]
  },
  {
   "cell_type": "code",
   "execution_count": 119,
   "metadata": {
    "collapsed": false
   },
   "outputs": [
    {
     "name": "stdout",
     "output_type": "stream",
     "text": [
      "first name: w\n",
      "last name: mcke\n",
      "tshirt size: L\n",
      "coffee volc: 4\n",
      "comments: test\n"
     ]
    }
   ],
   "source": [
    "if 'y' in loginz:\n",
    "    firnam = raw_input('first name: ')\n",
    "    lasnam = raw_input('last name: ')\n",
    "    tshir = raw_input('tshirt size: ')\n",
    "    cofvol = raw_input('coffee volc: ')\n",
    "    comen = raw_input('comments: ')\n",
    "    betdict = dict()\n",
    "    betdict.update({'first-name' : firnam, 'last-name' : lasnam, 'signin-date' : returndate()})\n",
    "    betdict.update({'signin-hrmin' : returntime()})\n",
    "    betdict.update({'tshirt-size' : tshir})\n",
    "    betdict.update({'coffees' : int(cofvol)})\n",
    "    betdict.update({'comments:' : comen})\n",
    "    convj = json.dumps(betdict)\n",
    "    puser = getpass.getuser()\n",
    "    opday = open((dayzpath + '/' + firnam + lasnam) + '.json', 'w')\n",
    "    opday.write(str(convj))\n",
    "    opday.close()\n",
    "else:\n",
    "    print ('not signing in')\n"
   ]
  },
  {
   "cell_type": "code",
   "execution_count": 480,
   "metadata": {
    "collapsed": false
   },
   "outputs": [
    {
     "ename": "TypeError",
     "evalue": "argument of type 'NoneType' is not iterable",
     "output_type": "error",
     "traceback": [
      "\u001b[1;31m---------------------------------------------------------------------------\u001b[0m",
      "\u001b[1;31mTypeError\u001b[0m                                 Traceback (most recent call last)",
      "\u001b[1;32m<ipython-input-480-427a1c2429f6>\u001b[0m in \u001b[0;36m<module>\u001b[1;34m()\u001b[0m\n\u001b[1;32m----> 1\u001b[1;33m \u001b[1;32mif\u001b[0m \u001b[1;34m'y'\u001b[0m \u001b[1;32min\u001b[0m \u001b[0mlogoutz\u001b[0m\u001b[1;33m:\u001b[0m\u001b[1;33m\u001b[0m\u001b[0m\n\u001b[0m\u001b[0;32m      2\u001b[0m     \u001b[0mcomout\u001b[0m \u001b[1;33m=\u001b[0m \u001b[0mraw_input\u001b[0m\u001b[1;33m(\u001b[0m\u001b[1;34m'out comments: '\u001b[0m\u001b[1;33m)\u001b[0m\u001b[1;33m\u001b[0m\u001b[0m\n\u001b[0;32m      3\u001b[0m     \u001b[0moutdic\u001b[0m \u001b[1;33m=\u001b[0m \u001b[0mdict\u001b[0m\u001b[1;33m(\u001b[0m\u001b[1;33m)\u001b[0m\u001b[1;33m\u001b[0m\u001b[0m\n\u001b[0;32m      4\u001b[0m \u001b[1;33m\u001b[0m\u001b[0m\n\u001b[0;32m      5\u001b[0m     \u001b[0mfirnaz\u001b[0m \u001b[1;33m=\u001b[0m \u001b[0mraw_input\u001b[0m\u001b[1;33m(\u001b[0m\u001b[1;34m'first name: '\u001b[0m \u001b[1;33m)\u001b[0m\u001b[1;33m\u001b[0m\u001b[0m\n",
      "\u001b[1;31mTypeError\u001b[0m: argument of type 'NoneType' is not iterable"
     ]
    }
   ],
   "source": [
    "if 'y' in logoutz:\n",
    "    comout = raw_input('out comments: ')\n",
    "    outdic = dict()\n",
    "    \n",
    "    firnaz = raw_input('first name: ' )\n",
    "    lasnaz = raw_input('last name: ')\n",
    "    outdic.update({'signout-date': returndate()})\n",
    "    outdic.update({'signout-time': returntime()})\n",
    "    outdic.update({'signout-comment': comout})\n",
    "    conout = json.dumps(outdic)\n",
    "    signoutz = open((dayzpath + '/' + firnaz + lasnaz) + '.json', 'a')\n",
    "    signoutz.write(str(conout))\n",
    "    signoutz.close()\n",
    "else:\n",
    "    print ('not signing out')"
   ]
  },
  {
   "cell_type": "code",
   "execution_count": 481,
   "metadata": {
    "collapsed": false
   },
   "outputs": [
    {
     "data": {
      "text/plain": [
       "['williammckee.json', 'helentesting.json']"
      ]
     },
     "execution_count": 481,
     "metadata": {},
     "output_type": "execute_result"
    }
   ],
   "source": [
    "os.listdir(dayzpath)"
   ]
  },
  {
   "cell_type": "code",
   "execution_count": 481,
   "metadata": {
    "collapsed": false
   },
   "outputs": [],
   "source": []
  },
  {
   "cell_type": "code",
   "execution_count": 68,
   "metadata": {
    "collapsed": true
   },
   "outputs": [],
   "source": [
    "files = file_paths(filtered_walk('/home/wcmckee/signinlca/', depth=100, included_files=['*.json']))"
   ]
  },
  {
   "cell_type": "code",
   "execution_count": 69,
   "metadata": {
    "collapsed": false
   },
   "outputs": [
    {
     "name": "stdout",
     "output_type": "stream",
     "text": [
      "/home/wcmckee/signinlca/index.json\n",
      "/home/wcmckee/signinlca/signups.json\n",
      "/home/wcmckee/signinlca/2015/02/15/williammckee.json\n",
      "/home/wcmckee/signinlca/2015/02/15/holleymckee.json\n",
      "/home/wcmckee/signinlca/2015/02/15/wmcke.json\n",
      "/home/wcmckee/signinlca/2015/Feb/07/williammckee.json\n",
      "/home/wcmckee/signinlca/2015/Feb/07/blahmc.json\n",
      "/home/wcmckee/signinlca/2015/Feb/13/williammckee.json\n",
      "/home/wcmckee/signinlca/2015/Feb/15/williammckee.json\n",
      "/home/wcmckee/signinlca/2015/Feb/14/willmckee.json\n",
      "/home/wcmckee/signinlca/usernames/wcm/.signups.json\n",
      "/home/wcmckee/signinlca/usernames/wcm/.signin.json\n",
      "/home/wcmckee/signinlca/usernames/wmen/.signups.json\n",
      "/home/wcmckee/signinlca/usernames/webmck/.signups.json\n",
      "/home/wcmckee/signinlca/usernames/pjohns/.signups.json\n",
      "/home/wcmckee/signinlca/usernames/checkthis/.signups.json\n",
      "/home/wcmckee/signinlca/usernames/jchick/.signups.json\n",
      "/home/wcmckee/signinlca/usernames/poi/.signups.json\n",
      "/home/wcmckee/signinlca/usernames/qwe/.signups.json\n",
      "/home/wcmckee/signinlca/usernames/point/.signups.json\n",
      "/home/wcmckee/signinlca/usernames/cvb/.signups.json\n",
      "/home/wcmckee/signinlca/usernames/gerty/.signups.json\n",
      "/home/wcmckee/signinlca/usernames/gerty/.signin.json\n",
      "/home/wcmckee/signinlca/usernames/jblog/.signups.json\n",
      "/home/wcmckee/signinlca/usernames/ssung/.signups.json\n",
      "/home/wcmckee/signinlca/usernames/clittle/.signups.json\n"
     ]
    }
   ],
   "source": [
    "for fie in files:\n",
    "    #print fie\n",
    "    print fie"
   ]
  },
  {
   "cell_type": "code",
   "execution_count": 72,
   "metadata": {
    "collapsed": false
   },
   "outputs": [],
   "source": [
    "uslis = os.listdir('/home/wcmckee/signinlca/usernames/')"
   ]
  },
  {
   "cell_type": "code",
   "execution_count": 74,
   "metadata": {
    "collapsed": false
   },
   "outputs": [
    {
     "name": "stdout",
     "output_type": "stream",
     "text": [
      "User List: \n",
      "wcm\n",
      "wmck\n",
      "wmen\n",
      "webmck\n",
      "pjohns\n",
      "checkthis\n",
      "jchick\n",
      "poi\n",
      "qwe\n",
      "point\n",
      "cvb\n",
      "gerty\n",
      "jblog\n",
      "ssung\n",
      "clittle\n"
     ]
    }
   ],
   "source": [
    "print ('User List: ')\n",
    "for usl in uslis:\n",
    "    print usl\n"
   ]
  },
  {
   "cell_type": "code",
   "execution_count": null,
   "metadata": {
    "collapsed": true
   },
   "outputs": [],
   "source": []
  }
 ],
 "metadata": {
  "kernelspec": {
   "display_name": "Python 2",
   "name": "python2"
  },
  "language_info": {
   "codemirror_mode": {
    "name": "ipython",
    "version": 2
   },
   "file_extension": ".py",
   "mimetype": "text/x-python",
   "name": "python",
   "nbconvert_exporter": "python",
   "pygments_lexer": "ipython2",
   "version": "2.7.8"
  }
 },
 "nbformat": 4,
 "nbformat_minor": 0
}
