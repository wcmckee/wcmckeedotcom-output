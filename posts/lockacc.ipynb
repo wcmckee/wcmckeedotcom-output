{
 "cells": [
  {
   "cell_type": "markdown",
   "metadata": {
    "collapsed": true
   },
   "source": [
    "<h1>LockAcc</h1>\n",
    "\n",
    "<h3>Lock Account User Management System</h3>\n",
    "\n",
    "Script to delete, create, lock, and change passwords for users. \n",
    "\n",
    "Script runs and gives choice for input. a b c d e etc...\n",
    "\n",
    "\n",
    "\n",
    "Script to lock username. Asks for what user you want to lock, delete, create, lock or change password. \n",
    "\n",
    "Expire, unlock password.\n",
    "\n"
   ]
  },
  {
   "cell_type": "code",
   "execution_count": null,
   "metadata": {
    "collapsed": true
   },
   "outputs": [],
   "source": [
    "import os\n",
    "import getpass"
   ]
  },
  {
   "cell_type": "code",
   "execution_count": null,
   "metadata": {
    "collapsed": false
   },
   "outputs": [],
   "source": [
    "#Menu that displays all the options. \n",
    "#eg 1 to delete user\n",
    "#2 to create user\n",
    "#3 to lock user\n",
    "#4 to change password\n",
    "print('a to delete a user, b to create a user, c to lock a user, e to unlock a locked account, f to expire a users password') \n",
    "selectchoic = raw_input('Select task by letter: ')\n",
    "\n",
    "if str('f') in selectchoic:\n",
    "#lockusr = raw_input('Do you want to lock a user? y/n ')\n",
    "#if 'y' in lockusr:\n",
    "    locusa = raw_input(\"User to password expire: \")\n",
    "    os.system('sudo passwd -e ' + locusa) \n",
    "    #os.system('sudo pgrep -u ' + locusa)\n",
    "    #os.system('sudo killall -KILL -u ' + locusa)\n",
    "\n",
    "\n",
    "\n",
    "if str('e') in selectchoic:\n",
    "#lockusr = raw_input('Do you want to lock a user? y/n ')\n",
    "#if 'y' in lockusr:\n",
    "    locusa = raw_input(\"User to unlock: \")\n",
    "    os.system('sudo passwd -u ' + locusa) \n",
    "    #os.system('sudo pgrep -u ' + locusa)\n",
    "    #os.system('sudo killall -KILL -u ' + locusa)\n",
    "\n",
    "#selectchoic = int(selectchoic)\n",
    "if str('c') in selectchoic:\n",
    "#lockusr = raw_input('Do you want to lock a user? y/n ')\n",
    "#if 'y' in lockusr:\n",
    "    locusa = raw_input(\"User to lock: \")\n",
    "    os.system('sudo passwd -l ' + locusa) \n",
    "    os.system('sudo pgrep -u ' + locusa)\n",
    "    os.system('sudo killall -KILL -u ' + locusa)"
   ]
  },
  {
   "cell_type": "code",
   "execution_count": null,
   "metadata": {
    "collapsed": false
   },
   "outputs": [],
   "source": [
    "#deleusr = raw_input('Do you want to delete a user? y/n ')\n",
    "\n",
    "#if 'y' in deleusr:\n",
    "if str('a') in selectchoic:\n",
    "    print 'y'\n",
    "    locusa = raw_input(\"User to Delete: \")\n",
    "    os.system('sudo passwd -l ' + locusa) \n",
    "    os.system('sudo pgrep -u ' + locusa)\n",
    "    os.system('sudo killall -KILL -u ' + locusa)\n",
    "    os.system('sudo userdel -r ' + locusa)\n",
    "    "
   ]
  },
  {
   "cell_type": "code",
   "execution_count": null,
   "metadata": {
    "collapsed": false
   },
   "outputs": [
    {
     "name": "stdout",
     "output_type": "stream",
     "text": [
      "Do you want to create a user? y/n y\n",
      "y\n",
      "Username to Create: libcs\n",
      "Password for libcs: ········\n"
     ]
    }
   ],
   "source": [
    "#makeusr = raw_input('Do you want to create a user? y/n ')\n",
    "\n",
    "#if 'y' in makeusr:\n",
    "if str('b') in selectchoic:\n",
    "    print 'y'\n",
    "    cruer = raw_input('Username to Create: ')\n",
    "    #crpas = getpass.getpass('Password for ' + cruer + ': ')\n",
    "    usdir = ('sudo useradd ' + cruer)\n",
    "    os.system(usdir)\n",
    "    #chdirz = ('sudo passwd ' + cruer + ' ' + crpas)\n",
    "\n"
   ]
  },
  {
   "cell_type": "code",
   "execution_count": null,
   "metadata": {
    "collapsed": true
   },
   "outputs": [],
   "source": [
    "#Change a password of a user\n",
    "#Why not just edit the shadow file and paste encrupted\n",
    "#password in there?\n",
    "\n",
    "#This isn't working right now. look at subprocess pipe.\n",
    "#chanpass = raw_input('Do you want to change a password? y/n ')\n",
    "\n",
    "#if 'y' in chanpass:\n",
    "#if str('d') in selectchoic:\n",
    "#    print 'y'\n",
    "#    chpasr = raw_input('Username to change password: ')\n",
    "#    chpasz = getpass.getpass('Enter new password: ')\n",
    "#    chdirz = ('sudo passwd ' + chpasr + ' ' + chpasz)\n",
    "    "
   ]
  },
  {
   "cell_type": "code",
   "execution_count": null,
   "metadata": {
    "collapsed": true
   },
   "outputs": [],
   "source": [
    "#if str('t') in selectchoic:\n",
    "    "
   ]
  }
 ],
 "metadata": {
  "kernelspec": {
   "display_name": "Python 2",
   "name": "python2"
  },
  "language_info": {
   "codemirror_mode": {
    "name": "ipython",
    "version": 2
   },
   "file_extension": ".py",
   "mimetype": "text/x-python",
   "name": "python",
   "nbconvert_exporter": "python",
   "pygments_lexer": "ipython2",
   "version": "2.7.8"
  }
 },
 "nbformat": 4,
 "nbformat_minor": 0
}
