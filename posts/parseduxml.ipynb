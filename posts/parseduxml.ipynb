{
 "cells": [
  {
   "cell_type": "markdown",
   "metadata": {},
   "source": [
    "parseduxml \n",
    "\n",
    "script to parse rss xml feed from http://www.education.govt.nz/\n",
    "\n",
    "Had problems parsing the html so i decided to add a try and pass if exception. It fixes it but does this mean it's going to save less data?\n",
    "\n",
    "Saving it as json. I'll make another script to build the nikola site from the json object it creates. \n",
    "\n",
    "Missing author. Why not just make moe the author?\n",
    "\n",
    "No post tags. Would be nice to tag things. eg: schools, subject matter, areas etc."
   ]
  },
  {
   "cell_type": "code",
   "execution_count": null,
   "metadata": {
    "collapsed": true
   },
   "outputs": [],
   "source": []
  },
  {
   "cell_type": "code",
   "execution_count": 41,
   "metadata": {
    "collapsed": true
   },
   "outputs": [],
   "source": [
    "import requests\n",
    "import xmltodict\n",
    "import json"
   ]
  },
  {
   "cell_type": "code",
   "execution_count": 22,
   "metadata": {
    "collapsed": false
   },
   "outputs": [],
   "source": [
    "reqedu = requests.get('http://www.education.govt.nz/rss.xml')"
   ]
  },
  {
   "cell_type": "code",
   "execution_count": 23,
   "metadata": {
    "collapsed": false
   },
   "outputs": [],
   "source": [
    "diedu = xmltodict.parse(reqedu.text)"
   ]
  },
  {
   "cell_type": "code",
   "execution_count": 24,
   "metadata": {
    "collapsed": false
   },
   "outputs": [],
   "source": [
    "ledi = len(diedu['rss']['channel']['item'])"
   ]
  },
  {
   "cell_type": "code",
   "execution_count": 33,
   "metadata": {
    "collapsed": false
   },
   "outputs": [],
   "source": [
    "nodict = dict()"
   ]
  },
  {
   "cell_type": "markdown",
   "metadata": {},
   "source": [
    "Remove all - in title. Change space to - Why is this only working on the last element."
   ]
  },
  {
   "cell_type": "code",
   "execution_count": 26,
   "metadata": {
    "collapsed": true
   },
   "outputs": [],
   "source": [
    "nospap= list()"
   ]
  },
  {
   "cell_type": "code",
   "execution_count": 27,
   "metadata": {
    "collapsed": true
   },
   "outputs": [],
   "source": [
    "siteloc = '/home/wcmckee/minrss/posts/'"
   ]
  },
  {
   "cell_type": "code",
   "execution_count": 39,
   "metadata": {
    "collapsed": false
   },
   "outputs": [],
   "source": [
    "for isz in range(0, ledi):\n",
    "    try:\n",
    "        postdict = dict()\n",
    "        #diet = (diedu['rss']['channel']['item'][isz]['title'])\n",
    "        repsi = (diedu['rss']['channel']['item'][isz]['title'].replace('–', ''))\n",
    "        \n",
    "        nospac = repsi.replace(' ', '-')\n",
    "        postdict.update({'title' : repsi})\n",
    "        \n",
    "        #oprst = open(siteloc + diet + '.rst', 'w')\n",
    "        #oprst.write(diet)\n",
    "        deitz = (diedu['rss']['channel']['item'][isz]['description'])\n",
    "        postdict.update({'description' : deitz})\n",
    "        pubd = (diedu['rss']['channel']['item'][isz]['pubDate'])\n",
    "        links = (diedu['rss']['channel']['item'][isz]['link'])\n",
    "        postdict.update({'publish' : pubd, 'link' : links})\n",
    "    \n",
    "        \n",
    "        pocopy = postdict.copy()\n",
    "        \n",
    "        nodict.update({isz : pocopy})\n",
    "        #opmets = open(siteloc + deitz + '.meta', 'w')\n",
    "        #opmets.write()\n",
    "        #print(deitz)\n",
    "        #oprst.close()\n",
    "        #opmets\n",
    "\n",
    "    except Exception:\n",
    "        pass"
   ]
  },
  {
   "cell_type": "code",
   "execution_count": 46,
   "metadata": {
    "collapsed": false
   },
   "outputs": [],
   "source": [
    "jsdic = json.dumps(nodict)"
   ]
  },
  {
   "cell_type": "code",
   "execution_count": 48,
   "metadata": {
    "collapsed": false
   },
   "outputs": [],
   "source": [
    "wrimd = open('/home/wcmckee/minrss/moenews.json', 'w')"
   ]
  },
  {
   "cell_type": "code",
   "execution_count": 49,
   "metadata": {
    "collapsed": false
   },
   "outputs": [
    {
     "data": {
      "text/plain": [
       "95284"
      ]
     },
     "execution_count": 49,
     "metadata": {},
     "output_type": "execute_result"
    }
   ],
   "source": [
    "wrimd.write(jsdic)"
   ]
  },
  {
   "cell_type": "code",
   "execution_count": 50,
   "metadata": {
    "collapsed": true
   },
   "outputs": [],
   "source": [
    "wrimd.close()"
   ]
  }
 ],
 "metadata": {
  "kernelspec": {
   "display_name": "Python 3",
   "language": "python",
   "name": "python3"
  },
  "language_info": {
   "codemirror_mode": {
    "name": "ipython",
    "version": 3
   },
   "file_extension": ".py",
   "mimetype": "text/x-python",
   "name": "python",
   "nbconvert_exporter": "python",
   "pygments_lexer": "ipython3",
   "version": "3.4.2"
  }
 },
 "nbformat": 4,
 "nbformat_minor": 0
}
