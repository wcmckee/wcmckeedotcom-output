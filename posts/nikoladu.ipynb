{
 "cells": [
  {
   "cell_type": "markdown",
   "metadata": {},
   "source": [
    "Nikoladu\n",
    "\n",
    "Script to take json object of ministry of education jobs and create Nikola blog posts - rst and meta files. \n"
   ]
  },
  {
   "cell_type": "code",
   "execution_count": 1,
   "metadata": {
    "collapsed": false
   },
   "outputs": [],
   "source": [
    "#import nikola\n",
    "\n",
    "import requests\n",
    "import json\n",
    "import pandas"
   ]
  },
  {
   "cell_type": "code",
   "execution_count": null,
   "metadata": {
    "collapsed": true
   },
   "outputs": [],
   "source": []
  },
  {
   "cell_type": "code",
   "execution_count": 2,
   "metadata": {
    "collapsed": true
   },
   "outputs": [],
   "source": [
    "opedu = open('/home/wcmckee/github/wcmckee.com/output/minedujobs/index.json', 'r')"
   ]
  },
  {
   "cell_type": "code",
   "execution_count": 3,
   "metadata": {
    "collapsed": false
   },
   "outputs": [],
   "source": [
    "minjob = opedu.read()"
   ]
  },
  {
   "cell_type": "code",
   "execution_count": 4,
   "metadata": {
    "collapsed": false
   },
   "outputs": [],
   "source": [
    "dicminj = json.loads(minjob)"
   ]
  },
  {
   "cell_type": "code",
   "execution_count": 5,
   "metadata": {
    "collapsed": false
   },
   "outputs": [],
   "source": [
    "ldic = len(dicminj)"
   ]
  },
  {
   "cell_type": "code",
   "execution_count": null,
   "metadata": {
    "collapsed": true
   },
   "outputs": [],
   "source": []
  },
  {
   "cell_type": "code",
   "execution_count": 7,
   "metadata": {
    "collapsed": true
   },
   "outputs": [],
   "source": [
    "catlis = list()\n",
    "\n",
    "loclis = list()\n",
    "datlis = list()\n",
    "jobti = list()"
   ]
  },
  {
   "cell_type": "code",
   "execution_count": null,
   "metadata": {
    "collapsed": true
   },
   "outputs": [],
   "source": []
  },
  {
   "cell_type": "code",
   "execution_count": 8,
   "metadata": {
    "collapsed": true
   },
   "outputs": [],
   "source": [
    "numdic = dict()"
   ]
  },
  {
   "cell_type": "code",
   "execution_count": null,
   "metadata": {
    "collapsed": true
   },
   "outputs": [],
   "source": []
  },
  {
   "cell_type": "code",
   "execution_count": 9,
   "metadata": {
    "collapsed": false
   },
   "outputs": [],
   "source": [
    "for ldi in range(ldic):\n",
    "    dicjob = dict()\n",
    "    catedi = (dicminj[str(ldi)]['Category'])\n",
    "    locdi = (dicminj[str(ldi)]['Location'])\n",
    "    datdi = (dicminj[str(ldi)]['Date Advertised'])\n",
    "    pandatz = pandas.to_datetime(datdi)\n",
    "    pdate = pandatz.date()\n",
    "    titdi = (dicminj[str(ldi)]['Job Title'])\n",
    "    \n",
    "    jobref = (dicminj[str(ldi)]['Job Reference'])\n",
    "    jorefd = jobref[4:]\n",
    "    #print (jorefd)\n",
    "    \n",
    "    skildi = (dicminj[str(ldi)]['lidocend'])\n",
    "    \n",
    "    #for ski in skildi:\n",
    "        #print (ski)\n",
    "        #for sk in ski:\n",
    "            #print (sk)\n",
    "    #print (titdi + '\\n' + skildi)\n",
    "            \n",
    "            \n",
    "    \n",
    "    opmetf = open('/home/wcmckee/minstryofedu/posts/' + jorefd + '.meta', 'w')\n",
    "    opmetf.write(jorefd + '\\n' + jorefd + '\\n' + str(pdate) + ' ' + str('09:00:00') + '\\n' + catedi + ', ' + locdi)\n",
    "    opmetf.close()\n",
    "    \n",
    "    oprstfi = open('/home/wcmckee/minstryofedu/posts/' + jorefd + '.rst', 'w')\n",
    "    oprstfi.write(titdi)\n",
    "    for ski in skildi:\n",
    "        #print (ski)\n",
    "        #for sk in ski:\n",
    "        #    print (sk)\n",
    "        oprstfi.write(str(ski))\n",
    "    \n",
    "    oprstfi.close()\n",
    "\n",
    "\n",
    "\n",
    "    dicjob.update({'Category' : catedi, 'Date Advertised' : str(pdate), 'Job Title' : titdi,\n",
    "    'Location' : locdi, 'Job Reference' : jobref})\n",
    "    \n",
    "    numdic.update({ldi : dicjob})\n",
    "    #numdic.update({ldi : dicjob})\n",
    "    \n",
    "    loclis.append(locdi)\n",
    "    datlis.append(datdi)\n",
    "    jobti.append(titdi)\n",
    "    \n",
    "    nedicf = dicjob.copy()\n",
    "    nedicf.update(nedicf)\n",
    "    \n",
    "    numdic.update({ldi : nedicf})\n",
    "    \n",
    "    #if 'education' in catedi:\n",
    "    #    print (catedi)\n",
    "\n",
    "        "
   ]
  },
  {
   "cell_type": "code",
   "execution_count": 11,
   "metadata": {
    "collapsed": true
   },
   "outputs": [],
   "source": [
    "allpda = list()\n"
   ]
  },
  {
   "cell_type": "code",
   "execution_count": null,
   "metadata": {
    "collapsed": true
   },
   "outputs": [],
   "source": []
  },
  {
   "cell_type": "code",
   "execution_count": 12,
   "metadata": {
    "collapsed": true
   },
   "outputs": [],
   "source": [
    "for dal in datlis:\n",
    "    allpdata = pandas.to_datetime(dal)\n",
    "    allpda.append(allpdata)"
   ]
  },
  {
   "cell_type": "code",
   "execution_count": 15,
   "metadata": {
    "collapsed": false
   },
   "outputs": [],
   "source": [
    "datsli = list(set(datlis))"
   ]
  },
  {
   "cell_type": "code",
   "execution_count": 16,
   "metadata": {
    "collapsed": true
   },
   "outputs": [],
   "source": [
    "import arrow"
   ]
  },
  {
   "cell_type": "code",
   "execution_count": 17,
   "metadata": {
    "collapsed": true
   },
   "outputs": [],
   "source": [
    "panlis = list()"
   ]
  },
  {
   "cell_type": "code",
   "execution_count": 18,
   "metadata": {
    "collapsed": false
   },
   "outputs": [
    {
     "name": "stdout",
     "output_type": "stream",
     "text": [
      "21-AUG-15\n",
      "12-AUG-15\n",
      "02-SEP-15\n",
      "01-SEP-15\n",
      "28-AUG-15\n",
      "17-AUG-15\n",
      "13-AUG-15\n",
      "20-AUG-15\n",
      "31-AUG-15\n",
      "26-AUG-15\n",
      "19-AUG-15\n",
      "14-AUG-15\n",
      "25-AUG-15\n"
     ]
    }
   ],
   "source": [
    "for dalz in datsli:\n",
    "    print (dalz)\n",
    "    panlis.append(pandas.to_datetime(dalz))\n",
    "    "
   ]
  },
  {
   "cell_type": "code",
   "execution_count": 19,
   "metadata": {
    "collapsed": false
   },
   "outputs": [
    {
     "name": "stdout",
     "output_type": "stream",
     "text": [
      "233\n",
      "2015-08-21\n",
      "224\n",
      "2015-08-12\n",
      "245\n",
      "2015-09-02\n",
      "244\n",
      "2015-09-01\n",
      "240\n",
      "2015-08-28\n",
      "229\n",
      "2015-08-17\n",
      "225\n",
      "2015-08-13\n",
      "232\n",
      "2015-08-20\n",
      "243\n",
      "2015-08-31\n",
      "238\n",
      "2015-08-26\n",
      "231\n",
      "2015-08-19\n",
      "226\n",
      "2015-08-14\n",
      "237\n",
      "2015-08-25\n"
     ]
    }
   ],
   "source": [
    "for panl in panlis:\n",
    "    #print (panl.dayofweek)\n",
    "    print (panl.dayofyear)\n",
    "    print (panl.date())"
   ]
  },
  {
   "cell_type": "code",
   "execution_count": 20,
   "metadata": {
    "collapsed": false
   },
   "outputs": [],
   "source": [
    "catsli = list(set(catlis))"
   ]
  },
  {
   "cell_type": "code",
   "execution_count": 21,
   "metadata": {
    "collapsed": false
   },
   "outputs": [],
   "source": [
    "locset = list(set(loclis))"
   ]
  },
  {
   "cell_type": "code",
   "execution_count": 22,
   "metadata": {
    "collapsed": false
   },
   "outputs": [
    {
     "data": {
      "text/plain": [
       "['Wellington',\n",
       " 'Otago',\n",
       " 'Canterbury',\n",
       " 'Bay of Plenty',\n",
       " 'Gisborne',\n",
       " 'Manawatu',\n",
       " 'Auckland',\n",
       " 'Whangarei',\n",
       " 'Napier',\n",
       " 'Whanganui']"
      ]
     },
     "execution_count": 22,
     "metadata": {},
     "output_type": "execute_result"
    }
   ],
   "source": [
    "locset"
   ]
  }
 ],
 "metadata": {
  "kernelspec": {
   "display_name": "Python 3",
   "language": "python",
   "name": "python3"
  },
  "language_info": {
   "codemirror_mode": {
    "name": "ipython",
    "version": 3
   },
   "file_extension": ".py",
   "mimetype": "text/x-python",
   "name": "python",
   "nbconvert_exporter": "python",
   "pygments_lexer": "ipython3",
   "version": "3.4.2"
  }
 },
 "nbformat": 4,
 "nbformat_minor": 0
}
