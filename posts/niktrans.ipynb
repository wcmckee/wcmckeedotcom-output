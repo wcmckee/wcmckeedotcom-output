{
 "cells": [
  {
   "cell_type": "markdown",
   "metadata": {},
   "source": [
    "<h1>NikTrans</h1>\n",
    "\n",
    "Python script to create Nikola sites from a list of schools. Edits conf.py file for site name and licence. "
   ]
  },
  {
   "cell_type": "code",
   "execution_count": 5,
   "metadata": {
    "collapsed": true,
    "scrolled": true
   },
   "outputs": [],
   "source": [
    "import os\n",
    "import json"
   ]
  },
  {
   "cell_type": "code",
   "execution_count": null,
   "metadata": {
    "collapsed": false,
    "scrolled": true
   },
   "outputs": [],
   "source": [
    "os.system('python3 nikoladu.py')\n",
    "os.chdir('/home/wcmckee/nik1/')\n",
    "os.system('nikola build')\n",
    "os.system('rsync -azP /home/wcmckee/nik1/* wcmckee@wcmckee.com:/home/wcmckee/github/wcmckee.com/output/minedujobs')"
   ]
  },
  {
   "cell_type": "code",
   "execution_count": 6,
   "metadata": {
    "collapsed": true,
    "scrolled": true
   },
   "outputs": [],
   "source": [
    "opccschho = open('/home/wcmckee/ccschool/cctru.json', 'r')"
   ]
  },
  {
   "cell_type": "code",
   "execution_count": 7,
   "metadata": {
    "collapsed": false,
    "scrolled": true
   },
   "outputs": [],
   "source": [
    "opcz = opccschho.read()"
   ]
  },
  {
   "cell_type": "code",
   "execution_count": 8,
   "metadata": {
    "collapsed": false,
    "scrolled": true
   },
   "outputs": [],
   "source": [
    "rssch = json.loads(opcz)"
   ]
  },
  {
   "cell_type": "code",
   "execution_count": 9,
   "metadata": {
    "collapsed": true,
    "scrolled": true
   },
   "outputs": [],
   "source": [
    "filrma = ('/home/wcmckee/ccschol/')"
   ]
  },
  {
   "cell_type": "code",
   "execution_count": 10,
   "metadata": {
    "collapsed": false,
    "scrolled": true
   },
   "outputs": [],
   "source": [
    "for rs in rssch.keys():\n",
    "    hythsc = (rs.replace(' ', '-'))\n",
    "    hylow = hythsc.lower()\n",
    "    hybrac = hylow.replace('(', '')\n",
    "    hybaec = hybrac.replace(')', '')\n",
    "    os.mkdir(filrma + hybaec)\n",
    "    \n",
    "    os.system('nikola init -q ' + filrma + hybaec)\n",
    "    "
   ]
  },
  {
   "cell_type": "markdown",
   "metadata": {
    "collapsed": true
   },
   "source": [
    "I want to open each of the conf.py files and replace the nanme of the site with hythsc.lower\n",
    "\n",
    "Dir /home/wcmckee/ccschol has all the schools folders. Need to replace in conf.py Demo Name \n",
    "with folder name of school.\n",
    "\n",
    "Schools name missing characters - eg ardmore"
   ]
  },
  {
   "cell_type": "code",
   "execution_count": 11,
   "metadata": {
    "collapsed": true,
    "scrolled": true
   },
   "outputs": [],
   "source": [
    "lisschol = os.listdir('/home/wcmckee/ccschol/')"
   ]
  },
  {
   "cell_type": "code",
   "execution_count": 12,
   "metadata": {
    "collapsed": true,
    "scrolled": true
   },
   "outputs": [],
   "source": [
    "findwat = ('LICENSE = \"\"\"')"
   ]
  },
  {
   "cell_type": "code",
   "execution_count": 13,
   "metadata": {
    "collapsed": true,
    "scrolled": true
   },
   "outputs": [],
   "source": [
    "def replacetext(findtext, replacetext):\n",
    "    for lisol in lisschol:\n",
    "        filereaz = ('/home/wcmckee/ccschol/' + hybaec + '/conf.py')\n",
    "        f = open(filereaz,'r')\n",
    "        filedata = f.read()\n",
    "        f.close()\n",
    "\n",
    "        newdata = filedata.replace(findtext, '\"' + replacetext + '\"')\n",
    "        #print (newdata)\n",
    "        f = open(filereaz,'w')\n",
    "        f.write(newdata)\n",
    "        f.close()\n"
   ]
  },
  {
   "cell_type": "code",
   "execution_count": 14,
   "metadata": {
    "collapsed": true,
    "scrolled": true
   },
   "outputs": [],
   "source": [
    "replacetext('LICENSE = \"\"\"', 'LICENSE = \"\"\"<a rel=\"license\" href=\"http://creativecommons.org/licenses/by/4.0/\"><img alt=\"Creative Commons Attribution 4.0 International License\" style=\"border-width:0; margin-bottom:12px;\" src=\"https://i.creativecommons.org/l/by/4.0/88x31.png\"></a>\"')"
   ]
  },
  {
   "cell_type": "code",
   "execution_count": 15,
   "metadata": {
    "collapsed": false,
    "scrolled": true
   },
   "outputs": [],
   "source": [
    "\n",
    "licfil = 'LICENSE = \"\"\"<a rel=\"license\" href=\"http://creativecommons.org/licenses/by/4.0/\"><img alt=\"Creative Commons Attribution 4.0 International License\" style=\"border-width:0; margin-bottom:12px;\" src=\"https://i.creativecommons.org/l/by/4.0/88x31.png\"></a>\"'"
   ]
  },
  {
   "cell_type": "code",
   "execution_count": 16,
   "metadata": {
    "collapsed": true,
    "scrolled": true
   },
   "outputs": [],
   "source": [
    "opwcm = ('/home/wcmckee/github/wcm.com/conf.py')"
   ]
  },
  {
   "cell_type": "code",
   "execution_count": 17,
   "metadata": {
    "collapsed": false,
    "scrolled": true
   },
   "outputs": [
    {
     "name": "stdout",
     "output_type": "stream",
     "text": [
      "te-wharekura-o-maniapoto\n",
      "ardmore\n",
      "shotover-school\n",
      "hobsonville-point-secondary-school\n",
      "south-hornby\n",
      "thorndon\n",
      "leigh-school\n",
      "st-josephs-upper-hutt\n",
      "green-bay\n",
      "oaklands-\n",
      "hampden-street\n",
      "rangiora-borough\n",
      "pegasus-bay\n",
      "te-pa-o-rakaihautu\n",
      "paparoa-street\n",
      "te-one\n",
      "kaikohe-west\n",
      "thorrington\n",
      "grey-lynn\n",
      "ohoka\n",
      "westlake-girls-high-school\n",
      "merrin\n",
      "stonefields-school\n",
      "sylvia-park-school\n",
      "roydvale\n",
      "marlborough-primary\n",
      "ward\n",
      "raphael-house\n",
      "whau-valley\n",
      "taipa-area-school-\n",
      "pukekohe-intermediate\n",
      "ashburton-intermediate\n",
      "onewhero-area\n",
      "rawhiti\n",
      "horowhenua-college\n",
      "our-lady-star-of-the-sea-sumner\n",
      "taradale-intermediate\n",
      "eastern-hutt\n",
      "st-marys-catholic-tauranga\n",
      "windwhistle\n",
      "northcote-college\n",
      "diamond-harbour\n",
      "barton-rural\n",
      "orewa-college\n",
      "ebbett-park\n",
      "shirley-intermediate\n",
      "sumner\n",
      "arrowtown\n",
      "taupaki-school\n",
      "yaldhurst-model\n",
      "nelson-park\n",
      "wellington-high-school\n",
      "redwood-tawa\n",
      "somerfield\n",
      "marewa\n",
      "albany-senior-high-school\n",
      "middleton-grange-school\n",
      "kaingaroa-chatham-islands\n",
      "cheviot-area\n",
      "okaihau-college\n",
      "runanga\n",
      "hutt-valley-high-school\n",
      "our-lady-of-victoriea\n",
      "burnside-high-school\n",
      "hillpark\n",
      "tkkm-o-te-atihaunui-a-paparangi\n",
      "tawa-intermediate\n",
      "auckland-girls-grammar-school\n",
      "broadfield\n",
      "westmere\n",
      "kaikoura-suburban\n",
      "whangaparaoa-college\n",
      "our-lady-of-snows-methven\n",
      "waikato-diocesan\n",
      "warrington-school\n",
      "banks-avenue\n",
      "cobham-intermediate\n",
      "st-patrick’s-bryndwr\n",
      "hobsonville-point-primary-school\n",
      "te-hihi\n",
      "st-patrick’s-kaiapoi\n",
      "springston-school\n",
      "nayland-college\n",
      "elmwood-normal\n",
      "pakuranga-heights-school\n",
      "sacred-heart-catholic\n",
      "eskdale\n"
     ]
    }
   ],
   "source": [
    "for lisol in lisschol:\n",
    "    print (lisol)\n",
    "    rdwcm = open(opwcm, 'r')\n",
    "    \n",
    "    filewcm = rdwcm.read()\n",
    "    newdata = filewcm.replace('wcmckee', lisol)\n",
    "\n",
    "    rdwcm.close()\n",
    "    #print (newdata)\n",
    "    \n",
    "    f = open('/home/wcmckee/ccschol/' + lisol + '/conf.py','w')\n",
    "    f.write(newdata)\n",
    "    f.close()\n"
   ]
  },
  {
   "cell_type": "code",
   "execution_count": 18,
   "metadata": {
    "collapsed": false,
    "scrolled": true
   },
   "outputs": [
    {
     "ename": "ValueError",
     "evalue": "I/O operation on closed file.",
     "output_type": "error",
     "traceback": [
      "\u001b[1;31m---------------------------------------------------------------------------\u001b[0m",
      "\u001b[1;31mValueError\u001b[0m                                Traceback (most recent call last)",
      "\u001b[1;32m<ipython-input-18-46372e43ced8>\u001b[0m in \u001b[0;36m<module>\u001b[1;34m()\u001b[0m\n\u001b[1;32m----> 1\u001b[1;33m \u001b[1;32mfor\u001b[0m \u001b[0mrdlin\u001b[0m \u001b[1;32min\u001b[0m \u001b[0mrdwcm\u001b[0m\u001b[1;33m.\u001b[0m\u001b[0mreadlines\u001b[0m\u001b[1;33m(\u001b[0m\u001b[1;33m)\u001b[0m\u001b[1;33m:\u001b[0m\u001b[1;33m\u001b[0m\u001b[0m\n\u001b[0m\u001b[0;32m      2\u001b[0m     \u001b[1;31m#print (rdlin)\u001b[0m\u001b[1;33m\u001b[0m\u001b[1;33m\u001b[0m\u001b[0m\n\u001b[0;32m      3\u001b[0m     \u001b[1;32mif\u001b[0m \u001b[1;34m'BLOG_TITLE'\u001b[0m \u001b[1;32min\u001b[0m \u001b[0mrdlin\u001b[0m\u001b[1;33m:\u001b[0m\u001b[1;33m\u001b[0m\u001b[0m\n\u001b[0;32m      4\u001b[0m         \u001b[0mprint\u001b[0m \u001b[1;33m(\u001b[0m\u001b[0mrdlin\u001b[0m\u001b[1;33m)\u001b[0m\u001b[1;33m\u001b[0m\u001b[0m\n\u001b[0;32m      5\u001b[0m \u001b[1;33m\u001b[0m\u001b[0m\n",
      "\u001b[1;31mValueError\u001b[0m: I/O operation on closed file."
     ]
    }
   ],
   "source": [
    "for rdlin in rdwcm.readlines():\n",
    "    #print (rdlin)\n",
    "    if 'BLOG_TITLE' in rdlin:\n",
    "        print (rdlin)\n",
    "        "
   ]
  },
  {
   "cell_type": "code",
   "execution_count": null,
   "metadata": {
    "collapsed": false,
    "scrolled": true
   },
   "outputs": [],
   "source": [
    "for lisol in lisschol:\n",
    "    print (lisol)\n",
    "    hythsc = (lisol.replace(' ', '-'))\n",
    "    hylow = hythsc.lower()\n",
    "    hybrac = hylow.replace('(', '')\n",
    "    hybaec = hybrac.replace(')', '')\n",
    "    filereaz = ('/home/wcmckee/ccschol/' + hybaec + '/conf.py')\n",
    "    f = open(filereaz,'r')\n",
    "    filedata = f.read()\n",
    "    f.close()\n",
    "\n",
    "    newdata = filedata.replace('LICENCE = \"\"\"', licfil )\n",
    "    #print (newdata)\n",
    "    f = open(filereaz,'w')\n",
    "    f.write(newdata)\n",
    "    f.close()\n"
   ]
  },
  {
   "cell_type": "code",
   "execution_count": null,
   "metadata": {
    "collapsed": true,
    "scrolled": true
   },
   "outputs": [],
   "source": [
    "\n",
    "for lisol in lisschol:\n",
    "    print (lisol)\n",
    "    hythsc = (lisol.replace(' ', '-'))\n",
    "    hylow = hythsc.lower()\n",
    "    hybrac = hylow.replace('(', '')\n",
    "    hybaec = hybrac.replace(')', '')\n",
    "    filereaz = ('/home/wcmckee/ccschol/' + hybaec + '/conf.py')\n",
    "    f = open(filereaz,'r')\n",
    "    filedata = f.read()\n",
    "    f.close()\n",
    "\n",
    "    newdata = filedata.replace('\"Demo Site\"', '\"' + hybaec + '\"')\n",
    "    #print (newdata)\n",
    "    f = open(filereaz,'w')\n",
    "    f.write(newdata)\n",
    "    f.close()\n"
   ]
  },
  {
   "cell_type": "code",
   "execution_count": null,
   "metadata": {
    "collapsed": false,
    "scrolled": true
   },
   "outputs": [],
   "source": [
    "for lisol in lisschol:\n",
    "    print (lisol)\n",
    "    hythsc = (lisol.replace(' ', '-'))\n",
    "    hylow = hythsc.lower()\n",
    "    hybrac = hylow.replace('(', '')\n",
    "    hybaec = hybrac.replace(')', '')\n",
    "    filereaz = ('/home/wcmckee/ccschol/' + hybaec + '/conf.py')\n",
    "    f = open(filereaz,'r')\n",
    "    filedata = f.read()\n",
    "    f.close()\n",
    "\n",
    "    newdata = filedata.replace('\"Demo Site\"', '\"' + hybaec + '\"')\n",
    "    #print (newdata)\n",
    "    f = open(filereaz,'w')\n",
    "    f.write(newdata)\n",
    "    f.close()\n"
   ]
  },
  {
   "cell_type": "markdown",
   "metadata": {
    "collapsed": true
   },
   "source": [
    "Perform Nikola build of all the sites in ccschol folder"
   ]
  },
  {
   "cell_type": "code",
   "execution_count": null,
   "metadata": {
    "collapsed": false,
    "scrolled": true
   },
   "outputs": [],
   "source": [
    "buildnik = input('Build school sites y/N ')\n",
    "\n"
   ]
  },
  {
   "cell_type": "code",
   "execution_count": null,
   "metadata": {
    "collapsed": false,
    "scrolled": true
   },
   "outputs": [],
   "source": [
    "for lisol in lisschol:\n",
    "    print (lisol)\n",
    "    os.chdir('/home/wcmckee/ccschol/' + lisol)\n",
    "    if 'y' in buildnik:\n",
    "        os.system('nikola build')"
   ]
  },
  {
   "cell_type": "code",
   "execution_count": null,
   "metadata": {
    "collapsed": true,
    "scrolled": true
   },
   "outputs": [],
   "source": [
    "makerst = open('/home/wcmckee/ccs')"
   ]
  },
  {
   "cell_type": "code",
   "execution_count": null,
   "metadata": {
    "collapsed": false,
    "scrolled": true
   },
   "outputs": [],
   "source": [
    "for rs in rssch.keys():\n",
    "    hythsc = (rs.replace(' ', '-'))\n",
    "    hylow = hythsc.lower()\n",
    "    hybrac = hylow.replace('(', '-')\n",
    "    hybaec = hybrac.replace(')', '')\n",
    "    \n",
    "    #print (hylow())\n",
    "    filereaz = ('/home/wcmckee/ccschol/' + hybaec + '/conf.py')\n",
    "    f = open(filereaz,'r')\n",
    "    filedata = f.read()\n",
    "    \n",
    "\n",
    "    newdata = filedata.replace(\"Demo Site\", hybaec)\n",
    "    f.close()\n",
    "    f = open(filereaz,'w')\n",
    "    f.write(newdata)\n",
    "    f.close()"
   ]
  }
 ],
 "metadata": {
  "kernelspec": {
   "display_name": "Python 3",
   "language": "python",
   "name": "python3"
  },
  "language_info": {
   "codemirror_mode": {
    "name": "ipython",
    "version": 3
   },
   "file_extension": ".py",
   "mimetype": "text/x-python",
   "name": "python",
   "nbconvert_exporter": "python",
   "pygments_lexer": "ipython3",
   "version": "3.4.2"
  }
 },
 "nbformat": 4,
 "nbformat_minor": 0
}
