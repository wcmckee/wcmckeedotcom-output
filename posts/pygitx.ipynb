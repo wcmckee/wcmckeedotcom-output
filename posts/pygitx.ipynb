{
 "metadata": {
  "name": "",
  "signature": "sha256:1fd6f1ec8d71ab7dd986492d9c85820192072e8516a87245cd4be93faa881f4f"
 },
 "nbformat": 3,
 "nbformat_minor": 0,
 "worksheets": [
  {
   "cells": [
    {
     "cell_type": "markdown",
     "metadata": {},
     "source": [
      "Python script to download repos from github.\n",
      "It checked localfiles and skips downloading any repos that currently exsist. \n",
      "Perform a git pull for each repo that exsists\n"
     ]
    },
    {
     "cell_type": "code",
     "collapsed": false,
     "input": [
      "from github import Github"
     ],
     "language": "python",
     "metadata": {},
     "outputs": [],
     "prompt_number": 50
    },
    {
     "cell_type": "code",
     "collapsed": false,
     "input": [
      "import os\n",
      "import getpass\n",
      "from git import *\n",
      "import git"
     ],
     "language": "python",
     "metadata": {},
     "outputs": [],
     "prompt_number": 51
    },
    {
     "cell_type": "code",
     "collapsed": false,
     "input": [
      "p = open('/home/wcmckee/ps.txt', 'r')"
     ],
     "language": "python",
     "metadata": {},
     "outputs": [],
     "prompt_number": 52
    },
    {
     "cell_type": "code",
     "collapsed": false,
     "input": [
      "#str(p.read())"
     ],
     "language": "python",
     "metadata": {},
     "outputs": [],
     "prompt_number": 53
    },
    {
     "cell_type": "code",
     "collapsed": false,
     "input": [
      "pred = str(p.read())"
     ],
     "language": "python",
     "metadata": {},
     "outputs": [],
     "prompt_number": 54
    },
    {
     "cell_type": "code",
     "collapsed": false,
     "input": [
      "g = Github('wcmckee', 'test')"
     ],
     "language": "python",
     "metadata": {},
     "outputs": [],
     "prompt_number": 55
    },
    {
     "cell_type": "code",
     "collapsed": false,
     "input": [
      "grepo = g.search_users('wcmckee')                                                                                                                                                                                                                                                                                                                                                                                                                                                                                                                                                                                                                                                                                                                                                                                                                                                                                                                                                                                                                                                                                                                                                                                                                                                                                                                                                                                                                                                                                                                                                                                                   "
     ],
     "language": "python",
     "metadata": {},
     "outputs": [],
     "prompt_number": 56
    },
    {
     "cell_type": "code",
     "collapsed": false,
     "input": [
      "for gre in grepo:\n",
      "    print gre.repos_url"
     ],
     "language": "python",
     "metadata": {},
     "outputs": [
      {
       "output_type": "stream",
       "stream": "stdout",
       "text": [
        "https://api.github.com/users/wcmckee/repos\n"
       ]
      }
     ],
     "prompt_number": 57
    },
    {
     "cell_type": "code",
     "collapsed": false,
     "input": [
      "print gre.email"
     ],
     "language": "python",
     "metadata": {},
     "outputs": [
      {
       "output_type": "stream",
       "stream": "stdout",
       "text": [
        "will@artcontrol.me\n"
       ]
      }
     ],
     "prompt_number": 58
    },
    {
     "cell_type": "code",
     "collapsed": false,
     "input": [
      "grrep = gre.get_repos()"
     ],
     "language": "python",
     "metadata": {},
     "outputs": [],
     "prompt_number": 59
    },
    {
     "cell_type": "code",
     "collapsed": false,
     "input": [
      "replist =  list(grrep)"
     ],
     "language": "python",
     "metadata": {},
     "outputs": [],
     "prompt_number": 60
    },
    {
     "cell_type": "code",
     "collapsed": false,
     "input": [
      "repolisx = []\n",
      "repocom = []"
     ],
     "language": "python",
     "metadata": {},
     "outputs": [],
     "prompt_number": 61
    },
    {
     "cell_type": "code",
     "collapsed": false,
     "input": [
      "for repoz in replist:\n",
      "    print repoz.name\n",
      "    repolisx.append(repoz.name)\n",
      "    print repoz.size\n",
      "    print repoz.updated_at\n",
      "  #  repocom.append(repoz.get_commits)"
     ],
     "language": "python",
     "metadata": {},
     "outputs": [
      {
       "output_type": "stream",
       "stream": "stdout",
       "text": [
        "4chan-API\n",
        "239\n",
        "2013-09-24 10:20:16\n",
        "adypy\n",
        "684\n",
        "2014-06-09 04:52:12\n",
        "anim_framework\n",
        "260\n",
        "2014-05-07 21:25:20\n",
        "art-lastfm\n",
        "636\n",
        "2014-01-31 01:21:57\n",
        "artcontrol-api\n",
        "2012\n",
        "2014-09-26 09:58:43\n",
        "AsylumJamCrushGame\n",
        "146482\n",
        "2013-10-12 18:40:22\n",
        "autopaintpy123\n",
        "6176\n",
        "2014-02-07 07:55:31\n",
        "bacongamejam05\n",
        "64\n",
        "2013-12-18 14:12:00\n",
        "battlenet\n",
        "60\n",
        "2013-10-16 14:06:51\n",
        "bbc2wp\n",
        "148\n",
        "2014-09-21 18:35:09\n",
        "bgj05-hungry\n",
        "11316\n",
        "2014-03-23 21:09:43\n",
        "BirdCage\n",
        "43209\n",
        "2014-04-13 21:05:50\n",
        "brobeur-static\n",
        "2896\n",
        "2014-05-05 02:02:45\n",
        "brobeur-web\n",
        "1798\n",
        "2014-04-29 08:46:54\n",
        "BroBeurFishingDream\n",
        "5678\n",
        "2014-02-16 19:19:16\n",
        "broLove\n",
        "108\n",
        "2014-04-22 16:53:58\n",
        "clint\n",
        "848\n",
        "2013-08-30 11:26:48\n",
        "cobal.eportfolio\n",
        "1361\n",
        "2013-10-10 06:10:22\n",
        "compohub\n",
        "5030\n",
        "2014-05-03 11:06:39\n",
        "DailyProgBot\n",
        "74\n",
        "2013-08-30 11:26:48\n",
        "DeltaBot\n",
        "170\n",
        "2013-08-30 11:26:48\n",
        "dockerfiles\n",
        "10055\n",
        "2014-07-12 19:51:01\n",
        "flask\n",
        "9159\n",
        "2013-12-18 05:05:44\n",
        "flask-ghpages-example\n",
        "76\n",
        "2014-07-02 00:14:33\n",
        "ggj14\n",
        "50697\n",
        "2014-01-26 02:48:08\n",
        "hackage-server\n",
        "5852\n",
        "2013-09-30 07:50:04\n",
        "hamiltoncomputerclub.org.nz\n",
        "536\n",
        "2014-05-13 00:12:55\n",
        "haskell-learn\n",
        "132\n",
        "2014-02-05 10:22:41\n",
        "HTML5-Tiny\n",
        "10442\n",
        "2014-05-22 03:16:18\n",
        "html5lib-python\n",
        "6911\n",
        "2013-10-15 05:55:33\n",
        "iamagamer\n",
        "6755\n",
        "2014-05-29 01:06:20\n",
        "ihaskell-notebook\n",
        "466\n",
        "2013-10-01 22:09:52\n",
        "imgur-python\n",
        "220\n",
        "2014-10-07 18:14:23\n",
        "intercity\n",
        "716\n",
        "2014-05-12 12:56:13\n",
        "intro_programming\n",
        "8184\n",
        "2013-12-06 05:32:29\n",
        "ipython\n",
        "296\n",
        "2013-09-14 13:21:02\n",
        "ipython-docker\n",
        "4172\n",
        "2014-06-10 00:29:33\n",
        "ipython-hydra\n",
        "70\n",
        "2014-07-11 17:19:35\n",
        "LD48-Skins\n",
        "152\n",
        "2013-12-19 20:47:10\n",
        "marshmallow\n",
        "422\n",
        "2013-11-17 12:37:13\n",
        "massive-wright\n",
        "112\n",
        "2013-10-29 06:30:14\n",
        "Minecraft\n",
        "17273\n",
        "2014-05-06 19:19:03\n",
        "miniprojects\n",
        "87\n",
        "2013-08-30 11:26:46\n",
        "molyjam2013\n",
        "27370\n",
        "2013-08-30 11:26:46\n",
        "niketa\n",
        "160\n",
        "2014-06-27 03:18:50\n",
        "opencompetencies\n",
        "778\n",
        "2013-12-13 00:12:34\n",
        "openfaux-server\n",
        "209\n",
        "2013-12-18 10:19:54\n",
        "ouya-unity-plugin\n",
        "26723\n",
        "2014-09-10 19:08:05\n",
        "paintingautopy\n",
        "104\n",
        "2014-02-04 12:01:36\n",
        "pithos\n",
        "880\n",
        "2013-10-06 12:06:46\n",
        "prodo-game\n",
        "5208\n",
        "2014-05-05 21:07:36\n",
        "Projects\n",
        "1712\n",
        "2013-08-30 11:26:48\n",
        "puphpet\n",
        "11404\n",
        "2014-07-11 03:36:52\n",
        "pyatakl\n",
        "1928\n",
        "2014-06-29 01:24:11\n",
        "pybackupz\n",
        "196\n",
        "2014-01-30 16:55:31\n",
        "pyladies\n",
        "5186\n",
        "2014-04-26 22:23:20\n",
        "pymel\n",
        "175471\n",
        "2013-11-17 11:45:49\n",
        "python-guide\n",
        "538\n",
        "2013-08-30 11:26:45\n",
        "python-pandora\n",
        "120\n",
        "2013-08-30 11:26:48\n",
        "python-patterns\n",
        "90\n",
        "2013-08-30 11:26:47\n",
        "pytm\n",
        "64\n",
        "2013-09-10 03:06:24\n",
        "pyunderdog\n",
        "188\n",
        "2014-02-02 14:35:35\n",
        "pywp-post\n",
        "212\n",
        "2014-06-02 07:16:53\n",
        "raspi\n",
        "128\n",
        "2014-01-28 08:29:32\n",
        "RasPiWrite\n",
        "198\n",
        "2014-01-20 18:31:17\n",
        "RedditPress\n",
        "356\n",
        "2014-04-22 16:53:58\n",
        "reddit_bot\n",
        "114\n",
        "2013-08-30 11:26:48\n",
        "redtube\n",
        "215\n",
        "2014-05-07 20:52:47\n",
        "render-useful\n",
        "340\n",
        "2014-11-14 08:56:35\n",
        "RPIO\n",
        "2471\n",
        "2014-01-28 10:28:53\n",
        "selfspy\n",
        "235\n",
        "2014-04-21 10:06:55\n",
        "SketchDaily-GestureDrawing\n",
        "5077\n",
        "2014-05-22 19:15:06\n",
        "skins\n",
        "220\n",
        "2014-02-15 12:56:01\n",
        "SortPictures\n",
        "140\n",
        "2014-02-12 13:51:53\n",
        "SoundWall\n",
        "1958\n",
        "2014-05-03 10:38:30\n",
        "SuburbNightmare\n",
        "64368\n",
        "2014-04-17 06:02:40\n",
        "te-whare-o-te-ata\n",
        "464\n",
        "2014-06-24 08:34:54\n",
        "TPB\n",
        "387\n",
        "2013-10-04 11:50:53\n",
        "Triger\n",
        "18723\n",
        "2014-02-18 16:10:27\n",
        "tweepy\n",
        "727\n",
        "2013-08-30 11:26:47\n",
        "UnityLuaIntegration\n",
        "246\n",
        "2013-08-30 11:26:47\n",
        "vagrantboxes-heroku\n",
        "2447\n",
        "2014-07-11 13:02:20\n",
        "vIPer\n",
        "855\n",
        "2014-05-11 06:17:26\n",
        "wcmckee\n",
        "1500\n",
        "2014-12-19 10:27:44\n",
        "wcmckee-notebook\n",
        "29716\n",
        "2014-09-02 11:51:52\n",
        "wcmckee.com\n",
        "584\n",
        "2014-05-13 00:30:55\n",
        "wcmckee.github.io\n",
        "140\n",
        "2014-04-27 12:28:03\n",
        "wcmStringPY\n",
        "1600\n",
        "2014-02-02 17:24:08\n",
        "wirepil\n",
        "2152\n",
        "2014-02-14 10:30:42\n",
        "xboxdrv\n",
        "64\n",
        "2013-10-02 11:22:40\n"
       ]
      }
     ],
     "prompt_number": 62
    },
    {
     "cell_type": "code",
     "collapsed": false,
     "input": [
      "#for repz in repocom:\n",
      "#    print repoz.ssh_url"
     ],
     "language": "python",
     "metadata": {},
     "outputs": [],
     "prompt_number": 63
    },
    {
     "cell_type": "code",
     "collapsed": false,
     "input": [
      "for repoit in repolisx:\n",
      "    print repoit"
     ],
     "language": "python",
     "metadata": {},
     "outputs": [
      {
       "output_type": "stream",
       "stream": "stdout",
       "text": [
        "4chan-API\n",
        "adypy\n",
        "anim_framework\n",
        "art-lastfm\n",
        "artcontrol-api\n",
        "AsylumJamCrushGame\n",
        "autopaintpy123\n",
        "bacongamejam05\n",
        "battlenet\n",
        "bbc2wp\n",
        "bgj05-hungry\n",
        "BirdCage\n",
        "brobeur-static\n",
        "brobeur-web\n",
        "BroBeurFishingDream\n",
        "broLove\n",
        "clint\n",
        "cobal.eportfolio\n",
        "compohub\n",
        "DailyProgBot\n",
        "DeltaBot\n",
        "dockerfiles\n",
        "flask\n",
        "flask-ghpages-example\n",
        "ggj14\n",
        "hackage-server\n",
        "hamiltoncomputerclub.org.nz\n",
        "haskell-learn\n",
        "HTML5-Tiny\n",
        "html5lib-python\n",
        "iamagamer\n",
        "ihaskell-notebook\n",
        "imgur-python\n",
        "intercity\n",
        "intro_programming\n",
        "ipython\n",
        "ipython-docker\n",
        "ipython-hydra\n",
        "LD48-Skins\n",
        "marshmallow\n",
        "massive-wright\n",
        "Minecraft\n",
        "miniprojects\n",
        "molyjam2013\n",
        "niketa\n",
        "opencompetencies\n",
        "openfaux-server\n",
        "ouya-unity-plugin\n",
        "paintingautopy\n",
        "pithos\n",
        "prodo-game\n",
        "Projects\n",
        "puphpet\n",
        "pyatakl\n",
        "pybackupz\n",
        "pyladies\n",
        "pymel\n",
        "python-guide\n",
        "python-pandora\n",
        "python-patterns\n",
        "pytm\n",
        "pyunderdog\n",
        "pywp-post\n",
        "raspi\n",
        "RasPiWrite\n",
        "RedditPress\n",
        "reddit_bot\n",
        "redtube\n",
        "render-useful\n",
        "RPIO\n",
        "selfspy\n",
        "SketchDaily-GestureDrawing\n",
        "skins\n",
        "SortPictures\n",
        "SoundWall\n",
        "SuburbNightmare\n",
        "te-whare-o-te-ata\n",
        "TPB\n",
        "Triger\n",
        "tweepy\n",
        "UnityLuaIntegration\n",
        "vagrantboxes-heroku\n",
        "vIPer\n",
        "wcmckee\n",
        "wcmckee-notebook\n",
        "wcmckee.com\n",
        "wcmckee.github.io\n",
        "wcmStringPY\n",
        "wirepil\n",
        "xboxdrv\n"
       ]
      }
     ],
     "prompt_number": 64
    },
    {
     "cell_type": "code",
     "collapsed": false,
     "input": [
      "repolisx"
     ],
     "language": "python",
     "metadata": {},
     "outputs": [
      {
       "metadata": {},
       "output_type": "pyout",
       "prompt_number": 65,
       "text": [
        "[u'4chan-API',\n",
        " u'adypy',\n",
        " u'anim_framework',\n",
        " u'art-lastfm',\n",
        " u'artcontrol-api',\n",
        " u'AsylumJamCrushGame',\n",
        " u'autopaintpy123',\n",
        " u'bacongamejam05',\n",
        " u'battlenet',\n",
        " u'bbc2wp',\n",
        " u'bgj05-hungry',\n",
        " u'BirdCage',\n",
        " u'brobeur-static',\n",
        " u'brobeur-web',\n",
        " u'BroBeurFishingDream',\n",
        " u'broLove',\n",
        " u'clint',\n",
        " u'cobal.eportfolio',\n",
        " u'compohub',\n",
        " u'DailyProgBot',\n",
        " u'DeltaBot',\n",
        " u'dockerfiles',\n",
        " u'flask',\n",
        " u'flask-ghpages-example',\n",
        " u'ggj14',\n",
        " u'hackage-server',\n",
        " u'hamiltoncomputerclub.org.nz',\n",
        " u'haskell-learn',\n",
        " u'HTML5-Tiny',\n",
        " u'html5lib-python',\n",
        " u'iamagamer',\n",
        " u'ihaskell-notebook',\n",
        " u'imgur-python',\n",
        " u'intercity',\n",
        " u'intro_programming',\n",
        " u'ipython',\n",
        " u'ipython-docker',\n",
        " u'ipython-hydra',\n",
        " u'LD48-Skins',\n",
        " u'marshmallow',\n",
        " u'massive-wright',\n",
        " u'Minecraft',\n",
        " u'miniprojects',\n",
        " u'molyjam2013',\n",
        " u'niketa',\n",
        " u'opencompetencies',\n",
        " u'openfaux-server',\n",
        " u'ouya-unity-plugin',\n",
        " u'paintingautopy',\n",
        " u'pithos',\n",
        " u'prodo-game',\n",
        " u'Projects',\n",
        " u'puphpet',\n",
        " u'pyatakl',\n",
        " u'pybackupz',\n",
        " u'pyladies',\n",
        " u'pymel',\n",
        " u'python-guide',\n",
        " u'python-pandora',\n",
        " u'python-patterns',\n",
        " u'pytm',\n",
        " u'pyunderdog',\n",
        " u'pywp-post',\n",
        " u'raspi',\n",
        " u'RasPiWrite',\n",
        " u'RedditPress',\n",
        " u'reddit_bot',\n",
        " u'redtube',\n",
        " u'render-useful',\n",
        " u'RPIO',\n",
        " u'selfspy',\n",
        " u'SketchDaily-GestureDrawing',\n",
        " u'skins',\n",
        " u'SortPictures',\n",
        " u'SoundWall',\n",
        " u'SuburbNightmare',\n",
        " u'te-whare-o-te-ata',\n",
        " u'TPB',\n",
        " u'Triger',\n",
        " u'tweepy',\n",
        " u'UnityLuaIntegration',\n",
        " u'vagrantboxes-heroku',\n",
        " u'vIPer',\n",
        " u'wcmckee',\n",
        " u'wcmckee-notebook',\n",
        " u'wcmckee.com',\n",
        " u'wcmckee.github.io',\n",
        " u'wcmStringPY',\n",
        " u'wirepil',\n",
        " u'xboxdrv']"
       ]
      }
     ],
     "prompt_number": 65
    },
    {
     "cell_type": "code",
     "collapsed": false,
     "input": [
      "homlaz = ('/home/wcmckee/pygitx')"
     ],
     "language": "python",
     "metadata": {},
     "outputs": [],
     "prompt_number": 69
    },
    {
     "cell_type": "code",
     "collapsed": false,
     "input": [
      "os.chdir(homlaz)"
     ],
     "language": "python",
     "metadata": {},
     "outputs": [],
     "prompt_number": 71
    },
    {
     "cell_type": "code",
     "collapsed": false,
     "input": [
      "#opgitp = open('gitp.txt', 'r')"
     ],
     "language": "python",
     "metadata": {},
     "outputs": [],
     "prompt_number": 72
    },
    {
     "cell_type": "code",
     "collapsed": false,
     "input": [
      "#_LOKDD"
     ],
     "language": "python",
     "metadata": {},
     "outputs": [],
     "prompt_number": 73
    },
    {
     "cell_type": "code",
     "collapsed": false,
     "input": [
      "#rpa"
     ],
     "language": "python",
     "metadata": {},
     "outputs": [],
     "prompt_number": 74
    },
    {
     "cell_type": "code",
     "collapsed": false,
     "input": [
      "dirlis = os.listdir(homlaz)"
     ],
     "language": "python",
     "metadata": {},
     "outputs": [],
     "prompt_number": 75
    },
    {
     "cell_type": "code",
     "collapsed": false,
     "input": [
      "dirme = set(dirlis) - set(repolisx)"
     ],
     "language": "python",
     "metadata": {},
     "outputs": [],
     "prompt_number": 76
    },
    {
     "cell_type": "code",
     "collapsed": false,
     "input": [
      "dirout = set(repolisx) - set(dirlis)"
     ],
     "language": "python",
     "metadata": {},
     "outputs": [],
     "prompt_number": 77
    },
    {
     "cell_type": "code",
     "collapsed": false,
     "input": [
      "for dirz in dirout:\n",
      "    print dirz"
     ],
     "language": "python",
     "metadata": {},
     "outputs": [
      {
       "output_type": "stream",
       "stream": "stdout",
       "text": [
        "RasPiWrite\n",
        "wcmckee.github.io\n",
        "ggj14\n",
        "flask\n",
        "4chan-API\n",
        "BroBeurFishingDream\n",
        "art-lastfm\n",
        "pywp-post\n",
        "flask-ghpages-example\n",
        "TPB\n",
        "autopaintpy123\n",
        "broLove\n",
        "wcmckee-notebook\n",
        "wirepil\n",
        "dockerfiles\n",
        "SketchDaily-GestureDrawing\n",
        "SoundWall\n",
        "te-whare-o-te-ata\n",
        "SortPictures\n",
        "cobal.eportfolio\n",
        "intro_programming\n",
        "python-guide\n",
        "pyunderdog\n",
        "skins\n",
        "ouya-unity-plugin\n",
        "adypy\n",
        "pybackupz\n",
        "selfspy\n",
        "niketa\n",
        "Projects\n",
        "wcmckee\n",
        "bgj05-hungry\n",
        "BirdCage\n",
        "iamagamer\n",
        "ipython\n",
        "redtube\n",
        "imgur-python\n",
        "paintingautopy\n",
        "brobeur-web\n",
        "molyjam2013\n",
        "prodo-game\n",
        "reddit_bot\n",
        "DeltaBot\n",
        "marshmallow\n",
        "ipython-hydra\n",
        "compohub\n",
        "pyladies\n",
        "python-patterns\n",
        "hackage-server\n",
        "pithos\n",
        "bbc2wp\n",
        "vIPer\n",
        "Triger\n",
        "RedditPress\n",
        "tweepy\n",
        "pytm\n",
        "anim_framework\n",
        "HTML5-Tiny\n",
        "artcontrol-api\n",
        "miniprojects\n",
        "SuburbNightmare\n",
        "raspi\n",
        "UnityLuaIntegration\n",
        "ipython-docker\n",
        "intercity\n",
        "puphpet\n",
        "DailyProgBot\n",
        "pymel\n",
        "brobeur-static\n",
        "clint\n",
        "bacongamejam05\n",
        "wcmckee.com\n",
        "wcmStringPY\n",
        "RPIO\n",
        "html5lib-python\n",
        "render-useful\n",
        "vagrantboxes-heroku\n",
        "python-pandora\n",
        "LD48-Skins\n",
        "hamiltoncomputerclub.org.nz\n",
        "battlenet\n",
        "haskell-learn\n",
        "Minecraft\n",
        "openfaux-server\n",
        "AsylumJamCrushGame\n",
        "xboxdrv\n",
        "massive-wright\n",
        "ihaskell-notebook\n",
        "opencompetencies\n",
        "pyatakl\n"
       ]
      }
     ],
     "prompt_number": 78
    },
    {
     "cell_type": "code",
     "collapsed": false,
     "input": [
      "dirme"
     ],
     "language": "python",
     "metadata": {},
     "outputs": [
      {
       "metadata": {},
       "output_type": "pyout",
       "prompt_number": 79,
       "text": [
        "set()"
       ]
      }
     ],
     "prompt_number": 79
    },
    {
     "cell_type": "code",
     "collapsed": false,
     "input": [
      "merglis = set(dirlis) & set(repolisx)"
     ],
     "language": "python",
     "metadata": {},
     "outputs": [],
     "prompt_number": 80
    },
    {
     "cell_type": "code",
     "collapsed": false,
     "input": [
      "merglis   "
     ],
     "language": "python",
     "metadata": {},
     "outputs": [
      {
       "metadata": {},
       "output_type": "pyout",
       "prompt_number": 81,
       "text": [
        "set()"
       ]
      }
     ],
     "prompt_number": 81
    },
    {
     "cell_type": "code",
     "collapsed": false,
     "input": [
      "for repoit in repolisx:\n",
      "    print repoit\n",
      "    os.system('git clone https://github.com/wcmckee/' + repoit)\n",
      "    #git.Git().clone('https://github.com/wcmckee/' + repoit)"
     ],
     "language": "python",
     "metadata": {},
     "outputs": [
      {
       "output_type": "stream",
       "stream": "stdout",
       "text": [
        "4chan-API\n",
        "adypy"
       ]
      },
      {
       "output_type": "stream",
       "stream": "stdout",
       "text": [
        "\n",
        "anim_framework"
       ]
      },
      {
       "output_type": "stream",
       "stream": "stdout",
       "text": [
        "\n",
        "art-lastfm"
       ]
      },
      {
       "output_type": "stream",
       "stream": "stdout",
       "text": [
        "\n",
        "artcontrol-api"
       ]
      },
      {
       "output_type": "stream",
       "stream": "stdout",
       "text": [
        "\n",
        "AsylumJamCrushGame"
       ]
      },
      {
       "output_type": "stream",
       "stream": "stdout",
       "text": [
        "\n",
        "autopaintpy123"
       ]
      },
      {
       "output_type": "stream",
       "stream": "stdout",
       "text": [
        "\n",
        "bacongamejam05"
       ]
      },
      {
       "output_type": "stream",
       "stream": "stdout",
       "text": [
        "\n",
        "battlenet"
       ]
      },
      {
       "output_type": "stream",
       "stream": "stdout",
       "text": [
        "\n",
        "bbc2wp"
       ]
      },
      {
       "output_type": "stream",
       "stream": "stdout",
       "text": [
        "\n",
        "bgj05-hungry"
       ]
      },
      {
       "output_type": "stream",
       "stream": "stdout",
       "text": [
        "\n",
        "BirdCage"
       ]
      },
      {
       "output_type": "stream",
       "stream": "stdout",
       "text": [
        "\n",
        "brobeur-static"
       ]
      },
      {
       "output_type": "stream",
       "stream": "stdout",
       "text": [
        "\n",
        "brobeur-web"
       ]
      },
      {
       "output_type": "stream",
       "stream": "stdout",
       "text": [
        "\n",
        "BroBeurFishingDream"
       ]
      },
      {
       "output_type": "stream",
       "stream": "stdout",
       "text": [
        "\n",
        "broLove"
       ]
      },
      {
       "output_type": "stream",
       "stream": "stdout",
       "text": [
        "\n",
        "clint"
       ]
      },
      {
       "output_type": "stream",
       "stream": "stdout",
       "text": [
        "\n",
        "cobal.eportfolio"
       ]
      },
      {
       "output_type": "stream",
       "stream": "stdout",
       "text": [
        "\n",
        "compohub"
       ]
      },
      {
       "output_type": "stream",
       "stream": "stdout",
       "text": [
        "\n",
        "DailyProgBot"
       ]
      },
      {
       "output_type": "stream",
       "stream": "stdout",
       "text": [
        "\n",
        "DeltaBot"
       ]
      },
      {
       "output_type": "stream",
       "stream": "stdout",
       "text": [
        "\n",
        "dockerfiles"
       ]
      },
      {
       "output_type": "stream",
       "stream": "stdout",
       "text": [
        "\n",
        "flask"
       ]
      },
      {
       "output_type": "stream",
       "stream": "stdout",
       "text": [
        "\n",
        "flask-ghpages-example"
       ]
      },
      {
       "output_type": "stream",
       "stream": "stdout",
       "text": [
        "\n",
        "ggj14"
       ]
      }
     ]
    },
    {
     "cell_type": "code",
     "collapsed": false,
     "input": [
      "wcmrepo = git.repository('/home/wcmckee/wcmkee')"
     ],
     "language": "python",
     "metadata": {},
     "outputs": [
      {
       "ename": "TypeError",
       "evalue": "'module' object is not callable",
       "output_type": "pyerr",
       "traceback": [
        "\u001b[1;31m---------------------------------------------------------------------------\u001b[0m\n\u001b[1;31mTypeError\u001b[0m                                 Traceback (most recent call last)",
        "\u001b[1;32m<ipython-input-83-fe34f7ddb807>\u001b[0m in \u001b[0;36m<module>\u001b[1;34m()\u001b[0m\n\u001b[1;32m----> 1\u001b[1;33m \u001b[0mwcmrepo\u001b[0m \u001b[1;33m=\u001b[0m \u001b[0mgit\u001b[0m\u001b[1;33m.\u001b[0m\u001b[0mrepository\u001b[0m\u001b[1;33m(\u001b[0m\u001b[1;34m'/home/wcmckee/wcmkee'\u001b[0m\u001b[1;33m)\u001b[0m\u001b[1;33m\u001b[0m\u001b[0m\n\u001b[0m",
        "\u001b[1;31mTypeError\u001b[0m: 'module' object is not callable"
       ]
      }
     ],
     "prompt_number": 83
    },
    {
     "cell_type": "code",
     "collapsed": false,
     "input": [
      "help('git')"
     ],
     "language": "python",
     "metadata": {},
     "outputs": [
      {
       "output_type": "stream",
       "stream": "stdout",
       "text": [
        "Help on package git:\n",
        "\n",
        "NAME\n",
        "    git - # -*- coding: utf-8 -*- ex:set ts=4 sw=4 et:\n",
        "\n",
        "FILE\n",
        "    /usr/local/lib/python2.7/dist-packages/git/__init__.py\n",
        "\n",
        "PACKAGE CONTENTS\n",
        "    config\n",
        "    gitbinary\n",
        "    misc\n",
        "    objects\n",
        "    repository\n",
        "\n",
        "\n"
       ]
      }
     ],
     "prompt_number": 84
    },
    {
     "cell_type": "code",
     "collapsed": false,
     "input": [],
     "language": "python",
     "metadata": {},
     "outputs": [],
     "prompt_number": 84
    },
    {
     "cell_type": "code",
     "collapsed": false,
     "input": [
      "import git"
     ],
     "language": "python",
     "metadata": {},
     "outputs": [],
     "prompt_number": 85
    },
    {
     "cell_type": "code",
     "collapsed": false,
     "input": [
      "from git import *\n",
      "repo = Repo(\"/Users/mtrier/Development/git-python\")"
     ],
     "language": "python",
     "metadata": {},
     "outputs": [
      {
       "ename": "NameError",
       "evalue": "name 'Repo' is not defined",
       "output_type": "pyerr",
       "traceback": [
        "\u001b[1;31m---------------------------------------------------------------------------\u001b[0m\n\u001b[1;31mNameError\u001b[0m                                 Traceback (most recent call last)",
        "\u001b[1;32m<ipython-input-86-497077d73790>\u001b[0m in \u001b[0;36m<module>\u001b[1;34m()\u001b[0m\n\u001b[0;32m      1\u001b[0m \u001b[1;32mfrom\u001b[0m \u001b[0mgit\u001b[0m \u001b[1;32mimport\u001b[0m \u001b[1;33m*\u001b[0m\u001b[1;33m\u001b[0m\u001b[0m\n\u001b[1;32m----> 2\u001b[1;33m \u001b[0mrepo\u001b[0m \u001b[1;33m=\u001b[0m \u001b[0mRepo\u001b[0m\u001b[1;33m(\u001b[0m\u001b[1;34m\"/Users/mtrier/Development/git-python\"\u001b[0m\u001b[1;33m)\u001b[0m\u001b[1;33m\u001b[0m\u001b[0m\n\u001b[0m",
        "\u001b[1;31mNameError\u001b[0m: name 'Repo' is not defined"
       ]
      }
     ],
     "prompt_number": 86
    },
    {
     "cell_type": "code",
     "collapsed": false,
     "input": [
      "git.Repository.clone('https://github.com/wcmckee/BeOk')"
     ],
     "language": "python",
     "metadata": {},
     "outputs": [
      {
       "ename": "TypeError",
       "evalue": "unbound method clone() must be called with Repository instance as first argument (got str instance instead)",
       "output_type": "pyerr",
       "traceback": [
        "\u001b[1;31m---------------------------------------------------------------------------\u001b[0m\n\u001b[1;31mTypeError\u001b[0m                                 Traceback (most recent call last)",
        "\u001b[1;32m<ipython-input-87-66ad7af6c29e>\u001b[0m in \u001b[0;36m<module>\u001b[1;34m()\u001b[0m\n\u001b[1;32m----> 1\u001b[1;33m \u001b[0mgit\u001b[0m\u001b[1;33m.\u001b[0m\u001b[0mRepository\u001b[0m\u001b[1;33m.\u001b[0m\u001b[0mclone\u001b[0m\u001b[1;33m(\u001b[0m\u001b[1;34m'https://github.com/wcmckee/BeOk'\u001b[0m\u001b[1;33m)\u001b[0m\u001b[1;33m\u001b[0m\u001b[0m\n\u001b[0m",
        "\u001b[1;31mTypeError\u001b[0m: unbound method clone() must be called with Repository instance as first argument (got str instance instead)"
       ]
      }
     ],
     "prompt_number": 87
    },
    {
     "cell_type": "code",
     "collapsed": false,
     "input": [
      "git.repository.Repository.clone()"
     ],
     "language": "python",
     "metadata": {},
     "outputs": [
      {
       "ename": "TypeError",
       "evalue": "unbound method clone() must be called with Repository instance as first argument (got nothing instead)",
       "output_type": "pyerr",
       "traceback": [
        "\u001b[1;31m---------------------------------------------------------------------------\u001b[0m\n\u001b[1;31mTypeError\u001b[0m                                 Traceback (most recent call last)",
        "\u001b[1;32m<ipython-input-88-4495727d2e19>\u001b[0m in \u001b[0;36m<module>\u001b[1;34m()\u001b[0m\n\u001b[1;32m----> 1\u001b[1;33m \u001b[0mgit\u001b[0m\u001b[1;33m.\u001b[0m\u001b[0mrepository\u001b[0m\u001b[1;33m.\u001b[0m\u001b[0mRepository\u001b[0m\u001b[1;33m.\u001b[0m\u001b[0mclone\u001b[0m\u001b[1;33m(\u001b[0m\u001b[1;33m)\u001b[0m\u001b[1;33m\u001b[0m\u001b[0m\n\u001b[0m",
        "\u001b[1;31mTypeError\u001b[0m: unbound method clone() must be called with Repository instance as first argument (got nothing instead)"
       ]
      }
     ],
     "prompt_number": 88
    },
    {
     "cell_type": "code",
     "collapsed": false,
     "input": [
      "(git.objects)"
     ],
     "language": "python",
     "metadata": {},
     "outputs": [
      {
       "metadata": {},
       "output_type": "pyout",
       "prompt_number": 89,
       "text": [
        "<module 'git.objects' from '/usr/local/lib/python2.7/dist-packages/git/objects.pyc'>"
       ]
      }
     ],
     "prompt_number": 89
    },
    {
     "cell_type": "code",
     "collapsed": false,
     "input": [],
     "language": "python",
     "metadata": {},
     "outputs": []
    }
   ],
   "metadata": {}
  }
 ]
}