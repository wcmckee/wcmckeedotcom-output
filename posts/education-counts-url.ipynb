{
 "cells": [
  {
   "cell_type": "code",
   "execution_count": 60,
   "metadata": {
    "collapsed": true
   },
   "outputs": [],
   "source": [
    "import bs4\n",
    "import requests\n",
    "import dominate\n",
    "from dominate.tags import *\n",
    "import os\n",
    "import shutil\n",
    "import json\n",
    "from urlparse import urlparse\n",
    "from bs4 import BeautifulSoup"
   ]
  },
  {
   "cell_type": "code",
   "execution_count": 61,
   "metadata": {
    "collapsed": false
   },
   "outputs": [],
   "source": [
    "#eceall = requests.get('')"
   ]
  },
  {
   "cell_type": "code",
   "execution_count": 62,
   "metadata": {
    "collapsed": false
   },
   "outputs": [],
   "source": [
    "opind = open('/media/removable/WILLIAMS30G/www.educationcounts.govt.nz/index.html', 'r')"
   ]
  },
  {
   "cell_type": "code",
   "execution_count": 63,
   "metadata": {
    "collapsed": true
   },
   "outputs": [],
   "source": [
    "optfz = opind.read()"
   ]
  },
  {
   "cell_type": "code",
   "execution_count": 64,
   "metadata": {
    "collapsed": true
   },
   "outputs": [],
   "source": [
    "edcountz = bs4.BeautifulSoup(optfz)"
   ]
  },
  {
   "cell_type": "code",
   "execution_count": 65,
   "metadata": {
    "collapsed": true
   },
   "outputs": [],
   "source": [
    "afind = edcountz.findAll('a')"
   ]
  },
  {
   "cell_type": "code",
   "execution_count": 66,
   "metadata": {
    "collapsed": true
   },
   "outputs": [],
   "source": [
    "gidict = dict()"
   ]
  },
  {
   "cell_type": "code",
   "execution_count": 67,
   "metadata": {
    "collapsed": true
   },
   "outputs": [],
   "source": [
    "for afi in afind:\n",
    "    gied = afi.text\n",
    "    gifz = gied.replace(' ', '-')\n",
    "    giflow = gifz.lower()\n",
    "    gidict.update({giflow[:12] : afi.attrs['href']})\n",
    "    \n",
    "    gihrd = urlparse(afi.attrs['href'])\n",
    "    \n",
    "    "
   ]
  },
  {
   "cell_type": "code",
   "execution_count": 68,
   "metadata": {
    "collapsed": false
   },
   "outputs": [],
   "source": [
    "doc = dominate.document(title='educount')\n",
    "\n",
    "with doc.head:\n",
    "    link(rel='stylesheet', href='style.css')\n",
    "    script(type='text/javascript', src='script.js')\n",
    "\n",
    "with doc:\n",
    "    #with div(id='header').add(ol()):\n",
    "        #for i in ['home', 'about', 'contact']:\n",
    "            #li(a(i.title(), href='/%s.html' % i))\n",
    "\n",
    "    with div(cls='row'):\n",
    "        h1('education-counts-url')\n",
    "        for afi in afind:\n",
    "            if 'https://' in afi.attrs['href']:\n",
    "                gied = afi.text\n",
    "                gifz = gied.replace(' ', '-')\n",
    "                giflow = gifz.lower()\n",
    "                a(dominate.tags.li(giflow[:12]), href = (afi.attrs['href']))\n",
    "                #print afi.attrs['href']\n",
    "            #p(edu.txt)\n",
    "            #dominate.tags.p(edu.attrs['href'])\n",
    "            #a(dominate.tags.p(edu.text), href=dominate.tags.a(edu.attrs['href']))\n",
    "            \n",
    "            #print edu.text\n",
    "\n",
    "#print doc"
   ]
  },
  {
   "cell_type": "code",
   "execution_count": 69,
   "metadata": {
    "collapsed": false
   },
   "outputs": [],
   "source": [
    "docre = doc.render()\n",
    "#s = docre.decode('ascii', 'ignore')\n",
    "yourstring = docre.encode('ascii', 'ignore').decode('ascii')\n",
    "indfil = ('/media/removable/WILLIAMS30G/education-counts-url/index.json')\n",
    "mkind = open(indfil, 'w')\n",
    "mkind.write(yourstring)\n",
    "mkind.close()"
   ]
  },
  {
   "cell_type": "code",
   "execution_count": 70,
   "metadata": {
    "collapsed": false
   },
   "outputs": [],
   "source": [
    "dicon = json.dumps(gidict)"
   ]
  },
  {
   "cell_type": "code",
   "execution_count": 71,
   "metadata": {
    "collapsed": true
   },
   "outputs": [],
   "source": [
    "opeducon = open('/media/removable/WILLIAMS30G/education-counts-url/index.json', 'w')\n",
    "\n",
    "opeducon.write(dicon)\n",
    "\n",
    "opeducon.close()"
   ]
  },
  {
   "cell_type": "code",
   "execution_count": 72,
   "metadata": {
    "collapsed": false
   },
   "outputs": [],
   "source": [
    "rdeducon = open('/media/removable/WILLIAMS30G/education-counts-url/index.json', 'r')\n",
    "\n",
    "rdqa = rdeducon.read()"
   ]
  },
  {
   "cell_type": "code",
   "execution_count": 73,
   "metadata": {
    "collapsed": false
   },
   "outputs": [],
   "source": [
    "loadic = json.loads(rdqa)"
   ]
  }
 ],
 "metadata": {
  "kernelspec": {
   "display_name": "Python 2",
   "name": "python2"
  },
  "language_info": {
   "codemirror_mode": {
    "name": "ipython",
    "version": 2
   },
   "file_extension": ".py",
   "mimetype": "text/x-python",
   "name": "python",
   "nbconvert_exporter": "python",
   "pygments_lexer": "ipython2",
   "version": "2.7.9"
  }
 },
 "nbformat": 4,
 "nbformat_minor": 0
}
