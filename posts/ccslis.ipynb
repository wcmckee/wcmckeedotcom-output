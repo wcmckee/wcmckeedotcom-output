{
 "cells": [
  {
   "cell_type": "markdown",
   "metadata": {},
   "source": [
    "ccslis \n",
    "\n",
    "create daily notices for all schools in /home/wcmckee/ccschol\n",
    "\n",
    "Report back on all signins.\n",
    "\n",
    "Live roll data. \n",
    "\n",
    "Students and Staff Payroll on signinlca/usernames.\n",
    "\n",
    "Create blog post on Nikola blog with student profile. Post profile contains student details and link to their profile blog.\n",
    "\n",
    "\n",
    "Turn py file into ipynb.\n",
    "Seprate cells in py file with template code. \n",
    "\n",
    "First creates blogs for every school. Creates post of each student on blog. Create blog of each student.\n",
    "Create blog post of every day they were enrolled at a school."
   ]
  },
  {
   "cell_type": "code",
   "execution_count": 9,
   "metadata": {
    "collapsed": true
   },
   "outputs": [],
   "source": [
    "import os\n",
    "import pandas\n",
    "import arrow"
   ]
  },
  {
   "cell_type": "markdown",
   "metadata": {},
   "source": [
    "walk folderr for all ipynb not in wcm.com posts folder.\n",
    "\n",
    "Two lists 0 - .ipynb files not in wcm.com 1 - .ipynb files in wcm.com"
   ]
  },
  {
   "cell_type": "code",
   "execution_count": 10,
   "metadata": {
    "collapsed": false
   },
   "outputs": [],
   "source": [
    "arti = arrow.now()"
   ]
  },
  {
   "cell_type": "code",
   "execution_count": 11,
   "metadata": {
    "collapsed": false
   },
   "outputs": [
    {
     "data": {
      "text/plain": [
       "<Arrow [2015-09-30T08:55:59.179386+13:00]>"
      ]
     },
     "execution_count": 11,
     "metadata": {},
     "output_type": "execute_result"
    }
   ],
   "source": [
    "arti"
   ]
  },
  {
   "cell_type": "code",
   "execution_count": 23,
   "metadata": {
    "collapsed": true
   },
   "outputs": [],
   "source": [
    "opcomp = os.listdir('/home/wcmckee/github/')"
   ]
  },
  {
   "cell_type": "code",
   "execution_count": null,
   "metadata": {
    "collapsed": true
   },
   "outputs": [],
   "source": []
  },
  {
   "cell_type": "code",
   "execution_count": null,
   "metadata": {
    "collapsed": true
   },
   "outputs": [],
   "source": []
  },
  {
   "cell_type": "code",
   "execution_count": 24,
   "metadata": {
    "collapsed": false
   },
   "outputs": [
    {
     "data": {
      "text/plain": [
       "['pydnz',\n",
       " 'getsdrawndotcom',\n",
       " 'signinlca',\n",
       " 'lcacoffee',\n",
       " 'wcmckee.com',\n",
       " 'wcmckee-notebook',\n",
       " 'pianobar',\n",
       " 'wcmbbdotcom',\n",
       " 'nikola-site',\n",
       " 'jupyterhub_cookie_secret',\n",
       " 'superblog',\n",
       " 'pyshorteners',\n",
       " 'wcm',\n",
       " 'garrison-wow-track',\n",
       " 'niketa',\n",
       " 'icalendar',\n",
       " 'devstack',\n",
       " 'nikola',\n",
       " 'config.txt',\n",
       " 'pytm',\n",
       " 'chriswarrick.com',\n",
       " 'wcm.com',\n",
       " 'control-pianobar',\n",
       " 'ece-display',\n",
       " 'cv',\n",
       " 'hamiltoncomputerclub.org.nz',\n",
       " 'jupyterhub.sqlite',\n",
       " 'cs4hs',\n",
       " 'wcmckee',\n",
       " 'brobeurdotcom',\n",
       " 'bacongamejam05',\n",
       " 'pelican-themes',\n",
       " 'gwt']"
      ]
     },
     "execution_count": 24,
     "metadata": {},
     "output_type": "execute_result"
    }
   ],
   "source": [
    "opcomp"
   ]
  },
  {
   "cell_type": "code",
   "execution_count": 21,
   "metadata": {
    "collapsed": false
   },
   "outputs": [],
   "source": [
    "alccs = os.listdir('/home/wcmckee/ccschol/')"
   ]
  },
  {
   "cell_type": "code",
   "execution_count": 15,
   "metadata": {
    "collapsed": false
   },
   "outputs": [
    {
     "data": {
      "text/plain": [
       "0    2015-09-30T08:55:59.179386+13:00\n",
       "dtype: object"
      ]
     },
     "execution_count": 15,
     "metadata": {},
     "output_type": "execute_result"
    }
   ],
   "source": [
    "pandas.TimeSeries(arti)"
   ]
  },
  {
   "cell_type": "code",
   "execution_count": 22,
   "metadata": {
    "collapsed": false
   },
   "outputs": [
    {
     "name": "stdout",
     "output_type": "stream",
     "text": [
      "te-wharekura-o-maniapoto\n",
      "ardmore\n",
      "shotover-school\n",
      "hobsonville-point-secondary-school\n",
      "south-hornby\n",
      "thorndon\n",
      "leigh-school\n",
      "st-josephs-upper-hutt\n",
      "green-bay\n",
      "oaklands-\n",
      "hampden-street\n",
      "rangiora-borough\n",
      "pegasus-bay\n",
      "te-pa-o-rakaihautu\n",
      "paparoa-street\n",
      "te-one\n",
      "kaikohe-west\n",
      "thorrington\n",
      "grey-lynn\n",
      "ohoka\n",
      "westlake-girls-high-school\n",
      "merrin\n",
      "stonefields-school\n",
      "sylvia-park-school\n",
      "roydvale\n",
      "marlborough-primary\n",
      "ward\n",
      "raphael-house\n",
      "whau-valley\n",
      "taipa-area-school-\n",
      "pukekohe-intermediate\n",
      "ashburton-intermediate\n",
      "onewhero-area\n",
      "rawhiti\n",
      "horowhenua-college\n",
      "our-lady-star-of-the-sea-sumner\n",
      "taradale-intermediate\n",
      "eastern-hutt\n",
      "st-marys-catholic-tauranga\n",
      "windwhistle\n",
      "northcote-college\n",
      "diamond-harbour\n",
      "barton-rural\n",
      "orewa-college\n",
      "ebbett-park\n",
      "shirley-intermediate\n",
      "sumner\n",
      "arrowtown\n",
      "taupaki-school\n",
      "yaldhurst-model\n",
      "nelson-park\n",
      "wellington-high-school\n",
      "redwood-tawa\n",
      "somerfield\n",
      "marewa\n",
      "albany-senior-high-school\n",
      "middleton-grange-school\n",
      "kaingaroa-chatham-islands\n",
      "cheviot-area\n",
      "okaihau-college\n",
      "runanga\n",
      "hutt-valley-high-school\n",
      "our-lady-of-victoriea\n",
      "burnside-high-school\n",
      "hillpark\n",
      "tkkm-o-te-atihaunui-a-paparangi\n",
      "tawa-intermediate\n",
      "auckland-girls-grammar-school\n",
      "broadfield\n",
      "westmere\n",
      "kaikoura-suburban\n",
      "whangaparaoa-college\n",
      "our-lady-of-snows-methven\n",
      "waikato-diocesan\n",
      "warrington-school\n",
      "banks-avenue\n",
      "cobham-intermediate\n",
      "st-patrick’s-bryndwr\n",
      "hobsonville-point-primary-school\n",
      "te-hihi\n",
      "st-patrick’s-kaiapoi\n",
      "springston-school\n",
      "nayland-college\n",
      "elmwood-normal\n",
      "pakuranga-heights-school\n",
      "sacred-heart-catholic\n",
      "eskdale\n"
     ]
    }
   ],
   "source": [
    "for alc in alccs:\n",
    "    print(alc)"
   ]
  },
  {
   "cell_type": "code",
   "execution_count": null,
   "metadata": {
    "collapsed": true
   },
   "outputs": [],
   "source": []
  },
  {
   "cell_type": "code",
   "execution_count": null,
   "metadata": {
    "collapsed": true
   },
   "outputs": [],
   "source": []
  },
  {
   "cell_type": "code",
   "execution_count": null,
   "metadata": {
    "collapsed": true
   },
   "outputs": [],
   "source": []
  },
  {
   "cell_type": "code",
   "execution_count": 19,
   "metadata": {
    "collapsed": false
   },
   "outputs": [],
   "source": [
    "pver = pandas.version"
   ]
  },
  {
   "cell_type": "code",
   "execution_count": 20,
   "metadata": {
    "collapsed": false
   },
   "outputs": [
    {
     "data": {
      "text/plain": [
       "\"<module 'pandas.version' from '/usr/lib/python3/dist-packages/pandas/version.py'>\""
      ]
     },
     "execution_count": 20,
     "metadata": {},
     "output_type": "execute_result"
    }
   ],
   "source": [
    "str(pver)"
   ]
  },
  {
   "cell_type": "code",
   "execution_count": 32,
   "metadata": {
    "collapsed": false
   },
   "outputs": [
    {
     "data": {
      "text/plain": [
       "'2015-09-28'"
      ]
     },
     "execution_count": 32,
     "metadata": {},
     "output_type": "execute_result"
    }
   ],
   "source": [
    "str(arti.date())"
   ]
  },
  {
   "cell_type": "code",
   "execution_count": 33,
   "metadata": {
    "collapsed": false
   },
   "outputs": [
    {
     "data": {
      "text/plain": [
       "'05:22:29.894485'"
      ]
     },
     "execution_count": 33,
     "metadata": {},
     "output_type": "execute_result"
    }
   ],
   "source": [
    "str(arti.time())"
   ]
  },
  {
   "cell_type": "code",
   "execution_count": 37,
   "metadata": {
    "collapsed": false
   },
   "outputs": [
    {
     "name": "stdout",
     "output_type": "stream",
     "text": [
      "te-wharekura-o-maniapoto\n",
      "ardmore\n",
      "shotover-school\n",
      "hobsonville-point-secondary-school\n",
      "south-hornby\n",
      "thorndon\n",
      "leigh-school\n",
      "st-josephs-upper-hutt\n",
      "green-bay\n",
      "oaklands-\n",
      "hampden-street\n",
      "rangiora-borough\n",
      "pegasus-bay\n",
      "te-pa-o-rakaihautu\n",
      "paparoa-street\n",
      "te-one\n",
      "kaikohe-west\n",
      "thorrington\n",
      "grey-lynn\n",
      "ohoka\n",
      "westlake-girls-high-school\n",
      "merrin\n",
      "stonefields-school\n",
      "sylvia-park-school\n",
      "roydvale\n",
      "marlborough-primary\n",
      "ward\n",
      "raphael-house\n",
      "whau-valley\n",
      "taipa-area-school-\n",
      "pukekohe-intermediate\n",
      "ashburton-intermediate\n",
      "onewhero-area\n",
      "rawhiti\n",
      "horowhenua-college\n",
      "our-lady-star-of-the-sea-sumner\n",
      "taradale-intermediate\n",
      "eastern-hutt\n",
      "st-marys-catholic-tauranga\n",
      "windwhistle\n",
      "northcote-college\n",
      "diamond-harbour\n",
      "barton-rural\n",
      "orewa-college\n",
      "ebbett-park\n",
      "shirley-intermediate\n",
      "sumner\n",
      "arrowtown\n",
      "taupaki-school\n",
      "yaldhurst-model\n",
      "nelson-park\n",
      "wellington-high-school\n",
      "redwood-tawa\n",
      "somerfield\n",
      "marewa\n",
      "albany-senior-high-school\n",
      "middleton-grange-school\n",
      "kaingaroa-chatham-islands\n",
      "cheviot-area\n",
      "okaihau-college\n",
      "runanga\n",
      "hutt-valley-high-school\n",
      "our-lady-of-victoriea\n",
      "burnside-high-school\n",
      "hillpark\n",
      "tkkm-o-te-atihaunui-a-paparangi\n",
      "tawa-intermediate\n",
      "auckland-girls-grammar-school\n",
      "broadfield\n",
      "westmere\n",
      "kaikoura-suburban\n",
      "whangaparaoa-college\n",
      "our-lady-of-snows-methven\n",
      "waikato-diocesan\n",
      "warrington-school\n",
      "banks-avenue\n",
      "cobham-intermediate\n",
      "st-patrick’s-bryndwr\n",
      "hobsonville-point-primary-school\n",
      "te-hihi\n",
      "st-patrick’s-kaiapoi\n",
      "springston-school\n",
      "nayland-college\n",
      "elmwood-normal\n",
      "pakuranga-heights-school\n",
      "sacred-heart-catholic\n",
      "eskdale\n"
     ]
    }
   ],
   "source": [
    "for alc in alccs:\n",
    "    print(alc)\n",
    "    oprsf = open('/home/wcmckee/ccschol/' + alc + '/posts/test.rst', 'w')\n",
    "    oprsf.write('Hello ' + alc)\n",
    "    oprsf.close()\n",
    "    \n",
    "    opmet = open('/home/wcmckee/ccschol/' + alc + '/posts/test.meta', 'w')\n",
    "    \n",
    "    opmet.write(alc + '\\n' + alc + '\\n' + str(arti.date()) + ' ' + str(arti.time()))\n",
    "    opmet.close()"
   ]
  },
  {
   "cell_type": "code",
   "execution_count": 38,
   "metadata": {
    "collapsed": false
   },
   "outputs": [
    {
     "name": "stdout",
     "output_type": "stream",
     "text": [
      "te-wharekura-o-maniapoto\n",
      "ardmore\n",
      "shotover-school\n",
      "hobsonville-point-secondary-school\n",
      "south-hornby\n",
      "thorndon\n",
      "leigh-school\n",
      "st-josephs-upper-hutt\n",
      "green-bay\n",
      "oaklands-\n",
      "hampden-street\n",
      "rangiora-borough\n",
      "pegasus-bay\n",
      "te-pa-o-rakaihautu\n",
      "paparoa-street\n",
      "te-one\n",
      "kaikohe-west\n",
      "thorrington\n",
      "grey-lynn\n",
      "ohoka\n",
      "westlake-girls-high-school\n",
      "merrin\n",
      "stonefields-school\n",
      "sylvia-park-school\n",
      "roydvale\n",
      "marlborough-primary\n",
      "ward\n",
      "raphael-house\n",
      "whau-valley\n",
      "taipa-area-school-\n",
      "pukekohe-intermediate\n",
      "ashburton-intermediate\n",
      "onewhero-area\n",
      "rawhiti\n",
      "horowhenua-college\n",
      "our-lady-star-of-the-sea-sumner\n",
      "taradale-intermediate\n",
      "eastern-hutt\n",
      "st-marys-catholic-tauranga\n",
      "windwhistle\n",
      "northcote-college\n",
      "diamond-harbour\n",
      "barton-rural\n",
      "orewa-college\n",
      "ebbett-park\n",
      "shirley-intermediate\n",
      "sumner\n",
      "arrowtown\n",
      "taupaki-school\n",
      "yaldhurst-model\n",
      "nelson-park\n",
      "wellington-high-school\n",
      "redwood-tawa\n",
      "somerfield\n",
      "marewa\n",
      "albany-senior-high-school\n",
      "middleton-grange-school\n",
      "kaingaroa-chatham-islands\n",
      "cheviot-area\n",
      "okaihau-college\n",
      "runanga\n",
      "hutt-valley-high-school\n",
      "our-lady-of-victoriea\n",
      "burnside-high-school\n",
      "hillpark\n",
      "tkkm-o-te-atihaunui-a-paparangi\n",
      "tawa-intermediate\n",
      "auckland-girls-grammar-school\n",
      "broadfield\n",
      "westmere\n",
      "kaikoura-suburban\n",
      "whangaparaoa-college\n",
      "our-lady-of-snows-methven\n",
      "waikato-diocesan\n",
      "warrington-school\n",
      "banks-avenue\n",
      "cobham-intermediate\n",
      "st-patrick’s-bryndwr\n",
      "hobsonville-point-primary-school\n",
      "te-hihi\n",
      "st-patrick’s-kaiapoi\n",
      "springston-school\n",
      "nayland-college\n",
      "elmwood-normal\n",
      "pakuranga-heights-school\n",
      "sacred-heart-catholic\n",
      "eskdale\n"
     ]
    }
   ],
   "source": [
    "for alc in alccs:\n",
    "    print(alc)\n",
    "    os.chdir('/home/wcmckee/ccschol/' + alc)\n",
    "    os.system('nikola build')\n",
    "    "
   ]
  },
  {
   "cell_type": "code",
   "execution_count": null,
   "metadata": {
    "collapsed": true
   },
   "outputs": [],
   "source": []
  },
  {
   "cell_type": "code",
   "execution_count": null,
   "metadata": {
    "collapsed": true
   },
   "outputs": [],
   "source": []
  },
  {
   "cell_type": "code",
   "execution_count": null,
   "metadata": {
    "collapsed": true
   },
   "outputs": [],
   "source": []
  },
  {
   "cell_type": "code",
   "execution_count": null,
   "metadata": {
    "collapsed": true
   },
   "outputs": [],
   "source": []
  }
 ],
 "metadata": {
  "kernelspec": {
   "display_name": "Python 3",
   "language": "python",
   "name": "python3"
  },
  "language_info": {
   "codemirror_mode": {
    "name": "ipython",
    "version": 3
   },
   "file_extension": ".py",
   "mimetype": "text/x-python",
   "name": "python",
   "nbconvert_exporter": "python",
   "pygments_lexer": "ipython3",
   "version": "3.4.2"
  }
 },
 "nbformat": 4,
 "nbformat_minor": 0
}
