{
 "cells": [
  {
   "cell_type": "markdown",
   "metadata": {},
   "source": [
    "<h1>lcacoffee</h1>\n",
    "\n",
    "script that displays coffees sold by hour at lca2015.\n",
    "Currently it opens a .json file and converts it into a python dict.\n",
    "\n",
    "It's missing monday data. \n",
    "\n",
    "sale by hour is: key - the hour (24hr). Value is total paid sales (people who ran out of vouchers). Number in brackets is total number of coffees sold.\n",
    "\n",
    "Number in brackets - Number not in brackets = amount of coffees sold with vouchers. \n",
    "\n",
    "Each sale[day].json file contains a json objects. Important keys/values are:\n",
    "\n",
    "Product : cappuccino/flat white etc...\n",
    "\n",
    "Tags : These are taged with coffee followed by ; and if its free ;.\n",
    "\n",
    "count : amount of these coffees sold. \n",
    "\n",
    "SKU : ? guess its a ID?\n",
    "\n",
    "Sales ($) : Amount of dollars from selling coffee \n",
    "\n",
    "Tax ($) : Amount of tax paid from selling the coffee \n",
    "\n",
    "Revenue : This is Sales + Tax\n",
    "\n",
    "Costs ($) : Cost to make the coffees.\n",
    "\n",
    "Revenue ($) : Amount of revenue made from selling the coffee\n",
    "\n",
    "Margin ($) : Percent of money made from selling coffee. \n",
    "\n",
    "There are other keys but the value of them is empty. No point dealing with them. \n",
    "\n",
    "Open up all the sale[day].json files and create a all salesfile. Append all together. \n",
    "\n"
   ]
  },
  {
   "cell_type": "code",
   "execution_count": 80,
   "metadata": {
    "collapsed": false
   },
   "outputs": [],
   "source": [
    "import json\n",
    "import os\n",
    "import pandas\n",
    "import getpass"
   ]
  },
  {
   "cell_type": "code",
   "execution_count": 81,
   "metadata": {
    "collapsed": true
   },
   "outputs": [],
   "source": [
    "theuser = getpass.getuser()"
   ]
  },
  {
   "cell_type": "markdown",
   "metadata": {},
   "source": [
    "Need to open all the sale[day].json files and append data."
   ]
  },
  {
   "cell_type": "code",
   "execution_count": 117,
   "metadata": {
    "collapsed": false
   },
   "outputs": [],
   "source": [
    "jsonfold = ('/home/' + theuser + '/github/lcacoffee/')\n",
    "alldata = ('salebyhour.json')\n",
    "tueda = ('saletues.json')\n",
    "weda = ('saleweds.json')\n",
    "thura = ('salethurs.json')\n",
    "fria = ('salefri.json')\n",
    "salhr = (jsonfold + alldata)\n",
    "salajs = ('/home/wcmckee/cofres/salesall.json')"
   ]
  },
  {
   "cell_type": "code",
   "execution_count": 83,
   "metadata": {
    "collapsed": true
   },
   "outputs": [],
   "source": [
    "lisz = [tueda, weda, thura, fria]\n",
    "opaz = open('/home/wcmckee/cofres/salesall.json', 'w')\n",
    "\n",
    "filza = ('/home/' + theuser + '/github/lcacoffee/' + lis)"
   ]
  },
  {
   "cell_type": "code",
   "execution_count": 118,
   "metadata": {
    "collapsed": false
   },
   "outputs": [
    {
     "name": "stdout",
     "output_type": "stream",
     "text": [
      "/home/wcmckee/github/lcacoffee/saletues.json\n",
      "/home/wcmckee/github/lcacoffee/saleweds.json\n",
      "/home/wcmckee/github/lcacoffee/salethurs.json\n",
      "/home/wcmckee/github/lcacoffee/salefri.json\n"
     ]
    }
   ],
   "source": [
    "for lis in lisz:\n",
    "    opaz = open(salajs, 'a')\n",
    "    print ('/home/' + theuser + '/github/lcacoffee/' + lis)\n",
    "    opdayz = open(filza, 'r')\n",
    "    opaz.write(str(opdayz.read()))\n",
    "    opaz.close()\n",
    "    opdayz.close()\n"
   ]
  },
  {
   "cell_type": "code",
   "execution_count": 85,
   "metadata": {
    "collapsed": true
   },
   "outputs": [],
   "source": [
    "opaz.close()"
   ]
  },
  {
   "cell_type": "code",
   "execution_count": 119,
   "metadata": {
    "collapsed": true
   },
   "outputs": [],
   "source": [
    "opzall = open(salajs, 'r')"
   ]
  },
  {
   "cell_type": "markdown",
   "metadata": {},
   "source": [
    "The daysales appended into the allsales file are in fact lists. \n",
    "\n",
    "Options include removing the lists and turning it all into one big json object\n",
    "\n",
    "Appending all the data into one day. \n",
    " \n",
    "eg: Product: \"cappuccino\" Count: 450 (total of week).\n",
    "\n",
    "File needs steriozie removing the \\n"
   ]
  },
  {
   "cell_type": "code",
   "execution_count": 120,
   "metadata": {
    "collapsed": false
   },
   "outputs": [
    {
     "data": {
      "text/plain": [
       "'[\\r\\n  {\\r\\n    \"Outlet\":\"LCA\",\\r\\n    \"Product\":\"Cappuccino\",\\r\\n    \"SKU\": 10001,\\r\\n    \"Brand\":\" \",\\r\\n    \"Supplier\":\" \",\\r\\n    \"Type\":\" \",\\r\\n    \"Tags\":\" coffee\",\\r\\n    \"Supplier Code\":\" \",\\r\\n    \"Count\": 13,\\r\\n    \"Sales ($)\": 45.2173800000,\\r\\n    \"Tax ($)\": 6.7826200000,\\r\\n    \"Sales incl. tax ($)\": 52.00,\\r\\n    \"Discount ($)\": 0,\\r\\n    \"Cost ($)\": 13.0000000000,\\r\\n    \"Revenue ($)\": 32.2173800000,\\r\\n    \"Margin (%)\": 71.24\\r\\n  },\\r\\n  {\\r\\n    \"Outlet\":\"\",\\r\\n    \"Product\":\"Cappuccino FREE\",\\r\\n    \"SKU\": 10009,\\r\\n    \"Brand\":\" \",\\r\\n    \"Supplier\":\" \",\\r\\n    \"Type\":\" \",\\r\\n    \"Tags\":\" coffee; free\",\\r\\n    \"Supplier Code\":\" \",\\r\\n    \"Count\": 63,\\r\\n    \"Sales ($)\": 0.0000000000,\\r\\n    \"Tax ($)\": 0.0000000000,\\r\\n    \"Sales incl. tax ($)\": 0.00,\\r\\n    \"Discount ($)\": 0,\\r\\n    \"Cost ($)\": 0.0000000000,\\r\\n    \"Revenue ($)\": 0.0000000000,\\r\\n    \"Margin (%)\": 0.00\\r\\n  },\\r\\n  {\\r\\n    \"Outlet\":\"\",\\r\\n    \"Product\":\"Chai Latte\",\\r\\n    \"SKU\": 10003,\\r\\n    \"Brand\":\" \",\\r\\n    \"Supplier\":\" \",\\r\\n    \"Type\":\" \",\\r\\n    \"Tags\":\" coffee\",\\r\\n    \"Supplier Code\":\" \",\\r\\n    \"Count\": 1,\\r\\n    \"Sales ($)\": 3.4782600000,\\r\\n    \"Tax ($)\": 0.5217400000,\\r\\n    \"Sales incl. tax ($)\": 4.00,\\r\\n    \"Discount ($)\": 0,\\r\\n    \"Cost ($)\": 1.0000000000,\\r\\n    \"Revenue ($)\": 2.4782600000,\\r\\n    \"Margin (%)\": 71.24\\r\\n  },\\r\\n  {\\r\\n    \"Outlet\":\"\",\\r\\n    \"Product\":\"Chai Latte FREE\",\\r\\n    \"SKU\": 10010,\\r\\n    \"Brand\":\" \",\\r\\n    \"Supplier\":\" \",\\r\\n    \"Type\":\" \",\\r\\n    \"Tags\":\" coffee; free\",\\r\\n    \"Supplier Code\":\" \",\\r\\n    \"Count\": 9,\\r\\n    \"Sales ($)\": 0.0000000000,\\r\\n    \"Tax ($)\": 0.0000000000,\\r\\n    \"Sales incl. tax ($)\": 0.00,\\r\\n    \"Discount ($)\": 0,\\r\\n    \"Cost ($)\": 0.0000000000,\\r\\n    \"Revenue ($)\": 0.0000000000,\\r\\n    \"Margin (%)\": 0.00\\r\\n  },\\r\\n  {\\r\\n    \"Outlet\":\"\",\\r\\n    \"Product\":\"Espresso FREE\",\\r\\n    \"SKU\": 10032,\\r\\n    \"Brand\":\" \",\\r\\n    \"Supplier\":\" \",\\r\\n    \"Type\":\" \",\\r\\n    \"Tags\":\" \",\\r\\n    \"Supplier Code\":\" \",\\r\\n    \"Count\": 14,\\r\\n    \"Sales ($)\": 0.0000000000,\\r\\n    \"Tax ($)\": 0.0000000000,\\r\\n    \"Sales incl. tax ($)\": 0.00,\\r\\n    \"Discount ($)\": 0,\\r\\n    \"Cost ($)\": 0.0000000000,\\r\\n    \"Revenue ($)\": 0.0000000000,\\r\\n    \"Margin (%)\": 0.00\\r\\n  },\\r\\n  {\\r\\n    \"Outlet\":\"\",\\r\\n    \"Product\":\"Flat White\",\\r\\n    \"SKU\": 10000,\\r\\n    \"Brand\":\" \",\\r\\n    \"Supplier\":\" \",\\r\\n    \"Type\":\" \",\\r\\n    \"Tags\":\" coffee\",\\r\\n    \"Supplier Code\":\" \",\\r\\n    \"Count\": 57,\\r\\n    \"Sales ($)\": 198.2608200000,\\r\\n    \"Tax ($)\": 29.7391800000,\\r\\n    \"Sales incl. tax ($)\": 228.00,\\r\\n    \"Discount ($)\": 0,\\r\\n    \"Cost ($)\": 57.0000000000,\\r\\n    \"Revenue ($)\": 141.2608200000,\\r\\n    \"Margin (%)\": 71.24\\r\\n  },\\r\\n  {\\r\\n    \"Outlet\":\"\",\\r\\n    \"Product\":\"Flat White FREE\",\\r\\n    \"SKU\": 10011,\\r\\n    \"Brand\":\" \",\\r\\n    \"Supplier\":\" \",\\r\\n    \"Type\":\" \",\\r\\n    \"Tags\":\" coffee; free\",\\r\\n    \"Supplier Code\":\" \",\\r\\n    \"Count\": 249,\\r\\n    \"Sales ($)\": 0.0000000000,\\r\\n    \"Tax ($)\": 0.0000000000,\\r\\n    \"Sales incl. tax ($)\": 0.00,\\r\\n    \"Discount ($)\": 0,\\r\\n    \"Cost ($)\": 0.0000000000,\\r\\n    \"Revenue ($)\": 0.0000000000,\\r\\n    \"Margin (%)\": 0.00\\r\\n  },\\r\\n  {\\r\\n    \"Outlet\":\"\",\\r\\n    \"Product\":\"Hot Chocolate\",\\r\\n    \"SKU\": 10005,\\r\\n    \"Brand\":\" \",\\r\\n    \"Supplier\":\" \",\\r\\n    \"Type\":\" \",\\r\\n    \"Tags\":\" coffee\",\\r\\n    \"Supplier Code\":\" \",\\r\\n    \"Count\": 7,\\r\\n    \"Sales ($)\": 24.3478200000,\\r\\n    \"Tax ($)\": 3.6521800000,\\r\\n    \"Sales incl. tax ($)\": 28.00,\\r\\n    \"Discount ($)\": 0,\\r\\n    \"Cost ($)\": 7.0000000000,\\r\\n    \"Revenue ($)\": 17.3478200000,\\r\\n    \"Margin (%)\": 71.24\\r\\n  },\\r\\n  {\\r\\n    \"Outlet\":\"\",\\r\\n    \"Product\":\"Hot Chocolate FREE\",\\r\\n    \"SKU\": 10012,\\r\\n    \"Brand\":\" \",\\r\\n    \"Supplier\":\" \",\\r\\n    \"Type\":\" \",\\r\\n    \"Tags\":\" coffee; free\",\\r\\n    \"Supplier Code\":\" \",\\r\\n    \"Count\": 121,\\r\\n    \"Sales ($)\": 0.0000000000,\\r\\n    \"Tax ($)\": 0.0000000000,\\r\\n    \"Sales incl. tax ($)\": 0.00,\\r\\n    \"Discount ($)\": 0,\\r\\n    \"Cost ($)\": 0.0000000000,\\r\\n    \"Revenue ($)\": 0.0000000000,\\r\\n    \"Margin (%)\": 0.00\\r\\n  },\\r\\n  {\\r\\n    \"Outlet\":\"\",\\r\\n    \"Product\":\"Long Black\",\\r\\n    \"SKU\": 10006,\\r\\n    \"Brand\":\" \",\\r\\n    \"Supplier\":\" \",\\r\\n    \"Type\":\" \",\\r\\n    \"Tags\":\" coffee\",\\r\\n    \"Supplier Code\":\" \",\\r\\n    \"Count\": 25,\\r\\n    \"Sales ($)\": 86.9565000000,\\r\\n    \"Tax ($)\": 13.0435000000,\\r\\n    \"Sales incl. tax ($)\": 100.00,\\r\\n    \"Discount ($)\": 0,\\r\\n    \"Cost ($)\": 25.0000000000,\\r\\n    \"Revenue ($)\": 61.9565000000,\\r\\n    \"Margin (%)\": 71.24\\r\\n  },\\r\\n  {\\r\\n    \"Outlet\":\"\",\\r\\n    \"Product\":\"Long Black FREE\",\\r\\n    \"SKU\": 10014,\\r\\n    \"Brand\":\" \",\\r\\n    \"Supplier\":\" \",\\r\\n    \"Type\":\" \",\\r\\n    \"Tags\":\" coffee; free\",\\r\\n    \"Supplier Code\":\" \",\\r\\n    \"Count\": 62,\\r\\n    \"Sales ($)\": 0.0000000000,\\r\\n    \"Tax ($)\": 0.0000000000,\\r\\n    \"Sales incl. tax ($)\": 0.00,\\r\\n    \"Discount ($)\": 0,\\r\\n    \"Cost ($)\": 0.0000000000,\\r\\n    \"Revenue ($)\": 0.0000000000,\\r\\n    \"Margin (%)\": 0.00\\r\\n  },\\r\\n  {\\r\\n    \"Outlet\":\"\",\\r\\n    \"Product\":\"Mocha\",\\r\\n    \"SKU\": 10004,\\r\\n    \"Brand\":\" \",\\r\\n    \"Supplier\":\" \",\\r\\n    \"Type\":\" \",\\r\\n    \"Tags\":\" coffee\",\\r\\n    \"Supplier Code\":\" \",\\r\\n    \"Count\": 13,\\r\\n    \"Sales ($)\": 45.2173800000,\\r\\n    \"Tax ($)\": 6.7826200000,\\r\\n    \"Sales incl. tax ($)\": 52.00,\\r\\n    \"Discount ($)\": 0,\\r\\n    \"Cost ($)\": 13.0000000000,\\r\\n    \"Revenue ($)\": 32.2173800000,\\r\\n    \"Margin (%)\": 71.24\\r\\n  },\\r\\n  {\\r\\n    \"Outlet\":\"\",\\r\\n    \"Product\":\"Mocha FREE\",\\r\\n    \"SKU\": 10015,\\r\\n    \"Brand\":\" \",\\r\\n    \"Supplier\":\" \",\\r\\n    \"Type\":\" \",\\r\\n    \"Tags\":\" coffee; free\",\\r\\n    \"Supplier Code\":\" \",\\r\\n    \"Count\": 81,\\r\\n    \"Sales ($)\": 0.0000000000,\\r\\n    \"Tax ($)\": 0.0000000000,\\r\\n    \"Sales incl. tax ($)\": 0.00,\\r\\n    \"Discount ($)\": 0,\\r\\n    \"Cost ($)\": 0.0000000000,\\r\\n    \"Revenue ($)\": 0.0000000000,\\r\\n    \"Margin (%)\": 0.00\\r\\n  },\\r\\n  {\\r\\n    \"Outlet\":\"\",\\r\\n    \"Product\":\"Total\",\\r\\n    \"SKU\":null,\\r\\n    \"Brand\":\"\",\\r\\n    \"Supplier\":\"\",\\r\\n    \"Type\":\"\",\\r\\n    \"Tags\":\"\",\\r\\n    \"Supplier Code\":\"\",\\r\\n    \"Count\":715.00,\\r\\n    \"Sales ($)\": 403.44,\\r\\n    \"Tax ($)\": 60.50,\\r\\n    \"Sales incl. tax ($)\": 463.94,\\r\\n    \"Discount ($)\": 0.00,\\r\\n    \"Cost ($)\": 116.00,\\r\\n    \"Revenue ($)\": 287.44,\\r\\n    \"Margin (%)\": 71.24727\\r\\n  },\\r\\n  {\\r\\n    \"Outlet\":\"\",\\r\\n    \"Product\":\"Grand Total\",\\r\\n    \"SKU\":null,\\r\\n    \"Brand\":\"\",\\r\\n    \"Supplier\":\"\",\\r\\n    \"Type\":\"\",\\r\\n    \"Tags\":\"\",\\r\\n    \"Supplier Code\":\"\",\\r\\n    \"Count\":715.00,\\r\\n    \"Sales ($)\": 403.44,\\r\\n    \"Tax ($)\": 60.50,\\r\\n    \"Sales incl. tax ($)\": 463.94,\\r\\n    \"Discount ($)\": 0.00,\\r\\n    \"Cost ($)\": 116.00,\\r\\n    \"Revenue ($)\": 287.44,\\r\\n    \"Margin (%)\": 71.24727\\r\\n  }\\r\\n][\\r\\n  {\\r\\n    \"Outlet\":\"LCA\",\\r\\n    \"Product\":\"Cappuccino\",\\r\\n    \"SKU\": 10001,\\r\\n    \"Brand\":\" \",\\r\\n    \"Supplier\":\" \",\\r\\n    \"Type\":\" \",\\r\\n    \"Tags\":\" coffee\",\\r\\n    \"Supplier Code\":\" \",\\r\\n    \"Count\": 13,\\r\\n    \"Sales ($)\": 45.2173800000,\\r\\n    \"Tax ($)\": 6.7826200000,\\r\\n    \"Sales incl. tax ($)\": 52.00,\\r\\n    \"Discount ($)\": 0,\\r\\n    \"Cost ($)\": 13.0000000000,\\r\\n    \"Revenue ($)\": 32.2173800000,\\r\\n    \"Margin (%)\": 71.24\\r\\n  },\\r\\n  {\\r\\n    \"Outlet\":\"\",\\r\\n    \"Product\":\"Cappuccino FREE\",\\r\\n    \"SKU\": 10009,\\r\\n    \"Brand\":\" \",\\r\\n    \"Supplier\":\" \",\\r\\n    \"Type\":\" \",\\r\\n    \"Tags\":\" coffee; free\",\\r\\n    \"Supplier Code\":\" \",\\r\\n    \"Count\": 63,\\r\\n    \"Sales ($)\": 0.0000000000,\\r\\n    \"Tax ($)\": 0.0000000000,\\r\\n    \"Sales incl. tax ($)\": 0.00,\\r\\n    \"Discount ($)\": 0,\\r\\n    \"Cost ($)\": 0.0000000000,\\r\\n    \"Revenue ($)\": 0.0000000000,\\r\\n    \"Margin (%)\": 0.00\\r\\n  },\\r\\n  {\\r\\n    \"Outlet\":\"\",\\r\\n    \"Product\":\"Chai Latte\",\\r\\n    \"SKU\": 10003,\\r\\n    \"Brand\":\" \",\\r\\n    \"Supplier\":\" \",\\r\\n    \"Type\":\" \",\\r\\n    \"Tags\":\" coffee\",\\r\\n    \"Supplier Code\":\" \",\\r\\n    \"Count\": 1,\\r\\n    \"Sales ($)\": 3.4782600000,\\r\\n    \"Tax ($)\": 0.5217400000,\\r\\n    \"Sales incl. tax ($)\": 4.00,\\r\\n    \"Discount ($)\": 0,\\r\\n    \"Cost ($)\": 1.0000000000,\\r\\n    \"Revenue ($)\": 2.4782600000,\\r\\n    \"Margin (%)\": 71.24\\r\\n  },\\r\\n  {\\r\\n    \"Outlet\":\"\",\\r\\n    \"Product\":\"Chai Latte FREE\",\\r\\n    \"SKU\": 10010,\\r\\n    \"Brand\":\" \",\\r\\n    \"Supplier\":\" \",\\r\\n    \"Type\":\" \",\\r\\n    \"Tags\":\" coffee; free\",\\r\\n    \"Supplier Code\":\" \",\\r\\n    \"Count\": 9,\\r\\n    \"Sales ($)\": 0.0000000000,\\r\\n    \"Tax ($)\": 0.0000000000,\\r\\n    \"Sales incl. tax ($)\": 0.00,\\r\\n    \"Discount ($)\": 0,\\r\\n    \"Cost ($)\": 0.0000000000,\\r\\n    \"Revenue ($)\": 0.0000000000,\\r\\n    \"Margin (%)\": 0.00\\r\\n  },\\r\\n  {\\r\\n    \"Outlet\":\"\",\\r\\n    \"Product\":\"Espresso FREE\",\\r\\n    \"SKU\": 10032,\\r\\n    \"Brand\":\" \",\\r\\n    \"Supplier\":\" \",\\r\\n    \"Type\":\" \",\\r\\n    \"Tags\":\" \",\\r\\n    \"Supplier Code\":\" \",\\r\\n    \"Count\": 14,\\r\\n    \"Sales ($)\": 0.0000000000,\\r\\n    \"Tax ($)\": 0.0000000000,\\r\\n    \"Sales incl. tax ($)\": 0.00,\\r\\n    \"Discount ($)\": 0,\\r\\n    \"Cost ($)\": 0.0000000000,\\r\\n    \"Revenue ($)\": 0.0000000000,\\r\\n    \"Margin (%)\": 0.00\\r\\n  },\\r\\n  {\\r\\n    \"Outlet\":\"\",\\r\\n    \"Product\":\"Flat White\",\\r\\n    \"SKU\": 10000,\\r\\n    \"Brand\":\" \",\\r\\n    \"Supplier\":\" \",\\r\\n    \"Type\":\" \",\\r\\n    \"Tags\":\" coffee\",\\r\\n    \"Supplier Code\":\" \",\\r\\n    \"Count\": 57,\\r\\n    \"Sales ($)\": 198.2608200000,\\r\\n    \"Tax ($)\": 29.7391800000,\\r\\n    \"Sales incl. tax ($)\": 228.00,\\r\\n    \"Discount ($)\": 0,\\r\\n    \"Cost ($)\": 57.0000000000,\\r\\n    \"Revenue ($)\": 141.2608200000,\\r\\n    \"Margin (%)\": 71.24\\r\\n  },\\r\\n  {\\r\\n    \"Outlet\":\"\",\\r\\n    \"Product\":\"Flat White FREE\",\\r\\n    \"SKU\": 10011,\\r\\n    \"Brand\":\" \",\\r\\n    \"Supplier\":\" \",\\r\\n    \"Type\":\" \",\\r\\n    \"Tags\":\" coffee; free\",\\r\\n    \"Supplier Code\":\" \",\\r\\n    \"Count\": 249,\\r\\n    \"Sales ($)\": 0.0000000000,\\r\\n    \"Tax ($)\": 0.0000000000,\\r\\n    \"Sales incl. tax ($)\": 0.00,\\r\\n    \"Discount ($)\": 0,\\r\\n    \"Cost ($)\": 0.0000000000,\\r\\n    \"Revenue ($)\": 0.0000000000,\\r\\n    \"Margin (%)\": 0.00\\r\\n  },\\r\\n  {\\r\\n    \"Outlet\":\"\",\\r\\n    \"Product\":\"Hot Chocolate\",\\r\\n    \"SKU\": 10005,\\r\\n    \"Brand\":\" \",\\r\\n    \"Supplier\":\" \",\\r\\n    \"Type\":\" \",\\r\\n    \"Tags\":\" coffee\",\\r\\n    \"Supplier Code\":\" \",\\r\\n    \"Count\": 7,\\r\\n    \"Sales ($)\": 24.3478200000,\\r\\n    \"Tax ($)\": 3.6521800000,\\r\\n    \"Sales incl. tax ($)\": 28.00,\\r\\n    \"Discount ($)\": 0,\\r\\n    \"Cost ($)\": 7.0000000000,\\r\\n    \"Revenue ($)\": 17.3478200000,\\r\\n    \"Margin (%)\": 71.24\\r\\n  },\\r\\n  {\\r\\n    \"Outlet\":\"\",\\r\\n    \"Product\":\"Hot Chocolate FREE\",\\r\\n    \"SKU\": 10012,\\r\\n    \"Brand\":\" \",\\r\\n    \"Supplier\":\" \",\\r\\n    \"Type\":\" \",\\r\\n    \"Tags\":\" coffee; free\",\\r\\n    \"Supplier Code\":\" \",\\r\\n    \"Count\": 121,\\r\\n    \"Sales ($)\": 0.0000000000,\\r\\n    \"Tax ($)\": 0.0000000000,\\r\\n    \"Sales incl. tax ($)\": 0.00,\\r\\n    \"Discount ($)\": 0,\\r\\n    \"Cost ($)\": 0.0000000000,\\r\\n    \"Revenue ($)\": 0.0000000000,\\r\\n    \"Margin (%)\": 0.00\\r\\n  },\\r\\n  {\\r\\n    \"Outlet\":\"\",\\r\\n    \"Product\":\"Long Black\",\\r\\n    \"SKU\": 10006,\\r\\n    \"Brand\":\" \",\\r\\n    \"Supplier\":\" \",\\r\\n    \"Type\":\" \",\\r\\n    \"Tags\":\" coffee\",\\r\\n    \"Supplier Code\":\" \",\\r\\n    \"Count\": 25,\\r\\n    \"Sales ($)\": 86.9565000000,\\r\\n    \"Tax ($)\": 13.0435000000,\\r\\n    \"Sales incl. tax ($)\": 100.00,\\r\\n    \"Discount ($)\": 0,\\r\\n    \"Cost ($)\": 25.0000000000,\\r\\n    \"Revenue ($)\": 61.9565000000,\\r\\n    \"Margin (%)\": 71.24\\r\\n  },\\r\\n  {\\r\\n    \"Outlet\":\"\",\\r\\n    \"Product\":\"Long Black FREE\",\\r\\n    \"SKU\": 10014,\\r\\n    \"Brand\":\" \",\\r\\n    \"Supplier\":\" \",\\r\\n    \"Type\":\" \",\\r\\n    \"Tags\":\" coffee; free\",\\r\\n    \"Supplier Code\":\" \",\\r\\n    \"Count\": 62,\\r\\n    \"Sales ($)\": 0.0000000000,\\r\\n    \"Tax ($)\": 0.0000000000,\\r\\n    \"Sales incl. tax ($)\": 0.00,\\r\\n    \"Discount ($)\": 0,\\r\\n    \"Cost ($)\": 0.0000000000,\\r\\n    \"Revenue ($)\": 0.0000000000,\\r\\n    \"Margin (%)\": 0.00\\r\\n  },\\r\\n  {\\r\\n    \"Outlet\":\"\",\\r\\n    \"Product\":\"Mocha\",\\r\\n    \"SKU\": 10004,\\r\\n    \"Brand\":\" \",\\r\\n    \"Supplier\":\" \",\\r\\n    \"Type\":\" \",\\r\\n    \"Tags\":\" coffee\",\\r\\n    \"Supplier Code\":\" \",\\r\\n    \"Count\": 13,\\r\\n    \"Sales ($)\": 45.2173800000,\\r\\n    \"Tax ($)\": 6.7826200000,\\r\\n    \"Sales incl. tax ($)\": 52.00,\\r\\n    \"Discount ($)\": 0,\\r\\n    \"Cost ($)\": 13.0000000000,\\r\\n    \"Revenue ($)\": 32.2173800000,\\r\\n    \"Margin (%)\": 71.24\\r\\n  },\\r\\n  {\\r\\n    \"Outlet\":\"\",\\r\\n    \"Product\":\"Mocha FREE\",\\r\\n    \"SKU\": 10015,\\r\\n    \"Brand\":\" \",\\r\\n    \"Supplier\":\" \",\\r\\n    \"Type\":\" \",\\r\\n    \"Tags\":\" coffee; free\",\\r\\n    \"Supplier Code\":\" \",\\r\\n    \"Count\": 81,\\r\\n    \"Sales ($)\": 0.0000000000,\\r\\n    \"Tax ($)\": 0.0000000000,\\r\\n    \"Sales incl. tax ($)\": 0.00,\\r\\n    \"Discount ($)\": 0,\\r\\n    \"Cost ($)\": 0.0000000000,\\r\\n    \"Revenue ($)\": 0.0000000000,\\r\\n    \"Margin (%)\": 0.00\\r\\n  },\\r\\n  {\\r\\n    \"Outlet\":\"\",\\r\\n    \"Product\":\"Total\",\\r\\n    \"SKU\":null,\\r\\n    \"Brand\":\"\",\\r\\n    \"Supplier\":\"\",\\r\\n    \"Type\":\"\",\\r\\n    \"Tags\":\"\",\\r\\n    \"Supplier Code\":\"\",\\r\\n    \"Count\":715.00,\\r\\n    \"Sales ($)\": 403.44,\\r\\n    \"Tax ($)\": 60.50,\\r\\n    \"Sales incl. tax ($)\": 463.94,\\r\\n    \"Discount ($)\": 0.00,\\r\\n    \"Cost ($)\": 116.00,\\r\\n    \"Revenue ($)\": 287.44,\\r\\n    \"Margin (%)\": 71.24727\\r\\n  },\\r\\n  {\\r\\n    \"Outlet\":\"\",\\r\\n    \"Product\":\"Grand Total\",\\r\\n    \"SKU\":null,\\r\\n    \"Brand\":\"\",\\r\\n    \"Supplier\":\"\",\\r\\n    \"Type\":\"\",\\r\\n    \"Tags\":\"\",\\r\\n    \"Supplier Code\":\"\",\\r\\n    \"Count\":715.00,\\r\\n    \"Sales ($)\": 403.44,\\r\\n    \"Tax ($)\": 60.50,\\r\\n    \"Sales incl. tax ($)\": 463.94,\\r\\n    \"Discount ($)\": 0.00,\\r\\n    \"Cost ($)\": 116.00,\\r\\n    \"Revenue ($)\": 287.44,\\r\\n    \"Margin (%)\": 71.24727\\r\\n  }\\r\\n][\\r\\n  {\\r\\n    \"Outlet\":\"LCA\",\\r\\n    \"Product\":\"Cappuccino\",\\r\\n    \"SKU\": 10001,\\r\\n    \"Brand\":\" \",\\r\\n    \"Supplier\":\" \",\\r\\n    \"Type\":\" \",\\r\\n    \"Tags\":\" coffee\",\\r\\n    \"Supplier Code\":\" \",\\r\\n    \"Count\": 13,\\r\\n    \"Sales ($)\": 45.2173800000,\\r\\n    \"Tax ($)\": 6.7826200000,\\r\\n    \"Sales incl. tax ($)\": 52.00,\\r\\n    \"Discount ($)\": 0,\\r\\n    \"Cost ($)\": 13.0000000000,\\r\\n    \"Revenue ($)\": 32.2173800000,\\r\\n    \"Margin (%)\": 71.24\\r\\n  },\\r\\n  {\\r\\n    \"Outlet\":\"\",\\r\\n    \"Product\":\"Cappuccino FREE\",\\r\\n    \"SKU\": 10009,\\r\\n    \"Brand\":\" \",\\r\\n    \"Supplier\":\" \",\\r\\n    \"Type\":\" \",\\r\\n    \"Tags\":\" coffee; free\",\\r\\n    \"Supplier Code\":\" \",\\r\\n    \"Count\": 63,\\r\\n    \"Sales ($)\": 0.0000000000,\\r\\n    \"Tax ($)\": 0.0000000000,\\r\\n    \"Sales incl. tax ($)\": 0.00,\\r\\n    \"Discount ($)\": 0,\\r\\n    \"Cost ($)\": 0.0000000000,\\r\\n    \"Revenue ($)\": 0.0000000000,\\r\\n    \"Margin (%)\": 0.00\\r\\n  },\\r\\n  {\\r\\n    \"Outlet\":\"\",\\r\\n    \"Product\":\"Chai Latte\",\\r\\n    \"SKU\": 10003,\\r\\n    \"Brand\":\" \",\\r\\n    \"Supplier\":\" \",\\r\\n    \"Type\":\" \",\\r\\n    \"Tags\":\" coffee\",\\r\\n    \"Supplier Code\":\" \",\\r\\n    \"Count\": 1,\\r\\n    \"Sales ($)\": 3.4782600000,\\r\\n    \"Tax ($)\": 0.5217400000,\\r\\n    \"Sales incl. tax ($)\": 4.00,\\r\\n    \"Discount ($)\": 0,\\r\\n    \"Cost ($)\": 1.0000000000,\\r\\n    \"Revenue ($)\": 2.4782600000,\\r\\n    \"Margin (%)\": 71.24\\r\\n  },\\r\\n  {\\r\\n    \"Outlet\":\"\",\\r\\n    \"Product\":\"Chai Latte FREE\",\\r\\n    \"SKU\": 10010,\\r\\n    \"Brand\":\" \",\\r\\n    \"Supplier\":\" \",\\r\\n    \"Type\":\" \",\\r\\n    \"Tags\":\" coffee; free\",\\r\\n    \"Supplier Code\":\" \",\\r\\n    \"Count\": 9,\\r\\n    \"Sales ($)\": 0.0000000000,\\r\\n    \"Tax ($)\": 0.0000000000,\\r\\n    \"Sales incl. tax ($)\": 0.00,\\r\\n    \"Discount ($)\": 0,\\r\\n    \"Cost ($)\": 0.0000000000,\\r\\n    \"Revenue ($)\": 0.0000000000,\\r\\n    \"Margin (%)\": 0.00\\r\\n  },\\r\\n  {\\r\\n    \"Outlet\":\"\",\\r\\n    \"Product\":\"Espresso FREE\",\\r\\n    \"SKU\": 10032,\\r\\n    \"Brand\":\" \",\\r\\n    \"Supplier\":\" \",\\r\\n    \"Type\":\" \",\\r\\n    \"Tags\":\" \",\\r\\n    \"Supplier Code\":\" \",\\r\\n    \"Count\": 14,\\r\\n    \"Sales ($)\": 0.0000000000,\\r\\n    \"Tax ($)\": 0.0000000000,\\r\\n    \"Sales incl. tax ($)\": 0.00,\\r\\n    \"Discount ($)\": 0,\\r\\n    \"Cost ($)\": 0.0000000000,\\r\\n    \"Revenue ($)\": 0.0000000000,\\r\\n    \"Margin (%)\": 0.00\\r\\n  },\\r\\n  {\\r\\n    \"Outlet\":\"\",\\r\\n    \"Product\":\"Flat White\",\\r\\n    \"SKU\": 10000,\\r\\n    \"Brand\":\" \",\\r\\n    \"Supplier\":\" \",\\r\\n    \"Type\":\" \",\\r\\n    \"Tags\":\" coffee\",\\r\\n    \"Supplier Code\":\" \",\\r\\n    \"Count\": 57,\\r\\n    \"Sales ($)\": 198.2608200000,\\r\\n    \"Tax ($)\": 29.7391800000,\\r\\n    \"Sales incl. tax ($)\": 228.00,\\r\\n    \"Discount ($)\": 0,\\r\\n    \"Cost ($)\": 57.0000000000,\\r\\n    \"Revenue ($)\": 141.2608200000,\\r\\n    \"Margin (%)\": 71.24\\r\\n  },\\r\\n  {\\r\\n    \"Outlet\":\"\",\\r\\n    \"Product\":\"Flat White FREE\",\\r\\n    \"SKU\": 10011,\\r\\n    \"Brand\":\" \",\\r\\n    \"Supplier\":\" \",\\r\\n    \"Type\":\" \",\\r\\n    \"Tags\":\" coffee; free\",\\r\\n    \"Supplier Code\":\" \",\\r\\n    \"Count\": 249,\\r\\n    \"Sales ($)\": 0.0000000000,\\r\\n    \"Tax ($)\": 0.0000000000,\\r\\n    \"Sales incl. tax ($)\": 0.00,\\r\\n    \"Discount ($)\": 0,\\r\\n    \"Cost ($)\": 0.0000000000,\\r\\n    \"Revenue ($)\": 0.0000000000,\\r\\n    \"Margin (%)\": 0.00\\r\\n  },\\r\\n  {\\r\\n    \"Outlet\":\"\",\\r\\n    \"Product\":\"Hot Chocolate\",\\r\\n    \"SKU\": 10005,\\r\\n    \"Brand\":\" \",\\r\\n    \"Supplier\":\" \",\\r\\n    \"Type\":\" \",\\r\\n    \"Tags\":\" coffee\",\\r\\n    \"Supplier Code\":\" \",\\r\\n    \"Count\": 7,\\r\\n    \"Sales ($)\": 24.3478200000,\\r\\n    \"Tax ($)\": 3.6521800000,\\r\\n    \"Sales incl. tax ($)\": 28.00,\\r\\n    \"Discount ($)\": 0,\\r\\n    \"Cost ($)\": 7.0000000000,\\r\\n    \"Revenue ($)\": 17.3478200000,\\r\\n    \"Margin (%)\": 71.24\\r\\n  },\\r\\n  {\\r\\n    \"Outlet\":\"\",\\r\\n    \"Product\":\"Hot Chocolate FREE\",\\r\\n    \"SKU\": 10012,\\r\\n    \"Brand\":\" \",\\r\\n    \"Supplier\":\" \",\\r\\n    \"Type\":\" \",\\r\\n    \"Tags\":\" coffee; free\",\\r\\n    \"Supplier Code\":\" \",\\r\\n    \"Count\": 121,\\r\\n    \"Sales ($)\": 0.0000000000,\\r\\n    \"Tax ($)\": 0.0000000000,\\r\\n    \"Sales incl. tax ($)\": 0.00,\\r\\n    \"Discount ($)\": 0,\\r\\n    \"Cost ($)\": 0.0000000000,\\r\\n    \"Revenue ($)\": 0.0000000000,\\r\\n    \"Margin (%)\": 0.00\\r\\n  },\\r\\n  {\\r\\n    \"Outlet\":\"\",\\r\\n    \"Product\":\"Long Black\",\\r\\n    \"SKU\": 10006,\\r\\n    \"Brand\":\" \",\\r\\n    \"Supplier\":\" \",\\r\\n    \"Type\":\" \",\\r\\n    \"Tags\":\" coffee\",\\r\\n    \"Supplier Code\":\" \",\\r\\n    \"Count\": 25,\\r\\n    \"Sales ($)\": 86.9565000000,\\r\\n    \"Tax ($)\": 13.0435000000,\\r\\n    \"Sales incl. tax ($)\": 100.00,\\r\\n    \"Discount ($)\": 0,\\r\\n    \"Cost ($)\": 25.0000000000,\\r\\n    \"Revenue ($)\": 61.9565000000,\\r\\n    \"Margin (%)\": 71.24\\r\\n  },\\r\\n  {\\r\\n    \"Outlet\":\"\",\\r\\n    \"Product\":\"Long Black FREE\",\\r\\n    \"SKU\": 10014,\\r\\n    \"Brand\":\" \",\\r\\n    \"Supplier\":\" \",\\r\\n    \"Type\":\" \",\\r\\n    \"Tags\":\" coffee; free\",\\r\\n    \"Supplier Code\":\" \",\\r\\n    \"Count\": 62,\\r\\n    \"Sales ($)\": 0.0000000000,\\r\\n    \"Tax ($)\": 0.0000000000,\\r\\n    \"Sales incl. tax ($)\": 0.00,\\r\\n    \"Discount ($)\": 0,\\r\\n    \"Cost ($)\": 0.0000000000,\\r\\n    \"Revenue ($)\": 0.0000000000,\\r\\n    \"Margin (%)\": 0.00\\r\\n  },\\r\\n  {\\r\\n    \"Outlet\":\"\",\\r\\n    \"Product\":\"Mocha\",\\r\\n    \"SKU\": 10004,\\r\\n    \"Brand\":\" \",\\r\\n    \"Supplier\":\" \",\\r\\n    \"Type\":\" \",\\r\\n    \"Tags\":\" coffee\",\\r\\n    \"Supplier Code\":\" \",\\r\\n    \"Count\": 13,\\r\\n    \"Sales ($)\": 45.2173800000,\\r\\n    \"Tax ($)\": 6.7826200000,\\r\\n    \"Sales incl. tax ($)\": 52.00,\\r\\n    \"Discount ($)\": 0,\\r\\n    \"Cost ($)\": 13.0000000000,\\r\\n    \"Revenue ($)\": 32.2173800000,\\r\\n    \"Margin (%)\": 71.24\\r\\n  },\\r\\n  {\\r\\n    \"Outlet\":\"\",\\r\\n    \"Product\":\"Mocha FREE\",\\r\\n    \"SKU\": 10015,\\r\\n    \"Brand\":\" \",\\r\\n    \"Supplier\":\" \",\\r\\n    \"Type\":\" \",\\r\\n    \"Tags\":\" coffee; free\",\\r\\n    \"Supplier Code\":\" \",\\r\\n    \"Count\": 81,\\r\\n    \"Sales ($)\": 0.0000000000,\\r\\n    \"Tax ($)\": 0.0000000000,\\r\\n    \"Sales incl. tax ($)\": 0.00,\\r\\n    \"Discount ($)\": 0,\\r\\n    \"Cost ($)\": 0.0000000000,\\r\\n    \"Revenue ($)\": 0.0000000000,\\r\\n    \"Margin (%)\": 0.00\\r\\n  },\\r\\n  {\\r\\n    \"Outlet\":\"\",\\r\\n    \"Product\":\"Total\",\\r\\n    \"SKU\":null,\\r\\n    \"Brand\":\"\",\\r\\n    \"Supplier\":\"\",\\r\\n    \"Type\":\"\",\\r\\n    \"Tags\":\"\",\\r\\n    \"Supplier Code\":\"\",\\r\\n    \"Count\":715.00,\\r\\n    \"Sales ($)\": 403.44,\\r\\n    \"Tax ($)\": 60.50,\\r\\n    \"Sales incl. tax ($)\": 463.94,\\r\\n    \"Discount ($)\": 0.00,\\r\\n    \"Cost ($)\": 116.00,\\r\\n    \"Revenue ($)\": 287.44,\\r\\n    \"Margin (%)\": 71.24727\\r\\n  },\\r\\n  {\\r\\n    \"Outlet\":\"\",\\r\\n    \"Product\":\"Grand Total\",\\r\\n    \"SKU\":null,\\r\\n    \"Brand\":\"\",\\r\\n    \"Supplier\":\"\",\\r\\n    \"Type\":\"\",\\r\\n    \"Tags\":\"\",\\r\\n    \"Supplier Code\":\"\",\\r\\n    \"Count\":715.00,\\r\\n    \"Sales ($)\": 403.44,\\r\\n    \"Tax ($)\": 60.50,\\r\\n    \"Sales incl. tax ($)\": 463.94,\\r\\n    \"Discount ($)\": 0.00,\\r\\n    \"Cost ($)\": 116.00,\\r\\n    \"Revenue ($)\": 287.44,\\r\\n    \"Margin (%)\": 71.24727\\r\\n  }\\r\\n][\\r\\n  {\\r\\n    \"Outlet\":\"LCA\",\\r\\n    \"Product\":\"Cappuccino\",\\r\\n    \"SKU\": 10001,\\r\\n    \"Brand\":\" \",\\r\\n    \"Supplier\":\" \",\\r\\n    \"Type\":\" \",\\r\\n    \"Tags\":\" coffee\",\\r\\n    \"Supplier Code\":\" \",\\r\\n    \"Count\": 13,\\r\\n    \"Sales ($)\": 45.2173800000,\\r\\n    \"Tax ($)\": 6.7826200000,\\r\\n    \"Sales incl. tax ($)\": 52.00,\\r\\n    \"Discount ($)\": 0,\\r\\n    \"Cost ($)\": 13.0000000000,\\r\\n    \"Revenue ($)\": 32.2173800000,\\r\\n    \"Margin (%)\": 71.24\\r\\n  },\\r\\n  {\\r\\n    \"Outlet\":\"\",\\r\\n    \"Product\":\"Cappuccino FREE\",\\r\\n    \"SKU\": 10009,\\r\\n    \"Brand\":\" \",\\r\\n    \"Supplier\":\" \",\\r\\n    \"Type\":\" \",\\r\\n    \"Tags\":\" coffee; free\",\\r\\n    \"Supplier Code\":\" \",\\r\\n    \"Count\": 63,\\r\\n    \"Sales ($)\": 0.0000000000,\\r\\n    \"Tax ($)\": 0.0000000000,\\r\\n    \"Sales incl. tax ($)\": 0.00,\\r\\n    \"Discount ($)\": 0,\\r\\n    \"Cost ($)\": 0.0000000000,\\r\\n    \"Revenue ($)\": 0.0000000000,\\r\\n    \"Margin (%)\": 0.00\\r\\n  },\\r\\n  {\\r\\n    \"Outlet\":\"\",\\r\\n    \"Product\":\"Chai Latte\",\\r\\n    \"SKU\": 10003,\\r\\n    \"Brand\":\" \",\\r\\n    \"Supplier\":\" \",\\r\\n    \"Type\":\" \",\\r\\n    \"Tags\":\" coffee\",\\r\\n    \"Supplier Code\":\" \",\\r\\n    \"Count\": 1,\\r\\n    \"Sales ($)\": 3.4782600000,\\r\\n    \"Tax ($)\": 0.5217400000,\\r\\n    \"Sales incl. tax ($)\": 4.00,\\r\\n    \"Discount ($)\": 0,\\r\\n    \"Cost ($)\": 1.0000000000,\\r\\n    \"Revenue ($)\": 2.4782600000,\\r\\n    \"Margin (%)\": 71.24\\r\\n  },\\r\\n  {\\r\\n    \"Outlet\":\"\",\\r\\n    \"Product\":\"Chai Latte FREE\",\\r\\n    \"SKU\": 10010,\\r\\n    \"Brand\":\" \",\\r\\n    \"Supplier\":\" \",\\r\\n    \"Type\":\" \",\\r\\n    \"Tags\":\" coffee; free\",\\r\\n    \"Supplier Code\":\" \",\\r\\n    \"Count\": 9,\\r\\n    \"Sales ($)\": 0.0000000000,\\r\\n    \"Tax ($)\": 0.0000000000,\\r\\n    \"Sales incl. tax ($)\": 0.00,\\r\\n    \"Discount ($)\": 0,\\r\\n    \"Cost ($)\": 0.0000000000,\\r\\n    \"Revenue ($)\": 0.0000000000,\\r\\n    \"Margin (%)\": 0.00\\r\\n  },\\r\\n  {\\r\\n    \"Outlet\":\"\",\\r\\n    \"Product\":\"Espresso FREE\",\\r\\n    \"SKU\": 10032,\\r\\n    \"Brand\":\" \",\\r\\n    \"Supplier\":\" \",\\r\\n    \"Type\":\" \",\\r\\n    \"Tags\":\" \",\\r\\n    \"Supplier Code\":\" \",\\r\\n    \"Count\": 14,\\r\\n    \"Sales ($)\": 0.0000000000,\\r\\n    \"Tax ($)\": 0.0000000000,\\r\\n    \"Sales incl. tax ($)\": 0.00,\\r\\n    \"Discount ($)\": 0,\\r\\n    \"Cost ($)\": 0.0000000000,\\r\\n    \"Revenue ($)\": 0.0000000000,\\r\\n    \"Margin (%)\": 0.00\\r\\n  },\\r\\n  {\\r\\n    \"Outlet\":\"\",\\r\\n    \"Product\":\"Flat White\",\\r\\n    \"SKU\": 10000,\\r\\n    \"Brand\":\" \",\\r\\n    \"Supplier\":\" \",\\r\\n    \"Type\":\" \",\\r\\n    \"Tags\":\" coffee\",\\r\\n    \"Supplier Code\":\" \",\\r\\n    \"Count\": 57,\\r\\n    \"Sales ($)\": 198.2608200000,\\r\\n    \"Tax ($)\": 29.7391800000,\\r\\n    \"Sales incl. tax ($)\": 228.00,\\r\\n    \"Discount ($)\": 0,\\r\\n    \"Cost ($)\": 57.0000000000,\\r\\n    \"Revenue ($)\": 141.2608200000,\\r\\n    \"Margin (%)\": 71.24\\r\\n  },\\r\\n  {\\r\\n    \"Outlet\":\"\",\\r\\n    \"Product\":\"Flat White FREE\",\\r\\n    \"SKU\": 10011,\\r\\n    \"Brand\":\" \",\\r\\n    \"Supplier\":\" \",\\r\\n    \"Type\":\" \",\\r\\n    \"Tags\":\" coffee; free\",\\r\\n    \"Supplier Code\":\" \",\\r\\n    \"Count\": 249,\\r\\n    \"Sales ($)\": 0.0000000000,\\r\\n    \"Tax ($)\": 0.0000000000,\\r\\n    \"Sales incl. tax ($)\": 0.00,\\r\\n    \"Discount ($)\": 0,\\r\\n    \"Cost ($)\": 0.0000000000,\\r\\n    \"Revenue ($)\": 0.0000000000,\\r\\n    \"Margin (%)\": 0.00\\r\\n  },\\r\\n  {\\r\\n    \"Outlet\":\"\",\\r\\n    \"Product\":\"Hot Chocolate\",\\r\\n    \"SKU\": 10005,\\r\\n    \"Brand\":\" \",\\r\\n    \"Supplier\":\" \",\\r\\n    \"Type\":\" \",\\r\\n    \"Tags\":\" coffee\",\\r\\n    \"Supplier Code\":\" \",\\r\\n    \"Count\": 7,\\r\\n    \"Sales ($)\": 24.3478200000,\\r\\n    \"Tax ($)\": 3.6521800000,\\r\\n    \"Sales incl. tax ($)\": 28.00,\\r\\n    \"Discount ($)\": 0,\\r\\n    \"Cost ($)\": 7.0000000000,\\r\\n    \"Revenue ($)\": 17.3478200000,\\r\\n    \"Margin (%)\": 71.24\\r\\n  },\\r\\n  {\\r\\n    \"Outlet\":\"\",\\r\\n    \"Product\":\"Hot Chocolate FREE\",\\r\\n    \"SKU\": 10012,\\r\\n    \"Brand\":\" \",\\r\\n    \"Supplier\":\" \",\\r\\n    \"Type\":\" \",\\r\\n    \"Tags\":\" coffee; free\",\\r\\n    \"Supplier Code\":\" \",\\r\\n    \"Count\": 121,\\r\\n    \"Sales ($)\": 0.0000000000,\\r\\n    \"Tax ($)\": 0.0000000000,\\r\\n    \"Sales incl. tax ($)\": 0.00,\\r\\n    \"Discount ($)\": 0,\\r\\n    \"Cost ($)\": 0.0000000000,\\r\\n    \"Revenue ($)\": 0.0000000000,\\r\\n    \"Margin (%)\": 0.00\\r\\n  },\\r\\n  {\\r\\n    \"Outlet\":\"\",\\r\\n    \"Product\":\"Long Black\",\\r\\n    \"SKU\": 10006,\\r\\n    \"Brand\":\" \",\\r\\n    \"Supplier\":\" \",\\r\\n    \"Type\":\" \",\\r\\n    \"Tags\":\" coffee\",\\r\\n    \"Supplier Code\":\" \",\\r\\n    \"Count\": 25,\\r\\n    \"Sales ($)\": 86.9565000000,\\r\\n    \"Tax ($)\": 13.0435000000,\\r\\n    \"Sales incl. tax ($)\": 100.00,\\r\\n    \"Discount ($)\": 0,\\r\\n    \"Cost ($)\": 25.0000000000,\\r\\n    \"Revenue ($)\": 61.9565000000,\\r\\n    \"Margin (%)\": 71.24\\r\\n  },\\r\\n  {\\r\\n    \"Outlet\":\"\",\\r\\n    \"Product\":\"Long Black FREE\",\\r\\n    \"SKU\": 10014,\\r\\n    \"Brand\":\" \",\\r\\n    \"Supplier\":\" \",\\r\\n    \"Type\":\" \",\\r\\n    \"Tags\":\" coffee; free\",\\r\\n    \"Supplier Code\":\" \",\\r\\n    \"Count\": 62,\\r\\n    \"Sales ($)\": 0.0000000000,\\r\\n    \"Tax ($)\": 0.0000000000,\\r\\n    \"Sales incl. tax ($)\": 0.00,\\r\\n    \"Discount ($)\": 0,\\r\\n    \"Cost ($)\": 0.0000000000,\\r\\n    \"Revenue ($)\": 0.0000000000,\\r\\n    \"Margin (%)\": 0.00\\r\\n  },\\r\\n  {\\r\\n    \"Outlet\":\"\",\\r\\n    \"Product\":\"Mocha\",\\r\\n    \"SKU\": 10004,\\r\\n    \"Brand\":\" \",\\r\\n    \"Supplier\":\" \",\\r\\n    \"Type\":\" \",\\r\\n    \"Tags\":\" coffee\",\\r\\n    \"Supplier Code\":\" \",\\r\\n    \"Count\": 13,\\r\\n    \"Sales ($)\": 45.2173800000,\\r\\n    \"Tax ($)\": 6.7826200000,\\r\\n    \"Sales incl. tax ($)\": 52.00,\\r\\n    \"Discount ($)\": 0,\\r\\n    \"Cost ($)\": 13.0000000000,\\r\\n    \"Revenue ($)\": 32.2173800000,\\r\\n    \"Margin (%)\": 71.24\\r\\n  },\\r\\n  {\\r\\n    \"Outlet\":\"\",\\r\\n    \"Product\":\"Mocha FREE\",\\r\\n    \"SKU\": 10015,\\r\\n    \"Brand\":\" \",\\r\\n    \"Supplier\":\" \",\\r\\n    \"Type\":\" \",\\r\\n    \"Tags\":\" coffee; free\",\\r\\n    \"Supplier Code\":\" \",\\r\\n    \"Count\": 81,\\r\\n    \"Sales ($)\": 0.0000000000,\\r\\n    \"Tax ($)\": 0.0000000000,\\r\\n    \"Sales incl. tax ($)\": 0.00,\\r\\n    \"Discount ($)\": 0,\\r\\n    \"Cost ($)\": 0.0000000000,\\r\\n    \"Revenue ($)\": 0.0000000000,\\r\\n    \"Margin (%)\": 0.00\\r\\n  },\\r\\n  {\\r\\n    \"Outlet\":\"\",\\r\\n    \"Product\":\"Total\",\\r\\n    \"SKU\":null,\\r\\n    \"Brand\":\"\",\\r\\n    \"Supplier\":\"\",\\r\\n    \"Type\":\"\",\\r\\n    \"Tags\":\"\",\\r\\n    \"Supplier Code\":\"\",\\r\\n    \"Count\":715.00,\\r\\n    \"Sales ($)\": 403.44,\\r\\n    \"Tax ($)\": 60.50,\\r\\n    \"Sales incl. tax ($)\": 463.94,\\r\\n    \"Discount ($)\": 0.00,\\r\\n    \"Cost ($)\": 116.00,\\r\\n    \"Revenue ($)\": 287.44,\\r\\n    \"Margin (%)\": 71.24727\\r\\n  },\\r\\n  {\\r\\n    \"Outlet\":\"\",\\r\\n    \"Product\":\"Grand Total\",\\r\\n    \"SKU\":null,\\r\\n    \"Brand\":\"\",\\r\\n    \"Supplier\":\"\",\\r\\n    \"Type\":\"\",\\r\\n    \"Tags\":\"\",\\r\\n    \"Supplier Code\":\"\",\\r\\n    \"Count\":715.00,\\r\\n    \"Sales ($)\": 403.44,\\r\\n    \"Tax ($)\": 60.50,\\r\\n    \"Sales incl. tax ($)\": 463.94,\\r\\n    \"Discount ($)\": 0.00,\\r\\n    \"Cost ($)\": 116.00,\\r\\n    \"Revenue ($)\": 287.44,\\r\\n    \"Margin (%)\": 71.24727\\r\\n  }\\r\\n][\\r\\n  {\\r\\n    \"Outlet\":\"LCA\",\\r\\n    \"Product\":\"Cappuccino\",\\r\\n    \"SKU\": 10001,\\r\\n    \"Brand\":\" \",\\r\\n    \"Supplier\":\" \",\\r\\n    \"Type\":\" \",\\r\\n    \"Tags\":\" coffee\",\\r\\n    \"Supplier Code\":\" \",\\r\\n    \"Count\": 13,\\r\\n    \"Sales ($)\": 45.2173800000,\\r\\n    \"Tax ($)\": 6.7826200000,\\r\\n    \"Sales incl. tax ($)\": 52.00,\\r\\n    \"Discount ($)\": 0,\\r\\n    \"Cost ($)\": 13.0000000000,\\r\\n    \"Revenue ($)\": 32.2173800000,\\r\\n    \"Margin (%)\": 71.24\\r\\n  },\\r\\n  {\\r\\n    \"Outlet\":\"\",\\r\\n    \"Product\":\"Cappuccino FREE\",\\r\\n    \"SKU\": 10009,\\r\\n    \"Brand\":\" \",\\r\\n    \"Supplier\":\" \",\\r\\n    \"Type\":\" \",\\r\\n    \"Tags\":\" coffee; free\",\\r\\n    \"Supplier Code\":\" \",\\r\\n    \"Count\": 63,\\r\\n    \"Sales ($)\": 0.0000000000,\\r\\n    \"Tax ($)\": 0.0000000000,\\r\\n    \"Sales incl. tax ($)\": 0.00,\\r\\n    \"Discount ($)\": 0,\\r\\n    \"Cost ($)\": 0.0000000000,\\r\\n    \"Revenue ($)\": 0.0000000000,\\r\\n    \"Margin (%)\": 0.00\\r\\n  },\\r\\n  {\\r\\n    \"Outlet\":\"\",\\r\\n    \"Product\":\"Chai Latte\",\\r\\n    \"SKU\": 10003,\\r\\n    \"Brand\":\" \",\\r\\n    \"Supplier\":\" \",\\r\\n    \"Type\":\" \",\\r\\n    \"Tags\":\" coffee\",\\r\\n    \"Supplier Code\":\" \",\\r\\n    \"Count\": 1,\\r\\n    \"Sales ($)\": 3.4782600000,\\r\\n    \"Tax ($)\": 0.5217400000,\\r\\n    \"Sales incl. tax ($)\": 4.00,\\r\\n    \"Discount ($)\": 0,\\r\\n    \"Cost ($)\": 1.0000000000,\\r\\n    \"Revenue ($)\": 2.4782600000,\\r\\n    \"Margin (%)\": 71.24\\r\\n  },\\r\\n  {\\r\\n    \"Outlet\":\"\",\\r\\n    \"Product\":\"Chai Latte FREE\",\\r\\n    \"SKU\": 10010,\\r\\n    \"Brand\":\" \",\\r\\n    \"Supplier\":\" \",\\r\\n    \"Type\":\" \",\\r\\n    \"Tags\":\" coffee; free\",\\r\\n    \"Supplier Code\":\" \",\\r\\n    \"Count\": 9,\\r\\n    \"Sales ($)\": 0.0000000000,\\r\\n    \"Tax ($)\": 0.0000000000,\\r\\n    \"Sales incl. tax ($)\": 0.00,\\r\\n    \"Discount ($)\": 0,\\r\\n    \"Cost ($)\": 0.0000000000,\\r\\n    \"Revenue ($)\": 0.0000000000,\\r\\n    \"Margin (%)\": 0.00\\r\\n  },\\r\\n  {\\r\\n    \"Outlet\":\"\",\\r\\n    \"Product\":\"Espresso FREE\",\\r\\n    \"SKU\": 10032,\\r\\n    \"Brand\":\" \",\\r\\n    \"Supplier\":\" \",\\r\\n    \"Type\":\" \",\\r\\n    \"Tags\":\" \",\\r\\n    \"Supplier Code\":\" \",\\r\\n    \"Count\": 14,\\r\\n    \"Sales ($)\": 0.0000000000,\\r\\n    \"Tax ($)\": 0.0000000000,\\r\\n    \"Sales incl. tax ($)\": 0.00,\\r\\n    \"Discount ($)\": 0,\\r\\n    \"Cost ($)\": 0.0000000000,\\r\\n    \"Revenue ($)\": 0.0000000000,\\r\\n    \"Margin (%)\": 0.00\\r\\n  },\\r\\n  {\\r\\n    \"Outlet\":\"\",\\r\\n    \"Product\":\"Flat White\",\\r\\n    \"SKU\": 10000,\\r\\n    \"Brand\":\" \",\\r\\n    \"Supplier\":\" \",\\r\\n    \"Type\":\" \",\\r\\n    \"Tags\":\" coffee\",\\r\\n    \"Supplier Code\":\" \",\\r\\n    \"Count\": 57,\\r\\n    \"Sales ($)\": 198.2608200000,\\r\\n    \"Tax ($)\": 29.7391800000,\\r\\n    \"Sales incl. tax ($)\": 228.00,\\r\\n    \"Discount ($)\": 0,\\r\\n    \"Cost ($)\": 57.0000000000,\\r\\n    \"Revenue ($)\": 141.2608200000,\\r\\n    \"Margin (%)\": 71.24\\r\\n  },\\r\\n  {\\r\\n    \"Outlet\":\"\",\\r\\n    \"Product\":\"Flat White FREE\",\\r\\n    \"SKU\": 10011,\\r\\n    \"Brand\":\" \",\\r\\n    \"Supplier\":\" \",\\r\\n    \"Type\":\" \",\\r\\n    \"Tags\":\" coffee; free\",\\r\\n    \"Supplier Code\":\" \",\\r\\n    \"Count\": 249,\\r\\n    \"Sales ($)\": 0.0000000000,\\r\\n    \"Tax ($)\": 0.0000000000,\\r\\n    \"Sales incl. tax ($)\": 0.00,\\r\\n    \"Discount ($)\": 0,\\r\\n    \"Cost ($)\": 0.0000000000,\\r\\n    \"Revenue ($)\": 0.0000000000,\\r\\n    \"Margin (%)\": 0.00\\r\\n  },\\r\\n  {\\r\\n    \"Outlet\":\"\",\\r\\n    \"Product\":\"Hot Chocolate\",\\r\\n    \"SKU\": 10005,\\r\\n    \"Brand\":\" \",\\r\\n    \"Supplier\":\" \",\\r\\n    \"Type\":\" \",\\r\\n    \"Tags\":\" coffee\",\\r\\n    \"Supplier Code\":\" \",\\r\\n    \"Count\": 7,\\r\\n    \"Sales ($)\": 24.3478200000,\\r\\n    \"Tax ($)\": 3.6521800000,\\r\\n    \"Sales incl. tax ($)\": 28.00,\\r\\n    \"Discount ($)\": 0,\\r\\n    \"Cost ($)\": 7.0000000000,\\r\\n    \"Revenue ($)\": 17.3478200000,\\r\\n    \"Margin (%)\": 71.24\\r\\n  },\\r\\n  {\\r\\n    \"Outlet\":\"\",\\r\\n    \"Product\":\"Hot Chocolate FREE\",\\r\\n    \"SKU\": 10012,\\r\\n    \"Brand\":\" \",\\r\\n    \"Supplier\":\" \",\\r\\n    \"Type\":\" \",\\r\\n    \"Tags\":\" coffee; free\",\\r\\n    \"Supplier Code\":\" \",\\r\\n    \"Count\": 121,\\r\\n    \"Sales ($)\": 0.0000000000,\\r\\n    \"Tax ($)\": 0.0000000000,\\r\\n    \"Sales incl. tax ($)\": 0.00,\\r\\n    \"Discount ($)\": 0,\\r\\n    \"Cost ($)\": 0.0000000000,\\r\\n    \"Revenue ($)\": 0.0000000000,\\r\\n    \"Margin (%)\": 0.00\\r\\n  },\\r\\n  {\\r\\n    \"Outlet\":\"\",\\r\\n    \"Product\":\"Long Black\",\\r\\n    \"SKU\": 10006,\\r\\n    \"Brand\":\" \",\\r\\n    \"Supplier\":\" \",\\r\\n    \"Type\":\" \",\\r\\n    \"Tags\":\" coffee\",\\r\\n    \"Supplier Code\":\" \",\\r\\n    \"Count\": 25,\\r\\n    \"Sales ($)\": 86.9565000000,\\r\\n    \"Tax ($)\": 13.0435000000,\\r\\n    \"Sales incl. tax ($)\": 100.00,\\r\\n    \"Discount ($)\": 0,\\r\\n    \"Cost ($)\": 25.0000000000,\\r\\n    \"Revenue ($)\": 61.9565000000,\\r\\n    \"Margin (%)\": 71.24\\r\\n  },\\r\\n  {\\r\\n    \"Outlet\":\"\",\\r\\n    \"Product\":\"Long Black FREE\",\\r\\n    \"SKU\": 10014,\\r\\n    \"Brand\":\" \",\\r\\n    \"Supplier\":\" \",\\r\\n    \"Type\":\" \",\\r\\n    \"Tags\":\" coffee; free\",\\r\\n    \"Supplier Code\":\" \",\\r\\n    \"Count\": 62,\\r\\n    \"Sales ($)\": 0.0000000000,\\r\\n    \"Tax ($)\": 0.0000000000,\\r\\n    \"Sales incl. tax ($)\": 0.00,\\r\\n    \"Discount ($)\": 0,\\r\\n    \"Cost ($)\": 0.0000000000,\\r\\n    \"Revenue ($)\": 0.0000000000,\\r\\n    \"Margin (%)\": 0.00\\r\\n  },\\r\\n  {\\r\\n    \"Outlet\":\"\",\\r\\n    \"Product\":\"Mocha\",\\r\\n    \"SKU\": 10004,\\r\\n    \"Brand\":\" \",\\r\\n    \"Supplier\":\" \",\\r\\n    \"Type\":\" \",\\r\\n    \"Tags\":\" coffee\",\\r\\n    \"Supplier Code\":\" \",\\r\\n    \"Count\": 13,\\r\\n    \"Sales ($)\": 45.2173800000,\\r\\n    \"Tax ($)\": 6.7826200000,\\r\\n    \"Sales incl. tax ($)\": 52.00,\\r\\n    \"Discount ($)\": 0,\\r\\n    \"Cost ($)\": 13.0000000000,\\r\\n    \"Revenue ($)\": 32.2173800000,\\r\\n    \"Margin (%)\": 71.24\\r\\n  },\\r\\n  {\\r\\n    \"Outlet\":\"\",\\r\\n    \"Product\":\"Mocha FREE\",\\r\\n    \"SKU\": 10015,\\r\\n    \"Brand\":\" \",\\r\\n    \"Supplier\":\" \",\\r\\n    \"Type\":\" \",\\r\\n    \"Tags\":\" coffee; free\",\\r\\n    \"Supplier Code\":\" \",\\r\\n    \"Count\": 81,\\r\\n    \"Sales ($)\": 0.0000000000,\\r\\n    \"Tax ($)\": 0.0000000000,\\r\\n    \"Sales incl. tax ($)\": 0.00,\\r\\n    \"Discount ($)\": 0,\\r\\n    \"Cost ($)\": 0.0000000000,\\r\\n    \"Revenue ($)\": 0.0000000000,\\r\\n    \"Margin (%)\": 0.00\\r\\n  },\\r\\n  {\\r\\n    \"Outlet\":\"\",\\r\\n    \"Product\":\"Total\",\\r\\n    \"SKU\":null,\\r\\n    \"Brand\":\"\",\\r\\n    \"Supplier\":\"\",\\r\\n    \"Type\":\"\",\\r\\n    \"Tags\":\"\",\\r\\n    \"Supplier Code\":\"\",\\r\\n    \"Count\":715.00,\\r\\n    \"Sales ($)\": 403.44,\\r\\n    \"Tax ($)\": 60.50,\\r\\n    \"Sales incl. tax ($)\": 463.94,\\r\\n    \"Discount ($)\": 0.00,\\r\\n    \"Cost ($)\": 116.00,\\r\\n    \"Revenue ($)\": 287.44,\\r\\n    \"Margin (%)\": 71.24727\\r\\n  },\\r\\n  {\\r\\n    \"Outlet\":\"\",\\r\\n    \"Product\":\"Grand Total\",\\r\\n    \"SKU\":null,\\r\\n    \"Brand\":\"\",\\r\\n    \"Supplier\":\"\",\\r\\n    \"Type\":\"\",\\r\\n    \"Tags\":\"\",\\r\\n    \"Supplier Code\":\"\",\\r\\n    \"Count\":715.00,\\r\\n    \"Sales ($)\": 403.44,\\r\\n    \"Tax ($)\": 60.50,\\r\\n    \"Sales incl. tax ($)\": 463.94,\\r\\n    \"Discount ($)\": 0.00,\\r\\n    \"Cost ($)\": 116.00,\\r\\n    \"Revenue ($)\": 287.44,\\r\\n    \"Margin (%)\": 71.24727\\r\\n  }\\r\\n][\\r\\n  {\\r\\n    \"Outlet\":\"LCA\",\\r\\n    \"Product\":\"Cappuccino\",\\r\\n    \"SKU\": 10001,\\r\\n    \"Brand\":\" \",\\r\\n    \"Supplier\":\" \",\\r\\n    \"Type\":\" \",\\r\\n    \"Tags\":\" coffee\",\\r\\n    \"Supplier Code\":\" \",\\r\\n    \"Count\": 13,\\r\\n    \"Sales ($)\": 45.2173800000,\\r\\n    \"Tax ($)\": 6.7826200000,\\r\\n    \"Sales incl. tax ($)\": 52.00,\\r\\n    \"Discount ($)\": 0,\\r\\n    \"Cost ($)\": 13.0000000000,\\r\\n    \"Revenue ($)\": 32.2173800000,\\r\\n    \"Margin (%)\": 71.24\\r\\n  },\\r\\n  {\\r\\n    \"Outlet\":\"\",\\r\\n    \"Product\":\"Cappuccino FREE\",\\r\\n    \"SKU\": 10009,\\r\\n    \"Brand\":\" \",\\r\\n    \"Supplier\":\" \",\\r\\n    \"Type\":\" \",\\r\\n    \"Tags\":\" coffee; free\",\\r\\n    \"Supplier Code\":\" \",\\r\\n    \"Count\": 63,\\r\\n    \"Sales ($)\": 0.0000000000,\\r\\n    \"Tax ($)\": 0.0000000000,\\r\\n    \"Sales incl. tax ($)\": 0.00,\\r\\n    \"Discount ($)\": 0,\\r\\n    \"Cost ($)\": 0.0000000000,\\r\\n    \"Revenue ($)\": 0.0000000000,\\r\\n    \"Margin (%)\": 0.00\\r\\n  },\\r\\n  {\\r\\n    \"Outlet\":\"\",\\r\\n    \"Product\":\"Chai Latte\",\\r\\n    \"SKU\": 10003,\\r\\n    \"Brand\":\" \",\\r\\n    \"Supplier\":\" \",\\r\\n    \"Type\":\" \",\\r\\n    \"Tags\":\" coffee\",\\r\\n    \"Supplier Code\":\" \",\\r\\n    \"Count\": 1,\\r\\n    \"Sales ($)\": 3.4782600000,\\r\\n    \"Tax ($)\": 0.5217400000,\\r\\n    \"Sales incl. tax ($)\": 4.00,\\r\\n    \"Discount ($)\": 0,\\r\\n    \"Cost ($)\": 1.0000000000,\\r\\n    \"Revenue ($)\": 2.4782600000,\\r\\n    \"Margin (%)\": 71.24\\r\\n  },\\r\\n  {\\r\\n    \"Outlet\":\"\",\\r\\n    \"Product\":\"Chai Latte FREE\",\\r\\n    \"SKU\": 10010,\\r\\n    \"Brand\":\" \",\\r\\n    \"Supplier\":\" \",\\r\\n    \"Type\":\" \",\\r\\n    \"Tags\":\" coffee; free\",\\r\\n    \"Supplier Code\":\" \",\\r\\n    \"Count\": 9,\\r\\n    \"Sales ($)\": 0.0000000000,\\r\\n    \"Tax ($)\": 0.0000000000,\\r\\n    \"Sales incl. tax ($)\": 0.00,\\r\\n    \"Discount ($)\": 0,\\r\\n    \"Cost ($)\": 0.0000000000,\\r\\n    \"Revenue ($)\": 0.0000000000,\\r\\n    \"Margin (%)\": 0.00\\r\\n  },\\r\\n  {\\r\\n    \"Outlet\":\"\",\\r\\n    \"Product\":\"Espresso FREE\",\\r\\n    \"SKU\": 10032,\\r\\n    \"Brand\":\" \",\\r\\n    \"Supplier\":\" \",\\r\\n    \"Type\":\" \",\\r\\n    \"Tags\":\" \",\\r\\n    \"Supplier Code\":\" \",\\r\\n    \"Count\": 14,\\r\\n    \"Sales ($)\": 0.0000000000,\\r\\n    \"Tax ($)\": 0.0000000000,\\r\\n    \"Sales incl. tax ($)\": 0.00,\\r\\n    \"Discount ($)\": 0,\\r\\n    \"Cost ($)\": 0.0000000000,\\r\\n    \"Revenue ($)\": 0.0000000000,\\r\\n    \"Margin (%)\": 0.00\\r\\n  },\\r\\n  {\\r\\n    \"Outlet\":\"\",\\r\\n    \"Product\":\"Flat White\",\\r\\n    \"SKU\": 10000,\\r\\n    \"Brand\":\" \",\\r\\n    \"Supplier\":\" \",\\r\\n    \"Type\":\" \",\\r\\n    \"Tags\":\" coffee\",\\r\\n    \"Supplier Code\":\" \",\\r\\n    \"Count\": 57,\\r\\n    \"Sales ($)\": 198.2608200000,\\r\\n    \"Tax ($)\": 29.7391800000,\\r\\n    \"Sales incl. tax ($)\": 228.00,\\r\\n    \"Discount ($)\": 0,\\r\\n    \"Cost ($)\": 57.0000000000,\\r\\n    \"Revenue ($)\": 141.2608200000,\\r\\n    \"Margin (%)\": 71.24\\r\\n  },\\r\\n  {\\r\\n    \"Outlet\":\"\",\\r\\n    \"Product\":\"Flat White FREE\",\\r\\n    \"SKU\": 10011,\\r\\n    \"Brand\":\" \",\\r\\n    \"Supplier\":\" \",\\r\\n    \"Type\":\" \",\\r\\n    \"Tags\":\" coffee; free\",\\r\\n    \"Supplier Code\":\" \",\\r\\n    \"Count\": 249,\\r\\n    \"Sales ($)\": 0.0000000000,\\r\\n    \"Tax ($)\": 0.0000000000,\\r\\n    \"Sales incl. tax ($)\": 0.00,\\r\\n    \"Discount ($)\": 0,\\r\\n    \"Cost ($)\": 0.0000000000,\\r\\n    \"Revenue ($)\": 0.0000000000,\\r\\n    \"Margin (%)\": 0.00\\r\\n  },\\r\\n  {\\r\\n    \"Outlet\":\"\",\\r\\n    \"Product\":\"Hot Chocolate\",\\r\\n    \"SKU\": 10005,\\r\\n    \"Brand\":\" \",\\r\\n    \"Supplier\":\" \",\\r\\n    \"Type\":\" \",\\r\\n    \"Tags\":\" coffee\",\\r\\n    \"Supplier Code\":\" \",\\r\\n    \"Count\": 7,\\r\\n    \"Sales ($)\": 24.3478200000,\\r\\n    \"Tax ($)\": 3.6521800000,\\r\\n    \"Sales incl. tax ($)\": 28.00,\\r\\n    \"Discount ($)\": 0,\\r\\n    \"Cost ($)\": 7.0000000000,\\r\\n    \"Revenue ($)\": 17.3478200000,\\r\\n    \"Margin (%)\": 71.24\\r\\n  },\\r\\n  {\\r\\n    \"Outlet\":\"\",\\r\\n    \"Product\":\"Hot Chocolate FREE\",\\r\\n    \"SKU\": 10012,\\r\\n    \"Brand\":\" \",\\r\\n    \"Supplier\":\" \",\\r\\n    \"Type\":\" \",\\r\\n    \"Tags\":\" coffee; free\",\\r\\n    \"Supplier Code\":\" \",\\r\\n    \"Count\": 121,\\r\\n    \"Sales ($)\": 0.0000000000,\\r\\n    \"Tax ($)\": 0.0000000000,\\r\\n    \"Sales incl. tax ($)\": 0.00,\\r\\n    \"Discount ($)\": 0,\\r\\n    \"Cost ($)\": 0.0000000000,\\r\\n    \"Revenue ($)\": 0.0000000000,\\r\\n    \"Margin (%)\": 0.00\\r\\n  },\\r\\n  {\\r\\n    \"Outlet\":\"\",\\r\\n    \"Product\":\"Long Black\",\\r\\n    \"SKU\": 10006,\\r\\n    \"Brand\":\" \",\\r\\n    \"Supplier\":\" \",\\r\\n    \"Type\":\" \",\\r\\n    \"Tags\":\" coffee\",\\r\\n    \"Supplier Code\":\" \",\\r\\n    \"Count\": 25,\\r\\n    \"Sales ($)\": 86.9565000000,\\r\\n    \"Tax ($)\": 13.0435000000,\\r\\n    \"Sales incl. tax ($)\": 100.00,\\r\\n    \"Discount ($)\": 0,\\r\\n    \"Cost ($)\": 25.0000000000,\\r\\n    \"Revenue ($)\": 61.9565000000,\\r\\n    \"Margin (%)\": 71.24\\r\\n  },\\r\\n  {\\r\\n    \"Outlet\":\"\",\\r\\n    \"Product\":\"Long Black FREE\",\\r\\n    \"SKU\": 10014,\\r\\n    \"Brand\":\" \",\\r\\n    \"Supplier\":\" \",\\r\\n    \"Type\":\" \",\\r\\n    \"Tags\":\" coffee; free\",\\r\\n    \"Supplier Code\":\" \",\\r\\n    \"Count\": 62,\\r\\n    \"Sales ($)\": 0.0000000000,\\r\\n    \"Tax ($)\": 0.0000000000,\\r\\n    \"Sales incl. tax ($)\": 0.00,\\r\\n    \"Discount ($)\": 0,\\r\\n    \"Cost ($)\": 0.0000000000,\\r\\n    \"Revenue ($)\": 0.0000000000,\\r\\n    \"Margin (%)\": 0.00\\r\\n  },\\r\\n  {\\r\\n    \"Outlet\":\"\",\\r\\n    \"Product\":\"Mocha\",\\r\\n    \"SKU\": 10004,\\r\\n    \"Brand\":\" \",\\r\\n    \"Supplier\":\" \",\\r\\n    \"Type\":\" \",\\r\\n    \"Tags\":\" coffee\",\\r\\n    \"Supplier Code\":\" \",\\r\\n    \"Count\": 13,\\r\\n    \"Sales ($)\": 45.2173800000,\\r\\n    \"Tax ($)\": 6.7826200000,\\r\\n    \"Sales incl. tax ($)\": 52.00,\\r\\n    \"Discount ($)\": 0,\\r\\n    \"Cost ($)\": 13.0000000000,\\r\\n    \"Revenue ($)\": 32.2173800000,\\r\\n    \"Margin (%)\": 71.24\\r\\n  },\\r\\n  {\\r\\n    \"Outlet\":\"\",\\r\\n    \"Product\":\"Mocha FREE\",\\r\\n    \"SKU\": 10015,\\r\\n    \"Brand\":\" \",\\r\\n    \"Supplier\":\" \",\\r\\n    \"Type\":\" \",\\r\\n    \"Tags\":\" coffee; free\",\\r\\n    \"Supplier Code\":\" \",\\r\\n    \"Count\": 81,\\r\\n    \"Sales ($)\": 0.0000000000,\\r\\n    \"Tax ($)\": 0.0000000000,\\r\\n    \"Sales incl. tax ($)\": 0.00,\\r\\n    \"Discount ($)\": 0,\\r\\n    \"Cost ($)\": 0.0000000000,\\r\\n    \"Revenue ($)\": 0.0000000000,\\r\\n    \"Margin (%)\": 0.00\\r\\n  },\\r\\n  {\\r\\n    \"Outlet\":\"\",\\r\\n    \"Product\":\"Total\",\\r\\n    \"SKU\":null,\\r\\n    \"Brand\":\"\",\\r\\n    \"Supplier\":\"\",\\r\\n    \"Type\":\"\",\\r\\n    \"Tags\":\"\",\\r\\n    \"Supplier Code\":\"\",\\r\\n    \"Count\":715.00,\\r\\n    \"Sales ($)\": 403.44,\\r\\n    \"Tax ($)\": 60.50,\\r\\n    \"Sales incl. tax ($)\": 463.94,\\r\\n    \"Discount ($)\": 0.00,\\r\\n    \"Cost ($)\": 116.00,\\r\\n    \"Revenue ($)\": 287.44,\\r\\n    \"Margin (%)\": 71.24727\\r\\n  },\\r\\n  {\\r\\n    \"Outlet\":\"\",\\r\\n    \"Product\":\"Grand Total\",\\r\\n    \"SKU\":null,\\r\\n    \"Brand\":\"\",\\r\\n    \"Supplier\":\"\",\\r\\n    \"Type\":\"\",\\r\\n    \"Tags\":\"\",\\r\\n    \"Supplier Code\":\"\",\\r\\n    \"Count\":715.00,\\r\\n    \"Sales ($)\": 403.44,\\r\\n    \"Tax ($)\": 60.50,\\r\\n    \"Sales incl. tax ($)\": 463.94,\\r\\n    \"Discount ($)\": 0.00,\\r\\n    \"Cost ($)\": 116.00,\\r\\n    \"Revenue ($)\": 287.44,\\r\\n    \"Margin (%)\": 71.24727\\r\\n  }\\r\\n][\\r\\n  {\\r\\n    \"Outlet\":\"LCA\",\\r\\n    \"Product\":\"Cappuccino\",\\r\\n    \"SKU\": 10001,\\r\\n    \"Brand\":\" \",\\r\\n    \"Supplier\":\" \",\\r\\n    \"Type\":\" \",\\r\\n    \"Tags\":\" coffee\",\\r\\n    \"Supplier Code\":\" \",\\r\\n    \"Count\": 13,\\r\\n    \"Sales ($)\": 45.2173800000,\\r\\n    \"Tax ($)\": 6.7826200000,\\r\\n    \"Sales incl. tax ($)\": 52.00,\\r\\n    \"Discount ($)\": 0,\\r\\n    \"Cost ($)\": 13.0000000000,\\r\\n    \"Revenue ($)\": 32.2173800000,\\r\\n    \"Margin (%)\": 71.24\\r\\n  },\\r\\n  {\\r\\n    \"Outlet\":\"\",\\r\\n    \"Product\":\"Cappuccino FREE\",\\r\\n    \"SKU\": 10009,\\r\\n    \"Brand\":\" \",\\r\\n    \"Supplier\":\" \",\\r\\n    \"Type\":\" \",\\r\\n    \"Tags\":\" coffee; free\",\\r\\n    \"Supplier Code\":\" \",\\r\\n    \"Count\": 63,\\r\\n    \"Sales ($)\": 0.0000000000,\\r\\n    \"Tax ($)\": 0.0000000000,\\r\\n    \"Sales incl. tax ($)\": 0.00,\\r\\n    \"Discount ($)\": 0,\\r\\n    \"Cost ($)\": 0.0000000000,\\r\\n    \"Revenue ($)\": 0.0000000000,\\r\\n    \"Margin (%)\": 0.00\\r\\n  },\\r\\n  {\\r\\n    \"Outlet\":\"\",\\r\\n    \"Product\":\"Chai Latte\",\\r\\n    \"SKU\": 10003,\\r\\n    \"Brand\":\" \",\\r\\n    \"Supplier\":\" \",\\r\\n    \"Type\":\" \",\\r\\n    \"Tags\":\" coffee\",\\r\\n    \"Supplier Code\":\" \",\\r\\n    \"Count\": 1,\\r\\n    \"Sales ($)\": 3.4782600000,\\r\\n    \"Tax ($)\": 0.5217400000,\\r\\n    \"Sales incl. tax ($)\": 4.00,\\r\\n    \"Discount ($)\": 0,\\r\\n    \"Cost ($)\": 1.0000000000,\\r\\n    \"Revenue ($)\": 2.4782600000,\\r\\n    \"Margin (%)\": 71.24\\r\\n  },\\r\\n  {\\r\\n    \"Outlet\":\"\",\\r\\n    \"Product\":\"Chai Latte FREE\",\\r\\n    \"SKU\": 10010,\\r\\n    \"Brand\":\" \",\\r\\n    \"Supplier\":\" \",\\r\\n    \"Type\":\" \",\\r\\n    \"Tags\":\" coffee; free\",\\r\\n    \"Supplier Code\":\" \",\\r\\n    \"Count\": 9,\\r\\n    \"Sales ($)\": 0.0000000000,\\r\\n    \"Tax ($)\": 0.0000000000,\\r\\n    \"Sales incl. tax ($)\": 0.00,\\r\\n    \"Discount ($)\": 0,\\r\\n    \"Cost ($)\": 0.0000000000,\\r\\n    \"Revenue ($)\": 0.0000000000,\\r\\n    \"Margin (%)\": 0.00\\r\\n  },\\r\\n  {\\r\\n    \"Outlet\":\"\",\\r\\n    \"Product\":\"Espresso FREE\",\\r\\n    \"SKU\": 10032,\\r\\n    \"Brand\":\" \",\\r\\n    \"Supplier\":\" \",\\r\\n    \"Type\":\" \",\\r\\n    \"Tags\":\" \",\\r\\n    \"Supplier Code\":\" \",\\r\\n    \"Count\": 14,\\r\\n    \"Sales ($)\": 0.0000000000,\\r\\n    \"Tax ($)\": 0.0000000000,\\r\\n    \"Sales incl. tax ($)\": 0.00,\\r\\n    \"Discount ($)\": 0,\\r\\n    \"Cost ($)\": 0.0000000000,\\r\\n    \"Revenue ($)\": 0.0000000000,\\r\\n    \"Margin (%)\": 0.00\\r\\n  },\\r\\n  {\\r\\n    \"Outlet\":\"\",\\r\\n    \"Product\":\"Flat White\",\\r\\n    \"SKU\": 10000,\\r\\n    \"Brand\":\" \",\\r\\n    \"Supplier\":\" \",\\r\\n    \"Type\":\" \",\\r\\n    \"Tags\":\" coffee\",\\r\\n    \"Supplier Code\":\" \",\\r\\n    \"Count\": 57,\\r\\n    \"Sales ($)\": 198.2608200000,\\r\\n    \"Tax ($)\": 29.7391800000,\\r\\n    \"Sales incl. tax ($)\": 228.00,\\r\\n    \"Discount ($)\": 0,\\r\\n    \"Cost ($)\": 57.0000000000,\\r\\n    \"Revenue ($)\": 141.2608200000,\\r\\n    \"Margin (%)\": 71.24\\r\\n  },\\r\\n  {\\r\\n    \"Outlet\":\"\",\\r\\n    \"Product\":\"Flat White FREE\",\\r\\n    \"SKU\": 10011,\\r\\n    \"Brand\":\" \",\\r\\n    \"Supplier\":\" \",\\r\\n    \"Type\":\" \",\\r\\n    \"Tags\":\" coffee; free\",\\r\\n    \"Supplier Code\":\" \",\\r\\n    \"Count\": 249,\\r\\n    \"Sales ($)\": 0.0000000000,\\r\\n    \"Tax ($)\": 0.0000000000,\\r\\n    \"Sales incl. tax ($)\": 0.00,\\r\\n    \"Discount ($)\": 0,\\r\\n    \"Cost ($)\": 0.0000000000,\\r\\n    \"Revenue ($)\": 0.0000000000,\\r\\n    \"Margin (%)\": 0.00\\r\\n  },\\r\\n  {\\r\\n    \"Outlet\":\"\",\\r\\n    \"Product\":\"Hot Chocolate\",\\r\\n    \"SKU\": 10005,\\r\\n    \"Brand\":\" \",\\r\\n    \"Supplier\":\" \",\\r\\n    \"Type\":\" \",\\r\\n    \"Tags\":\" coffee\",\\r\\n    \"Supplier Code\":\" \",\\r\\n    \"Count\": 7,\\r\\n    \"Sales ($)\": 24.3478200000,\\r\\n    \"Tax ($)\": 3.6521800000,\\r\\n    \"Sales incl. tax ($)\": 28.00,\\r\\n    \"Discount ($)\": 0,\\r\\n    \"Cost ($)\": 7.0000000000,\\r\\n    \"Revenue ($)\": 17.3478200000,\\r\\n    \"Margin (%)\": 71.24\\r\\n  },\\r\\n  {\\r\\n    \"Outlet\":\"\",\\r\\n    \"Product\":\"Hot Chocolate FREE\",\\r\\n    \"SKU\": 10012,\\r\\n    \"Brand\":\" \",\\r\\n    \"Supplier\":\" \",\\r\\n    \"Type\":\" \",\\r\\n    \"Tags\":\" coffee; free\",\\r\\n    \"Supplier Code\":\" \",\\r\\n    \"Count\": 121,\\r\\n    \"Sales ($)\": 0.0000000000,\\r\\n    \"Tax ($)\": 0.0000000000,\\r\\n    \"Sales incl. tax ($)\": 0.00,\\r\\n    \"Discount ($)\": 0,\\r\\n    \"Cost ($)\": 0.0000000000,\\r\\n    \"Revenue ($)\": 0.0000000000,\\r\\n    \"Margin (%)\": 0.00\\r\\n  },\\r\\n  {\\r\\n    \"Outlet\":\"\",\\r\\n    \"Product\":\"Long Black\",\\r\\n    \"SKU\": 10006,\\r\\n    \"Brand\":\" \",\\r\\n    \"Supplier\":\" \",\\r\\n    \"Type\":\" \",\\r\\n    \"Tags\":\" coffee\",\\r\\n    \"Supplier Code\":\" \",\\r\\n    \"Count\": 25,\\r\\n    \"Sales ($)\": 86.9565000000,\\r\\n    \"Tax ($)\": 13.0435000000,\\r\\n    \"Sales incl. tax ($)\": 100.00,\\r\\n    \"Discount ($)\": 0,\\r\\n    \"Cost ($)\": 25.0000000000,\\r\\n    \"Revenue ($)\": 61.9565000000,\\r\\n    \"Margin (%)\": 71.24\\r\\n  },\\r\\n  {\\r\\n    \"Outlet\":\"\",\\r\\n    \"Product\":\"Long Black FREE\",\\r\\n    \"SKU\": 10014,\\r\\n    \"Brand\":\" \",\\r\\n    \"Supplier\":\" \",\\r\\n    \"Type\":\" \",\\r\\n    \"Tags\":\" coffee; free\",\\r\\n    \"Supplier Code\":\" \",\\r\\n    \"Count\": 62,\\r\\n    \"Sales ($)\": 0.0000000000,\\r\\n    \"Tax ($)\": 0.0000000000,\\r\\n    \"Sales incl. tax ($)\": 0.00,\\r\\n    \"Discount ($)\": 0,\\r\\n    \"Cost ($)\": 0.0000000000,\\r\\n    \"Revenue ($)\": 0.0000000000,\\r\\n    \"Margin (%)\": 0.00\\r\\n  },\\r\\n  {\\r\\n    \"Outlet\":\"\",\\r\\n    \"Product\":\"Mocha\",\\r\\n    \"SKU\": 10004,\\r\\n    \"Brand\":\" \",\\r\\n    \"Supplier\":\" \",\\r\\n    \"Type\":\" \",\\r\\n    \"Tags\":\" coffee\",\\r\\n    \"Supplier Code\":\" \",\\r\\n    \"Count\": 13,\\r\\n    \"Sales ($)\": 45.2173800000,\\r\\n    \"Tax ($)\": 6.7826200000,\\r\\n    \"Sales incl. tax ($)\": 52.00,\\r\\n    \"Discount ($)\": 0,\\r\\n    \"Cost ($)\": 13.0000000000,\\r\\n    \"Revenue ($)\": 32.2173800000,\\r\\n    \"Margin (%)\": 71.24\\r\\n  },\\r\\n  {\\r\\n    \"Outlet\":\"\",\\r\\n    \"Product\":\"Mocha FREE\",\\r\\n    \"SKU\": 10015,\\r\\n    \"Brand\":\" \",\\r\\n    \"Supplier\":\" \",\\r\\n    \"Type\":\" \",\\r\\n    \"Tags\":\" coffee; free\",\\r\\n    \"Supplier Code\":\" \",\\r\\n    \"Count\": 81,\\r\\n    \"Sales ($)\": 0.0000000000,\\r\\n    \"Tax ($)\": 0.0000000000,\\r\\n    \"Sales incl. tax ($)\": 0.00,\\r\\n    \"Discount ($)\": 0,\\r\\n    \"Cost ($)\": 0.0000000000,\\r\\n    \"Revenue ($)\": 0.0000000000,\\r\\n    \"Margin (%)\": 0.00\\r\\n  },\\r\\n  {\\r\\n    \"Outlet\":\"\",\\r\\n    \"Product\":\"Total\",\\r\\n    \"SKU\":null,\\r\\n    \"Brand\":\"\",\\r\\n    \"Supplier\":\"\",\\r\\n    \"Type\":\"\",\\r\\n    \"Tags\":\"\",\\r\\n    \"Supplier Code\":\"\",\\r\\n    \"Count\":715.00,\\r\\n    \"Sales ($)\": 403.44,\\r\\n    \"Tax ($)\": 60.50,\\r\\n    \"Sales incl. tax ($)\": 463.94,\\r\\n    \"Discount ($)\": 0.00,\\r\\n    \"Cost ($)\": 116.00,\\r\\n    \"Revenue ($)\": 287.44,\\r\\n    \"Margin (%)\": 71.24727\\r\\n  },\\r\\n  {\\r\\n    \"Outlet\":\"\",\\r\\n    \"Product\":\"Grand Total\",\\r\\n    \"SKU\":null,\\r\\n    \"Brand\":\"\",\\r\\n    \"Supplier\":\"\",\\r\\n    \"Type\":\"\",\\r\\n    \"Tags\":\"\",\\r\\n    \"Supplier Code\":\"\",\\r\\n    \"Count\":715.00,\\r\\n    \"Sales ($)\": 403.44,\\r\\n    \"Tax ($)\": 60.50,\\r\\n    \"Sales incl. tax ($)\": 463.94,\\r\\n    \"Discount ($)\": 0.00,\\r\\n    \"Cost ($)\": 116.00,\\r\\n    \"Revenue ($)\": 287.44,\\r\\n    \"Margin (%)\": 71.24727\\r\\n  }\\r\\n][\\r\\n  {\\r\\n    \"Outlet\":\"LCA\",\\r\\n    \"Product\":\"Cappuccino\",\\r\\n    \"SKU\": 10001,\\r\\n    \"Brand\":\" \",\\r\\n    \"Supplier\":\" \",\\r\\n    \"Type\":\" \",\\r\\n    \"Tags\":\" coffee\",\\r\\n    \"Supplier Code\":\" \",\\r\\n    \"Count\": 13,\\r\\n    \"Sales ($)\": 45.2173800000,\\r\\n    \"Tax ($)\": 6.7826200000,\\r\\n    \"Sales incl. tax ($)\": 52.00,\\r\\n    \"Discount ($)\": 0,\\r\\n    \"Cost ($)\": 13.0000000000,\\r\\n    \"Revenue ($)\": 32.2173800000,\\r\\n    \"Margin (%)\": 71.24\\r\\n  },\\r\\n  {\\r\\n    \"Outlet\":\"\",\\r\\n    \"Product\":\"Cappuccino FREE\",\\r\\n    \"SKU\": 10009,\\r\\n    \"Brand\":\" \",\\r\\n    \"Supplier\":\" \",\\r\\n    \"Type\":\" \",\\r\\n    \"Tags\":\" coffee; free\",\\r\\n    \"Supplier Code\":\" \",\\r\\n    \"Count\": 63,\\r\\n    \"Sales ($)\": 0.0000000000,\\r\\n    \"Tax ($)\": 0.0000000000,\\r\\n    \"Sales incl. tax ($)\": 0.00,\\r\\n    \"Discount ($)\": 0,\\r\\n    \"Cost ($)\": 0.0000000000,\\r\\n    \"Revenue ($)\": 0.0000000000,\\r\\n    \"Margin (%)\": 0.00\\r\\n  },\\r\\n  {\\r\\n    \"Outlet\":\"\",\\r\\n    \"Product\":\"Chai Latte\",\\r\\n    \"SKU\": 10003,\\r\\n    \"Brand\":\" \",\\r\\n    \"Supplier\":\" \",\\r\\n    \"Type\":\" \",\\r\\n    \"Tags\":\" coffee\",\\r\\n    \"Supplier Code\":\" \",\\r\\n    \"Count\": 1,\\r\\n    \"Sales ($)\": 3.4782600000,\\r\\n    \"Tax ($)\": 0.5217400000,\\r\\n    \"Sales incl. tax ($)\": 4.00,\\r\\n    \"Discount ($)\": 0,\\r\\n    \"Cost ($)\": 1.0000000000,\\r\\n    \"Revenue ($)\": 2.4782600000,\\r\\n    \"Margin (%)\": 71.24\\r\\n  },\\r\\n  {\\r\\n    \"Outlet\":\"\",\\r\\n    \"Product\":\"Chai Latte FREE\",\\r\\n    \"SKU\": 10010,\\r\\n    \"Brand\":\" \",\\r\\n    \"Supplier\":\" \",\\r\\n    \"Type\":\" \",\\r\\n    \"Tags\":\" coffee; free\",\\r\\n    \"Supplier Code\":\" \",\\r\\n    \"Count\": 9,\\r\\n    \"Sales ($)\": 0.0000000000,\\r\\n    \"Tax ($)\": 0.0000000000,\\r\\n    \"Sales incl. tax ($)\": 0.00,\\r\\n    \"Discount ($)\": 0,\\r\\n    \"Cost ($)\": 0.0000000000,\\r\\n    \"Revenue ($)\": 0.0000000000,\\r\\n    \"Margin (%)\": 0.00\\r\\n  },\\r\\n  {\\r\\n    \"Outlet\":\"\",\\r\\n    \"Product\":\"Espresso FREE\",\\r\\n    \"SKU\": 10032,\\r\\n    \"Brand\":\" \",\\r\\n    \"Supplier\":\" \",\\r\\n    \"Type\":\" \",\\r\\n    \"Tags\":\" \",\\r\\n    \"Supplier Code\":\" \",\\r\\n    \"Count\": 14,\\r\\n    \"Sales ($)\": 0.0000000000,\\r\\n    \"Tax ($)\": 0.0000000000,\\r\\n    \"Sales incl. tax ($)\": 0.00,\\r\\n    \"Discount ($)\": 0,\\r\\n    \"Cost ($)\": 0.0000000000,\\r\\n    \"Revenue ($)\": 0.0000000000,\\r\\n    \"Margin (%)\": 0.00\\r\\n  },\\r\\n  {\\r\\n    \"Outlet\":\"\",\\r\\n    \"Product\":\"Flat White\",\\r\\n    \"SKU\": 10000,\\r\\n    \"Brand\":\" \",\\r\\n    \"Supplier\":\" \",\\r\\n    \"Type\":\" \",\\r\\n    \"Tags\":\" coffee\",\\r\\n    \"Supplier Code\":\" \",\\r\\n    \"Count\": 57,\\r\\n    \"Sales ($)\": 198.2608200000,\\r\\n    \"Tax ($)\": 29.7391800000,\\r\\n    \"Sales incl. tax ($)\": 228.00,\\r\\n    \"Discount ($)\": 0,\\r\\n    \"Cost ($)\": 57.0000000000,\\r\\n    \"Revenue ($)\": 141.2608200000,\\r\\n    \"Margin (%)\": 71.24\\r\\n  },\\r\\n  {\\r\\n    \"Outlet\":\"\",\\r\\n    \"Product\":\"Flat White FREE\",\\r\\n    \"SKU\": 10011,\\r\\n    \"Brand\":\" \",\\r\\n    \"Supplier\":\" \",\\r\\n    \"Type\":\" \",\\r\\n    \"Tags\":\" coffee; free\",\\r\\n    \"Supplier Code\":\" \",\\r\\n    \"Count\": 249,\\r\\n    \"Sales ($)\": 0.0000000000,\\r\\n    \"Tax ($)\": 0.0000000000,\\r\\n    \"Sales incl. tax ($)\": 0.00,\\r\\n    \"Discount ($)\": 0,\\r\\n    \"Cost ($)\": 0.0000000000,\\r\\n    \"Revenue ($)\": 0.0000000000,\\r\\n    \"Margin (%)\": 0.00\\r\\n  },\\r\\n  {\\r\\n    \"Outlet\":\"\",\\r\\n    \"Product\":\"Hot Chocolate\",\\r\\n    \"SKU\": 10005,\\r\\n    \"Brand\":\" \",\\r\\n    \"Supplier\":\" \",\\r\\n    \"Type\":\" \",\\r\\n    \"Tags\":\" coffee\",\\r\\n    \"Supplier Code\":\" \",\\r\\n    \"Count\": 7,\\r\\n    \"Sales ($)\": 24.3478200000,\\r\\n    \"Tax ($)\": 3.6521800000,\\r\\n    \"Sales incl. tax ($)\": 28.00,\\r\\n    \"Discount ($)\": 0,\\r\\n    \"Cost ($)\": 7.0000000000,\\r\\n    \"Revenue ($)\": 17.3478200000,\\r\\n    \"Margin (%)\": 71.24\\r\\n  },\\r\\n  {\\r\\n    \"Outlet\":\"\",\\r\\n    \"Product\":\"Hot Chocolate FREE\",\\r\\n    \"SKU\": 10012,\\r\\n    \"Brand\":\" \",\\r\\n    \"Supplier\":\" \",\\r\\n    \"Type\":\" \",\\r\\n    \"Tags\":\" coffee; free\",\\r\\n    \"Supplier Code\":\" \",\\r\\n    \"Count\": 121,\\r\\n    \"Sales ($)\": 0.0000000000,\\r\\n    \"Tax ($)\": 0.0000000000,\\r\\n    \"Sales incl. tax ($)\": 0.00,\\r\\n    \"Discount ($)\": 0,\\r\\n    \"Cost ($)\": 0.0000000000,\\r\\n    \"Revenue ($)\": 0.0000000000,\\r\\n    \"Margin (%)\": 0.00\\r\\n  },\\r\\n  {\\r\\n    \"Outlet\":\"\",\\r\\n    \"Product\":\"Long Black\",\\r\\n    \"SKU\": 10006,\\r\\n    \"Brand\":\" \",\\r\\n    \"Supplier\":\" \",\\r\\n    \"Type\":\" \",\\r\\n    \"Tags\":\" coffee\",\\r\\n    \"Supplier Code\":\" \",\\r\\n    \"Count\": 25,\\r\\n    \"Sales ($)\": 86.9565000000,\\r\\n    \"Tax ($)\": 13.0435000000,\\r\\n    \"Sales incl. tax ($)\": 100.00,\\r\\n    \"Discount ($)\": 0,\\r\\n    \"Cost ($)\": 25.0000000000,\\r\\n    \"Revenue ($)\": 61.9565000000,\\r\\n    \"Margin (%)\": 71.24\\r\\n  },\\r\\n  {\\r\\n    \"Outlet\":\"\",\\r\\n    \"Product\":\"Long Black FREE\",\\r\\n    \"SKU\": 10014,\\r\\n    \"Brand\":\" \",\\r\\n    \"Supplier\":\" \",\\r\\n    \"Type\":\" \",\\r\\n    \"Tags\":\" coffee; free\",\\r\\n    \"Supplier Code\":\" \",\\r\\n    \"Count\": 62,\\r\\n    \"Sales ($)\": 0.0000000000,\\r\\n    \"Tax ($)\": 0.0000000000,\\r\\n    \"Sales incl. tax ($)\": 0.00,\\r\\n    \"Discount ($)\": 0,\\r\\n    \"Cost ($)\": 0.0000000000,\\r\\n    \"Revenue ($)\": 0.0000000000,\\r\\n    \"Margin (%)\": 0.00\\r\\n  },\\r\\n  {\\r\\n    \"Outlet\":\"\",\\r\\n    \"Product\":\"Mocha\",\\r\\n    \"SKU\": 10004,\\r\\n    \"Brand\":\" \",\\r\\n    \"Supplier\":\" \",\\r\\n    \"Type\":\" \",\\r\\n    \"Tags\":\" coffee\",\\r\\n    \"Supplier Code\":\" \",\\r\\n    \"Count\": 13,\\r\\n    \"Sales ($)\": 45.2173800000,\\r\\n    \"Tax ($)\": 6.7826200000,\\r\\n    \"Sales incl. tax ($)\": 52.00,\\r\\n    \"Discount ($)\": 0,\\r\\n    \"Cost ($)\": 13.0000000000,\\r\\n    \"Revenue ($)\": 32.2173800000,\\r\\n    \"Margin (%)\": 71.24\\r\\n  },\\r\\n  {\\r\\n    \"Outlet\":\"\",\\r\\n    \"Product\":\"Mocha FREE\",\\r\\n    \"SKU\": 10015,\\r\\n    \"Brand\":\" \",\\r\\n    \"Supplier\":\" \",\\r\\n    \"Type\":\" \",\\r\\n    \"Tags\":\" coffee; free\",\\r\\n    \"Supplier Code\":\" \",\\r\\n    \"Count\": 81,\\r\\n    \"Sales ($)\": 0.0000000000,\\r\\n    \"Tax ($)\": 0.0000000000,\\r\\n    \"Sales incl. tax ($)\": 0.00,\\r\\n    \"Discount ($)\": 0,\\r\\n    \"Cost ($)\": 0.0000000000,\\r\\n    \"Revenue ($)\": 0.0000000000,\\r\\n    \"Margin (%)\": 0.00\\r\\n  },\\r\\n  {\\r\\n    \"Outlet\":\"\",\\r\\n    \"Product\":\"Total\",\\r\\n    \"SKU\":null,\\r\\n    \"Brand\":\"\",\\r\\n    \"Supplier\":\"\",\\r\\n    \"Type\":\"\",\\r\\n    \"Tags\":\"\",\\r\\n    \"Supplier Code\":\"\",\\r\\n    \"Count\":715.00,\\r\\n    \"Sales ($)\": 403.44,\\r\\n    \"Tax ($)\": 60.50,\\r\\n    \"Sales incl. tax ($)\": 463.94,\\r\\n    \"Discount ($)\": 0.00,\\r\\n    \"Cost ($)\": 116.00,\\r\\n    \"Revenue ($)\": 287.44,\\r\\n    \"Margin (%)\": 71.24727\\r\\n  },\\r\\n  {\\r\\n    \"Outlet\":\"\",\\r\\n    \"Product\":\"Grand Total\",\\r\\n    \"SKU\":null,\\r\\n    \"Brand\":\"\",\\r\\n    \"Supplier\":\"\",\\r\\n    \"Type\":\"\",\\r\\n    \"Tags\":\"\",\\r\\n    \"Supplier Code\":\"\",\\r\\n    \"Count\":715.00,\\r\\n    \"Sales ($)\": 403.44,\\r\\n    \"Tax ($)\": 60.50,\\r\\n    \"Sales incl. tax ($)\": 463.94,\\r\\n    \"Discount ($)\": 0.00,\\r\\n    \"Cost ($)\": 116.00,\\r\\n    \"Revenue ($)\": 287.44,\\r\\n    \"Margin (%)\": 71.24727\\r\\n  }\\r\\n]'"
      ]
     },
     "execution_count": 120,
     "metadata": {},
     "output_type": "execute_result"
    }
   ],
   "source": [
    "opzall.read()"
   ]
  },
  {
   "cell_type": "code",
   "execution_count": 86,
   "metadata": {
    "collapsed": true
   },
   "outputs": [],
   "source": [
    "opcvs = open(salhr, 'r')"
   ]
  },
  {
   "cell_type": "code",
   "execution_count": 87,
   "metadata": {
    "collapsed": false
   },
   "outputs": [],
   "source": [
    "opzrd = opcvs.read()"
   ]
  },
  {
   "cell_type": "code",
   "execution_count": 88,
   "metadata": {
    "collapsed": false
   },
   "outputs": [],
   "source": [
    "jdunp = json.loads(opzrd)"
   ]
  },
  {
   "cell_type": "code",
   "execution_count": 89,
   "metadata": {
    "collapsed": true
   },
   "outputs": [],
   "source": [
    "valia = []"
   ]
  },
  {
   "cell_type": "code",
   "execution_count": 90,
   "metadata": {
    "collapsed": false
   },
   "outputs": [],
   "source": [
    "#pandas.read_json(jdunp)"
   ]
  },
  {
   "cell_type": "code",
   "execution_count": 91,
   "metadata": {
    "collapsed": false
   },
   "outputs": [
    {
     "data": {
      "text/plain": [
       "0"
      ]
     },
     "execution_count": 91,
     "metadata": {},
     "output_type": "execute_result"
    }
   ],
   "source": [
    "jdunp.count(int)"
   ]
  },
  {
   "cell_type": "code",
   "execution_count": 92,
   "metadata": {
    "collapsed": false
   },
   "outputs": [
    {
     "data": {
      "text/plain": [
       "6"
      ]
     },
     "execution_count": 92,
     "metadata": {},
     "output_type": "execute_result"
    }
   ],
   "source": [
    "len(jdunp)"
   ]
  },
  {
   "cell_type": "markdown",
   "metadata": {},
   "source": [
    "ok if i cycle through jdunp between 0 and 23 i get the results.\n",
    "\n",
    "cycle through ints but as a string. must add ' '\n",
    "\n",
    "Break down coffee sales by hour.\n",
    "\n",
    "Ignore/delete hours with zero sales.\n",
    "Need to create new dict with this data. \n",
    "\n",
    "How would it look? "
   ]
  },
  {
   "cell_type": "code",
   "execution_count": 93,
   "metadata": {
    "collapsed": false
   },
   "outputs": [
    {
     "name": "stdout",
     "output_type": "stream",
     "text": [
      "'0'\n",
      "'1'\n",
      "'2'\n",
      "'3'\n",
      "'4'\n",
      "'5'\n",
      "'6'\n",
      "'7'\n",
      "'8'\n",
      "'9'\n",
      "'10'\n",
      "'11'\n",
      "'12'\n",
      "'13'\n",
      "'14'\n",
      "'15'\n",
      "'16'\n",
      "'17'\n",
      "'18'\n",
      "'19'\n",
      "'20'\n",
      "'21'\n",
      "'22'\n",
      "'23'\n"
     ]
    }
   ],
   "source": [
    "for numtwn in range(0,24):\n",
    "    print \"'\" + str(numtwn) + \"'\""
   ]
  },
  {
   "cell_type": "code",
   "execution_count": 94,
   "metadata": {
    "collapsed": false
   },
   "outputs": [
    {
     "name": "stdout",
     "output_type": "stream",
     "text": [
      "- -\n",
      "- -\n",
      "- -\n",
      "- -\n",
      "- -\n",
      "- -\n"
     ]
    }
   ],
   "source": [
    "for jdr in jdunp:\n",
    "    print jdr['0']"
   ]
  },
  {
   "cell_type": "code",
   "execution_count": 95,
   "metadata": {
    "collapsed": false
   },
   "outputs": [
    {
     "name": "stdout",
     "output_type": "stream",
     "text": [
      "'0'\n",
      "'1'\n",
      "'2'\n",
      "'3'\n",
      "'4'\n",
      "'5'\n",
      "'6'\n",
      "'7'\n",
      "'8'\n",
      "'9'\n",
      "'10'\n",
      "'11'\n",
      "'12'\n",
      "'13'\n",
      "'14'\n",
      "'15'\n",
      "'16'\n",
      "'17'\n",
      "'18'\n",
      "'19'\n",
      "'20'\n",
      "'21'\n",
      "'22'\n",
      "'23'\n"
     ]
    }
   ],
   "source": [
    "for numtwn in range(0,24):\n",
    "        print \"'\" + str(numtwn) + \"'\""
   ]
  },
  {
   "cell_type": "code",
   "execution_count": 96,
   "metadata": {
    "collapsed": false
   },
   "outputs": [
    {
     "name": "stdout",
     "output_type": "stream",
     "text": [
      "[u'- -', u'- -', u'- -', u'- -', u'- -', u'- -', u'- -', u'- -', u'- -', u'- -', u'- -', u'- -', u'- -', u'- -', u' 11 Jan 2015', u'', u'Sun', u'- -', u'- -', u'- -', u'4 (1)', u'0 (9)', u'12 (30)', u'0 (3)', u'8 (9)', u'- -', u'- -']\n",
      "[u'- -', u'- -', u'- -', u'- -', u'- -', u'- -', u'- -', u'- -', u'- -', u'- -', u'8 (9)', u'- -', u'40 (31)', u'44 (123)', u' 12 Jan 2015', u'', u'Mon', u'4 (13)', u'20 (118)', u'8 (52)', u'12 (34)', u'12 (46)', u'4 (33)', u'- -', u'0 (1)', u'- -', u'- -']\n",
      "[u'- -', u'- -', u'- -', u'- -', u'- -', u'- -', u'- -', u'- -', u'- -', u'- -', u'4 (17)', u'- -', u'0 (23)', u'24 (109)', u' 13 Jan 2015', u'', u'Tue', u'8 (25)', u'32 (101)', u'12 (55)', u'16 (43)', u'20 (100)', u'12 (43)', u'- -', u'4 (3)', u'- -', u'- -']\n",
      "[u'- -', u'- -', u'- -', u'- -', u'- -', u'- -', u'- -', u'- -', u'- -', u'- -', u'4 (19)', u'- -', u'8 (24)', u'20 (132)', u' 14 Jan 2015', u'', u'Wed', u'12 (39)', u'32 (133)', u'56 (64)', u'16 (36)', u'52 (83)', u'44 (38)', u'- -', u'- -', u'- -', u'- -']\n",
      "[u'- -', u'- -', u'- -', u'- -', u'- -', u'- -', u'- -', u'- -', u'- -', u'- -', u'8 (20)', u'- -', u'20 (25)', u'68 (115)', u' 15 Jan 2015', u'', u'Thu', u'40 (40)', u'132 (136)', u'52 (55)', u'36 (50)', u'72 (103)', u'32 (49)', u'- -', u'4 (6)', u'- -', u'- -']\n",
      "[u'- -', u'- -', u'- -', u'- -', u'- -', u'- -', u'- -', u'- -', u'- -', u'- -', u'12 (21)', u'- -', u'8 (15)', u'104 (128)', u' 16 Jan 2015', u'', u'Fri', u'28 (41)', u'112 (131)', u'40 (76)', u'40 (54)', u'92 (102)', u'28 (64)', u'- -', u'- -', u'- -', u'- -']\n"
     ]
    }
   ],
   "source": [
    "for dej in jdunp:\n",
    "    print dej.values()\n",
    "    valia.append(dej.values())"
   ]
  },
  {
   "cell_type": "code",
   "execution_count": 96,
   "metadata": {
    "collapsed": true
   },
   "outputs": [],
   "source": []
  },
  {
   "cell_type": "code",
   "execution_count": 97,
   "metadata": {
    "collapsed": false
   },
   "outputs": [],
   "source": [
    "dezrand = len(valia)"
   ]
  },
  {
   "cell_type": "code",
   "execution_count": 98,
   "metadata": {
    "collapsed": true
   },
   "outputs": [],
   "source": [
    "azlis = []"
   ]
  },
  {
   "cell_type": "code",
   "execution_count": 99,
   "metadata": {
    "collapsed": false
   },
   "outputs": [
    {
     "name": "stdout",
     "output_type": "stream",
     "text": [
      "[u'- -', u'- -', u'- -', u'- -', u'- -', u'- -', u'- -', u'- -', u'- -', u'- -', u'- -', u'- -', u'- -', u'- -', u' 11 Jan 2015', u'', u'Sun', u'- -', u'- -', u'- -', u'4 (1)', u'0 (9)', u'12 (30)', u'0 (3)', u'8 (9)', u'- -', u'- -']\n",
      "[u'- -', u'- -', u'- -', u'- -', u'- -', u'- -', u'- -', u'- -', u'- -', u'- -', u'8 (9)', u'- -', u'40 (31)', u'44 (123)', u' 12 Jan 2015', u'', u'Mon', u'4 (13)', u'20 (118)', u'8 (52)', u'12 (34)', u'12 (46)', u'4 (33)', u'- -', u'0 (1)', u'- -', u'- -']\n",
      "[u'- -', u'- -', u'- -', u'- -', u'- -', u'- -', u'- -', u'- -', u'- -', u'- -', u'4 (17)', u'- -', u'0 (23)', u'24 (109)', u' 13 Jan 2015', u'', u'Tue', u'8 (25)', u'32 (101)', u'12 (55)', u'16 (43)', u'20 (100)', u'12 (43)', u'- -', u'4 (3)', u'- -', u'- -']\n",
      "[u'- -', u'- -', u'- -', u'- -', u'- -', u'- -', u'- -', u'- -', u'- -', u'- -', u'4 (19)', u'- -', u'8 (24)', u'20 (132)', u' 14 Jan 2015', u'', u'Wed', u'12 (39)', u'32 (133)', u'56 (64)', u'16 (36)', u'52 (83)', u'44 (38)', u'- -', u'- -', u'- -', u'- -']\n",
      "[u'- -', u'- -', u'- -', u'- -', u'- -', u'- -', u'- -', u'- -', u'- -', u'- -', u'8 (20)', u'- -', u'20 (25)', u'68 (115)', u' 15 Jan 2015', u'', u'Thu', u'40 (40)', u'132 (136)', u'52 (55)', u'36 (50)', u'72 (103)', u'32 (49)', u'- -', u'4 (6)', u'- -', u'- -']\n",
      "[u'- -', u'- -', u'- -', u'- -', u'- -', u'- -', u'- -', u'- -', u'- -', u'- -', u'12 (21)', u'- -', u'8 (15)', u'104 (128)', u' 16 Jan 2015', u'', u'Fri', u'28 (41)', u'112 (131)', u'40 (76)', u'40 (54)', u'92 (102)', u'28 (64)', u'- -', u'- -', u'- -', u'- -']\n"
     ]
    }
   ],
   "source": [
    "for vals in valia:    \n",
    "    print vals\n",
    "    azlis.append(vals)"
   ]
  },
  {
   "cell_type": "markdown",
   "metadata": {},
   "source": [
    "I need to filter the - - from the results. I really only need the values that have numbers. \n",
    "\n",
    "Take number in brackets away from number not in brackets. \n",
    "The number in brackets is total amount of coffees sold. The number not in brackets is amount of volchers used. \n",
    "The number that I get when i take away is the coffee sold without volchers. \n",
    "\n",
    "New dict that shows only the times that coffee were sold and the amount of coffgfges that were solf. Maybe that would works. "
   ]
  },
  {
   "cell_type": "code",
   "execution_count": 100,
   "metadata": {
    "collapsed": true
   },
   "outputs": [],
   "source": [
    "betra = []"
   ]
  },
  {
   "cell_type": "code",
   "execution_count": 101,
   "metadata": {
    "collapsed": false
   },
   "outputs": [],
   "source": [
    "for azl in azlis:\n",
    "    betra.append(azl)"
   ]
  },
  {
   "cell_type": "code",
   "execution_count": 102,
   "metadata": {
    "collapsed": true
   },
   "outputs": [],
   "source": [
    "anoe = []\n",
    "anez = []"
   ]
  },
  {
   "cell_type": "code",
   "execution_count": 103,
   "metadata": {
    "collapsed": false
   },
   "outputs": [],
   "source": [
    "for betr in betra:\n",
    "    betr.append(anoe)"
   ]
  },
  {
   "cell_type": "code",
   "execution_count": 104,
   "metadata": {
    "collapsed": false
   },
   "outputs": [
    {
     "name": "stdout",
     "output_type": "stream",
     "text": [
      "- -\n",
      "- -\n",
      "- -\n",
      "- -\n",
      "- -\n",
      "- -\n",
      "- -\n",
      "- -\n",
      "- -\n",
      "- -\n",
      "- -\n",
      "- -\n",
      "- -\n",
      "- -\n",
      "- -\n"
     ]
    }
   ],
   "source": [
    "for deta in betr:\n",
    "    #print deta\n",
    "    if '- -' in deta:\n",
    "        print deta\n",
    "    else:\n",
    "        anez.append(deta)"
   ]
  },
  {
   "cell_type": "code",
   "execution_count": 105,
   "metadata": {
    "collapsed": true
   },
   "outputs": [],
   "source": [
    "fdic = []"
   ]
  },
  {
   "cell_type": "code",
   "execution_count": 105,
   "metadata": {
    "collapsed": true
   },
   "outputs": [],
   "source": []
  },
  {
   "cell_type": "code",
   "execution_count": 106,
   "metadata": {
    "collapsed": false
   },
   "outputs": [
    {
     "name": "stdout",
     "output_type": "stream",
     "text": [
      "12 (21)\n",
      "8 (15)\n",
      "104 (128)\n",
      " 16 Jan 2015\n",
      "\n",
      "Fri\n",
      "28 (41)\n",
      "112 (131)\n",
      "40 (76)\n",
      "40 (54)\n",
      "92 (102)\n",
      "28 (64)\n",
      "[]\n"
     ]
    }
   ],
   "source": [
    "for resut in anez:\n",
    "    print resut\n",
    "    fdic.append(resut)"
   ]
  },
  {
   "cell_type": "markdown",
   "metadata": {},
   "source": [
    "How come it is only adding the wednesday data in the results. It needs to have all the datas. \n",
    "\n",
    "Needs to take the number in brackets away from the number not in brackets."
   ]
  },
  {
   "cell_type": "code",
   "execution_count": 107,
   "metadata": {
    "collapsed": false
   },
   "outputs": [
    {
     "data": {
      "text/plain": [
       "[u'12 (21)',\n",
       " u'8 (15)',\n",
       " u'104 (128)',\n",
       " u' 16 Jan 2015',\n",
       " u'',\n",
       " u'Fri',\n",
       " u'28 (41)',\n",
       " u'112 (131)',\n",
       " u'40 (76)',\n",
       " u'40 (54)',\n",
       " u'92 (102)',\n",
       " u'28 (64)',\n",
       " []]"
      ]
     },
     "execution_count": 107,
     "metadata": {},
     "output_type": "execute_result"
    }
   ],
   "source": [
    "fdic"
   ]
  },
  {
   "cell_type": "code",
   "execution_count": 108,
   "metadata": {
    "collapsed": false
   },
   "outputs": [],
   "source": [
    "optue = open('/home/wcmckee/Downloads/saletues.json', 'r')"
   ]
  },
  {
   "cell_type": "code",
   "execution_count": 109,
   "metadata": {
    "collapsed": false
   },
   "outputs": [],
   "source": [
    "rdtue = optue.read()"
   ]
  },
  {
   "cell_type": "code",
   "execution_count": 110,
   "metadata": {
    "collapsed": false
   },
   "outputs": [],
   "source": [
    "tuejs = json.loads(rdtue)"
   ]
  },
  {
   "cell_type": "code",
   "execution_count": 111,
   "metadata": {
    "collapsed": false
   },
   "outputs": [
    {
     "data": {
      "text/plain": [
       "[{u'Brand': u' ',\n",
       "  u'Cost ($)': 2.0,\n",
       "  u'Count': 2,\n",
       "  u'Discount ($)': 0,\n",
       "  u'Margin (%)': 71.24,\n",
       "  u'Outlet': u'LCA',\n",
       "  u'Product': u'Cappuccino',\n",
       "  u'Revenue ($)': 4.95652,\n",
       "  u'SKU': 10001,\n",
       "  u'Sales ($)': 6.95652,\n",
       "  u'Sales incl. tax ($)': 8.0,\n",
       "  u'Supplier': u' ',\n",
       "  u'Supplier Code': u' ',\n",
       "  u'Tags': u' coffee',\n",
       "  u'Tax ($)': 1.04348,\n",
       "  u'Type': u' '},\n",
       " {u'Brand': u' ',\n",
       "  u'Cost ($)': 0.0,\n",
       "  u'Count': 69,\n",
       "  u'Discount ($)': 0,\n",
       "  u'Margin (%)': 0.0,\n",
       "  u'Outlet': u'',\n",
       "  u'Product': u'Cappuccino FREE',\n",
       "  u'Revenue ($)': 0.0,\n",
       "  u'SKU': 10009,\n",
       "  u'Sales ($)': 0.0,\n",
       "  u'Sales incl. tax ($)': 0.0,\n",
       "  u'Supplier': u' ',\n",
       "  u'Supplier Code': u' ',\n",
       "  u'Tags': u' coffee; free',\n",
       "  u'Tax ($)': 0.0,\n",
       "  u'Type': u' '},\n",
       " {u'Brand': u' ',\n",
       "  u'Cost ($)': 0.0,\n",
       "  u'Count': 15,\n",
       "  u'Discount ($)': 0,\n",
       "  u'Margin (%)': 0.0,\n",
       "  u'Outlet': u'',\n",
       "  u'Product': u'Chai Latte FREE',\n",
       "  u'Revenue ($)': 0.0,\n",
       "  u'SKU': 10010,\n",
       "  u'Sales ($)': 0.0,\n",
       "  u'Sales incl. tax ($)': 0.0,\n",
       "  u'Supplier': u' ',\n",
       "  u'Supplier Code': u' ',\n",
       "  u'Tags': u' coffee; free',\n",
       "  u'Tax ($)': 0.0,\n",
       "  u'Type': u' '},\n",
       " {u'Brand': u' ',\n",
       "  u'Cost ($)': 0.0,\n",
       "  u'Count': 7,\n",
       "  u'Discount ($)': 0,\n",
       "  u'Margin (%)': 0.0,\n",
       "  u'Outlet': u'',\n",
       "  u'Product': u'Espresso FREE',\n",
       "  u'Revenue ($)': 0.0,\n",
       "  u'SKU': 10032,\n",
       "  u'Sales ($)': 0.0,\n",
       "  u'Sales incl. tax ($)': 0.0,\n",
       "  u'Supplier': u' ',\n",
       "  u'Supplier Code': u' ',\n",
       "  u'Tags': u' ',\n",
       "  u'Tax ($)': 0.0,\n",
       "  u'Type': u' '},\n",
       " {u'Brand': u' ',\n",
       "  u'Cost ($)': 17.0,\n",
       "  u'Count': 17,\n",
       "  u'Discount ($)': 0,\n",
       "  u'Margin (%)': 71.24,\n",
       "  u'Outlet': u'',\n",
       "  u'Product': u'Flat White',\n",
       "  u'Revenue ($)': 42.13042,\n",
       "  u'SKU': 10000,\n",
       "  u'Sales ($)': 59.13042,\n",
       "  u'Sales incl. tax ($)': 68.0,\n",
       "  u'Supplier': u' ',\n",
       "  u'Supplier Code': u' ',\n",
       "  u'Tags': u' coffee',\n",
       "  u'Tax ($)': 8.86958,\n",
       "  u'Type': u' '},\n",
       " {u'Brand': u' ',\n",
       "  u'Cost ($)': 0.0,\n",
       "  u'Count': 242,\n",
       "  u'Discount ($)': 0,\n",
       "  u'Margin (%)': 0.0,\n",
       "  u'Outlet': u'',\n",
       "  u'Product': u'Flat White FREE',\n",
       "  u'Revenue ($)': 0.0,\n",
       "  u'SKU': 10011,\n",
       "  u'Sales ($)': 0.0,\n",
       "  u'Sales incl. tax ($)': 0.0,\n",
       "  u'Supplier': u' ',\n",
       "  u'Supplier Code': u' ',\n",
       "  u'Tags': u' coffee; free',\n",
       "  u'Tax ($)': 0.0,\n",
       "  u'Type': u' '},\n",
       " {u'Brand': u' ',\n",
       "  u'Cost ($)': 5.0,\n",
       "  u'Count': 5,\n",
       "  u'Discount ($)': 0,\n",
       "  u'Margin (%)': 71.24,\n",
       "  u'Outlet': u'',\n",
       "  u'Product': u'Hot Chocolate',\n",
       "  u'Revenue ($)': 12.3913,\n",
       "  u'SKU': 10005,\n",
       "  u'Sales ($)': 17.3913,\n",
       "  u'Sales incl. tax ($)': 20.0,\n",
       "  u'Supplier': u' ',\n",
       "  u'Supplier Code': u' ',\n",
       "  u'Tags': u' coffee',\n",
       "  u'Tax ($)': 2.6087,\n",
       "  u'Type': u' '},\n",
       " {u'Brand': u' ',\n",
       "  u'Cost ($)': 0.0,\n",
       "  u'Count': 68,\n",
       "  u'Discount ($)': 0,\n",
       "  u'Margin (%)': 0.0,\n",
       "  u'Outlet': u'',\n",
       "  u'Product': u'Hot Chocolate FREE',\n",
       "  u'Revenue ($)': 0.0,\n",
       "  u'SKU': 10012,\n",
       "  u'Sales ($)': 0.0,\n",
       "  u'Sales incl. tax ($)': 0.0,\n",
       "  u'Supplier': u' ',\n",
       "  u'Supplier Code': u' ',\n",
       "  u'Tags': u' coffee; free',\n",
       "  u'Tax ($)': 0.0,\n",
       "  u'Type': u' '},\n",
       " {u'Brand': u' ',\n",
       "  u'Cost ($)': 6.0,\n",
       "  u'Count': 6,\n",
       "  u'Discount ($)': 0,\n",
       "  u'Margin (%)': 71.24,\n",
       "  u'Outlet': u'',\n",
       "  u'Product': u'Long Black',\n",
       "  u'Revenue ($)': 14.86956,\n",
       "  u'SKU': 10006,\n",
       "  u'Sales ($)': 20.86956,\n",
       "  u'Sales incl. tax ($)': 24.0,\n",
       "  u'Supplier': u' ',\n",
       "  u'Supplier Code': u' ',\n",
       "  u'Tags': u' coffee',\n",
       "  u'Tax ($)': 3.13044,\n",
       "  u'Type': u' '},\n",
       " {u'Brand': u' ',\n",
       "  u'Cost ($)': 0.0,\n",
       "  u'Count': 73,\n",
       "  u'Discount ($)': 0,\n",
       "  u'Margin (%)': 0.0,\n",
       "  u'Outlet': u'',\n",
       "  u'Product': u'Long Black FREE',\n",
       "  u'Revenue ($)': 0.0,\n",
       "  u'SKU': 10014,\n",
       "  u'Sales ($)': 0.0,\n",
       "  u'Sales incl. tax ($)': 0.0,\n",
       "  u'Supplier': u' ',\n",
       "  u'Supplier Code': u' ',\n",
       "  u'Tags': u' coffee; free',\n",
       "  u'Tax ($)': 0.0,\n",
       "  u'Type': u' '},\n",
       " {u'Brand': u' ',\n",
       "  u'Cost ($)': 0.0,\n",
       "  u'Count': 4,\n",
       "  u'Discount ($)': 0,\n",
       "  u'Margin (%)': 0.0,\n",
       "  u'Outlet': u'',\n",
       "  u'Product': u'Macchiato FREE',\n",
       "  u'Revenue ($)': 0.0,\n",
       "  u'SKU': 10030,\n",
       "  u'Sales ($)': 0.0,\n",
       "  u'Sales incl. tax ($)': 0.0,\n",
       "  u'Supplier': u' ',\n",
       "  u'Supplier Code': u' ',\n",
       "  u'Tags': u' ',\n",
       "  u'Tax ($)': 0.0,\n",
       "  u'Type': u' '},\n",
       " {u'Brand': u' ',\n",
       "  u'Cost ($)': 3.0,\n",
       "  u'Count': 3,\n",
       "  u'Discount ($)': 0,\n",
       "  u'Margin (%)': 71.24,\n",
       "  u'Outlet': u'',\n",
       "  u'Product': u'Mocha',\n",
       "  u'Revenue ($)': 7.43478,\n",
       "  u'SKU': 10004,\n",
       "  u'Sales ($)': 10.43478,\n",
       "  u'Sales incl. tax ($)': 12.0,\n",
       "  u'Supplier': u' ',\n",
       "  u'Supplier Code': u' ',\n",
       "  u'Tags': u' coffee',\n",
       "  u'Tax ($)': 1.56522,\n",
       "  u'Type': u' '},\n",
       " {u'Brand': u' ',\n",
       "  u'Cost ($)': 0.0,\n",
       "  u'Count': 61,\n",
       "  u'Discount ($)': 0,\n",
       "  u'Margin (%)': 0.0,\n",
       "  u'Outlet': u'',\n",
       "  u'Product': u'Mocha FREE',\n",
       "  u'Revenue ($)': 0.0,\n",
       "  u'SKU': 10015,\n",
       "  u'Sales ($)': 0.0,\n",
       "  u'Sales incl. tax ($)': 0.0,\n",
       "  u'Supplier': u' ',\n",
       "  u'Supplier Code': u' ',\n",
       "  u'Tags': u' coffee; free',\n",
       "  u'Tax ($)': 0.0,\n",
       "  u'Type': u' '},\n",
       " {u'Brand': u'',\n",
       "  u'Cost ($)': 33.0,\n",
       "  u'Count': 572.0,\n",
       "  u'Discount ($)': 0.0,\n",
       "  u'Margin (%)': 71.24433,\n",
       "  u'Outlet': u'',\n",
       "  u'Product': u'Total',\n",
       "  u'Revenue ($)': 81.76,\n",
       "  u'SKU': None,\n",
       "  u'Sales ($)': 114.76,\n",
       "  u'Sales incl. tax ($)': 131.95,\n",
       "  u'Supplier': u'',\n",
       "  u'Supplier Code': u'',\n",
       "  u'Tags': u'',\n",
       "  u'Tax ($)': 17.19,\n",
       "  u'Type': u''},\n",
       " {u'Brand': u'',\n",
       "  u'Cost ($)': 33.0,\n",
       "  u'Count': 572.0,\n",
       "  u'Discount ($)': 0.0,\n",
       "  u'Margin (%)': 71.24433,\n",
       "  u'Outlet': u'',\n",
       "  u'Product': u'Grand Total',\n",
       "  u'Revenue ($)': 81.76,\n",
       "  u'SKU': None,\n",
       "  u'Sales ($)': 114.76,\n",
       "  u'Sales incl. tax ($)': 131.95,\n",
       "  u'Supplier': u'',\n",
       "  u'Supplier Code': u'',\n",
       "  u'Tags': u'',\n",
       "  u'Tax ($)': 17.19,\n",
       "  u'Type': u''}]"
      ]
     },
     "execution_count": 111,
     "metadata": {},
     "output_type": "execute_result"
    }
   ],
   "source": [
    "tuejs"
   ]
  },
  {
   "cell_type": "code",
   "execution_count": 112,
   "metadata": {
    "collapsed": true
   },
   "outputs": [],
   "source": [
    "saltax = []"
   ]
  },
  {
   "cell_type": "code",
   "execution_count": 113,
   "metadata": {
    "collapsed": false
   },
   "outputs": [
    {
     "name": "stdout",
     "output_type": "stream",
     "text": [
      "8.0\n",
      "0.0\n",
      "0.0\n",
      "0.0\n",
      "68.0\n",
      "0.0\n",
      "20.0\n",
      "0.0\n",
      "24.0\n",
      "0.0\n",
      "0.0\n",
      "12.0\n",
      "0.0\n",
      "131.95\n",
      "131.95\n"
     ]
    }
   ],
   "source": [
    "for bran in tuejs:\n",
    "    #print bran['Revenue ($)']\n",
    "    print bran['Sales incl. tax ($)']\n",
    "    saltax.append(bran['Sales incl. tax ($)'])"
   ]
  },
  {
   "cell_type": "code",
   "execution_count": 114,
   "metadata": {
    "collapsed": true
   },
   "outputs": [],
   "source": [
    "satxtot = sum(saltax)"
   ]
  },
  {
   "cell_type": "code",
   "execution_count": 115,
   "metadata": {
    "collapsed": false
   },
   "outputs": [
    {
     "data": {
      "text/plain": [
       "395.9"
      ]
     },
     "execution_count": 115,
     "metadata": {},
     "output_type": "execute_result"
    }
   ],
   "source": [
    "satxtot"
   ]
  },
  {
   "cell_type": "code",
   "execution_count": 116,
   "metadata": {
    "collapsed": false
   },
   "outputs": [
    {
     "name": "stdout",
     "output_type": "stream",
     "text": [
      "Cappuccino\n",
      "Cappuccino FREE\n",
      "Chai Latte FREE\n",
      "Espresso FREE\n",
      "Flat White\n",
      "Flat White FREE\n",
      "Hot Chocolate\n",
      "Hot Chocolate FREE\n",
      "Long Black\n",
      "Long Black FREE\n",
      "Macchiato FREE\n",
      "Mocha\n",
      "Mocha FREE\n",
      "Total\n",
      "Grand Total\n"
     ]
    }
   ],
   "source": [
    "for bran in tuejs:\n",
    "    #print bran['Revenue ($)']\n",
    "    print bran['Product']"
   ]
  },
  {
   "cell_type": "code",
   "execution_count": 116,
   "metadata": {
    "collapsed": true
   },
   "outputs": [],
   "source": []
  },
  {
   "cell_type": "code",
   "execution_count": 116,
   "metadata": {
    "collapsed": true
   },
   "outputs": [],
   "source": []
  },
  {
   "cell_type": "code",
   "execution_count": null,
   "metadata": {
    "collapsed": true
   },
   "outputs": [],
   "source": []
  }
 ],
 "metadata": {
  "kernelspec": {
   "display_name": "Python 2",
   "name": "python2"
  },
  "language_info": {
   "codemirror_mode": {
    "name": "ipython",
    "version": 2
   },
   "file_extension": ".py",
   "mimetype": "text/x-python",
   "name": "python",
   "nbconvert_exporter": "python",
   "pygments_lexer": "ipython2",
   "version": "2.7.8"
  }
 },
 "nbformat": 4,
 "nbformat_minor": 0
}
