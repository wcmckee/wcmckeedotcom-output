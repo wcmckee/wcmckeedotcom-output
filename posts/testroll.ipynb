{
 "cells": [
  {
   "cell_type": "code",
   "execution_count": 75,
   "metadata": {
    "collapsed": false
   },
   "outputs": [],
   "source": [
    "from nose.tools import ok_, eq_\n",
    "import random\n",
    "import re\n",
    "import nose.tools\n",
    "#import signinlca\n",
    "import time\n",
    "import os"
   ]
  },
  {
   "cell_type": "code",
   "execution_count": null,
   "metadata": {
    "collapsed": true
   },
   "outputs": [],
   "source": []
  },
  {
   "cell_type": "code",
   "execution_count": null,
   "metadata": {
    "collapsed": true
   },
   "outputs": [],
   "source": [
    "#nose.tools.assert_list_equal"
   ]
  },
  {
   "cell_type": "code",
   "execution_count": 42,
   "metadata": {
    "collapsed": true
   },
   "outputs": [],
   "source": [
    "#Nose check dir is there\n",
    "#Check username is in usernames folder\n",
    "#Check user is in /home/"
   ]
  },
  {
   "cell_type": "code",
   "execution_count": 57,
   "metadata": {
    "collapsed": false
   },
   "outputs": [
    {
     "name": "stdout",
     "output_type": "stream",
     "text": [
      "7\n"
     ]
    }
   ],
   "source": [
    "#print len('erter23')"
   ]
  },
  {
   "cell_type": "code",
   "execution_count": 66,
   "metadata": {
    "collapsed": false
   },
   "outputs": [
    {
     "name": "stdout",
     "output_type": "stream",
     "text": [
      "Enter numberqwertya\n"
     ]
    }
   ],
   "source": [
    "#Need to nose test raw_input\n",
    "#charinp = raw_input('Enter number')"
   ]
  },
  {
   "cell_type": "code",
   "execution_count": 67,
   "metadata": {
    "collapsed": false
   },
   "outputs": [],
   "source": [
    "def testlenth():\n",
    "    if len('blahesrs') > 7:\n",
    "        assert True\n",
    "    else:\n",
    "        assert False\n",
    "\n",
    "#def testchartyp():\n",
    "    \n",
    "# #   assert len('erter23') == 7"
   ]
  },
  {
   "cell_type": "code",
   "execution_count": 73,
   "metadata": {
    "collapsed": true
   },
   "outputs": [],
   "source": [
    "import requests\n",
    "import shutil"
   ]
  },
  {
   "cell_type": "code",
   "execution_count": 71,
   "metadata": {
    "collapsed": false
   },
   "outputs": [],
   "source": [
    "def testdirmk():\n",
    "    if os.path.isdir('/home/wcmckee/github') == True:\n",
    "        assert True\n",
    "    else:\n",
    "        assert False\n",
    "    #os.mkdir(gtsdrndir)\n",
    "    \n",
    "def testimgur():\n",
    "    if 'http://i.imgur.com' in 'http://i.imgur.com/RfIHXaJ.jpg':\n",
    "        #print rdz.url\n",
    "        assert True\n",
    "    else:\n",
    "        assert False\n",
    "        \n",
    "#def testrequeget():\n",
    "#    if requests.get('/home/wcmckee/github/signinlca/testroll.py', stream=True):\n",
    "        \n",
    "    \n",
    "        #url = rdz.url\n",
    "        #response = requests.get(url, stream=True)\n",
    "        #with open(str(rdz.author) + '-reference.png', 'wb') as out_file:\n",
    "        #    shutil.copyfileobj(response.raw, out_file)\n",
    "        #    del response\n",
    "        \n",
    "#def test"
   ]
  },
  {
   "cell_type": "code",
   "execution_count": 43,
   "metadata": {
    "collapsed": false
   },
   "outputs": [],
   "source": [
    "#def checkstrlen():\n",
    "#    assert len( 'erter23') < 6\n",
    "    "
   ]
  },
  {
   "cell_type": "code",
   "execution_count": 45,
   "metadata": {
    "collapsed": false
   },
   "outputs": [],
   "source": [
    "#nose.core.logging.codecs"
   ]
  },
  {
   "cell_type": "code",
   "execution_count": 46,
   "metadata": {
    "collapsed": false
   },
   "outputs": [],
   "source": [
    "#nose.run("
   ]
  },
  {
   "cell_type": "code",
   "execution_count": 47,
   "metadata": {
    "collapsed": true
   },
   "outputs": [],
   "source": [
    "#def testhomedir():\n",
    "#    assert os.listdir('/home/wcmckee/') == True"
   ]
  },
  {
   "cell_type": "markdown",
   "metadata": {},
   "source": [
    "Test that the list is empty."
   ]
  },
  {
   "cell_type": "code",
   "execution_count": 49,
   "metadata": {
    "collapsed": true
   },
   "outputs": [],
   "source": [
    "#def teststr():\n",
    "#    if ranumlis == []:\n",
    "#        assert True\n",
    "#    else:\n",
    "#        assert False\n",
    "        \n",
    "#def testfullis():\n",
    "#    if ranumlis == list:\n",
    "#        assert True\n",
    "#    else:\n",
    "#        assert False\n",
    "    \n",
    "#def testrandnum():\n",
    "#    if randmun == 5:\n",
    "#        assert True\n",
    "#    else:\n",
    "#        assert False"
   ]
  },
  {
   "cell_type": "code",
   "execution_count": 50,
   "metadata": {
    "collapsed": true
   },
   "outputs": [],
   "source": [
    "EMAIL_REGEXP = r'[\\S.]+@[\\S.]+'\n",
    "\n",
    "def test_email_regexp():\n",
    "#   # a regular e-mail address should match\n",
    "   assert re.match(EMAIL_REGEXP, 'test@nowhere.com')\n",
    "\n",
    "#   # no domain should fail\n",
    "#    assert not re.match(EMAIL_REGEXP, 'test@')"
   ]
  },
  {
   "cell_type": "code",
   "execution_count": 51,
   "metadata": {
    "collapsed": true
   },
   "outputs": [],
   "source": [
    "#import nose"
   ]
  },
  {
   "cell_type": "code",
   "execution_count": 52,
   "metadata": {
    "collapsed": false
   },
   "outputs": [],
   "source": [
    "#nose.tools.assert_greater()\n",
    "\n",
    "#nose.tools."
   ]
  },
  {
   "cell_type": "code",
   "execution_count": 54,
   "metadata": {
    "collapsed": false
   },
   "outputs": [
    {
     "data": {
      "text/plain": [
       "0"
      ]
     },
     "execution_count": 54,
     "metadata": {},
     "output_type": "execute_result"
    }
   ],
   "source": [
    "#os.listdir('/home/wcmckee/signinlca/')\n",
    "#os.system('ipython nbconvert /home/wcmckee/github/signinlca/testroll.ipynb --to python')\n",
    "\n"
   ]
  },
  {
   "cell_type": "code",
   "execution_count": 10,
   "metadata": {
    "collapsed": true
   },
   "outputs": [],
   "source": [
    "#def testsum():\n",
    "#    eq_(4+2,4)"
   ]
  },
  {
   "cell_type": "code",
   "execution_count": 13,
   "metadata": {
    "collapsed": false
   },
   "outputs": [
    {
     "name": "stdout",
     "output_type": "stream",
     "text": [
      "[1, 15, 26, 37, 41, 58, 64, 74, 80, 95]\n"
     ]
    }
   ],
   "source": [
    "#get_ipython().magic(u'logstart')\n",
    "#import random\n",
    "#ranumlis = []\n",
    "#ranlow = 0\n",
    "#ranhigh = 9\n",
    "\n",
    "#for ranez in range(10):\n",
    "#      randmun = random.randint(ranlow, ranhigh)\n",
    "#      ranumlis.append(randmun)\n",
    "\n",
    "#      ranlow = (ranlow + 10)\n",
    "#      ranhigh = (ranhigh + 10)\n",
    "\n",
    "#print ranumlis"
   ]
  },
  {
   "cell_type": "code",
   "execution_count": null,
   "metadata": {
    "collapsed": true
   },
   "outputs": [],
   "source": [
    "#def testlis():\n",
    "    "
   ]
  },
  {
   "cell_type": "code",
   "execution_count": 6,
   "metadata": {
    "collapsed": true
   },
   "outputs": [],
   "source": [
    "#def test():\n",
    "#    assert False"
   ]
  },
  {
   "cell_type": "code",
   "execution_count": 78,
   "metadata": {
    "collapsed": false
   },
   "outputs": [],
   "source": [
    "#def testpass():\n",
    "#    pass\n",
    "\n",
    "#Test counting 0,9 10,19 to 90,99."
   ]
  },
  {
   "cell_type": "code",
   "execution_count": 79,
   "metadata": {
    "collapsed": true
   },
   "outputs": [],
   "source": [
    "#def testcountonhundrd():\n",
    "#    for coun in range(0,99):\n",
    "#        yield coun"
   ]
  },
  {
   "cell_type": "code",
   "execution_count": null,
   "metadata": {
    "collapsed": true
   },
   "outputs": [],
   "source": [
    "def testodd():\n",
    "    for i in range(0,10):\n",
    "        yield checkodd, i , i*2\n",
    "        \n",
    "def checkodd(n, nn):\n",
    "    assert n % 3 == 0 or nn % 3 == 0\n",
    "        \n"
   ]
  },
  {
   "cell_type": "code",
   "execution_count": 77,
   "metadata": {
    "collapsed": true
   },
   "outputs": [],
   "source": [
    "#def testevens():\n",
    "#    for i in range(0, 99):\n",
    "#        yield checkeven, i, i*3\n",
    "        \n",
    "#def checkeven(n, nn):\n",
    "#    assert n % 2 == 0 or nn % 2 == 0"
   ]
  },
  {
   "cell_type": "code",
   "execution_count": 76,
   "metadata": {
    "collapsed": true
   },
   "outputs": [],
   "source": [
    "#Test "
   ]
  },
  {
   "cell_type": "code",
   "execution_count": null,
   "metadata": {
    "collapsed": true
   },
   "outputs": [],
   "source": [
    "#time.sleep(15)\n",
    "#os.system('nosetests /home/wcmckee/github/signinlca/testroll.py')"
   ]
  }
 ],
 "metadata": {
  "kernelspec": {
   "display_name": "Python 2",
   "name": "python2"
  },
  "language_info": {
   "codemirror_mode": {
    "name": "ipython",
    "version": 2
   },
   "file_extension": ".py",
   "mimetype": "text/x-python",
   "name": "python",
   "nbconvert_exporter": "python",
   "pygments_lexer": "ipython2",
   "version": "2.7.8"
  }
 },
 "nbformat": 4,
 "nbformat_minor": 0
}
