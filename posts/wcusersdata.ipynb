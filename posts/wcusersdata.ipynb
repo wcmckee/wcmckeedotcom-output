{
 "cells": [
  {
   "cell_type": "markdown",
   "metadata": {},
   "source": [
    "wcUsersData\n",
    "\n",
    "Script to get users logged into the system.\n",
    "\n",
    "Saves the output of users as the hostname of the system.\n",
    "Convert to a dict and json object, merging with other hostname output.\n",
    "\n",
    "Runs script every min and if user is found then - time from their account \n",
    "\n",
    "File with, usernames, time remaining on user.\n",
    "\n",
    "time file is a json object.\n",
    "{'username' : 'wcmckee', 'time' : 320 }\n",
    "\n",
    "time is amount of time left on account.\n",
    "\n",
    "script to check this object and if 0 - lock account. ELSE, allow login. \n",
    "\n",
    "Script to add time to acoun,, auto add time to certain groups/user a day. \n",
    "\n",
    "\n",
    "\n",
    "username 45"
   ]
  },
  {
   "cell_type": "code",
   "execution_count": 5,
   "metadata": {
    "collapsed": true
   },
   "outputs": [],
   "source": [
    "import os\n",
    "import socket\n",
    "import json"
   ]
  },
  {
   "cell_type": "code",
   "execution_count": 6,
   "metadata": {
    "collapsed": true
   },
   "outputs": [],
   "source": [
    "usertimedict = dict()"
   ]
  },
  {
   "cell_type": "code",
   "execution_count": 7,
   "metadata": {
    "collapsed": false
   },
   "outputs": [],
   "source": [
    "lisho = os.listdir('/home')"
   ]
  },
  {
   "cell_type": "code",
   "execution_count": 8,
   "metadata": {
    "collapsed": true
   },
   "outputs": [],
   "source": [
    "for ish in lisho:\n",
    "    usertimedict.update({ish : 0})"
   ]
  },
  {
   "cell_type": "code",
   "execution_count": 9,
   "metadata": {
    "collapsed": false
   },
   "outputs": [
    {
     "data": {
      "text/plain": [
       "{'blag': 0,\n",
       " 'blah': 0,\n",
       " 'charle': 0,\n",
       " 'checkthis': 0,\n",
       " 'clittle': 0,\n",
       " 'figlet': 0,\n",
       " 'gerty': 0,\n",
       " 'jblog': 0,\n",
       " 'jchick': 0,\n",
       " 'joecheck': 0,\n",
       " 'joeman': 0,\n",
       " 'joemanz': 0,\n",
       " 'pjohns': 0,\n",
       " 'poi': 0,\n",
       " 'point': 0,\n",
       " 'poiu': 0,\n",
       " 'pytest': 0,\n",
       " 'qwe': 0,\n",
       " 'red': 0,\n",
       " 'signinlca.py': 0,\n",
       " 'sjohns': 0,\n",
       " 'ssung': 0,\n",
       " 'tnow': 0,\n",
       " 'wblack': 0,\n",
       " 'wcm': 0,\n",
       " 'wcmckee': 0,\n",
       " 'webmck': 0,\n",
       " 'wez': 0,\n",
       " 'wkee': 0,\n",
       " 'wmen': 0}"
      ]
     },
     "execution_count": 9,
     "metadata": {},
     "output_type": "execute_result"
    }
   ],
   "source": [
    "usertimedict"
   ]
  },
  {
   "cell_type": "code",
   "execution_count": 10,
   "metadata": {
    "collapsed": false
   },
   "outputs": [
    {
     "name": "stdout",
     "output_type": "stream",
     "text": [
      "add how much time: 15\n"
     ]
    }
   ],
   "source": [
    "addtime = (raw_input('add how much time: '))"
   ]
  },
  {
   "cell_type": "code",
   "execution_count": 11,
   "metadata": {
    "collapsed": true
   },
   "outputs": [],
   "source": [
    "#letim = len(addtime)"
   ]
  },
  {
   "cell_type": "code",
   "execution_count": 12,
   "metadata": {
    "collapsed": false
   },
   "outputs": [],
   "source": [
    "#letim"
   ]
  },
  {
   "cell_type": "code",
   "execution_count": 13,
   "metadata": {
    "collapsed": false
   },
   "outputs": [
    {
     "data": {
      "text/plain": [
       "'15'"
      ]
     },
     "execution_count": 13,
     "metadata": {},
     "output_type": "execute_result"
    }
   ],
   "source": [
    "addtime"
   ]
  },
  {
   "cell_type": "code",
   "execution_count": 14,
   "metadata": {
    "collapsed": false
   },
   "outputs": [
    {
     "data": {
      "text/plain": [
       "str"
      ]
     },
     "execution_count": 14,
     "metadata": {},
     "output_type": "execute_result"
    }
   ],
   "source": [
    "type(addtime)"
   ]
  },
  {
   "cell_type": "code",
   "execution_count": 15,
   "metadata": {
    "collapsed": false
   },
   "outputs": [],
   "source": [
    "intime = int(addtime)"
   ]
  },
  {
   "cell_type": "code",
   "execution_count": 16,
   "metadata": {
    "collapsed": false
   },
   "outputs": [],
   "source": [
    "for ish in lisho:\n",
    "    usertimedict.update({ish : intime})"
   ]
  },
  {
   "cell_type": "code",
   "execution_count": 17,
   "metadata": {
    "collapsed": false
   },
   "outputs": [
    {
     "data": {
      "text/plain": [
       "{'blag': 15,\n",
       " 'blah': 15,\n",
       " 'charle': 15,\n",
       " 'checkthis': 15,\n",
       " 'clittle': 15,\n",
       " 'figlet': 15,\n",
       " 'gerty': 15,\n",
       " 'jblog': 15,\n",
       " 'jchick': 15,\n",
       " 'joecheck': 15,\n",
       " 'joeman': 15,\n",
       " 'joemanz': 15,\n",
       " 'pjohns': 15,\n",
       " 'poi': 15,\n",
       " 'point': 15,\n",
       " 'poiu': 15,\n",
       " 'pytest': 15,\n",
       " 'qwe': 15,\n",
       " 'red': 15,\n",
       " 'signinlca.py': 15,\n",
       " 'sjohns': 15,\n",
       " 'ssung': 15,\n",
       " 'tnow': 15,\n",
       " 'wblack': 15,\n",
       " 'wcm': 15,\n",
       " 'wcmckee': 15,\n",
       " 'webmck': 15,\n",
       " 'wez': 15,\n",
       " 'wkee': 15,\n",
       " 'wmen': 15}"
      ]
     },
     "execution_count": 17,
     "metadata": {},
     "output_type": "execute_result"
    }
   ],
   "source": [
    "usertimedict"
   ]
  },
  {
   "cell_type": "code",
   "execution_count": 19,
   "metadata": {
    "collapsed": true
   },
   "outputs": [],
   "source": [
    "myhn = socket.gethostname()"
   ]
  },
  {
   "cell_type": "code",
   "execution_count": 37,
   "metadata": {
    "collapsed": false
   },
   "outputs": [
    {
     "name": "stdout",
     "output_type": "stream",
     "text": [
      "Which user to edit time: point\n",
      "How much time to add: 100\n"
     ]
    }
   ],
   "source": [
    "#Edit just one person\n",
    "\n",
    "edione = raw_input('Which user to edit time: ')\n",
    "timedi = raw_input('How much time to add: ')\n",
    "\n",
    "usertimedict.update({edione : timedi})"
   ]
  },
  {
   "cell_type": "code",
   "execution_count": 20,
   "metadata": {
    "collapsed": false
   },
   "outputs": [],
   "source": [
    "jstim = json.dumps(usertimedict)"
   ]
  },
  {
   "cell_type": "code",
   "execution_count": 21,
   "metadata": {
    "collapsed": false
   },
   "outputs": [
    {
     "data": {
      "text/plain": [
       "'{\"wcmckee\": 15, \"joemanz\": 15, \"point\": 15, \"qwe\": 15, \"wkee\": 15, \"checkthis\": 15, \"poiu\": 15, \"blah\": 15, \"charle\": 15, \"poi\": 15, \"tnow\": 15, \"clittle\": 15, \"wblack\": 15, \"ssung\": 15, \"wmen\": 15, \"blag\": 15, \"signinlca.py\": 15, \"sjohns\": 15, \"gerty\": 15, \"webmck\": 15, \"joeman\": 15, \"joecheck\": 15, \"jchick\": 15, \"pytest\": 15, \"jblog\": 15, \"pjohns\": 15, \"wez\": 15, \"figlet\": 15, \"wcm\": 15, \"red\": 15}'"
      ]
     },
     "execution_count": 21,
     "metadata": {},
     "output_type": "execute_result"
    }
   ],
   "source": [
    "jstim"
   ]
  },
  {
   "cell_type": "code",
   "execution_count": 24,
   "metadata": {
    "collapsed": false
   },
   "outputs": [],
   "source": [
    "opus = open('/home/wcmckee/sellcoffee/hostnames/' + myhn, 'w')\n",
    "\n",
    "opus.write(jstim)\n",
    "opus.close()"
   ]
  },
  {
   "cell_type": "code",
   "execution_count": 26,
   "metadata": {
    "collapsed": false
   },
   "outputs": [
    {
     "name": "stdout",
     "output_type": "stream",
     "text": [
      "{\"wcmckee\": 15, \"joemanz\": 15, \"point\": 15, \"qwe\": 15, \"wkee\": 15, \"checkthis\": 15, \"poiu\": 15, \"blah\": 15, \"charle\": 15, \"poi\": 15, \"tnow\": 15, \"clittle\": 15, \"wblack\": 15, \"ssung\": 15, \"wmen\": 15, \"blag\": 15, \"signinlca.py\": 15, \"sjohns\": 15, \"gerty\": 15, \"webmck\": 15, \"joeman\": 15, \"joecheck\": 15, \"jchick\": 15, \"pytest\": 15, \"jblog\": 15, \"pjohns\": 15, \"wez\": 15, \"figlet\": 15, \"wcm\": 15, \"red\": 15}\n"
     ]
    }
   ],
   "source": [
    "rdopuw = open('/home/wcmckee/sellcoffee/hostnames/localhost', 'r')\n",
    "\n",
    "print rdopuw.read()"
   ]
  },
  {
   "cell_type": "code",
   "execution_count": 33,
   "metadata": {
    "collapsed": false
   },
   "outputs": [
    {
     "data": {
      "text/plain": [
       "'point'"
      ]
     },
     "execution_count": 33,
     "metadata": {},
     "output_type": "execute_result"
    }
   ],
   "source": [
    "edione"
   ]
  },
  {
   "cell_type": "code",
   "execution_count": 34,
   "metadata": {
    "collapsed": true
   },
   "outputs": [],
   "source": [
    "limedi = int(timedi)"
   ]
  },
  {
   "cell_type": "code",
   "execution_count": 35,
   "metadata": {
    "collapsed": false
   },
   "outputs": [
    {
     "data": {
      "text/plain": [
       "15"
      ]
     },
     "execution_count": 35,
     "metadata": {},
     "output_type": "execute_result"
    }
   ],
   "source": [
    "limedi"
   ]
  },
  {
   "cell_type": "code",
   "execution_count": 9,
   "metadata": {
    "collapsed": false
   },
   "outputs": [],
   "source": [
    "osscm = ('users > ' + myhn + '.txt')"
   ]
  },
  {
   "cell_type": "code",
   "execution_count": 11,
   "metadata": {
    "collapsed": false
   },
   "outputs": [
    {
     "data": {
      "text/plain": [
       "'users > naplesyellow.txt'"
      ]
     },
     "execution_count": 11,
     "metadata": {},
     "output_type": "execute_result"
    }
   ],
   "source": [
    "osscm"
   ]
  },
  {
   "cell_type": "code",
   "execution_count": null,
   "metadata": {
    "collapsed": true
   },
   "outputs": [],
   "source": []
  },
  {
   "cell_type": "code",
   "execution_count": null,
   "metadata": {
    "collapsed": true
   },
   "outputs": [],
   "source": []
  },
  {
   "cell_type": "code",
   "execution_count": 12,
   "metadata": {
    "collapsed": false
   },
   "outputs": [],
   "source": [
    "os.chdir('/home/wcmckee/sellcoffee/')"
   ]
  },
  {
   "cell_type": "code",
   "execution_count": 13,
   "metadata": {
    "collapsed": false
   },
   "outputs": [
    {
     "data": {
      "text/plain": [
       "0"
      ]
     },
     "execution_count": 13,
     "metadata": {},
     "output_type": "execute_result"
    }
   ],
   "source": [
    "os.system(osscm)"
   ]
  },
  {
   "cell_type": "code",
   "execution_count": 14,
   "metadata": {
    "collapsed": true
   },
   "outputs": [],
   "source": [
    "ophos = open('/home/wcmckee/sellcoffee/' + myhn + '.txt')"
   ]
  },
  {
   "cell_type": "code",
   "execution_count": 15,
   "metadata": {
    "collapsed": false
   },
   "outputs": [
    {
     "data": {
      "text/plain": [
       "'noby wcmckee wcmckee wcmckee wcmckee wcmckee\\n'"
      ]
     },
     "execution_count": 15,
     "metadata": {},
     "output_type": "execute_result"
    }
   ],
   "source": [
    "print ophos.read()"
   ]
  },
  {
   "cell_type": "code",
   "execution_count": 17,
   "metadata": {
    "collapsed": false
   },
   "outputs": [],
   "source": [
    "ophos.close()"
   ]
  },
  {
   "cell_type": "code",
   "execution_count": null,
   "metadata": {
    "collapsed": true
   },
   "outputs": [],
   "source": []
  },
  {
   "cell_type": "code",
   "execution_count": null,
   "metadata": {
    "collapsed": true
   },
   "outputs": [],
   "source": []
  }
 ],
 "metadata": {
  "kernelspec": {
   "display_name": "Python 2",
   "name": "python2"
  },
  "language_info": {
   "codemirror_mode": {
    "name": "ipython",
    "version": 2
   },
   "file_extension": ".py",
   "mimetype": "text/x-python",
   "name": "python",
   "nbconvert_exporter": "python",
   "pygments_lexer": "ipython2",
   "version": "2.7.8"
  }
 },
 "nbformat": 4,
 "nbformat_minor": 0
}
