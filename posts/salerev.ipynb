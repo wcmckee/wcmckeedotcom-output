{
 "cells": [
  {
   "cell_type": "markdown",
   "metadata": {},
   "source": [
    "<h1>Sale Rev</h1>\n",
    "\n",
    "<h3>Sale Reverse. Sell Stuff.</h3>\n",
    "\n",
    "Python script for point of sale computer time.\n",
    "\n",
    "more $ == more time.\n",
    "\n",
    "Opens up sales data of products and saves for daily reports.\n",
    "\n",
    "Saving the data as a json object. File has name of product as key and amount sold for value. \n",
    "\n",
    "Easily merge json files. \n",
    "\n",
    "At the end of each day keep the product in product folder but change sales data to 0.\n",
    "\n"
   ]
  },
  {
   "cell_type": "code",
   "execution_count": 123,
   "metadata": {
    "collapsed": true
   },
   "outputs": [],
   "source": [
    "import arrow\n",
    "import os\n",
    "import json"
   ]
  },
  {
   "cell_type": "code",
   "execution_count": 124,
   "metadata": {
    "collapsed": true
   },
   "outputs": [],
   "source": [
    "arut = arrow.utcnow()"
   ]
  },
  {
   "cell_type": "code",
   "execution_count": null,
   "metadata": {
    "collapsed": true
   },
   "outputs": [],
   "source": [
    "arday = arut"
   ]
  },
  {
   "cell_type": "code",
   "execution_count": 168,
   "metadata": {
    "collapsed": false
   },
   "outputs": [
    {
     "data": {
      "text/plain": [
       "'2015-02-28'"
      ]
     },
     "execution_count": 168,
     "metadata": {},
     "output_type": "execute_result"
    }
   ],
   "source": []
  },
  {
   "cell_type": "code",
   "execution_count": 165,
   "metadata": {
    "collapsed": true
   },
   "outputs": [],
   "source": [
    "cofdot = dict()"
   ]
  },
  {
   "cell_type": "code",
   "execution_count": 126,
   "metadata": {
    "collapsed": false
   },
   "outputs": [
    {
     "name": "stdout",
     "output_type": "stream",
     "text": [
      "a to add time, b to remove time, c to\n"
     ]
    }
   ],
   "source": [
    "#print('a to add time, b to remove time, c to')"
   ]
  },
  {
   "cell_type": "code",
   "execution_count": 127,
   "metadata": {
    "collapsed": true
   },
   "outputs": [],
   "source": [
    "#subscripe based.\n",
    "#Get time\n",
    "\n",
    "#Password expire.\n",
    "#One month pass.\n",
    "#10pm to 10am weekend pass."
   ]
  },
  {
   "cell_type": "code",
   "execution_count": 128,
   "metadata": {
    "collapsed": false
   },
   "outputs": [],
   "source": [
    "armonth = arday.replace(month=+1)"
   ]
  },
  {
   "cell_type": "code",
   "execution_count": 129,
   "metadata": {
    "collapsed": false
   },
   "outputs": [
    {
     "data": {
      "text/plain": [
       "1"
      ]
     },
     "execution_count": 129,
     "metadata": {},
     "output_type": "execute_result"
    }
   ],
   "source": [
    "armonth.month"
   ]
  },
  {
   "cell_type": "code",
   "execution_count": 130,
   "metadata": {
    "collapsed": false
   },
   "outputs": [],
   "source": [
    "bemon = arday.replace(month=+4)"
   ]
  },
  {
   "cell_type": "code",
   "execution_count": 131,
   "metadata": {
    "collapsed": true
   },
   "outputs": [],
   "source": [
    "lsitems = os.listdir('/home/wcmckee/sellcoffee/products/')"
   ]
  },
  {
   "cell_type": "code",
   "execution_count": 132,
   "metadata": {
    "collapsed": false
   },
   "outputs": [
    {
     "data": {
      "text/plain": [
       "['debian', 'internet', 'python', 'coffee', 'tired', 'snake', 'vogals', 'sleep']"
      ]
     },
     "execution_count": 132,
     "metadata": {},
     "output_type": "execute_result"
    }
   ],
   "source": [
    "lsitems\n",
    "\n",
    "#Sales per day of items. Resets at midnight."
   ]
  },
  {
   "cell_type": "code",
   "execution_count": 133,
   "metadata": {
    "collapsed": true
   },
   "outputs": [],
   "source": [
    "dirza = ('/home/wcmckee/sellcoffee/products/')"
   ]
  },
  {
   "cell_type": "code",
   "execution_count": 140,
   "metadata": {
    "collapsed": true
   },
   "outputs": [],
   "source": [
    "daydict = dict()\n",
    "\n",
    "#daydict.update({'datetime': str(arday.utcnow())})"
   ]
  },
  {
   "cell_type": "code",
   "execution_count": 141,
   "metadata": {
    "collapsed": false
   },
   "outputs": [
    {
     "name": "stdout",
     "output_type": "stream",
     "text": [
      "debian\n",
      "internet\n",
      "python\n",
      "coffee\n",
      "tired\n",
      "snake\n",
      "vogals\n",
      "sleep\n"
     ]
    }
   ],
   "source": [
    "for lsit in lsitems:\n",
    "    print lsit\n",
    "    #open each item up and read it.\n",
    "    opitez = open(dirza + lsit, 'r')\n",
    "    #print opitez.read()\n",
    "    daydict.update({lsit : opitez.read()})\n",
    "    opitez.close()\n",
    "    \n",
    "    #Make a json object for that days sales. \n",
    "    #Name of product. Amount Sold.\n",
    "    "
   ]
  },
  {
   "cell_type": "code",
   "execution_count": 142,
   "metadata": {
    "collapsed": false
   },
   "outputs": [
    {
     "name": "stdout",
     "output_type": "stream",
     "text": [
      "{'vogals': '1', 'coffee': '1', 'sleep': '1', 'snake': '1', 'tired': '1', 'python': '1', 'internet': '15', 'debian': '1'}\n"
     ]
    }
   ],
   "source": [
    "print daydict"
   ]
  },
  {
   "cell_type": "code",
   "execution_count": 158,
   "metadata": {
    "collapsed": true
   },
   "outputs": [],
   "source": [
    "jsday = json.dumps(daydict)"
   ]
  },
  {
   "cell_type": "code",
   "execution_count": 163,
   "metadata": {
    "collapsed": false
   },
   "outputs": [
    {
     "data": {
      "text/plain": [
       "'{\"vogals\": \"1\", \"coffee\": \"1\", \"sleep\": \"1\", \"snake\": \"1\", \"tired\": \"1\", \"python\": \"1\", \"internet\": \"15\", \"debian\": \"1\"}'"
      ]
     },
     "execution_count": 163,
     "metadata": {},
     "output_type": "execute_result"
    }
   ],
   "source": [
    "#The json object.  Should sale it to a folder. Maybe to \n",
    "#/yr/mnth/day folder?\n",
    "#All in one folder, name of json file is datetime.\n",
    "\n",
    "jsday"
   ]
  },
  {
   "cell_type": "code",
   "execution_count": null,
   "metadata": {
    "collapsed": true
   },
   "outputs": [],
   "source": []
  },
  {
   "cell_type": "code",
   "execution_count": 169,
   "metadata": {
    "collapsed": true
   },
   "outputs": [],
   "source": [
    "savjsf = open('/home/wcmckee/sellcoffee/archive/' + str(arut.date()) + '.json', 'w')"
   ]
  },
  {
   "cell_type": "code",
   "execution_count": 170,
   "metadata": {
    "collapsed": true
   },
   "outputs": [],
   "source": [
    "savjsf.write(jsday)"
   ]
  },
  {
   "cell_type": "code",
   "execution_count": 171,
   "metadata": {
    "collapsed": true
   },
   "outputs": [],
   "source": [
    "savjsf.close()"
   ]
  },
  {
   "cell_type": "code",
   "execution_count": 172,
   "metadata": {
    "collapsed": true
   },
   "outputs": [],
   "source": [
    "#Reset value of int in products/nameofproducts folder to 0."
   ]
  },
  {
   "cell_type": "code",
   "execution_count": 174,
   "metadata": {
    "collapsed": false
   },
   "outputs": [
    {
     "name": "stdout",
     "output_type": "stream",
     "text": [
      "debian\n",
      "internet\n",
      "python\n",
      "coffee\n",
      "tired\n",
      "snake\n",
      "vogals\n",
      "sleep\n"
     ]
    }
   ],
   "source": [
    "for lst in lsitems:\n",
    "    print lst\n",
    "    opfolaz = open('/home/wcmckee/sellcoffee/products/' + lst, 'w')\n",
    "    opfolaz.write('0')\n",
    "    opfolaz.close()"
   ]
  },
  {
   "cell_type": "code",
   "execution_count": 143,
   "metadata": {
    "collapsed": false
   },
   "outputs": [],
   "source": [
    "#for r in arrow.Arrow.span_range('hour', arday, bemon):\n",
    "    #print r\n",
    "#    for res in r:\n",
    "#        print res.humanize()\n",
    "        "
   ]
  },
  {
   "cell_type": "code",
   "execution_count": 144,
   "metadata": {
    "collapsed": true
   },
   "outputs": [],
   "source": [
    "#Total sales is value of all items in daydict"
   ]
  },
  {
   "cell_type": "code",
   "execution_count": 147,
   "metadata": {
    "collapsed": false
   },
   "outputs": [
    {
     "name": "stdout",
     "output_type": "stream",
     "text": [
      "['1', '1', '1', '1', '1', '1', '15', '1']\n"
     ]
    }
   ],
   "source": [
    "print (daydict.values())"
   ]
  },
  {
   "cell_type": "code",
   "execution_count": 149,
   "metadata": {
    "collapsed": true
   },
   "outputs": [],
   "source": [
    "addnum = 0 "
   ]
  },
  {
   "cell_type": "code",
   "execution_count": 151,
   "metadata": {
    "collapsed": false
   },
   "outputs": [
    {
     "name": "stdout",
     "output_type": "stream",
     "text": [
      "1\n",
      "1\n",
      "1\n",
      "1\n",
      "1\n",
      "1\n",
      "15\n",
      "1\n"
     ]
    }
   ],
   "source": [
    "for dayv in daydict.values():\n",
    "    print dayv\n",
    "    addnum = addnum + int(dayv)"
   ]
  },
  {
   "cell_type": "code",
   "execution_count": 156,
   "metadata": {
    "collapsed": false
   },
   "outputs": [],
   "source": [
    "totdsal = ('Total Sale numbers: ' + str(addnum))"
   ]
  },
  {
   "cell_type": "code",
   "execution_count": 157,
   "metadata": {
    "collapsed": false
   },
   "outputs": [
    {
     "data": {
      "text/plain": [
       "'Total Sale numbers: 22'"
      ]
     },
     "execution_count": 157,
     "metadata": {},
     "output_type": "execute_result"
    }
   ],
   "source": [
    "print totdsal"
   ]
  },
  {
   "cell_type": "code",
   "execution_count": null,
   "metadata": {
    "collapsed": true
   },
   "outputs": [],
   "source": []
  }
 ],
 "metadata": {
  "kernelspec": {
   "display_name": "Python 2",
   "name": "python2"
  },
  "language_info": {
   "codemirror_mode": {
    "name": "ipython",
    "version": 2
   },
   "file_extension": ".py",
   "mimetype": "text/x-python",
   "name": "python",
   "nbconvert_exporter": "python",
   "pygments_lexer": "ipython2",
   "version": "2.7.8"
  }
 },
 "nbformat": 4,
 "nbformat_minor": 0
}
