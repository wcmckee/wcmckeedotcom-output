{
 "cells": [
  {
   "cell_type": "markdown",
   "metadata": {},
   "source": [
    "Product Receipt\n",
    "\n",
    "Adds together items and content from sellcofee/archive"
   ]
  },
  {
   "cell_type": "code",
   "execution_count": 39,
   "metadata": {
    "collapsed": true
   },
   "outputs": [],
   "source": [
    "import os\n",
    "import json\n",
    "import dominate\n",
    "from dominate.tags import * \n",
    "from time import gmtime, strftime\n",
    "import time\n"
   ]
  },
  {
   "cell_type": "code",
   "execution_count": 30,
   "metadata": {
    "collapsed": true
   },
   "outputs": [],
   "source": [
    "arctdir = ('/home/wcmckee/sellcoffee/archive/')"
   ]
  },
  {
   "cell_type": "code",
   "execution_count": 31,
   "metadata": {
    "collapsed": false
   },
   "outputs": [
    {
     "data": {
      "text/plain": [
       "'/home/wcmckee/sellcoffee/archive/'"
      ]
     },
     "execution_count": 31,
     "metadata": {},
     "output_type": "execute_result"
    }
   ],
   "source": [
    "arctdir"
   ]
  },
  {
   "cell_type": "code",
   "execution_count": 32,
   "metadata": {
    "collapsed": false
   },
   "outputs": [],
   "source": [
    "lisar = os.listdir(arctdir)"
   ]
  },
  {
   "cell_type": "code",
   "execution_count": 33,
   "metadata": {
    "collapsed": true
   },
   "outputs": [],
   "source": [
    "finlis = []"
   ]
  },
  {
   "cell_type": "code",
   "execution_count": 34,
   "metadata": {
    "collapsed": false
   },
   "outputs": [
    {
     "name": "stdout",
     "output_type": "stream",
     "text": [
      "2015-03-03-032826.json\n",
      "2015-03-03-032821.json\n"
     ]
    }
   ],
   "source": [
    "for li in lisar:\n",
    "    print li\n",
    "    opli = open(arctdir + li, 'r')\n",
    "    oprd = opli.read()\n",
    "    finlis.append(oprd)"
   ]
  },
  {
   "cell_type": "code",
   "execution_count": 35,
   "metadata": {
    "collapsed": true
   },
   "outputs": [],
   "source": [
    "#Merge together sales by time."
   ]
  },
  {
   "cell_type": "code",
   "execution_count": 36,
   "metadata": {
    "collapsed": false
   },
   "outputs": [
    {
     "ename": "SyntaxError",
     "evalue": "invalid syntax (<ipython-input-36-a5468364108c>, line 1)",
     "output_type": "error",
     "traceback": [
      "\u001b[1;36m  File \u001b[1;32m\"<ipython-input-36-a5468364108c>\"\u001b[1;36m, line \u001b[1;32m1\u001b[0m\n\u001b[1;33m    deblis =\u001b[0m\n\u001b[1;37m             ^\u001b[0m\n\u001b[1;31mSyntaxError\u001b[0m\u001b[1;31m:\u001b[0m invalid syntax\n"
     ]
    }
   ],
   "source": [
    "#deblis = "
   ]
  },
  {
   "cell_type": "code",
   "execution_count": 37,
   "metadata": {
    "collapsed": false
   },
   "outputs": [
    {
     "name": "stdout",
     "output_type": "stream",
     "text": [
      "portrait\n",
      "{u'date': u'2015-03-03', u'product': u'portrait', u'amount': 2, u'time': u'032826'}\n",
      "032826\n",
      "2015-03-03\n",
      "2\n",
      "debian\n",
      "{u'date': u'2015-03-03', u'product': u'debian', u'amount': 5, u'time': u'032821'}\n",
      "032821\n",
      "2015-03-03\n",
      "5\n"
     ]
    }
   ],
   "source": [
    "for fi in finlis:\n",
    "    #print fi\n",
    "    newjs = json.loads(fi)\n",
    "    print newjs['product']\n",
    "    print newjs\n",
    "    #print newjs['cost']\n",
    "    print newjs['time']\n",
    "    print newjs['date']\n",
    "    print newjs['amount']"
   ]
  },
  {
   "cell_type": "code",
   "execution_count": 41,
   "metadata": {
    "collapsed": false
   },
   "outputs": [
    {
     "data": {
      "text/plain": [
       "['{\"date\": \"2015-03-03\", \"product\": \"portrait\", \"amount\": 2, \"time\": \"032826\"}',\n",
       " '{\"date\": \"2015-03-03\", \"product\": \"debian\", \"amount\": 5, \"time\": \"032821\"}']"
      ]
     },
     "execution_count": 41,
     "metadata": {},
     "output_type": "execute_result"
    }
   ],
   "source": [
    "finlis"
   ]
  },
  {
   "cell_type": "code",
   "execution_count": 40,
   "metadata": {
    "collapsed": false
   },
   "outputs": [
    {
     "name": "stdout",
     "output_type": "stream",
     "text": [
      "<!DOCTYPE html>\n",
      "<html>\n",
      "  <head>\n",
      "    <title>BroBeur CyberCafe Transactions</title>\n",
      "    <link href=\"style.css\" rel=\"stylesheet\"><script src=\"script.js\" type=\"text/javascript\"></script>\n",
      "    <div class=\"header\">\n",
      "      <h1>BroBeur CyberCafe products</h1>\n",
      "      <h3>BroBeur CyberCafe Products</h3>\n",
      "      <p>Updated Tue, 03 Mar 2015 03:37:48 +0000</p>\n",
      "    </div>\n",
      "  </head>\n",
      "  <body>\n",
      "    <div id=\"body\">\n",
      "      <ol>\n",
      "        <h1>portrait</h1>\n",
      "        <p>032826</p>\n",
      "        <p>2015-03-03</p>\n",
      "        <p>2</p>\n",
      "        <h1>debian</h1>\n",
      "        <p>032821</p>\n",
      "        <p>2015-03-03</p>\n",
      "        <p>5</p>\n",
      "      </ol>\n",
      "    </div>\n",
      "    <div class=\"body\">\n",
      "      <p>sellcoffee is open source</p>\n",
      "      <a>https://github.com/wcmckee/lcacoffee</a>\n",
      "    </div>\n",
      "  </body>\n",
      "</html>\n"
     ]
    }
   ],
   "source": [
    "doc = dominate.document(title='BroBeur CyberCafe Transactions')\n",
    "\n",
    "with doc.head:\n",
    "    link(rel='stylesheet', href='style.css')\n",
    "    script(type ='text/javascript', src='script.js')\n",
    "    #str(str2)\n",
    "    \n",
    "    with div():\n",
    "        attr(cls='header')\n",
    "        h1('BroBeur CyberCafe Transactions')\n",
    "        h3('BroBeur CyberCafe Transactions')\n",
    "        #p(img('imgs/getsdrawn-bw.png', src='imgs/getsdrawn-bw.png'))\n",
    "        #p(img('imgs/15/01/02/ReptileLover82-reference.png', src= 'imgs/15/01/02/ReptileLover82-reference.png'))\n",
    "        p('Updated ', strftime(\"%a, %d %b %Y %H:%M:%S +0000\", gmtime()))\n",
    "        #p(panz)\n",
    "        #p(bodycom)\n",
    "    \n",
    "    \n",
    "\n",
    "with doc:\n",
    "    with div(id='body').add(ol()):\n",
    "        for fi in finlis:\n",
    "            #print fi\n",
    "            newjs = json.loads(fi)\n",
    "            h1(newjs['product'])\n",
    "            #print newjs\n",
    "            #print newjs['cost']\n",
    "            p(newjs['time'])\n",
    "            p(newjs['date'])\n",
    "            p(newjs['amount'])\n",
    "            #print newjs['cost']\n",
    "            #oprdz = open((prodir + rdz + '/' + rdz + '-id'), 'r')\n",
    "            #p('id: ' + oprdz.read())\n",
    "            #oprdz.close()\n",
    "            \n",
    "            #prrdz = open((prodir + rdz + '/' + rdz + '-price'), 'r')\n",
    "            #p('price: ' + prrdz.read())\n",
    "            #prrdz.close()\n",
    "\n",
    "\n",
    "                \n",
    "            #print rdz.url\n",
    "            #if '.jpg' in rdz.url:\n",
    "            #    img(rdz.urlz)\n",
    "            #else:\n",
    "            #    a(rdz.urlz)\n",
    "            #h1(str(rdz.author))\n",
    "            \n",
    "            #li(img(i.lower(), src='%s' % i))\n",
    "\n",
    "    with div():\n",
    "        attr(cls='body')\n",
    "        p('sellcoffee is open source')\n",
    "        a('https://github.com/wcmckee/lcacoffee')\n",
    "        #a('https://reddit.com/r/redditgetsdrawn')\n",
    "\n",
    "print doc"
   ]
  },
  {
   "cell_type": "code",
   "execution_count": null,
   "metadata": {
    "collapsed": true
   },
   "outputs": [],
   "source": [
    "docre = doc.render()\n",
    "#s = docre.decode('ascii', 'ignore')\n",
    "yourstring = docre.encode('ascii', 'ignore').decode('ascii')\n",
    "indfil = ('/home/wcmckee/sellreceipt/index.html')\n",
    "mkind = open(indfil, 'w')\n",
    "mkind.write(yourstring)\n",
    "mkind.close()"
   ]
  }
 ],
 "metadata": {
  "kernelspec": {
   "display_name": "Python 2",
   "name": "python2"
  },
  "language_info": {
   "codemirror_mode": {
    "name": "ipython",
    "version": 2
   },
   "file_extension": ".py",
   "mimetype": "text/x-python",
   "name": "python",
   "nbconvert_exporter": "python",
   "pygments_lexer": "ipython2",
   "version": "2.7.8"
  }
 },
 "nbformat": 4,
 "nbformat_minor": 0
}
