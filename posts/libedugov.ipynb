{
 "cells": [
  {
   "cell_type": "markdown",
   "metadata": {},
   "source": [
    "Library Education Govt \n",
    "\n",
    "Script to deal with rss xml feed of library.education.govt.nz"
   ]
  },
  {
   "cell_type": "code",
   "execution_count": 25,
   "metadata": {
    "collapsed": true
   },
   "outputs": [],
   "source": [
    "import requests\n",
    "import json\n",
    "import xmltodict\n",
    "import bs4"
   ]
  },
  {
   "cell_type": "code",
   "execution_count": 2,
   "metadata": {
    "collapsed": true
   },
   "outputs": [],
   "source": [
    "reqlib = requests.get('https://library.education.govt.nz/rss/highlights')"
   ]
  },
  {
   "cell_type": "code",
   "execution_count": 3,
   "metadata": {
    "collapsed": false
   },
   "outputs": [],
   "source": [
    "reqlibt = reqlib.text"
   ]
  },
  {
   "cell_type": "code",
   "execution_count": 4,
   "metadata": {
    "collapsed": false
   },
   "outputs": [],
   "source": [
    "libtd = xmltodict.parse(reqlibt)"
   ]
  },
  {
   "cell_type": "code",
   "execution_count": 5,
   "metadata": {
    "collapsed": false
   },
   "outputs": [],
   "source": [
    "rslen = len(libtd['rss']['channel']['item'])"
   ]
  },
  {
   "cell_type": "code",
   "execution_count": 6,
   "metadata": {
    "collapsed": false
   },
   "outputs": [
    {
     "data": {
      "text/plain": [
       "10"
      ]
     },
     "execution_count": 6,
     "metadata": {},
     "output_type": "execute_result"
    }
   ],
   "source": [
    "#rslen"
   ]
  },
  {
   "cell_type": "code",
   "execution_count": 7,
   "metadata": {
    "collapsed": true
   },
   "outputs": [],
   "source": [
    "wrapdict = dict()"
   ]
  },
  {
   "cell_type": "code",
   "execution_count": 19,
   "metadata": {
    "collapsed": false
   },
   "outputs": [
    {
     "name": "stdout",
     "output_type": "stream",
     "text": [
      "OrderedDict([(u'title', u'Best schools in Auckland: 24 things to know before you choose a school'), (u'link', u'https://library.education.govt.nz/blogs/best-schools-auckland-24-things-know-you-choose-school'), (u'description', u'<div class=\"field field-name-body field-type-text-with-summary field-label-hidden\"><div class=\"field-items\"><div class=\"field-item even\" property=\"content:encoded\"><p>By Simon Wilson<br />\\n\\tMetro Jul/August 2015: 40-49 <em>(article)</em></p>\\n<p><span style=\"color: rgb(48, 48, 48); line-height: 20px;\">Presents tables comparing Auckland secondary schools. Looks at school leaver qualifications and NCEA results, including University Entrance and Scholarship rates. Takes into account school decile, and whether Cambridge exams or the International Baccalaureate are offered as well as or instead of NCEA. Shows the new 2015 deciles.</span></p>\\n<p><a href=\"http://library.education.govt.nz/cgi-bin/koha/opac-reserve.pl?biblionumber=51571\" style=\"line-height: 18.5714282989502px; color: rgb(0, 120, 206); outline: dotted thin; outline-offset: -2px; background-color: rgb(255, 255, 255);\">Request item</a></p>\\n</div></div></div>'), (u'pubDate', u'Wed, 01 Jul 2015 20:46:34 +0000'), (u'dc:creator', u'tim.admin'), (u'guid', OrderedDict([(u'@isPermaLink', u'false'), ('#text', u'10833 at https://library.education.govt.nz')]))])\n"
     ]
    }
   ],
   "source": [
    "#print (libtd['rss']['channel']['item'][0])"
   ]
  },
  {
   "cell_type": "code",
   "execution_count": 30,
   "metadata": {
    "collapsed": false
   },
   "outputs": [
    {
     "name": "stdout",
     "output_type": "stream",
     "text": [
      "Best schools in Auckland: 24 things to know before you choose a school\n",
      "Tauira: Māori methods of learning and teaching\n",
      "Dangerous liaisons\n",
      "Bully beef\n",
      "Could do better\n",
      "What Candy Crush Saga teaches us about motivating employees\n",
      "Influential Aucklanders in education\n",
      "Explaining the achievement gap between indigenous and non-indigenous students: an analysis of PISA 2009 results for Australia and New Zealand\n",
      "Panel-beaters don't have to learn Shakespeare\n",
      "Leaders as decision architects\n"
     ]
    }
   ],
   "source": [
    "for libi in range(rslen):\n",
    "    msjobdic = dict()\n",
    "\n",
    "    #print (libtd['rss']['channel']['item'][libi]['title'])\n",
    "    msjobdic.update({'title' : (libtd['rss']['channel']['item'][libi]['title'])})\n",
    "    msjobdic.update({'link' : (libtd['rss']['channel']['item'][libi]['link'])})\n",
    "    soupdes = bs4.BeautifulSoup(libtd['rss']['channel']['item'][libi]['description'])\n",
    "    \n",
    "    msjobdic.update({'description' : soupdes.text})\n",
    "    msjobdic.update({'jsonlen' : libi})\n",
    "    #findict = dict()\n",
    "    \n",
    "    #wrapdict.update({'title' : (libtd['rss']['channel']['item'][libi]['title'])})\n",
    "    #totlen = len(libi)\n",
    "    #for tes in range(totlen):\n",
    "    #    wrapdict.update({'title' : txtspli[tes][1]})\n",
    "    #findict.update({txtspli[0][0] : txtspli[0][1]})\n",
    "    msjobz = msjobdic.copy()\n",
    "    msjobz.update(msjobdic)\n",
    "    \n",
    "    wrapdict.update({libi : msjobz})\n",
    "    #jsmsdob = json.dumps(wrapdict)\n",
    "    \n",
    "    \n",
    "    #jslibi.update({rslen : msjobz})\n",
    "    #jsmsdob = json.dumps(wrapdict)"
   ]
  },
  {
   "cell_type": "code",
   "execution_count": 32,
   "metadata": {
    "collapsed": true
   },
   "outputs": [],
   "source": [
    "savjslib = json.dumps(wrapdict)"
   ]
  },
  {
   "cell_type": "code",
   "execution_count": 35,
   "metadata": {
    "collapsed": false
   },
   "outputs": [],
   "source": [
    "savjfin = open('/home/wcmckee/github/wcmckee.com/output/moelib/index.json', 'w')\n",
    "savjfin.write(savjslib)\n",
    "savjfin.close()"
   ]
  },
  {
   "cell_type": "code",
   "execution_count": null,
   "metadata": {
    "collapsed": true
   },
   "outputs": [],
   "source": []
  }
 ],
 "metadata": {
  "kernelspec": {
   "display_name": "Python 2",
   "name": "python2"
  },
  "language_info": {
   "codemirror_mode": {
    "name": "ipython",
    "version": 2
   },
   "file_extension": ".py",
   "mimetype": "text/x-python",
   "name": "python",
   "nbconvert_exporter": "python",
   "pygments_lexer": "ipython2",
   "version": "2.7.9"
  }
 },
 "nbformat": 4,
 "nbformat_minor": 0
}
