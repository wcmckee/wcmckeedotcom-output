{
 "metadata": {
  "name": "",
  "signature": "sha256:213fddf9152ce077d4fc6b6d17de38bcf68c75d1248c5f9d16542e5ec71d4c3e"
 },
 "nbformat": 3,
 "nbformat_minor": 0,
 "worksheets": [
  {
   "cells": [
    {
     "cell_type": "markdown",
     "metadata": {},
     "source": [
      "This is the signout script that opens the xl file and fill in signout info.\n",
      "\n",
      "Opens up list of signin data. This is date of sign in, time, name, and reason.\n",
      "This is .meta. This script appends sign out data. This is signout date, signout time, and comments.\n",
      "\n",
      "8 urandom 128 keys are generated. Used these in saving the achieve, as .html, and .meta files.\n",
      "\n",
      "creates date and time mark and asks for comment"
     ]
    },
    {
     "cell_type": "markdown",
     "metadata": {},
     "source": [
      "This needs rewriten to remove xl stuff opening. keep it to json and dict. "
     ]
    },
    {
     "cell_type": "code",
     "collapsed": false,
     "input": [
      "#import xlrd\n",
      "import os\n",
      "import time\n",
      "#from xlutils.copy import copy\n",
      "#from xlrd import *\n",
      "import dominate\n",
      "import json"
     ],
     "language": "python",
     "metadata": {},
     "outputs": [],
     "prompt_number": 1
    },
    {
     "cell_type": "code",
     "collapsed": false,
     "input": [
      "#wrkbook = xlrd.open_workbook('/home/wcmckee/whai/index.xls')"
     ],
     "language": "python",
     "metadata": {},
     "outputs": [],
     "prompt_number": 2
    },
    {
     "cell_type": "code",
     "collapsed": false,
     "input": [
      "jsopn = open('/home/wcmckee/visignsys/index.json', 'r')\n",
      "jsrdv = jsopn.read()"
     ],
     "language": "python",
     "metadata": {},
     "outputs": [],
     "prompt_number": 3
    },
    {
     "cell_type": "code",
     "collapsed": false,
     "input": [
      "jsrdv"
     ],
     "language": "python",
     "metadata": {},
     "outputs": [
      {
       "metadata": {},
       "output_type": "pyout",
       "prompt_number": 4,
       "text": [
        "'{\"signin hrmin\": \"15:09:51\", \"reason\": \"ESW\", \"firstname\": \"William\", \"signin comment\": \"sunny and mum is back\", \"lastname\": \"Mckee\", \"signin date\": \"02-Dec-2014\"}{\"signin-date\": \"09-Dec-2014\", \"reason\": \"esw\", \"signin-comment\": \"checking this on the bus\", \"last-name\": \"mckee\", \"signin-hrmin\": \"08:30:54\"}'"
       ]
      }
     ],
     "prompt_number": 4
    },
    {
     "cell_type": "code",
     "collapsed": false,
     "input": [
      "#print wrkbook.sheet_names()\n",
      "\n",
      "#worksheet = wrkbook.sheet_by_name('visitor sign database')\n",
      "#swlis = []\n",
      "#num_rows = worksheet.nrows - 1\n",
      "#curr_row = -1\n",
      "#while curr_row < num_rows:\n",
      "#    curr_row += 1\n",
      "#    row = worksheet.row(curr_row)\n",
      "    #print row\n",
      "#    swlis.append(row)"
     ],
     "language": "python",
     "metadata": {},
     "outputs": [],
     "prompt_number": 5
    },
    {
     "cell_type": "code",
     "collapsed": false,
     "input": [
      "#valis = []"
     ],
     "language": "python",
     "metadata": {},
     "outputs": [],
     "prompt_number": 6
    },
    {
     "cell_type": "code",
     "collapsed": false,
     "input": [
      "#for swl in swlis[1]:\n",
      "#    print swl.value\n",
      "#    valis.append(swl.value)\n"
     ],
     "language": "python",
     "metadata": {},
     "outputs": [
      {
       "ename": "NameError",
       "evalue": "name 'swlis' is not defined",
       "output_type": "pyerr",
       "traceback": [
        "\u001b[1;31m---------------------------------------------------------------------------\u001b[0m\n\u001b[1;31mNameError\u001b[0m                                 Traceback (most recent call last)",
        "\u001b[1;32m<ipython-input-7-4f71789a25a2>\u001b[0m in \u001b[0;36m<module>\u001b[1;34m()\u001b[0m\n\u001b[1;32m----> 1\u001b[1;33m \u001b[1;32mfor\u001b[0m \u001b[0mswl\u001b[0m \u001b[1;32min\u001b[0m \u001b[0mswlis\u001b[0m\u001b[1;33m[\u001b[0m\u001b[1;36m1\u001b[0m\u001b[1;33m]\u001b[0m\u001b[1;33m:\u001b[0m\u001b[1;33m\u001b[0m\u001b[0m\n\u001b[0m\u001b[0;32m      2\u001b[0m     \u001b[1;32mprint\u001b[0m \u001b[0mswl\u001b[0m\u001b[1;33m.\u001b[0m\u001b[0mvalue\u001b[0m\u001b[1;33m\u001b[0m\u001b[0m\n\u001b[0;32m      3\u001b[0m     \u001b[0mvalis\u001b[0m\u001b[1;33m.\u001b[0m\u001b[0mappend\u001b[0m\u001b[1;33m(\u001b[0m\u001b[0mswl\u001b[0m\u001b[1;33m.\u001b[0m\u001b[0mvalue\u001b[0m\u001b[1;33m)\u001b[0m\u001b[1;33m\u001b[0m\u001b[0m\n",
        "\u001b[1;31mNameError\u001b[0m: name 'swlis' is not defined"
       ]
      }
     ],
     "prompt_number": 7
    },
    {
     "cell_type": "code",
     "collapsed": false,
     "input": [
      "tiran = os.urandom(128).encode('hex')\n",
      "reran = os.urandom(128).encode('hex')\n",
      "comran = os.urandom(128).encode('hex')"
     ],
     "language": "python",
     "metadata": {},
     "outputs": [],
     "prompt_number": 8
    },
    {
     "cell_type": "code",
     "collapsed": false,
     "input": [
      "inpcom = raw_input('comment: ')"
     ],
     "language": "python",
     "metadata": {},
     "outputs": [
      {
       "name": "stdout",
       "output_type": "stream",
       "stream": "stdout",
       "text": [
        "comment: chexk\n"
       ]
      }
     ],
     "prompt_number": 7
    },
    {
     "cell_type": "code",
     "collapsed": false,
     "input": [
      "endate = time.strftime(\"%d\" + \"-\" + \"%b\" + \"-\" + \"%Y\")\n",
      "          \n",
      "entim = time.strftime(\"%H:%M\")"
     ],
     "language": "python",
     "metadata": {},
     "outputs": [],
     "prompt_number": 8
    },
    {
     "cell_type": "code",
     "collapsed": false,
     "input": [
      "snoutm = {'out-date': endate}\n",
      "snoutm.update({'out-time': entim})\n",
      "snoutm.update({'out-comment': inpcom})"
     ],
     "language": "python",
     "metadata": {},
     "outputs": [],
     "prompt_number": 9
    },
    {
     "cell_type": "code",
     "collapsed": false,
     "input": [
      "signoutdic = {endate: tiran}\n",
      "timoutdic = {entim: reran}"
     ],
     "language": "python",
     "metadata": {},
     "outputs": [],
     "prompt_number": 10
    },
    {
     "cell_type": "code",
     "collapsed": false,
     "input": [
      "signoutdic.update({entim:reran})"
     ],
     "language": "python",
     "metadata": {},
     "outputs": [],
     "prompt_number": 11
    },
    {
     "cell_type": "code",
     "collapsed": false,
     "input": [
      "signoutdic.update({inpcom: comran})"
     ],
     "language": "python",
     "metadata": {},
     "outputs": [],
     "prompt_number": 12
    },
    {
     "cell_type": "code",
     "collapsed": false,
     "input": [
      "signkeys = signoutdic.keys()"
     ],
     "language": "python",
     "metadata": {},
     "outputs": [],
     "prompt_number": 13
    },
    {
     "cell_type": "code",
     "collapsed": false,
     "input": [
      "wha = open('/home/wcmckee/visignsys/index.json', 'a')\n",
      "\n",
      "#w = copy(open_workbook('/home/wcmckee/whai/index.xls'))\n",
      "#w.get_sheet(0).write(1,5, time.strftime(\"%d\" + \"-\" + \"%b\" + \"-\" + \"%Y\"))\n",
      "#w.get_sheet(0).write(1,6, time.strftime(\"%H:%M\"))\n",
      "#w.get_sheet(0).write(1,7, tiran)\n",
      "\n",
      "#w.save('/home/wcmckee/whai/index.xls')"
     ],
     "language": "python",
     "metadata": {},
     "outputs": [],
     "prompt_number": 14
    },
    {
     "cell_type": "code",
     "collapsed": false,
     "input": [
      "indsav = ('/home/wcmckee/whai/index.html')"
     ],
     "language": "python",
     "metadata": {},
     "outputs": [],
     "prompt_number": 15
    },
    {
     "cell_type": "code",
     "collapsed": false,
     "input": [
      "opind = open(indsav, 'w')"
     ],
     "language": "python",
     "metadata": {},
     "outputs": [],
     "prompt_number": 16
    },
    {
     "cell_type": "code",
     "collapsed": false,
     "input": [
      "import dominate\n",
      "from dominate.tags import *\n",
      "\n",
      "doc = dominate.document(title=wrkbook.sheet_names())\n",
      "\n",
      "with doc.head:\n",
      "    link(rel='stylesheet', href='style.css')\n",
      "    script(type='text/javascript', src='script.js')\n",
      "\n",
      "with doc:\n",
      "    with div(id='header').add(ol()):\n",
      "        for i in valis:\n",
      "            li(a(i))\n",
      "\n",
      "    with div():\n",
      "        attr(cls='body')\n",
      "        p('visitor sign database is open source. Visit https://github.com/wcmckee/wcmckee ')\n",
      "\n",
      "#print doc"
     ],
     "language": "python",
     "metadata": {},
     "outputs": [],
     "prompt_number": 17
    },
    {
     "cell_type": "code",
     "collapsed": false,
     "input": [
      "opind.write(str(doc))\n"
     ],
     "language": "python",
     "metadata": {},
     "outputs": [],
     "prompt_number": 18
    },
    {
     "cell_type": "code",
     "collapsed": false,
     "input": [
      "opind.close()"
     ],
     "language": "python",
     "metadata": {},
     "outputs": [],
     "prompt_number": 19
    },
    {
     "cell_type": "code",
     "collapsed": false,
     "input": [
      "liop = open('/home/wcmckee/visignsys/index.meta', 'a+')\n",
      "liop.write(str(signkeys))\n",
      "liop.close()"
     ],
     "language": "python",
     "metadata": {},
     "outputs": [],
     "prompt_number": 20
    },
    {
     "cell_type": "code",
     "collapsed": false,
     "input": [],
     "language": "python",
     "metadata": {},
     "outputs": [],
     "prompt_number": 80
    },
    {
     "cell_type": "code",
     "collapsed": false,
     "input": [
      "oplis = open('/home/wcmckee/visignsys/index.meta', 'r')\n",
      "oplsav = oplis.read()\n",
      "oplis.close()"
     ],
     "language": "python",
     "metadata": {},
     "outputs": [],
     "prompt_number": 81
    },
    {
     "cell_type": "code",
     "collapsed": false,
     "input": [
      "trsor = tiran[0:12]"
     ],
     "language": "python",
     "metadata": {},
     "outputs": [],
     "prompt_number": 82
    },
    {
     "cell_type": "code",
     "collapsed": false,
     "input": [
      "trsor"
     ],
     "language": "python",
     "metadata": {},
     "outputs": [
      {
       "metadata": {},
       "output_type": "pyout",
       "prompt_number": 83,
       "text": [
        "'413c61c9654e'"
       ]
      }
     ],
     "prompt_number": 83
    },
    {
     "cell_type": "code",
     "collapsed": false,
     "input": [
      "optrd = open('/home/wcmckee/visignsys/posts/' + trsor + '.meta', 'w')\n",
      "optrd.write(oplsav)\n",
      "optrd.close()"
     ],
     "language": "python",
     "metadata": {},
     "outputs": [],
     "prompt_number": 84
    },
    {
     "cell_type": "code",
     "collapsed": false,
     "input": [
      "jsnrd = open('/home/wcmckee/visignsys/posts/' + trsor + '.json', 'w')\n",
      "jsnrd.write(oplsav)\n",
      "jsnrd.close()"
     ],
     "language": "python",
     "metadata": {},
     "outputs": [],
     "prompt_number": 85
    },
    {
     "cell_type": "code",
     "collapsed": false,
     "input": [
      "savpos = open('/home/wcmckee/visignsys/index.json', 'r')\n",
      "signindi = savpos.read()"
     ],
     "language": "python",
     "metadata": {},
     "outputs": [
      {
       "ename": "IOError",
       "evalue": "[Errno 2] No such file or directory: '/home/wcmckee/visignsys/index.json'",
       "output_type": "pyerr",
       "traceback": [
        "\u001b[1;31m---------------------------------------------------------------------------\u001b[0m\n\u001b[1;31mIOError\u001b[0m                                   Traceback (most recent call last)",
        "\u001b[1;32m<ipython-input-86-011d26fbe418>\u001b[0m in \u001b[0;36m<module>\u001b[1;34m()\u001b[0m\n\u001b[1;32m----> 1\u001b[1;33m \u001b[0msavpos\u001b[0m \u001b[1;33m=\u001b[0m \u001b[0mopen\u001b[0m\u001b[1;33m(\u001b[0m\u001b[1;34m'/home/wcmckee/visignsys/index.json'\u001b[0m\u001b[1;33m,\u001b[0m \u001b[1;34m'r'\u001b[0m\u001b[1;33m)\u001b[0m\u001b[1;33m\u001b[0m\u001b[0m\n\u001b[0m\u001b[0;32m      2\u001b[0m \u001b[0msignindi\u001b[0m \u001b[1;33m=\u001b[0m \u001b[0msavpos\u001b[0m\u001b[1;33m.\u001b[0m\u001b[0mread\u001b[0m\u001b[1;33m(\u001b[0m\u001b[1;33m)\u001b[0m\u001b[1;33m\u001b[0m\u001b[0m\n",
        "\u001b[1;31mIOError\u001b[0m: [Errno 2] No such file or directory: '/home/wcmckee/visignsys/index.json'"
       ]
      }
     ],
     "prompt_number": 86
    },
    {
     "cell_type": "code",
     "collapsed": false,
     "input": [
      "jsnaccept = signindi.replace(\"'\", \"\\\"\")\n",
      "d = json.loads(jsnaccept)"
     ],
     "language": "python",
     "metadata": {},
     "outputs": [],
     "prompt_number": 87
    },
    {
     "cell_type": "code",
     "collapsed": false,
     "input": [
      "snct = dict(d.items() + snoutm.items())"
     ],
     "language": "python",
     "metadata": {},
     "outputs": [],
     "prompt_number": 88
    },
    {
     "cell_type": "code",
     "collapsed": false,
     "input": [
      "savpos.close()"
     ],
     "language": "python",
     "metadata": {},
     "outputs": [],
     "prompt_number": 89
    },
    {
     "cell_type": "code",
     "collapsed": false,
     "input": [
      "os.chdir('/home/wcmckee/visignsys/posts')"
     ],
     "language": "python",
     "metadata": {},
     "outputs": [],
     "prompt_number": 90
    },
    {
     "cell_type": "code",
     "collapsed": false,
     "input": [
      "lismet = os.listdir('/home/wcmckee/visignsys/posts')"
     ],
     "language": "python",
     "metadata": {},
     "outputs": [],
     "prompt_number": 91
    },
    {
     "cell_type": "code",
     "collapsed": false,
     "input": [
      "lismet"
     ],
     "language": "python",
     "metadata": {},
     "outputs": [
      {
       "metadata": {},
       "output_type": "pyout",
       "prompt_number": 92,
       "text": [
        "['df5aed94d944.meta',\n",
        " '5e98dfab4326.json',\n",
        " '8bf3b3c045b2.json',\n",
        " '5e98dfab4326.html',\n",
        " '2ce7b7e78b2d.meta',\n",
        " 'a5fd59588711.html',\n",
        " '8bf3b3c045b2.meta',\n",
        " '4a1d7fbd4af7.html',\n",
        " '413c61c9654e.meta',\n",
        " '81ae6564478e.meta',\n",
        " '1ca6f0c7d074.html',\n",
        " 'be7f3bba40a9.json',\n",
        " '1bca31594654.html',\n",
        " 'be7f3bba40a9.html',\n",
        " '81ae6564478e.json',\n",
        " 'be7f3bba40a9.meta',\n",
        " 'd948bc2cb2d5.meta',\n",
        " '469b6be62e65.json',\n",
        " 'f63a51c5660b.json',\n",
        " 'f63a51c5660b.html',\n",
        " '4a1d7fbd4af7.json',\n",
        " 'd7bfad4d84af.meta',\n",
        " '91ece852eb61.meta',\n",
        " '086ef98a8bea.meta',\n",
        " '231f0cbc6422.html',\n",
        " '413c61c9654e.json',\n",
        " '1ca6f0c7d074.meta',\n",
        " '5e98dfab4326.meta',\n",
        " '9479b52fcb96.meta',\n",
        " 'a5fd59588711.meta',\n",
        " '6e8165886873.json',\n",
        " '3342b7e37622.json',\n",
        " '231f0cbc6422.meta',\n",
        " '1ca6f0c7d074.json',\n",
        " 'd948bc2cb2d5.html',\n",
        " '4a1d7fbd4af7.meta',\n",
        " '6e8165886873.meta',\n",
        " 'a5fd59588711.json',\n",
        " '6dbfbbb9c12e.html',\n",
        " '81ae6564478e.html',\n",
        " 'd7bfad4d84af.json',\n",
        " '231f0cbc6422.json',\n",
        " 'df5aed94d944.html',\n",
        " '469b6be62e65.meta',\n",
        " '9479b52fcb96.json',\n",
        " 'f63a51c5660b.meta',\n",
        " '2ce7b7e78b2d.json',\n",
        " 'df5aed94d944.json',\n",
        " '3342b7e37622.meta',\n",
        " '1bca31594654.meta',\n",
        " '1bca31594654.json',\n",
        " '6dbfbbb9c12e.meta',\n",
        " '086ef98a8bea.json',\n",
        " 'd948bc2cb2d5.json']"
       ]
      }
     ],
     "prompt_number": 92
    },
    {
     "cell_type": "code",
     "collapsed": false,
     "input": [
      "opjsnz = []"
     ],
     "language": "python",
     "metadata": {},
     "outputs": [],
     "prompt_number": 99
    },
    {
     "cell_type": "code",
     "collapsed": false,
     "input": [
      "for beca in lismet:\n",
      "    if '.json' in beca:\n",
      "        print beca\n",
      "        opjsnz.append(beca)"
     ],
     "language": "python",
     "metadata": {},
     "outputs": [
      {
       "output_type": "stream",
       "stream": "stdout",
       "text": [
        "5e98dfab4326.json\n",
        "8bf3b3c045b2.json\n",
        "be7f3bba40a9.json\n",
        "81ae6564478e.json\n",
        "469b6be62e65.json\n",
        "f63a51c5660b.json\n",
        "4a1d7fbd4af7.json\n",
        "413c61c9654e.json\n",
        "6e8165886873.json\n",
        "3342b7e37622.json\n",
        "1ca6f0c7d074.json\n",
        "a5fd59588711.json\n",
        "d7bfad4d84af.json\n",
        "231f0cbc6422.json\n",
        "9479b52fcb96.json\n",
        "2ce7b7e78b2d.json\n",
        "df5aed94d944.json\n",
        "1bca31594654.json\n",
        "086ef98a8bea.json\n",
        "d948bc2cb2d5.json\n"
       ]
      }
     ],
     "prompt_number": 100
    },
    {
     "cell_type": "code",
     "collapsed": false,
     "input": [
      "optjz = []\n",
      "optjsz = []"
     ],
     "language": "python",
     "metadata": {},
     "outputs": [],
     "prompt_number": 121
    },
    {
     "cell_type": "code",
     "collapsed": false,
     "input": [
      "apgpls = []"
     ],
     "language": "python",
     "metadata": {},
     "outputs": [],
     "prompt_number": 122
    },
    {
     "cell_type": "code",
     "collapsed": false,
     "input": [
      "#for opjw in opjsnz:\n",
      "#    print opjw\n",
      "#    optjsz.append(objw)\n",
      "    "
     ],
     "language": "python",
     "metadata": {},
     "outputs": [],
     "prompt_number": 124
    },
    {
     "cell_type": "code",
     "collapsed": false,
     "input": [
      "#for filop in opjsnz:\n",
      "    #print filop\n",
      "#    opt = open(opj, 'r')\n",
      "#    thedict = str(opt.read())\n",
      "#    thedict\n",
      "#    opt.close()"
     ],
     "language": "python",
     "metadata": {},
     "outputs": [],
     "prompt_number": 125
    },
    {
     "cell_type": "code",
     "collapsed": false,
     "input": [
      "#opt = open(opj, 'r')"
     ],
     "language": "python",
     "metadata": {},
     "outputs": [],
     "prompt_number": 126
    },
    {
     "cell_type": "code",
     "collapsed": false,
     "input": [
      "#thedict = opt.read()"
     ],
     "language": "python",
     "metadata": {},
     "outputs": [],
     "prompt_number": 127
    },
    {
     "cell_type": "code",
     "collapsed": false,
     "input": [
      "#thedict"
     ],
     "language": "python",
     "metadata": {},
     "outputs": [
      {
       "metadata": {},
       "output_type": "pyout",
       "prompt_number": 128,
       "text": [
        "'{\"signin hrmin\": \"19:11\", \"reason\": \"ESW\", \"name\": \"William Mckee\", \"signin date\": \"21-Oct-2014\", \"signin comment\": \"interested in watching swimmers on way back from walk\"}'"
       ]
      }
     ],
     "prompt_number": 128
    },
    {
     "cell_type": "code",
     "collapsed": false,
     "input": [
      "#convgpj = json.loads(thedict)"
     ],
     "language": "python",
     "metadata": {},
     "outputs": [],
     "prompt_number": 129
    },
    {
     "cell_type": "code",
     "collapsed": false,
     "input": [
      "#convgpj.values()"
     ],
     "language": "python",
     "metadata": {},
     "outputs": [
      {
       "metadata": {},
       "output_type": "pyout",
       "prompt_number": 130,
       "text": [
        "[u'19:11',\n",
        " u'ESW',\n",
        " u'interested in watching swimmers on way back from walk',\n",
        " u'William Mckee',\n",
        " u'21-Oct-2014']"
       ]
      }
     ],
     "prompt_number": 130
    },
    {
     "cell_type": "code",
     "collapsed": false,
     "input": [],
     "language": "python",
     "metadata": {},
     "outputs": [],
     "prompt_number": 130
    },
    {
     "cell_type": "code",
     "collapsed": false,
     "input": [],
     "language": "python",
     "metadata": {},
     "outputs": []
    }
   ],
   "metadata": {}
  }
 ]
}