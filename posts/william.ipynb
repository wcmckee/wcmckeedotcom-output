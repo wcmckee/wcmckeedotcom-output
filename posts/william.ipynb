{
 "metadata": {
  "name": "william"
 },
 "nbformat": 3,
 "nbformat_minor": 0,
 "worksheets": [
  {
   "cells": [
    {
     "cell_type": "heading",
     "level": 1,
     "metadata": {},
     "source": [
      "wcmckee python notebook"
     ]
    },
    {
     "cell_type": "code",
     "collapsed": false,
     "input": [
      "print  'hello worl'"
     ],
     "language": "python",
     "metadata": {},
     "outputs": []
    },
    {
     "cell_type": "code",
     "collapsed": false,
     "input": [
      "print 5 + 5"
     ],
     "language": "python",
     "metadata": {},
     "outputs": [
      {
       "output_type": "stream",
       "stream": "stdout",
       "text": [
        "10\n"
       ]
      }
     ],
     "prompt_number": 22
    },
    {
     "cell_type": "code",
     "collapsed": false,
     "input": [
      "x = 'Hi Tony!'"
     ],
     "language": "python",
     "metadata": {},
     "outputs": [],
     "prompt_number": 23
    },
    {
     "cell_type": "code",
     "collapsed": false,
     "input": [
      "print x"
     ],
     "language": "python",
     "metadata": {},
     "outputs": [
      {
       "output_type": "stream",
       "stream": "stdout",
       "text": [
        "Hi Tony!\n"
       ]
      }
     ],
     "prompt_number": 24
    },
    {
     "cell_type": "code",
     "collapsed": false,
     "input": [
      "from random import randint as ri"
     ],
     "language": "python",
     "metadata": {},
     "outputs": [],
     "prompt_number": 25
    },
    {
     "cell_type": "code",
     "collapsed": false,
     "input": [
      "ri(0,20)"
     ],
     "language": "python",
     "metadata": {},
     "outputs": [
      {
       "output_type": "pyout",
       "prompt_number": 26,
       "text": [
        "7"
       ]
      }
     ],
     "prompt_number": 26
    },
    {
     "cell_type": "code",
     "collapsed": false,
     "input": [
      "newlist = ['hello', 'test', 'number']"
     ],
     "language": "python",
     "metadata": {},
     "outputs": [],
     "prompt_number": 29
    },
    {
     "cell_type": "code",
     "collapsed": false,
     "input": [
      "newtuple = ('hello', 'google')"
     ],
     "language": "python",
     "metadata": {},
     "outputs": [],
     "prompt_number": 30
    },
    {
     "cell_type": "code",
     "collapsed": false,
     "input": [
      "cat = {'teewfewhtwertjygfgfdgesting': 'omg', 'blah': 5}"
     ],
     "language": "python",
     "metadata": {},
     "outputs": [],
     "prompt_number": 38
    },
    {
     "cell_type": "code",
     "collapsed": false,
     "input": [
      "print cat.setdefault('testing')"
     ],
     "language": "python",
     "metadata": {},
     "outputs": [
      {
       "output_type": "stream",
       "stream": "stdout",
       "text": [
        "omg\n"
       ]
      }
     ],
     "prompt_number": 45
    },
    {
     "cell_type": "code",
     "collapsed": false,
     "input": [
      "def upstr(mystring):\n",
      "    upstrn = mystring.upper\n",
      "    return upstrn()"
     ],
     "language": "python",
     "metadata": {},
     "outputs": [],
     "prompt_number": 56
    },
    {
     "cell_type": "code",
     "collapsed": false,
     "input": [
      "upstr('testing one two three')"
     ],
     "language": "python",
     "metadata": {},
     "outputs": [
      {
       "output_type": "pyout",
       "prompt_number": 57,
       "text": [
        "'TESTING ONE TWO THREE'"
       ]
      }
     ],
     "prompt_number": 57
    },
    {
     "cell_type": "code",
     "collapsed": false,
     "input": [
      "def cent(p1, p2, p3 = 'fred'):\n",
      "    return cent"
     ],
     "language": "python",
     "metadata": {},
     "outputs": [],
     "prompt_number": 58
    },
    {
     "cell_type": "code",
     "collapsed": false,
     "input": [
      "cent('hello', 'test')"
     ],
     "language": "python",
     "metadata": {},
     "outputs": [
      {
       "output_type": "stream",
       "stream": "stdout",
       "text": [
        "<function cent at 0x20fc7d0>\n"
       ]
      }
     ],
     "prompt_number": 63
    },
    {
     "cell_type": "code",
     "collapsed": false,
     "input": [
      "h = 'test'"
     ],
     "language": "python",
     "metadata": {},
     "outputs": [],
     "prompt_number": 65
    },
    {
     "cell_type": "code",
     "collapsed": false,
     "input": [
      "for h in range(5):\n",
      "    print h\n",
      "    print 'test'"
     ],
     "language": "python",
     "metadata": {},
     "outputs": [
      {
       "output_type": "stream",
       "stream": "stdout",
       "text": [
        "0\n",
        "test\n",
        "1\n",
        "test\n",
        "2\n",
        "test\n",
        "3\n",
        "test\n",
        "4\n",
        "test\n"
       ]
      }
     ],
     "prompt_number": 70
    },
    {
     "cell_type": "code",
     "collapsed": false,
     "input": [
      "import random"
     ],
     "language": "python",
     "metadata": {},
     "outputs": []
    },
    {
     "cell_type": "heading",
     "level": 2,
     "metadata": {},
     "source": [
      "wcmckee. Notes on Python"
     ]
    },
    {
     "cell_type": "code",
     "collapsed": false,
     "input": [
      "import sys"
     ],
     "language": "python",
     "metadata": {},
     "outputs": [],
     "prompt_number": 46
    },
    {
     "cell_type": "code",
     "collapsed": false,
     "input": [
      "import os\n",
      "import subprocess\n",
      "import os.path"
     ],
     "language": "python",
     "metadata": {},
     "outputs": [],
     "prompt_number": 47
    },
    {
     "cell_type": "markdown",
     "metadata": {},
     "source": [
      "We got IPython Notebook running on all the machines at the cafe. \n",
      "It connects to the raspberry pi. There is a git repo that I have connected to \n",
      "github - hamipy. \n",
      "On Wednesday I plan to get everyone that wants to use the notebook. Teaching git would\n",
      "be worth it also.\n",
      "I showed git to many people at unity classes but it would be even better to show to the python class. \n",
      "I will be interested in seeings the numbers for this week - \n",
      "So the plan for this week: \n",
      "- git\n",
      "-ipython notebook\n",
      "- ??\n"
     ]
    },
    {
     "cell_type": "markdown",
     "metadata": {},
     "source": [
      "During the first class we had about 12 people show up. It was a mixture of beginners and advance. Majority of the beginners were from Hamilton PC computer club. I had several members of WLUG attend - including the vice president. \n",
      "With so many people showing up I was very overwelmed. I didn't have the notebooks setup but i encourged people to use the ipython. Some peope choose to write in a text document and run. Sadly the internet at the cafe had reset eariler in the day - this caused problems with the connection. \n"
     ]
    },
    {
     "cell_type": "markdown",
     "metadata": {},
     "source": [
      "Tonight I had my 2nd python class. We had about 8 people this time. Less than last week - but i felt the place was still very crowded - and hot. \n",
      "I had asked Bruce about perhaps setting up outside with laptops. Most people have laptops so we could setup desks and laptops outside. It just gets too hot inside. \n",
      "For people that don't have a laptop - they have two linux laptops - hp. They run Puppy Linux but the OS that they use doesn't really matter since we will just be using the pi notebook or ssh.\n",
      "I could also setup my laptops with this also. \n",
      "I brought along two of my laptops but they were not used. Next week ill bring them again, just in case. \n",
      "It would be good to do some 1 on 1 (or small groups) with some of the kids. They ask Bruce for the laptops but he tends to say no. I'm sure he would say yes if they agreed to sit down with me and work through some python exercises"
     ]
    },
    {
     "cell_type": "markdown",
     "metadata": {},
     "source": [
      "next week i plan on having a more structued class. We need a break for 15 - 20 mins. At the start of the class I plan on doing a demo. Maybe show people about creating .py files and running them. Many people are just working down ipython notebook and running the same print hello.\n",
      "Show more of the basics of ipython - different text, SAVE, "
     ]
    },
    {
     "cell_type": "markdown",
     "metadata": {},
     "source": [
      "setup cron job to push at midnight. \n",
      "add to save a pop up that asks for commit message "
     ]
    },
    {
     "cell_type": "markdown",
     "metadata": {},
     "source": [
      "ask what git repo you want to edit and open it\n",
      "\n",
      "go to website - opens login - see a list of git repos that you have access to. Click and opens up repo."
     ]
    },
    {
     "cell_type": "markdown",
     "metadata": {},
     "source": [
      "everyones station could have ipython notebook running on half. Otherwise have two terminals open. First ina text doc - other ipython. The terminals will have screen on them with me controlling it (or bruce)\n",
      "Will get people outside with their laptops and they can just connect to the notebook over network. This means they wont need to worry about the OS on their system. I am not going to help anyone with Windows problems, they can do everything on the pi"
     ]
    },
    {
     "cell_type": "markdown",
     "metadata": {},
     "source": [
      " It's good I have started using markdown more. I should keep this going as i don't write like i use to but i don't like to write blog posts. I really just want to archieve my blogs and work on something fresh. I think treating the ipython notebook as a blog could suit me well. Lets see how it goes."
     ]
    },
    {
     "cell_type": "markdown",
     "metadata": {},
     "source": [
      "Run bash in ipython (danger danger!)"
     ]
    },
    {
     "cell_type": "markdown",
     "metadata": {},
     "source": [
      "control raspberry pi lights from python"
     ]
    },
    {
     "cell_type": "heading",
     "level": 3,
     "metadata": {},
     "source": [
      "week 3 thoughts"
     ]
    },
    {
     "cell_type": "markdown",
     "metadata": {},
     "source": [
      "last night i had my third python class. sadly only three people showed up (not including Bruce).\n",
      "I decided to setup on the lawn outside the computer room. This worked well as it was a nice evening and it was too hot inside. \n",
      "Being outside meant we attracted some local teenagers over that we were able to show some Python to. \n",
      "Toara was one who made a notebook and wrote a little code. \n",
      "When starting people off I get them to use IPython Notebook and create a new Notebook, renaming it too thier name. Since I am awful with names I can just reference the notebook. \n",
      "Tony also did excellent work with dict and creating functions.\n",
      "John sadly did some work but didn't save. He is still understanding strings I believe but can't comment due to not saving. \n",
      "Ian and John worked away together and I hanged out with Bruce. We walked accross to the skatepark and then went back inside the cafe. \n",
      "The normal afterschool kids filled the cafe and were playing Urban Terror. I've loaded the computers with some Humble Bundle games to play. They don't run well and freeze often. FTL works fine but Airforte doesn't. \n",
      "It would be great to get some better machines and we could put Steam on the machines. \n",
      "Anyway, lets see who shows for next weeks Python class"
     ]
    },
    {
     "cell_type": "markdown",
     "metadata": {},
     "source": [
      "This week i am tired and feeling sick. \n",
      "We have one new person which is awesome. Lowrance is working with him and showing him a few things. I met him when I was at Mr Greens home during the weekend. \n",
      "For the past several weeks people have worked outside. This is nice because inside gets too hot. It's quite windy tonight so packed up outside and came in.\n",
      "Ian had a go with flask tonight. it is so simple to get something running. I really need to do more stuff with it - and write python code for it. In the past when I have used Flask I have \n"
     ]
    },
    {
     "cell_type": "code",
     "collapsed": false,
     "input": [
      "%%bash\n",
      "cp -b /var/www/install6 /home/pi/learnpython\n",
      "\n"
     ],
     "language": "python",
     "metadata": {},
     "outputs": [],
     "prompt_number": 137
    },
    {
     "cell_type": "code",
     "collapsed": false,
     "input": [
      "def chandir(dirmove):\n",
      "    changed = os.chdir(dirmove)\n",
      "    return changed\n",
      "    print os.curdir"
     ],
     "language": "python",
     "metadata": {},
     "outputs": [],
     "prompt_number": 138
    },
    {
     "cell_type": "code",
     "collapsed": false,
     "input": [
      "chandir('/home/pi/learnpython')"
     ],
     "language": "python",
     "metadata": {},
     "outputs": [],
     "prompt_number": 139
    },
    {
     "cell_type": "code",
     "collapsed": false,
     "input": [
      "%%bash\n",
      "git add .\n",
      "git commit -m ('notes for week 3 added')"
     ],
     "language": "python",
     "metadata": {},
     "outputs": [],
     "prompt_number": "*"
    },
    {
     "cell_type": "code",
     "collapsed": false,
     "input": [
      "%%bash\n",
      "git push origin"
     ],
     "language": "python",
     "metadata": {},
     "outputs": [
      {
       "output_type": "stream",
       "stream": "stderr",
       "text": [
        "fatal: could not read Username for 'https://github.com': No such device or address\n"
       ]
      }
     ],
     "prompt_number": 141
    },
    {
     "cell_type": "markdown",
     "metadata": {},
     "source": [
      "This is likely wrong"
     ]
    },
    {
     "cell_type": "code",
     "collapsed": false,
     "input": [
      "ls"
     ],
     "language": "python",
     "metadata": {},
     "outputs": [
      {
       "output_type": "stream",
       "stream": "stdout",
       "text": [
        "adon.ipynb        \u001b[0m\u001b[01;34mhooks\u001b[0m/         main.py         site\r\n",
        "Alex .ipynb       ian.ipynb      main.py.save    StephM.ipynb\r\n",
        "\u001b[01;34mbranches\u001b[0m/         \u001b[01;34minfo\u001b[0m/          main.py.save.1  \u001b[01;34mtest\u001b[0m/\r\n",
        "Bruce.ipynb       install6       main.py.save.2  TK Hello World.ipynb\r\n",
        "config            install6~      \u001b[01;34mobjects\u001b[0m/        Untitled5.ipynb\r\n",
        "d                 John T.ipynb   PeterW.ipynb    william.ipynb\r\n",
        "Dele.ipynb        lance.ipynb    pybac.py        wp-post.py.save\r\n",
        "description       learnpy.ipynb  Readme.ipynb\r\n",
        "HEAD              learnpy.py     README.md\r\n",
        "helloworld.ipynb  LICENSE        \u001b[01;34mrefs\u001b[0m/\r\n"
       ]
      }
     ],
     "prompt_number": 142
    },
    {
     "cell_type": "code",
     "collapsed": false,
     "input": [
      "sys.getsizeof('pi')"
     ],
     "language": "python",
     "metadata": {},
     "outputs": [
      {
       "output_type": "pyout",
       "prompt_number": 143,
       "text": [
        "39"
       ]
      }
     ],
     "prompt_number": 143
    },
    {
     "cell_type": "code",
     "collapsed": false,
     "input": [
      "sys.getfilesystemencoding()"
     ],
     "language": "python",
     "metadata": {},
     "outputs": [
      {
       "output_type": "pyout",
       "prompt_number": 144,
       "text": [
        "'UTF-8'"
       ]
      }
     ],
     "prompt_number": 144
    },
    {
     "cell_type": "markdown",
     "metadata": {},
     "source": [
      "how about it does a git add commit after each save and a push at midnight"
     ]
    },
    {
     "cell_type": "code",
     "collapsed": false,
     "input": [
      "import subprocess"
     ],
     "language": "python",
     "metadata": {},
     "outputs": [],
     "prompt_number": 1
    },
    {
     "cell_type": "code",
     "collapsed": false,
     "input": [
      "subprocess.call('ls')"
     ],
     "language": "python",
     "metadata": {},
     "outputs": [
      {
       "output_type": "pyout",
       "prompt_number": 2,
       "text": [
        "0"
       ]
      }
     ],
     "prompt_number": 2
    },
    {
     "cell_type": "code",
     "collapsed": false,
     "input": [
      "def cmdchk(ls):\n",
      "    check = subprocess.check_output(ls)\n",
      "    return check"
     ],
     "language": "python",
     "metadata": {},
     "outputs": [],
     "prompt_number": 3
    },
    {
     "cell_type": "code",
     "collapsed": false,
     "input": [
      "docmd = cmdchk('ls')"
     ],
     "language": "python",
     "metadata": {},
     "outputs": [],
     "prompt_number": 7
    },
    {
     "cell_type": "code",
     "collapsed": false,
     "input": [
      "listdoc = []"
     ],
     "language": "python",
     "metadata": {},
     "outputs": [],
     "prompt_number": 8
    },
    {
     "cell_type": "code",
     "collapsed": false,
     "input": [
      "for d in docmd:\n",
      "    print d\n",
      "    listdoc.append(d)\n",
      "    "
     ],
     "language": "python",
     "metadata": {},
     "outputs": [
      {
       "output_type": "stream",
       "stream": "stdout",
       "text": [
        "A\n",
        "l\n",
        "e\n",
        "x\n",
        " \n",
        ".\n",
        "i\n",
        "p\n",
        "y\n",
        "n\n",
        "b\n",
        "\n",
        "\n",
        "B\n",
        "r\n",
        "u\n",
        "c\n",
        "e\n",
        ".\n",
        "i\n",
        "p\n",
        "y\n",
        "n\n",
        "b\n",
        "\n",
        "\n",
        "B\n",
        "r\n",
        "u\n",
        "c\n",
        "e\n",
        ".\n",
        "p\n",
        "y\n",
        "\n",
        "\n",
        "D\n",
        "e\n",
        "l\n",
        "e\n",
        ".\n",
        "i\n",
        "p\n",
        "y\n",
        "n\n",
        "b\n",
        "\n",
        "\n",
        "E\n",
        "x\n",
        "c\n",
        "e\n",
        "l\n",
        "_\n",
        "W\n",
        "o\n",
        "r\n",
        "k\n",
        "b\n",
        "o\n",
        "o\n",
        "k\n",
        ".\n",
        "x\n",
        "l\n",
        "s\n",
        "\n",
        "\n",
        "E\n",
        "x\n",
        "c\n",
        "e\n",
        "l\n",
        "_\n",
        "w\n",
        "o\n",
        "r\n",
        "k\n",
        "b\n",
        "o\n",
        "o\n",
        "k\n",
        ".\n",
        "x\n",
        "l\n",
        "s\n",
        "\n",
        "\n",
        "H\n",
        "E\n",
        "A\n",
        "D\n",
        "\n",
        "\n",
        "J\n",
        "o\n",
        "h\n",
        "n\n",
        " \n",
        "T\n",
        ".\n",
        "i\n",
        "p\n",
        "y\n",
        "n\n",
        "b\n",
        "\n",
        "\n",
        "L\n",
        "I\n",
        "C\n",
        "E\n",
        "N\n",
        "S\n",
        "E\n",
        "\n",
        "\n",
        "P\n",
        "e\n",
        "t\n",
        "e\n",
        "r\n",
        "W\n",
        ".\n",
        "i\n",
        "p\n",
        "y\n",
        "n\n",
        "b\n",
        "\n",
        "\n",
        "R\n",
        "E\n",
        "A\n",
        "D\n",
        "M\n",
        "E\n",
        ".\n",
        "m\n",
        "d\n",
        "\n",
        "\n",
        "R\n",
        "e\n",
        "a\n",
        "d\n",
        "m\n",
        "e\n",
        ".\n",
        "i\n",
        "p\n",
        "y\n",
        "n\n",
        "b\n",
        "\n",
        "\n",
        "S\n",
        "t\n",
        "e\n",
        "p\n",
        "h\n",
        "M\n",
        ".\n",
        "i\n",
        "p\n",
        "y\n",
        "n\n",
        "b\n",
        "\n",
        "\n",
        "T\n",
        "K\n",
        " \n",
        "H\n",
        "e\n",
        "l\n",
        "l\n",
        "o\n",
        " \n",
        "W\n",
        "o\n",
        "r\n",
        "l\n",
        "d\n",
        ".\n",
        "i\n",
        "p\n",
        "y\n",
        "n\n",
        "b\n",
        "\n",
        "\n",
        "T\n",
        "o\n",
        "n\n",
        "y\n",
        ".\n",
        "i\n",
        "p\n",
        "y\n",
        "n\n",
        "b\n",
        "\n",
        "\n",
        "U\n",
        "n\n",
        "t\n",
        "i\n",
        "t\n",
        "l\n",
        "e\n",
        "d\n",
        "0\n",
        ".\n",
        "i\n",
        "p\n",
        "y\n",
        "n\n",
        "b\n",
        "\n",
        "\n",
        "U\n",
        "n\n",
        "t\n",
        "i\n",
        "t\n",
        "l\n",
        "e\n",
        "d\n",
        "1\n",
        ".\n",
        "i\n",
        "p\n",
        "y\n",
        "n\n",
        "b\n",
        "\n",
        "\n",
        "U\n",
        "n\n",
        "t\n",
        "i\n",
        "t\n",
        "l\n",
        "e\n",
        "d\n",
        "2\n",
        ".\n",
        "i\n",
        "p\n",
        "y\n",
        "n\n",
        "b\n",
        "\n",
        "\n",
        "U\n",
        "n\n",
        "t\n",
        "i\n",
        "t\n",
        "l\n",
        "e\n",
        "d\n",
        "3\n",
        ".\n",
        "i\n",
        "p\n",
        "y\n",
        "n\n",
        "b\n",
        "\n",
        "\n",
        "U\n",
        "n\n",
        "t\n",
        "i\n",
        "t\n",
        "l\n",
        "e\n",
        "d\n",
        "4\n",
        ".\n",
        "i\n",
        "p\n",
        "y\n",
        "n\n",
        "b\n",
        "\n",
        "\n",
        "U\n",
        "n\n",
        "t\n",
        "i\n",
        "t\n",
        "l\n",
        "e\n",
        "d\n",
        "5\n",
        ".\n",
        "i\n",
        "p\n",
        "y\n",
        "n\n",
        "b\n",
        "\n",
        "\n",
        "U\n",
        "n\n",
        "t\n",
        "i\n",
        "t\n",
        "l\n",
        "e\n",
        "d\n",
        "6\n",
        ".\n",
        "i\n",
        "p\n",
        "y\n",
        "n\n",
        "b\n",
        "\n",
        "\n",
        "a\n",
        "d\n",
        "d\n",
        "r\n",
        "e\n",
        "s\n",
        "s\n",
        ".\n",
        "x\n",
        "l\n",
        "s\n",
        "\n",
        "\n",
        "a\n",
        "d\n",
        "o\n",
        "n\n",
        ".\n",
        "i\n",
        "p\n",
        "y\n",
        "n\n",
        "b\n",
        "\n",
        "\n",
        "b\n",
        "r\n",
        "u\n",
        "c\n",
        "e\n",
        ".\n",
        "i\n",
        "p\n",
        "y\n",
        "n\n",
        "b\n",
        "\n",
        "\n",
        "c\n",
        "o\n",
        "n\n",
        "f\n",
        "i\n",
        "g\n",
        "\n",
        "\n",
        "d\n",
        "\n",
        "\n",
        "d\n",
        "a\n",
        "t\n",
        "a\n",
        "\n",
        "\n",
        "d\n",
        "e\n",
        "s\n",
        "c\n",
        "r\n",
        "i\n",
        "p\n",
        "t\n",
        "i\n",
        "o\n",
        "n\n",
        "\n",
        "\n",
        "e\n",
        "x\n",
        "c\n",
        "e\n",
        "l\n",
        "d\n",
        "o\n",
        "c\n",
        ".\n",
        "x\n",
        "l\n",
        "s\n",
        "\n",
        "\n",
        "e\n",
        "x\n",
        "f\n",
        "c\n",
        "e\n",
        "l\n",
        "d\n",
        "o\n",
        "c\n",
        ".\n",
        "x\n",
        "l\n",
        "s\n",
        "\n",
        "\n",
        "f\n",
        "r\n",
        "a\n",
        "n\n",
        "k\n",
        "i\n",
        "e\n",
        ".\n",
        "i\n",
        "p\n",
        "y\n",
        "n\n",
        "b\n",
        "\n",
        "\n",
        "h\n",
        "e\n",
        "l\n",
        "l\n",
        "o\n",
        "w\n",
        "o\n",
        "r\n",
        "l\n",
        "d\n",
        ".\n",
        "i\n",
        "p\n",
        "y\n",
        "n\n",
        "b\n",
        "\n",
        "\n",
        "h\n",
        "o\n",
        "o\n",
        "k\n",
        "s\n",
        "\n",
        "\n",
        "i\n",
        "a\n",
        "n\n",
        ".\n",
        "i\n",
        "p\n",
        "y\n",
        "n\n",
        "b\n",
        "\n",
        "\n",
        "i\n",
        "n\n",
        "f\n",
        "o\n",
        "\n",
        "\n",
        "i\n",
        "n\n",
        "s\n",
        "t\n",
        "a\n",
        "l\n",
        "l\n",
        "6\n",
        "\n",
        "\n",
        "i\n",
        "n\n",
        "s\n",
        "t\n",
        "a\n",
        "l\n",
        "l\n",
        "6\n",
        "~\n",
        "\n",
        "\n",
        "l\n",
        "a\n",
        "n\n",
        "c\n",
        "e\n",
        ".\n",
        "i\n",
        "p\n",
        "y\n",
        "n\n",
        "b\n",
        "\n",
        "\n",
        "l\n",
        "e\n",
        "a\n",
        "r\n",
        "n\n",
        "p\n",
        "y\n",
        ".\n",
        "i\n",
        "p\n",
        "y\n",
        "n\n",
        "b\n",
        "\n",
        "\n",
        "l\n",
        "e\n",
        "a\n",
        "r\n",
        "n\n",
        "p\n",
        "y\n",
        ".\n",
        "p\n",
        "y\n",
        "\n",
        "\n",
        "m\n",
        "a\n",
        "i\n",
        "n\n",
        ".\n",
        "p\n",
        "y\n",
        "\n",
        "\n",
        "m\n",
        "a\n",
        "i\n",
        "n\n",
        ".\n",
        "p\n",
        "y\n",
        ".\n",
        "s\n",
        "a\n",
        "v\n",
        "e\n",
        "\n",
        "\n",
        "m\n",
        "a\n",
        "i\n",
        "n\n",
        ".\n",
        "p\n",
        "y\n",
        ".\n",
        "s\n",
        "a\n",
        "v\n",
        "e\n",
        ".\n",
        "1\n",
        "\n",
        "\n",
        "m\n",
        "a\n",
        "i\n",
        "n\n",
        ".\n",
        "p\n",
        "y\n",
        ".\n",
        "s\n",
        "a\n",
        "v\n",
        "e\n",
        ".\n",
        "2\n",
        "\n",
        "\n",
        "p\n",
        "y\n",
        "b\n",
        "a\n",
        "c\n",
        ".\n",
        "p\n",
        "y\n",
        "\n",
        "\n",
        "p\n",
        "y\n",
        "e\n",
        "x\n",
        "c\n",
        "e\n",
        "l\n",
        ".\n",
        "i\n",
        "p\n",
        "y\n",
        "n\n",
        "b\n",
        "\n",
        "\n",
        "p\n",
        "y\n",
        "e\n",
        "x\n",
        "c\n",
        "e\n",
        "l\n",
        ".\n",
        "p\n",
        "y\n",
        "\n",
        "\n",
        "s\n",
        "i\n",
        "t\n",
        "e\n",
        "\n",
        "\n",
        "t\n",
        "e\n",
        "s\n",
        "t\n",
        "\n",
        "\n",
        "t\n",
        "e\n",
        "s\n",
        "t\n",
        ".\n",
        "i\n",
        "p\n",
        "y\n",
        "n\n",
        "b\n",
        "\n",
        "\n",
        "t\n",
        "o\n",
        "a\n",
        "r\n",
        "a\n",
        ".\n",
        "i\n",
        "p\n",
        "y\n",
        "n\n",
        "b\n",
        "\n",
        "\n",
        "w\n",
        "i\n",
        "l\n",
        "l\n",
        "i\n",
        "a\n",
        "m\n",
        ".\n",
        "i\n",
        "p\n",
        "y\n",
        "n\n",
        "b\n",
        "\n",
        "\n",
        "w\n",
        "i\n",
        "l\n",
        "l\n",
        "i\n",
        "a\n",
        "m\n",
        ".\n",
        "p\n",
        "y\n",
        "\n",
        "\n",
        "w\n",
        "p\n",
        "-\n",
        "p\n",
        "o\n",
        "s\n",
        "t\n",
        ".\n",
        "p\n",
        "y\n",
        ".\n",
        "s\n",
        "a\n",
        "v\n",
        "e\n",
        "\n",
        "\n"
       ]
      }
     ],
     "prompt_number": 9
    },
    {
     "cell_type": "code",
     "collapsed": false,
     "input": [
      "print listdoc"
     ],
     "language": "python",
     "metadata": {},
     "outputs": [
      {
       "output_type": "stream",
       "stream": "stdout",
       "text": [
        "['A', 'l', 'e', 'x', ' ', '.', 'i', 'p', 'y', 'n', 'b', '\\n', 'B', 'r', 'u', 'c', 'e', '.', 'i', 'p', 'y', 'n', 'b', '\\n', 'B', 'r', 'u', 'c', 'e', '.', 'p', 'y', '\\n', 'D', 'e', 'l', 'e', '.', 'i', 'p', 'y', 'n', 'b', '\\n', 'E', 'x', 'c', 'e', 'l', '_', 'W', 'o', 'r', 'k', 'b', 'o', 'o', 'k', '.', 'x', 'l', 's', '\\n', 'E', 'x', 'c', 'e', 'l', '_', 'w', 'o', 'r', 'k', 'b', 'o', 'o', 'k', '.', 'x', 'l', 's', '\\n', 'H', 'E', 'A', 'D', '\\n', 'J', 'o', 'h', 'n', ' ', 'T', '.', 'i', 'p', 'y', 'n', 'b', '\\n', 'L', 'I', 'C', 'E', 'N', 'S', 'E', '\\n', 'P', 'e', 't', 'e', 'r', 'W', '.', 'i', 'p', 'y', 'n', 'b', '\\n', 'R', 'E', 'A', 'D', 'M', 'E', '.', 'm', 'd', '\\n', 'R', 'e', 'a', 'd', 'm', 'e', '.', 'i', 'p', 'y', 'n', 'b', '\\n', 'S', 't', 'e', 'p', 'h', 'M', '.', 'i', 'p', 'y', 'n', 'b', '\\n', 'T', 'K', ' ', 'H', 'e', 'l', 'l', 'o', ' ', 'W', 'o', 'r', 'l', 'd', '.', 'i', 'p', 'y', 'n', 'b', '\\n', 'T', 'o', 'n', 'y', '.', 'i', 'p', 'y', 'n', 'b', '\\n', 'U', 'n', 't', 'i', 't', 'l', 'e', 'd', '0', '.', 'i', 'p', 'y', 'n', 'b', '\\n', 'U', 'n', 't', 'i', 't', 'l', 'e', 'd', '1', '.', 'i', 'p', 'y', 'n', 'b', '\\n', 'U', 'n', 't', 'i', 't', 'l', 'e', 'd', '2', '.', 'i', 'p', 'y', 'n', 'b', '\\n', 'U', 'n', 't', 'i', 't', 'l', 'e', 'd', '3', '.', 'i', 'p', 'y', 'n', 'b', '\\n', 'U', 'n', 't', 'i', 't', 'l', 'e', 'd', '4', '.', 'i', 'p', 'y', 'n', 'b', '\\n', 'U', 'n', 't', 'i', 't', 'l', 'e', 'd', '5', '.', 'i', 'p', 'y', 'n', 'b', '\\n', 'U', 'n', 't', 'i', 't', 'l', 'e', 'd', '6', '.', 'i', 'p', 'y', 'n', 'b', '\\n', 'a', 'd', 'd', 'r', 'e', 's', 's', '.', 'x', 'l', 's', '\\n', 'a', 'd', 'o', 'n', '.', 'i', 'p', 'y', 'n', 'b', '\\n', 'b', 'r', 'u', 'c', 'e', '.', 'i', 'p', 'y', 'n', 'b', '\\n', 'c', 'o', 'n', 'f', 'i', 'g', '\\n', 'd', '\\n', 'd', 'a', 't', 'a', '\\n', 'd', 'e', 's', 'c', 'r', 'i', 'p', 't', 'i', 'o', 'n', '\\n', 'e', 'x', 'c', 'e', 'l', 'd', 'o', 'c', '.', 'x', 'l', 's', '\\n', 'e', 'x', 'f', 'c', 'e', 'l', 'd', 'o', 'c', '.', 'x', 'l', 's', '\\n', 'f', 'r', 'a', 'n', 'k', 'i', 'e', '.', 'i', 'p', 'y', 'n', 'b', '\\n', 'h', 'e', 'l', 'l', 'o', 'w', 'o', 'r', 'l', 'd', '.', 'i', 'p', 'y', 'n', 'b', '\\n', 'h', 'o', 'o', 'k', 's', '\\n', 'i', 'a', 'n', '.', 'i', 'p', 'y', 'n', 'b', '\\n', 'i', 'n', 'f', 'o', '\\n', 'i', 'n', 's', 't', 'a', 'l', 'l', '6', '\\n', 'i', 'n', 's', 't', 'a', 'l', 'l', '6', '~', '\\n', 'l', 'a', 'n', 'c', 'e', '.', 'i', 'p', 'y', 'n', 'b', '\\n', 'l', 'e', 'a', 'r', 'n', 'p', 'y', '.', 'i', 'p', 'y', 'n', 'b', '\\n', 'l', 'e', 'a', 'r', 'n', 'p', 'y', '.', 'p', 'y', '\\n', 'm', 'a', 'i', 'n', '.', 'p', 'y', '\\n', 'm', 'a', 'i', 'n', '.', 'p', 'y', '.', 's', 'a', 'v', 'e', '\\n', 'm', 'a', 'i', 'n', '.', 'p', 'y', '.', 's', 'a', 'v', 'e', '.', '1', '\\n', 'm', 'a', 'i', 'n', '.', 'p', 'y', '.', 's', 'a', 'v', 'e', '.', '2', '\\n', 'p', 'y', 'b', 'a', 'c', '.', 'p', 'y', '\\n', 'p', 'y', 'e', 'x', 'c', 'e', 'l', '.', 'i', 'p', 'y', 'n', 'b', '\\n', 'p', 'y', 'e', 'x', 'c', 'e', 'l', '.', 'p', 'y', '\\n', 's', 'i', 't', 'e', '\\n', 't', 'e', 's', 't', '\\n', 't', 'e', 's', 't', '.', 'i', 'p', 'y', 'n', 'b', '\\n', 't', 'o', 'a', 'r', 'a', '.', 'i', 'p', 'y', 'n', 'b', '\\n', 'w', 'i', 'l', 'l', 'i', 'a', 'm', '.', 'i', 'p', 'y', 'n', 'b', '\\n', 'w', 'i', 'l', 'l', 'i', 'a', 'm', '.', 'p', 'y', '\\n', 'w', 'p', '-', 'p', 'o', 's', 't', '.', 'p', 'y', '.', 's', 'a', 'v', 'e', '\\n']\n"
       ]
      }
     ],
     "prompt_number": 10
    },
    {
     "cell_type": "code",
     "collapsed": false,
     "input": [
      "listdoc.reverse()"
     ],
     "language": "python",
     "metadata": {},
     "outputs": [],
     "prompt_number": 11
    },
    {
     "cell_type": "code",
     "collapsed": false,
     "input": [
      "listdoc.count('y')"
     ],
     "language": "python",
     "metadata": {},
     "outputs": [
      {
       "output_type": "pyout",
       "prompt_number": 12,
       "text": [
        "43"
       ]
      }
     ],
     "prompt_number": 12
    },
    {
     "cell_type": "code",
     "collapsed": false,
     "input": [
      "revnow = listdoc.count('y')"
     ],
     "language": "python",
     "metadata": {},
     "outputs": [],
     "prompt_number": 13
    },
    {
     "cell_type": "code",
     "collapsed": false,
     "input": [
      "print revnow"
     ],
     "language": "python",
     "metadata": {},
     "outputs": [
      {
       "output_type": "stream",
       "stream": "stdout",
       "text": [
        "43\n"
       ]
      }
     ],
     "prompt_number": 14
    },
    {
     "cell_type": "code",
     "collapsed": false,
     "input": [
      "print listdoc"
     ],
     "language": "python",
     "metadata": {},
     "outputs": [
      {
       "output_type": "stream",
       "stream": "stdout",
       "text": [
        "['\\n', 'e', 'v', 'a', 's', '.', 'y', 'p', '.', 't', 's', 'o', 'p', '-', 'p', 'w', '\\n', 'y', 'p', '.', 'm', 'a', 'i', 'l', 'l', 'i', 'w', '\\n', 'b', 'n', 'y', 'p', 'i', '.', 'm', 'a', 'i', 'l', 'l', 'i', 'w', '\\n', 'b', 'n', 'y', 'p', 'i', '.', 'a', 'r', 'a', 'o', 't', '\\n', 'b', 'n', 'y', 'p', 'i', '.', 't', 's', 'e', 't', '\\n', 't', 's', 'e', 't', '\\n', 'e', 't', 'i', 's', '\\n', 'y', 'p', '.', 'l', 'e', 'c', 'x', 'e', 'y', 'p', '\\n', 'b', 'n', 'y', 'p', 'i', '.', 'l', 'e', 'c', 'x', 'e', 'y', 'p', '\\n', 'y', 'p', '.', 'c', 'a', 'b', 'y', 'p', '\\n', '2', '.', 'e', 'v', 'a', 's', '.', 'y', 'p', '.', 'n', 'i', 'a', 'm', '\\n', '1', '.', 'e', 'v', 'a', 's', '.', 'y', 'p', '.', 'n', 'i', 'a', 'm', '\\n', 'e', 'v', 'a', 's', '.', 'y', 'p', '.', 'n', 'i', 'a', 'm', '\\n', 'y', 'p', '.', 'n', 'i', 'a', 'm', '\\n', 'y', 'p', '.', 'y', 'p', 'n', 'r', 'a', 'e', 'l', '\\n', 'b', 'n', 'y', 'p', 'i', '.', 'y', 'p', 'n', 'r', 'a', 'e', 'l', '\\n', 'b', 'n', 'y', 'p', 'i', '.', 'e', 'c', 'n', 'a', 'l', '\\n', '~', '6', 'l', 'l', 'a', 't', 's', 'n', 'i', '\\n', '6', 'l', 'l', 'a', 't', 's', 'n', 'i', '\\n', 'o', 'f', 'n', 'i', '\\n', 'b', 'n', 'y', 'p', 'i', '.', 'n', 'a', 'i', '\\n', 's', 'k', 'o', 'o', 'h', '\\n', 'b', 'n', 'y', 'p', 'i', '.', 'd', 'l', 'r', 'o', 'w', 'o', 'l', 'l', 'e', 'h', '\\n', 'b', 'n', 'y', 'p', 'i', '.', 'e', 'i', 'k', 'n', 'a', 'r', 'f', '\\n', 's', 'l', 'x', '.', 'c', 'o', 'd', 'l', 'e', 'c', 'f', 'x', 'e', '\\n', 's', 'l', 'x', '.', 'c', 'o', 'd', 'l', 'e', 'c', 'x', 'e', '\\n', 'n', 'o', 'i', 't', 'p', 'i', 'r', 'c', 's', 'e', 'd', '\\n', 'a', 't', 'a', 'd', '\\n', 'd', '\\n', 'g', 'i', 'f', 'n', 'o', 'c', '\\n', 'b', 'n', 'y', 'p', 'i', '.', 'e', 'c', 'u', 'r', 'b', '\\n', 'b', 'n', 'y', 'p', 'i', '.', 'n', 'o', 'd', 'a', '\\n', 's', 'l', 'x', '.', 's', 's', 'e', 'r', 'd', 'd', 'a', '\\n', 'b', 'n', 'y', 'p', 'i', '.', '6', 'd', 'e', 'l', 't', 'i', 't', 'n', 'U', '\\n', 'b', 'n', 'y', 'p', 'i', '.', '5', 'd', 'e', 'l', 't', 'i', 't', 'n', 'U', '\\n', 'b', 'n', 'y', 'p', 'i', '.', '4', 'd', 'e', 'l', 't', 'i', 't', 'n', 'U', '\\n', 'b', 'n', 'y', 'p', 'i', '.', '3', 'd', 'e', 'l', 't', 'i', 't', 'n', 'U', '\\n', 'b', 'n', 'y', 'p', 'i', '.', '2', 'd', 'e', 'l', 't', 'i', 't', 'n', 'U', '\\n', 'b', 'n', 'y', 'p', 'i', '.', '1', 'd', 'e', 'l', 't', 'i', 't', 'n', 'U', '\\n', 'b', 'n', 'y', 'p', 'i', '.', '0', 'd', 'e', 'l', 't', 'i', 't', 'n', 'U', '\\n', 'b', 'n', 'y', 'p', 'i', '.', 'y', 'n', 'o', 'T', '\\n', 'b', 'n', 'y', 'p', 'i', '.', 'd', 'l', 'r', 'o', 'W', ' ', 'o', 'l', 'l', 'e', 'H', ' ', 'K', 'T', '\\n', 'b', 'n', 'y', 'p', 'i', '.', 'M', 'h', 'p', 'e', 't', 'S', '\\n', 'b', 'n', 'y', 'p', 'i', '.', 'e', 'm', 'd', 'a', 'e', 'R', '\\n', 'd', 'm', '.', 'E', 'M', 'D', 'A', 'E', 'R', '\\n', 'b', 'n', 'y', 'p', 'i', '.', 'W', 'r', 'e', 't', 'e', 'P', '\\n', 'E', 'S', 'N', 'E', 'C', 'I', 'L', '\\n', 'b', 'n', 'y', 'p', 'i', '.', 'T', ' ', 'n', 'h', 'o', 'J', '\\n', 'D', 'A', 'E', 'H', '\\n', 's', 'l', 'x', '.', 'k', 'o', 'o', 'b', 'k', 'r', 'o', 'w', '_', 'l', 'e', 'c', 'x', 'E', '\\n', 's', 'l', 'x', '.', 'k', 'o', 'o', 'b', 'k', 'r', 'o', 'W', '_', 'l', 'e', 'c', 'x', 'E', '\\n', 'b', 'n', 'y', 'p', 'i', '.', 'e', 'l', 'e', 'D', '\\n', 'y', 'p', '.', 'e', 'c', 'u', 'r', 'B', '\\n', 'b', 'n', 'y', 'p', 'i', '.', 'e', 'c', 'u', 'r', 'B', '\\n', 'b', 'n', 'y', 'p', 'i', '.', ' ', 'x', 'e', 'l', 'A']\n"
       ]
      }
     ],
     "prompt_number": 15
    },
    {
     "cell_type": "code",
     "collapsed": false,
     "input": [
      "subprocess.check_output('ping', 'artcontrol.me')"
     ],
     "language": "python",
     "metadata": {},
     "outputs": [
      {
       "ename": "TypeError",
       "evalue": "bufsize must be an integer",
       "output_type": "pyerr",
       "traceback": [
        "\u001b[0;31m---------------------------------------------------------------------------\u001b[0m\n\u001b[0;31mTypeError\u001b[0m                                 Traceback (most recent call last)",
        "\u001b[0;32m<ipython-input-16-70ff00c02a78>\u001b[0m in \u001b[0;36m<module>\u001b[0;34m()\u001b[0m\n\u001b[0;32m----> 1\u001b[0;31m \u001b[0msubprocess\u001b[0m\u001b[0;34m.\u001b[0m\u001b[0mcheck_output\u001b[0m\u001b[0;34m(\u001b[0m\u001b[0;34m'ping'\u001b[0m\u001b[0;34m,\u001b[0m \u001b[0;34m'artcontrol.me'\u001b[0m\u001b[0;34m)\u001b[0m\u001b[0;34m\u001b[0m\u001b[0m\n\u001b[0m",
        "\u001b[0;32m/usr/lib/python2.7/subprocess.pyc\u001b[0m in \u001b[0;36mcheck_output\u001b[0;34m(*popenargs, **kwargs)\u001b[0m\n\u001b[1;32m    535\u001b[0m     \u001b[0;32mif\u001b[0m \u001b[0;34m'stdout'\u001b[0m \u001b[0;32min\u001b[0m \u001b[0mkwargs\u001b[0m\u001b[0;34m:\u001b[0m\u001b[0;34m\u001b[0m\u001b[0m\n\u001b[1;32m    536\u001b[0m         \u001b[0;32mraise\u001b[0m \u001b[0mValueError\u001b[0m\u001b[0;34m(\u001b[0m\u001b[0;34m'stdout argument not allowed, it will be overridden.'\u001b[0m\u001b[0;34m)\u001b[0m\u001b[0;34m\u001b[0m\u001b[0m\n\u001b[0;32m--> 537\u001b[0;31m     \u001b[0mprocess\u001b[0m \u001b[0;34m=\u001b[0m \u001b[0mPopen\u001b[0m\u001b[0;34m(\u001b[0m\u001b[0mstdout\u001b[0m\u001b[0;34m=\u001b[0m\u001b[0mPIPE\u001b[0m\u001b[0;34m,\u001b[0m \u001b[0;34m*\u001b[0m\u001b[0mpopenargs\u001b[0m\u001b[0;34m,\u001b[0m \u001b[0;34m**\u001b[0m\u001b[0mkwargs\u001b[0m\u001b[0;34m)\u001b[0m\u001b[0;34m\u001b[0m\u001b[0m\n\u001b[0m\u001b[1;32m    538\u001b[0m     \u001b[0moutput\u001b[0m\u001b[0;34m,\u001b[0m \u001b[0munused_err\u001b[0m \u001b[0;34m=\u001b[0m \u001b[0mprocess\u001b[0m\u001b[0;34m.\u001b[0m\u001b[0mcommunicate\u001b[0m\u001b[0;34m(\u001b[0m\u001b[0;34m)\u001b[0m\u001b[0;34m\u001b[0m\u001b[0m\n\u001b[1;32m    539\u001b[0m     \u001b[0mretcode\u001b[0m \u001b[0;34m=\u001b[0m \u001b[0mprocess\u001b[0m\u001b[0;34m.\u001b[0m\u001b[0mpoll\u001b[0m\u001b[0;34m(\u001b[0m\u001b[0;34m)\u001b[0m\u001b[0;34m\u001b[0m\u001b[0m\n",
        "\u001b[0;32m/usr/lib/python2.7/subprocess.pyc\u001b[0m in \u001b[0;36m__init__\u001b[0;34m(self, args, bufsize, executable, stdin, stdout, stderr, preexec_fn, close_fds, shell, cwd, env, universal_newlines, startupinfo, creationflags)\u001b[0m\n\u001b[1;32m    627\u001b[0m         \u001b[0mself\u001b[0m\u001b[0;34m.\u001b[0m\u001b[0m_child_created\u001b[0m \u001b[0;34m=\u001b[0m \u001b[0mFalse\u001b[0m\u001b[0;34m\u001b[0m\u001b[0m\n\u001b[1;32m    628\u001b[0m         \u001b[0;32mif\u001b[0m \u001b[0;32mnot\u001b[0m \u001b[0misinstance\u001b[0m\u001b[0;34m(\u001b[0m\u001b[0mbufsize\u001b[0m\u001b[0;34m,\u001b[0m \u001b[0;34m(\u001b[0m\u001b[0mint\u001b[0m\u001b[0;34m,\u001b[0m \u001b[0mlong\u001b[0m\u001b[0;34m)\u001b[0m\u001b[0;34m)\u001b[0m\u001b[0;34m:\u001b[0m\u001b[0;34m\u001b[0m\u001b[0m\n\u001b[0;32m--> 629\u001b[0;31m             \u001b[0;32mraise\u001b[0m \u001b[0mTypeError\u001b[0m\u001b[0;34m(\u001b[0m\u001b[0;34m\"bufsize must be an integer\"\u001b[0m\u001b[0;34m)\u001b[0m\u001b[0;34m\u001b[0m\u001b[0m\n\u001b[0m\u001b[1;32m    630\u001b[0m \u001b[0;34m\u001b[0m\u001b[0m\n\u001b[1;32m    631\u001b[0m         \u001b[0;32mif\u001b[0m \u001b[0mmswindows\u001b[0m\u001b[0;34m:\u001b[0m\u001b[0;34m\u001b[0m\u001b[0m\n",
        "\u001b[0;31mTypeError\u001b[0m: bufsize must be an integer"
       ]
      }
     ],
     "prompt_number": 16
    },
    {
     "cell_type": "code",
     "collapsed": false,
     "input": [
      "subprocess.sys.copyright"
     ],
     "language": "python",
     "metadata": {},
     "outputs": [
      {
       "output_type": "pyout",
       "prompt_number": 17,
       "text": [
        "'Copyright (c) 2001-2012 Python Software Foundation.\\nAll Rights Reserved.\\n\\nCopyright (c) 2000 BeOpen.com.\\nAll Rights Reserved.\\n\\nCopyright (c) 1995-2001 Corporation for National Research Initiatives.\\nAll Rights Reserved.\\n\\nCopyright (c) 1991-1995 Stichting Mathematisch Centrum, Amsterdam.\\nAll Rights Reserved.'"
       ]
      }
     ],
     "prompt_number": 17
    },
    {
     "cell_type": "code",
     "collapsed": false,
     "input": [],
     "language": "python",
     "metadata": {},
     "outputs": [],
     "prompt_number": 179
    },
    {
     "cell_type": "code",
     "collapsed": false,
     "input": [
      "os.fork()"
     ],
     "language": "python",
     "metadata": {},
     "outputs": [
      {
       "output_type": "pyout",
       "prompt_number": 180,
       "text": [
        "31239"
       ]
      }
     ],
     "prompt_number": 180
    },
    {
     "cell_type": "code",
     "collapsed": false,
     "input": [
      "myenv = os.environ"
     ],
     "language": "python",
     "metadata": {},
     "outputs": [],
     "prompt_number": 181
    },
    {
     "cell_type": "code",
     "collapsed": false,
     "input": [
      "print myenv.items"
     ],
     "language": "python",
     "metadata": {},
     "outputs": [
      {
       "output_type": "stream",
       "stream": "stdout",
       "text": [
        "<bound method _Environ.items of {'LANG': 'en_NZ.UTF-8', 'TERM': 'xterm-color', 'SHELL': '/bin/bash', 'XDG_SESSION_COOKIE': '8fcd93f95efb16bcf8c8407952d098f2-1392766423.446500-2010730714', 'LANGUAGE': 'en_NZ:en', 'SHLVL': '1', 'PAGER': 'cat', 'OLDPWD': '/home/pi', 'CLICOLOR': '1', 'PWD': '/home/pi/learnpython', 'LOGNAME': 'pi', 'USER': 'pi', 'MAIL': '/var/mail/pi', 'PATH': '/usr/local/bin:/usr/bin:/bin:/usr/local/games:/usr/games', 'HOME': '/home/pi', '_': '/usr/bin/ipython', 'GIT_PAGER': 'cat'}>\n"
       ]
      }
     ],
     "prompt_number": 182
    },
    {
     "cell_type": "code",
     "collapsed": false,
     "input": [
      "import random"
     ],
     "language": "python",
     "metadata": {},
     "outputs": [],
     "prompt_number": 30
    },
    {
     "cell_type": "code",
     "collapsed": false,
     "input": [
      "samp = random.sample(listdoc, 9)"
     ],
     "language": "python",
     "metadata": {},
     "outputs": [],
     "prompt_number": 37
    },
    {
     "cell_type": "code",
     "collapsed": false,
     "input": [
      "print samp"
     ],
     "language": "python",
     "metadata": {},
     "outputs": [
      {
       "output_type": "stream",
       "stream": "stdout",
       "text": [
        "['e', 'i', 'x', 'D', 'l', 'W', 'y', 't', 'i']\n"
       ]
      }
     ],
     "prompt_number": 38
    },
    {
     "cell_type": "code",
     "collapsed": false,
     "input": [
      "samp.index('c')"
     ],
     "language": "python",
     "metadata": {},
     "outputs": [
      {
       "ename": "ValueError",
       "evalue": "'c' is not in list",
       "output_type": "pyerr",
       "traceback": [
        "\u001b[0;31m---------------------------------------------------------------------------\u001b[0m\n\u001b[0;31mValueError\u001b[0m                                Traceback (most recent call last)",
        "\u001b[0;32m<ipython-input-39-6418fde61f07>\u001b[0m in \u001b[0;36m<module>\u001b[0;34m()\u001b[0m\n\u001b[0;32m----> 1\u001b[0;31m \u001b[0msamp\u001b[0m\u001b[0;34m.\u001b[0m\u001b[0mindex\u001b[0m\u001b[0;34m(\u001b[0m\u001b[0;34m'c'\u001b[0m\u001b[0;34m)\u001b[0m\u001b[0;34m\u001b[0m\u001b[0m\n\u001b[0m",
        "\u001b[0;31mValueError\u001b[0m: 'c' is not in list"
       ]
      }
     ],
     "prompt_number": 39
    },
    {
     "cell_type": "code",
     "collapsed": false,
     "input": [
      "import string"
     ],
     "language": "python",
     "metadata": {},
     "outputs": [],
     "prompt_number": 40
    },
    {
     "cell_type": "code",
     "collapsed": false,
     "input": [
      "string.join(samp)"
     ],
     "language": "python",
     "metadata": {},
     "outputs": [
      {
       "output_type": "pyout",
       "prompt_number": 41,
       "text": [
        "'e i x D l W y t i'"
       ]
      }
     ],
     "prompt_number": 41
    },
    {
     "cell_type": "code",
     "collapsed": false,
     "input": [
      "strsamp = string.joinfields(samp)"
     ],
     "language": "python",
     "metadata": {},
     "outputs": [],
     "prompt_number": 45
    },
    {
     "cell_type": "code",
     "collapsed": false,
     "input": [
      "string.lower(strsamp)"
     ],
     "language": "python",
     "metadata": {},
     "outputs": [
      {
       "output_type": "pyout",
       "prompt_number": 47,
       "text": [
        "'e i x d l w y t i'"
       ]
      }
     ],
     "prompt_number": 47
    },
    {
     "cell_type": "code",
     "collapsed": false,
     "input": [
      "string.zfill(strsamp, 0)"
     ],
     "language": "python",
     "metadata": {},
     "outputs": [
      {
       "output_type": "pyout",
       "prompt_number": 53,
       "text": [
        "'e i x D l W y t i'"
       ]
      }
     ],
     "prompt_number": 53
    },
    {
     "cell_type": "code",
     "collapsed": false,
     "input": [
      "string.split(strsamp, ' ')"
     ],
     "language": "python",
     "metadata": {},
     "outputs": [
      {
       "output_type": "pyout",
       "prompt_number": 54,
       "text": [
        "['e', 'i', 'x', 'D', 'l', 'W', 'y', 't', 'i']"
       ]
      }
     ],
     "prompt_number": 54
    },
    {
     "cell_type": "code",
     "collapsed": false,
     "input": [
      "string.strip(strsamp, 'i ')"
     ],
     "language": "python",
     "metadata": {},
     "outputs": [
      {
       "output_type": "pyout",
       "prompt_number": 56,
       "text": [
        "'e i x D l W y t'"
       ]
      }
     ],
     "prompt_number": 56
    },
    {
     "cell_type": "code",
     "collapsed": false,
     "input": [
      "import time"
     ],
     "language": "python",
     "metadata": {},
     "outputs": [],
     "prompt_number": 57
    },
    {
     "cell_type": "code",
     "collapsed": false,
     "input": [
      "time.localtime()"
     ],
     "language": "python",
     "metadata": {},
     "outputs": [
      {
       "output_type": "pyout",
       "prompt_number": 59,
       "text": [
        "time.struct_time(tm_year=2014, tm_mon=3, tm_mday=2, tm_hour=8, tm_min=37, tm_sec=13, tm_wday=6, tm_yday=61, tm_isdst=0)"
       ]
      }
     ],
     "prompt_number": 59
    },
    {
     "cell_type": "code",
     "collapsed": false,
     "input": [
      "time.time()"
     ],
     "language": "python",
     "metadata": {},
     "outputs": [
      {
       "output_type": "pyout",
       "prompt_number": 60,
       "text": [
        "1393749454.653164"
       ]
      }
     ],
     "prompt_number": 60
    },
    {
     "cell_type": "code",
     "collapsed": false,
     "input": [
      "time.gmtime()"
     ],
     "language": "python",
     "metadata": {},
     "outputs": [
      {
       "output_type": "pyout",
       "prompt_number": 63,
       "text": [
        "time.struct_time(tm_year=2014, tm_mon=3, tm_mday=2, tm_hour=8, tm_min=37, tm_sec=57, tm_wday=6, tm_yday=61, tm_isdst=0)"
       ]
      }
     ],
     "prompt_number": 63
    },
    {
     "cell_type": "code",
     "collapsed": false,
     "input": [
      "time.asctime()"
     ],
     "language": "python",
     "metadata": {},
     "outputs": [
      {
       "output_type": "pyout",
       "prompt_number": 64,
       "text": [
        "'Sun Mar  2 08:37:59 2014'"
       ]
      }
     ],
     "prompt_number": 64
    },
    {
     "cell_type": "code",
     "collapsed": false,
     "input": [
      "time.gmtime()"
     ],
     "language": "python",
     "metadata": {},
     "outputs": [
      {
       "output_type": "pyout",
       "prompt_number": 65,
       "text": [
        "time.struct_time(tm_year=2014, tm_mon=3, tm_mday=2, tm_hour=8, tm_min=38, tm_sec=7, tm_wday=6, tm_yday=61, tm_isdst=0)"
       ]
      }
     ],
     "prompt_number": 65
    },
    {
     "cell_type": "code",
     "collapsed": false,
     "input": [
      "time.timezone"
     ],
     "language": "python",
     "metadata": {},
     "outputs": [
      {
       "output_type": "pyout",
       "prompt_number": 68,
       "text": [
        "0"
       ]
      }
     ],
     "prompt_number": 68
    },
    {
     "cell_type": "code",
     "collapsed": false,
     "input": [
      "curtime = time.ctime()"
     ],
     "language": "python",
     "metadata": {},
     "outputs": [],
     "prompt_number": 71
    },
    {
     "cell_type": "code",
     "collapsed": false,
     "input": [
      "print curtime"
     ],
     "language": "python",
     "metadata": {},
     "outputs": [
      {
       "output_type": "stream",
       "stream": "stdout",
       "text": [
        "Sun Mar  2 08:57:57 2014\n"
       ]
      }
     ],
     "prompt_number": 72
    },
    {
     "cell_type": "code",
     "collapsed": false,
     "input": [
      "strcurtime = string.split(curtime, ' ')"
     ],
     "language": "python",
     "metadata": {},
     "outputs": [],
     "prompt_number": 74
    },
    {
     "cell_type": "code",
     "collapsed": false,
     "input": [
      "strcurtime"
     ],
     "language": "python",
     "metadata": {},
     "outputs": [
      {
       "output_type": "pyout",
       "prompt_number": 80,
       "text": [
        "['2014', '08:57:57', '2', '', 'Mar', 'Sun']"
       ]
      }
     ],
     "prompt_number": 80
    },
    {
     "cell_type": "code",
     "collapsed": false,
     "input": [
      "listcurtime = list(strcurtime)"
     ],
     "language": "python",
     "metadata": {},
     "outputs": [],
     "prompt_number": 91
    },
    {
     "cell_type": "code",
     "collapsed": false,
     "input": [
      "listcurtime.append('test')"
     ],
     "language": "python",
     "metadata": {},
     "outputs": [],
     "prompt_number": 92
    },
    {
     "cell_type": "code",
     "collapsed": false,
     "input": [
      "print listcurtime"
     ],
     "language": "python",
     "metadata": {},
     "outputs": [
      {
       "output_type": "stream",
       "stream": "stdout",
       "text": [
        "['2014', '08:57:57', '2', '', 'Mar', 'Sun', 'test']\n"
       ]
      }
     ],
     "prompt_number": 93
    },
    {
     "cell_type": "code",
     "collapsed": false,
     "input": [
      "str(listcurtime)"
     ],
     "language": "python",
     "metadata": {},
     "outputs": [
      {
       "output_type": "pyout",
       "prompt_number": 95,
       "text": [
        "\"['2014', '08:57:57', '2', '', 'Mar', 'Sun', 'test']\""
       ]
      }
     ],
     "prompt_number": 95
    },
    {
     "cell_type": "code",
     "collapsed": false,
     "input": [
      "incurtime = (listcurtime.index('Mar'))"
     ],
     "language": "python",
     "metadata": {},
     "outputs": [],
     "prompt_number": 118
    },
    {
     "cell_type": "code",
     "collapsed": false,
     "input": [
      "listcurtime[incurtime]"
     ],
     "language": "python",
     "metadata": {},
     "outputs": [
      {
       "output_type": "pyout",
       "prompt_number": 119,
       "text": [
        "'Mar'"
       ]
      }
     ],
     "prompt_number": 119
    },
    {
     "cell_type": "code",
     "collapsed": false,
     "input": [
      "listsamp = listcurtime + samp"
     ],
     "language": "python",
     "metadata": {},
     "outputs": [
      {
       "ename": "NameError",
       "evalue": "name 'listcurtime' is not defined",
       "output_type": "pyerr",
       "traceback": [
        "\u001b[0;31m---------------------------------------------------------------------------\u001b[0m\n\u001b[0;31mNameError\u001b[0m                                 Traceback (most recent call last)",
        "\u001b[0;32m<ipython-input-74-42fab39d7507>\u001b[0m in \u001b[0;36m<module>\u001b[0;34m()\u001b[0m\n\u001b[0;32m----> 1\u001b[0;31m \u001b[0mlistsamp\u001b[0m \u001b[0;34m=\u001b[0m \u001b[0mlistcurtime\u001b[0m \u001b[0;34m+\u001b[0m \u001b[0msamp\u001b[0m\u001b[0;34m\u001b[0m\u001b[0m\n\u001b[0m",
        "\u001b[0;31mNameError\u001b[0m: name 'listcurtime' is not defined"
       ]
      }
     ],
     "prompt_number": 74
    },
    {
     "cell_type": "code",
     "collapsed": false,
     "input": [
      "newlistsame = list(listsamp)"
     ],
     "language": "python",
     "metadata": {},
     "outputs": [
      {
       "ename": "NameError",
       "evalue": "name 'listsamp' is not defined",
       "output_type": "pyerr",
       "traceback": [
        "\u001b[0;31m---------------------------------------------------------------------------\u001b[0m\n\u001b[0;31mNameError\u001b[0m                                 Traceback (most recent call last)",
        "\u001b[0;32m<ipython-input-75-b14aaa250d74>\u001b[0m in \u001b[0;36m<module>\u001b[0;34m()\u001b[0m\n\u001b[0;32m----> 1\u001b[0;31m \u001b[0mnewlistsame\u001b[0m \u001b[0;34m=\u001b[0m \u001b[0mlist\u001b[0m\u001b[0;34m(\u001b[0m\u001b[0mlistsamp\u001b[0m\u001b[0;34m)\u001b[0m\u001b[0;34m\u001b[0m\u001b[0m\n\u001b[0m",
        "\u001b[0;31mNameError\u001b[0m: name 'listsamp' is not defined"
       ]
      }
     ],
     "prompt_number": 75
    },
    {
     "cell_type": "code",
     "collapsed": false,
     "input": [
      "newlists"
     ],
     "language": "python",
     "metadata": {},
     "outputs": [
      {
       "ename": "NameError",
       "evalue": "name 'newlists' is not defined",
       "output_type": "pyerr",
       "traceback": [
        "\u001b[0;31m---------------------------------------------------------------------------\u001b[0m\n\u001b[0;31mNameError\u001b[0m                                 Traceback (most recent call last)",
        "\u001b[0;32m<ipython-input-76-e9492d890428>\u001b[0m in \u001b[0;36m<module>\u001b[0;34m()\u001b[0m\n\u001b[0;32m----> 1\u001b[0;31m \u001b[0mnewlists\u001b[0m\u001b[0;34m\u001b[0m\u001b[0m\n\u001b[0m",
        "\u001b[0;31mNameError\u001b[0m: name 'newlists' is not defined"
       ]
      }
     ],
     "prompt_number": 76
    },
    {
     "cell_type": "code",
     "collapsed": false,
     "input": [
      "x = 'chanceis'"
     ],
     "language": "python",
     "metadata": {},
     "outputs": [],
     "prompt_number": 77
    },
    {
     "cell_type": "code",
     "collapsed": false,
     "input": [
      "print x"
     ],
     "language": "python",
     "metadata": {},
     "outputs": [
      {
       "output_type": "stream",
       "stream": "stdout",
       "text": [
        "chanceis\n"
       ]
      }
     ],
     "prompt_number": 78
    },
    {
     "cell_type": "code",
     "collapsed": false,
     "input": [
      "print x * 10"
     ],
     "language": "python",
     "metadata": {},
     "outputs": [
      {
       "output_type": "stream",
       "stream": "stdout",
       "text": [
        "chanceischanceischanceischanceischanceischanceischanceischanceischanceischanceis\n"
       ]
      }
     ],
     "prompt_number": 79
    },
    {
     "cell_type": "code",
     "collapsed": false,
     "input": [
      "y = 'william'"
     ],
     "language": "python",
     "metadata": {},
     "outputs": [],
     "prompt_number": 81
    },
    {
     "cell_type": "code",
     "collapsed": false,
     "input": [
      "print y"
     ],
     "language": "python",
     "metadata": {},
     "outputs": [
      {
       "output_type": "stream",
       "stream": "stdout",
       "text": [
        "william\n"
       ]
      }
     ],
     "prompt_number": 82
    },
    {
     "cell_type": "code",
     "collapsed": false,
     "input": [
      "print x + ' ' + y"
     ],
     "language": "python",
     "metadata": {},
     "outputs": [
      {
       "output_type": "stream",
       "stream": "stdout",
       "text": [
        "chanceis william\n"
       ]
      }
     ],
     "prompt_number": 84
    },
    {
     "cell_type": "code",
     "collapsed": false,
     "input": [
      "d = ' is cool!'"
     ],
     "language": "python",
     "metadata": {},
     "outputs": [],
     "prompt_number": 85
    },
    {
     "cell_type": "code",
     "collapsed": false,
     "input": [
      "print x + d"
     ],
     "language": "python",
     "metadata": {},
     "outputs": [
      {
       "output_type": "stream",
       "stream": "stdout",
       "text": [
        "chanceis is cool!\n"
       ]
      }
     ],
     "prompt_number": 86
    },
    {
     "cell_type": "code",
     "collapsed": false,
     "input": [
      "print y + d"
     ],
     "language": "python",
     "metadata": {},
     "outputs": [
      {
       "output_type": "stream",
       "stream": "stdout",
       "text": [
        "william is cool!\n"
       ]
      }
     ],
     "prompt_number": 87
    },
    {
     "cell_type": "code",
     "collapsed": false,
     "input": [
      "for n in range(5):\n",
      "    print y + d"
     ],
     "language": "python",
     "metadata": {},
     "outputs": [
      {
       "output_type": "stream",
       "stream": "stdout",
       "text": [
        "william is cool!\n",
        "william is cool!\n",
        "william is cool!\n",
        "william is cool!\n",
        "william is cool!\n"
       ]
      }
     ],
     "prompt_number": 89
    },
    {
     "cell_type": "code",
     "collapsed": false,
     "input": [
      "x = 'william'\n",
      "print 5 *  12\n"
     ],
     "language": "python",
     "metadata": {},
     "outputs": [],
     "prompt_number": "*"
    },
    {
     "cell_type": "code",
     "collapsed": false,
     "input": [
      "thislist = ['first', 'second', 'third']"
     ],
     "language": "python",
     "metadata": {},
     "outputs": [],
     "prompt_number": 1
    },
    {
     "cell_type": "code",
     "collapsed": false,
     "input": [
      "thisdict = {'one': 'blah', 'twoz': 'haha'}  "
     ],
     "language": "python",
     "metadata": {},
     "outputs": [],
     "prompt_number": 2
    },
    {
     "cell_type": "code",
     "collapsed": false,
     "input": [
      "print thislist"
     ],
     "language": "python",
     "metadata": {},
     "outputs": [
      {
       "output_type": "stream",
       "stream": "stdout",
       "text": [
        "['first', 'second', 'third']\n"
       ]
      }
     ],
     "prompt_number": 3
    },
    {
     "cell_type": "code",
     "collapsed": false,
     "input": [
      "print thisdict"
     ],
     "language": "python",
     "metadata": {},
     "outputs": [
      {
       "output_type": "stream",
       "stream": "stdout",
       "text": [
        "{'twoz': 'haha', 'one': 'blah'}\n"
       ]
      }
     ],
     "prompt_number": 4
    },
    {
     "cell_type": "code",
     "collapsed": false,
     "input": [
      "print \n",
      "\n",
      "\n",
      "\n",
      "\n",
      "\n",
      "\n",
      "\n",
      "\n",
      "\n",
      "\n",
      "\n",
      "\n",
      "\n",
      "\n",
      "\n",
      "\n",
      "\n",
      "\n",
      "\n",
      "\n",
      "\n",
      "\n",
      "\n",
      "\n",
      "\n",
      "\n",
      "\n",
      "\n",
      "\n",
      "\n",
      "\n",
      "\n",
      "\n",
      "\n",
      "\n",
      "\n",
      "\n"
     ],
     "language": "python",
     "metadata": {},
     "outputs": []
    }
   ],
   "metadata": {}
  }
 ]
}